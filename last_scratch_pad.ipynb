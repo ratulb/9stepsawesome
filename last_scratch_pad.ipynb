{
  "cells": [
    {
      "cell_type": "markdown",
      "metadata": {
        "id": "view-in-github",
        "colab_type": "text"
      },
      "source": [
        "<a href=\"https://colab.research.google.com/github/ratulb/9stepsawesome/blob/master/last_scratch_pad.ipynb\" target=\"_parent\"><img src=\"https://colab.research.google.com/assets/colab-badge.svg\" alt=\"Open In Colab\"/></a>"
      ]
    },
    {
      "cell_type": "markdown",
      "metadata": {
        "id": "UcMgrpoYyuhS"
      },
      "source": [
        "**Dimensionality reduction**\n",
        "\n",
        "\n",
        "*   Standardize data\n",
        "*   Construct the covariance matrix\n",
        "*   Get the eigen vectors and values of covariance matrix\n",
        "*   Sort the eigenvalues by decreasing order to rank the eigenvectors\n",
        "\n",
        "\n",
        "\n"
      ]
    },
    {
      "cell_type": "code",
      "execution_count": null,
      "metadata": {
        "id": "raONKYT90MtS"
      },
      "outputs": [],
      "source": [
        "#import wine dataset\n",
        "from sklearn.datasets import load_wine\n",
        "wine = load_wine(as_frame=True)\n",
        "df_wine = wine.frame"
      ]
    },
    {
      "cell_type": "code",
      "execution_count": null,
      "metadata": {
        "id": "7-UP3RQx1Ygq"
      },
      "outputs": [],
      "source": [
        "df_wine.head()"
      ]
    },
    {
      "cell_type": "code",
      "execution_count": null,
      "metadata": {
        "id": "ITKiUqGExtMc"
      },
      "outputs": [],
      "source": [
        "df_wine.columns = range(len(df_wine.columns))\n",
        "df_wine.head()"
      ]
    },
    {
      "cell_type": "markdown",
      "metadata": {
        "id": "JxVPSi9g8Yny"
      },
      "source": [
        "Alternatively, we can load the data from:\n",
        "'https://archive.ics.uci.edu/ml/machine-learning-databases/wine/wine.data'\n",
        "\n"
      ]
    },
    {
      "cell_type": "code",
      "execution_count": null,
      "metadata": {
        "id": "kejDnvXUwoeE"
      },
      "outputs": [],
      "source": [
        "import pandas as pd\n",
        "\n",
        "url = 'https://archive.ics.uci.edu/ml/machine-learning-databases/wine/wine.data'\n",
        "df_wine = pd.read_csv(url, header=None)\n",
        "df_wine.head()"
      ]
    },
    {
      "cell_type": "code",
      "execution_count": null,
      "metadata": {
        "id": "iWPS2Yoe9fwa"
      },
      "outputs": [],
      "source": [
        "from sklearn.model_selection import train_test_split\n",
        "from sklearn.preprocessing import StandardScaler"
      ]
    },
    {
      "cell_type": "code",
      "execution_count": null,
      "metadata": {
        "id": "WCkdKGNp--fq"
      },
      "outputs": [],
      "source": [
        "X, y = df_wine.iloc[:, 1:].values, df_wine.iloc[:, 0].values # X -> Everything after first column, y -> only the first column\n",
        "X_train, X_test, y_train, y_test = train_test_split(X, y, test_size=0.3, random_state=0, stratify=y)"
      ]
    },
    {
      "cell_type": "code",
      "execution_count": null,
      "metadata": {
        "id": "ezWufJ1KCNPK"
      },
      "outputs": [],
      "source": [
        "import numpy as np\n",
        "np.unique(y)"
      ]
    },
    {
      "cell_type": "markdown",
      "metadata": {
        "id": "gVOE4uOMcrrF"
      },
      "source": [
        "**What Are Eigenvalues and Eigenvectors?**\n",
        "For a square matrix\n",
        "𝐴\n",
        "A, an eigenvector is a special vector\n",
        "𝑣\n",
        "v that, when multiplied by\n",
        "𝐴\n",
        "A, does not change direction—it only gets scaled by a number called the eigenvalue\n",
        "𝜆\n",
        "λ:"
      ]
    },
    {
      "cell_type": "code",
      "execution_count": null,
      "metadata": {
        "id": "ilFtYefYDYJr"
      },
      "outputs": [],
      "source": [
        "#Standardized\n",
        "sc = StandardScaler()\n",
        "X_train_std = sc.fit_transform(X_train)\n",
        "X_test_std = sc.transform(X_test)"
      ]
    },
    {
      "cell_type": "code",
      "execution_count": null,
      "metadata": {
        "id": "coSIBAshMveK"
      },
      "outputs": [],
      "source": [
        "cov_matrix = np.cov(X_train_std.T)\n",
        "eigen_values, eigen_vectors = np.linalg.eig(cov_matrix)\n",
        "eigen_values[0], eigen_vectors[0]"
      ]
    },
    {
      "cell_type": "code",
      "execution_count": null,
      "metadata": {
        "id": "gSb3jmy9Nxzr"
      },
      "outputs": [],
      "source": [
        "eigen_values_sorted = sorted(eigen_values, reverse=True)\n"
      ]
    },
    {
      "cell_type": "markdown",
      "metadata": {
        "id": "Ye3QCfKAQkRk"
      },
      "source": [
        "Let:\n",
        "\n",
        "*   ${\\lambda_i}$ be the i-th eigenvalue.\n",
        "*   ${\\sum_{j} \\lambda_j}$ be the total sum of all eigenvalues.\n",
        "\n",
        "*   $r_i$ be the variance explained ratio of the eigenvalue.\n",
        "\n",
        "Then the formula is:\n",
        "$$ r_i = \\frac{\\lambda_i}{\\sum_{j=1}^{d} \\lambda_j} $$\n"
      ]
    },
    {
      "cell_type": "code",
      "execution_count": null,
      "metadata": {
        "id": "W96MAu8IWHL0"
      },
      "outputs": [],
      "source": [
        "eigen_values_sum = sum(eigen_values)\n",
        "var_explained_all = [(eigen_value/eigen_values_sum) for eigen_value in eigen_values_sorted]\n",
        "var_explained_cum = np.cumsum(var_explained_all)"
      ]
    },
    {
      "cell_type": "code",
      "execution_count": null,
      "metadata": {
        "id": "wzDjBfEqYEqE"
      },
      "outputs": [],
      "source": [
        "from matplotlib import pyplot as plt"
      ]
    },
    {
      "cell_type": "code",
      "execution_count": null,
      "metadata": {
        "id": "ahql_f2SYgLd"
      },
      "outputs": [],
      "source": [
        "plt.bar(range(1,14), var_explained_all, alpha=0.5, align='center',\n",
        "\tlabel='Individual explained variance')\n",
        "plt.step(range(1,14), var_explained_cum, where='mid', label='Cumulative explained variance')\n",
        "plt.ylabel('Explained variance ratio')\n",
        "plt.xlabel('Principal component index')\n",
        "plt.legend(loc='best')\n",
        "plt.tight_layout()\n",
        "plt.show()"
      ]
    },
    {
      "cell_type": "code",
      "execution_count": null,
      "metadata": {
        "id": "ihEZoKZZfV0u"
      },
      "outputs": [],
      "source": [
        "eigen_pairs = [(np.abs(eigen_values[i]), eigen_vectors[:, i]) for i in range(len(eigen_values))]\n",
        "eigen_pairs.sort(key=lambda k: k[0], reverse=True)"
      ]
    },
    {
      "cell_type": "code",
      "execution_count": null,
      "metadata": {
        "id": "MRhfCEOBgSpN"
      },
      "outputs": [],
      "source": [
        "w = np.hstack([eigen_pairs[0][1][:, np.newaxis], eigen_pairs[1][1][:, np.newaxis]])\n",
        "print('Matrix w:\\n', w)\n"
      ]
    },
    {
      "cell_type": "code",
      "execution_count": null,
      "metadata": {
        "id": "yUvhVAss5HMb"
      },
      "outputs": [],
      "source": [
        "X_train_pca = X_train_std@w\n",
        "X_train_pca.shape"
      ]
    },
    {
      "cell_type": "code",
      "execution_count": null,
      "metadata": {
        "id": "EHv1-SKAG_xP"
      },
      "outputs": [],
      "source": [
        "import matplotlib.pyplot as plt"
      ]
    },
    {
      "cell_type": "code",
      "execution_count": null,
      "metadata": {
        "id": "Q3S_aTcsG3cg"
      },
      "outputs": [],
      "source": [
        "colors = ['r', 'b', 'g']\n",
        "markers = ['s', 'x', 'o']\n",
        "for l, c, m in zip(np.unique(y_train), colors, markers):\n",
        "    plt.scatter(X_train_pca[y_train==l, 0],\n",
        "                 X_train_pca[y_train==l, 1],\n",
        "                 c=c, label=l, marker=m)\n",
        "plt.xlabel('PC 1')\n",
        "plt.ylabel('PC 2')\n",
        "plt.legend(loc='lower left')\n",
        "plt.tight_layout()\n"
      ]
    },
    {
      "cell_type": "code",
      "execution_count": null,
      "metadata": {
        "id": "lsy3nSNKPVDK"
      },
      "outputs": [],
      "source": [
        "(X_train_pca[y_train==3, 0]).shape, (X_train_pca[y_train==3, 1]).shape"
      ]
    },
    {
      "cell_type": "code",
      "execution_count": null,
      "metadata": {
        "id": "wq16JU89P2SR"
      },
      "outputs": [],
      "source": [
        "X_train.shape, df_wine.shape, X_train_std.shape, X_train_pca.shape, X_test.shape"
      ]
    },
    {
      "cell_type": "code",
      "execution_count": null,
      "metadata": {
        "id": "kCyPGzvmR0mj"
      },
      "outputs": [],
      "source": [
        "from matplotlib.colors import ListedColormap"
      ]
    },
    {
      "cell_type": "code",
      "execution_count": null,
      "metadata": {
        "id": "NMv57j6wR5sy"
      },
      "outputs": [],
      "source": [
        "markers = ('s', 'x', 'o', '^', 'v')\n",
        "colors = ('red', 'blue', 'lightgreen', 'gray', 'cyan')\n",
        "cmap = ListedColormap(colors[:3])\n",
        "cmap"
      ]
    },
    {
      "cell_type": "code",
      "execution_count": null,
      "metadata": {
        "id": "0YUdk12-SiZy"
      },
      "outputs": [],
      "source": [
        "Y = np.arange(18).reshape(3, 6)\n",
        "Y, Y[:, :2]"
      ]
    },
    {
      "cell_type": "markdown",
      "metadata": {
        "id": "GBzmMxpDgUjW"
      },
      "source": [
        "### Mathematical Formula\n",
        "For each class \\( c \\), the mean vector \\( \\mu_c \\) is computed as:\n",
        "\n",
        "$$\n",
        "\\mu_c = \\frac{1}{N_c} \\sum_{i \\in C_c} x_i\n",
        "$$\n",
        "\n",
        "- \\( $\\mu_c $\\) is the mean vector for class \\( c \\).\n",
        "- \\( $N_c $\\) is the number of samples in class \\( c \\).\n",
        "- \\( $x_i$ \\) is a data point in class \\( c \\).\n",
        "- \\( $C_c$ \\) represents the set of indices belonging to class \\( c \\).\n"
      ]
    },
    {
      "cell_type": "code",
      "execution_count": null,
      "metadata": {
        "id": "7r-MBrvTmBHA"
      },
      "outputs": [],
      "source": [
        "import numpy as np\n",
        "\n",
        "# Example dataset: 10 samples, 4 features\n",
        "X = np.array([\n",
        "    [1.0, 2.0, 3.0, 4.0],  # Class 0\n",
        "    [1.5, 2.5, 3.5, 4.5],  # Class 0\n",
        "    [8.0, 9.0, 10.0, 11.0],  # Class 1\n",
        "    [7.5, 8.5, 9.5, 10.5],  # Class 1\n",
        "    [0.5, 1.5, 2.5, 3.5],  # Class 2\n",
        "    [0.0, 1.0, 2.0, 3.0]   # Class 2\n",
        "])\n",
        "\n",
        "# Class labels\n",
        "y = np.array([0, 0, 1, 1, 2, 2])\n",
        "\n",
        "# Compute mean vectors for each class\n",
        "mean_vectors = []\n",
        "for c in np.unique(y):  # Loop through unique class labels\n",
        "    mean_vectors.append(np.mean(X[y == c], axis=0))\n",
        "\n",
        "# Display mean vectors\n",
        "for i, mu in enumerate(mean_vectors):\n",
        "    print(f\"Mean vector for class {i}: {mu}\")\n"
      ]
    },
    {
      "cell_type": "code",
      "execution_count": null,
      "metadata": {
        "id": "t5e9A3KpqdpX"
      },
      "outputs": [],
      "source": [
        "import numpy as np\n",
        "import pandas as pd\n",
        "\n",
        "# Example dataset\n",
        "data = {\n",
        "    'Feature1': [2, 3, 3, 5, 6, 6, 8, 9],\n",
        "    'Feature2': [3, 4, 4, 6, 5, 7, 8, 9],\n",
        "    'Class': [0, 0, 0, 1, 1, 1, 2, 2]\n",
        "}\n",
        "\n",
        "# Convert to DataFrame\n",
        "df = pd.DataFrame(data)\n",
        "df\n"
      ]
    },
    {
      "cell_type": "code",
      "execution_count": null,
      "metadata": {
        "id": "P-VzgyZoNc_j"
      },
      "outputs": [],
      "source": [
        "!wget http://fashion-mnist.s3-website.eu-central-1.amazonaws.com/t10k-labels-idx1-ubyte.gz"
      ]
    },
    {
      "cell_type": "code",
      "execution_count": null,
      "metadata": {
        "id": "NcRD9Gt3OiXK"
      },
      "outputs": [],
      "source": [
        "class Loader:\n",
        "    URL_MAP = {\n",
        "        \"default\": \"https://www.store.aws/mnist/\",\n",
        "        \"fashion\": \"https://www.store.google/fashion-mnist/\",\n",
        "    }\n",
        "\n",
        "    def __init__(self, dataset_type=\"default\", base_url=None):\n",
        "        # If the user provides a `base_url`, use it. Otherwise, use predefined URLs.\n",
        "        self.base_url = base_url if base_url else self.URL_MAP.get(dataset_type, self.URL_MAP[\"default\"])\n"
      ]
    },
    {
      "cell_type": "code",
      "execution_count": null,
      "metadata": {
        "id": "HS6taQ2ROtMa"
      },
      "outputs": [],
      "source": [
        "loader = Loader('fashion')\n",
        "loader.base_url"
      ]
    },
    {
      "cell_type": "code",
      "execution_count": null,
      "metadata": {
        "id": "ScEmWlyYqrbm"
      },
      "outputs": [],
      "source": [
        "from sklearn.preprocessing import StandardScaler\n",
        "\n",
        "# Separate features (X) and target (y)\n",
        "X = df[['Feature1', 'Feature2']].values\n",
        "y = df['Class'].values\n",
        "\n",
        "# Standardizing the features\n",
        "scaler = StandardScaler()\n",
        "X_scaled = scaler.fit_transform(X)\n",
        "\n",
        "# Show standardized features\n",
        "print(X_scaled)\n"
      ]
    },
    {
      "cell_type": "code",
      "execution_count": null,
      "metadata": {
        "id": "oWTin1NttV-f"
      },
      "outputs": [],
      "source": [
        "# Get unique class labels\n",
        "classes = np.unique(y)\n",
        "\n",
        "# Calculate mean vector for each class\n",
        "mean_vectors = []\n",
        "for c in classes:\n",
        "    class_samples = X_scaled[y == c]  # Select samples of class c\n",
        "    mean_vector = np.mean(class_samples, axis=0)  # Mean of each feature\n",
        "    mean_vectors.append(mean_vector)\n",
        "\n",
        "# Show the mean vectors\n",
        "mean_vectors = np.array(mean_vectors)\n",
        "print(mean_vectors)\n"
      ]
    },
    {
      "cell_type": "code",
      "execution_count": null,
      "metadata": {
        "id": "TWGfq_AJtz0f"
      },
      "outputs": [],
      "source": [
        "classes"
      ]
    },
    {
      "cell_type": "code",
      "execution_count": null,
      "metadata": {
        "id": "AtzoaiMDuAy4"
      },
      "outputs": [],
      "source": [
        "[np.mean(X_scaled[y == c], axis=0) for c in classes]"
      ]
    },
    {
      "cell_type": "code",
      "execution_count": null,
      "metadata": {
        "id": "MXyS7ieJpt9B"
      },
      "outputs": [],
      "source": [
        "import numpy as np\n",
        "\n",
        "class Adaline:\n",
        "    def __init__(self, eta=0.01, epochs=50):\n",
        "        self.eta = eta  # Learning rate\n",
        "        self.epochs = epochs\n",
        "        self.weights = None\n",
        "        self.bias = None\n",
        "\n",
        "    def fit(self, X, y):\n",
        "        \"\"\"Train ADALINE using gradient descent.\"\"\"\n",
        "        n_samples, n_features = X.shape\n",
        "        self.weights = np.zeros(n_features)\n",
        "        self.bias = 0\n",
        "\n",
        "        for _ in range(self.epochs):\n",
        "            net_input = np.dot(X, self.weights) + self.bias\n",
        "            errors = y - net_input\n",
        "            self.weights += self.eta * np.dot(X.T, errors)  # Update weights\n",
        "            self.bias += self.eta * errors.sum()  # Update bias\n",
        "\n",
        "    def predict(self, X):\n",
        "        \"\"\"Predict class labels.\"\"\"\n",
        "        return np.where(np.dot(X, self.weights) + self.bias >= 0, 1, -1)\n",
        "\n",
        "# Example dataset\n",
        "X = np.array([[1, 2], [2, 3], [3, 1], [5, 6], [6, 5], [7, 8]])\n",
        "y = np.array([1, 1, -1, -1, 1, 1])\n",
        "\n",
        "adaline = Adaline(eta=0.01, epochs=100)\n",
        "adaline.fit(X, y)\n",
        "predictions = adaline.predict(X)\n",
        "print(\"Predictions:\", predictions)\n"
      ]
    },
    {
      "cell_type": "markdown",
      "metadata": {
        "id": "c_V1C48FZJME"
      },
      "source": [
        " **Big-endian binary format image files**: (*-images-idx3-ubyte)\n",
        "\n",
        "\n",
        "![image.png](data:image/png;base64,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)"
      ]
    },
    {
      "cell_type": "markdown",
      "metadata": {
        "id": "V-7n4GRkacfr"
      },
      "source": [
        "**Big-endian binary format label files**:(*-labels-idx1-ubyte)\n",
        "\n",
        "![image.png](data:image/png;base64,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)"
      ]
    },
    {
      "cell_type": "code",
      "execution_count": null,
      "metadata": {
        "id": "o2Pcpdl3G9dM"
      },
      "outputs": [],
      "source": [
        "import urllib.request\n",
        "import os\n",
        "import gzip\n",
        "import shutil\n",
        "import struct\n",
        "import numpy as np\n",
        "from tqdm import tqdm\n",
        "\n",
        "class MNISTLoader:\n",
        "    URL_MAP = {\n",
        "        \"default\": \"https://azureopendatastorage.blob.core.windows.net/mnist/\",\n",
        "        \"fashion\": \"http://fashion-mnist.s3-website.eu-central-1.amazonaws.com/\",\n",
        "    }\n",
        "\n",
        "    def __init__(self, dataset_type=\"default\", base_url=None, folder=None):\n",
        "        \"\"\"\n",
        "        Initialize the MNISTLoader class, set dataset URLs, and trigger downloading and extraction.\n",
        "\n",
        "        Parameters:\n",
        "        base_url (str): URL where MNIST dataset files are hosted.\n",
        "        folder (str): Folder where dataset files will be stored. If None, uses the current working directory.\n",
        "        \"\"\"\n",
        "        # If the user provides a `base_url`, use it. Otherwise, use predefined URLs.\n",
        "        self.base_url = base_url if base_url else self.URL_MAP.get(dataset_type, self.URL_MAP[\"default\"])\n",
        "        self.files = [\"train-images-idx3-ubyte.gz\",\n",
        "                      \"train-labels-idx1-ubyte.gz\",\n",
        "                      \"t10k-images-idx3-ubyte.gz\",\n",
        "                      \"t10k-labels-idx1-ubyte.gz\"]\n",
        "        self.folder = folder\n",
        "        self.download()\n",
        "        self.extract()\n",
        "\n",
        "    def download(self):\n",
        "        \"\"\"\n",
        "        Downloads the MNIST dataset files from the given base URL if they are not already present.\n",
        "        \"\"\"\n",
        "        # Define the folder where files will be saved\n",
        "        if self.folder is None:\n",
        "            self.folder = os.getcwd()  # Default to current working directory\n",
        "        else:\n",
        "            self.folder = os.path.join(os.getcwd(), self.folder)\n",
        "\n",
        "        # Create the folder if it does not exist\n",
        "        if not os.path.exists(self.folder):\n",
        "            os.makedirs(self.folder)\n",
        "\n",
        "        # Download each file if not already present\n",
        "        for file in tqdm(self.files, desc=\"Downloading MNIST files\"):\n",
        "            url = self.base_url + file  # Construct full file URL\n",
        "            file_path = os.path.join(self.folder, file)  # Full local file path\n",
        "            if not os.path.exists(file_path):  # Avoid downloading again\n",
        "                print(f\"Downloading {file}...\")\n",
        "                urllib.request.urlretrieve(url, file_path)  # Download file\n",
        "\n",
        "    def extract(self):\n",
        "        \"\"\"\n",
        "        Extracts the downloaded gzip-compressed MNIST files.\n",
        "        \"\"\"\n",
        "        for file in self.files:\n",
        "            gz_path = os.path.join(self.folder, file)  # Gzipped file path\n",
        "            extracted_path = os.path.join(self.folder, file[:-3])  # Remove .gz extension\n",
        "\n",
        "            # Open the compressed file and save it uncompressed\n",
        "            with gzip.open(gz_path, 'rb') as f_in, open(extracted_path, 'wb') as f_out:\n",
        "                shutil.copyfileobj(f_in, f_out)  # Extract the file\n",
        "\n",
        "    def load(self, train=True):\n",
        "        \"\"\"\n",
        "        Loads the MNIST dataset (train or test set) into NumPy arrays.\n",
        "\n",
        "        Parameters:\n",
        "        train (bool): If True, loads training data; otherwise, loads test data.\n",
        "\n",
        "        Returns:\n",
        "        images (numpy.ndarray): Flattened 28x28 grayscale images as a NumPy array.\n",
        "        labels (numpy.ndarray): Corresponding labels as a NumPy array.\n",
        "        \"\"\"\n",
        "\n",
        "        # Choose appropriate filenames based on whether we're loading training or test data\n",
        "        if train:\n",
        "            label_filename = \"train-labels-idx1-ubyte\"\n",
        "            image_filename = \"train-images-idx3-ubyte\"\n",
        "        else:\n",
        "            label_filename = \"t10k-labels-idx1-ubyte\"\n",
        "            image_filename = \"t10k-images-idx3-ubyte\"\n",
        "\n",
        "        # Full file paths for the dataset\n",
        "        label_path = os.path.join(self.folder, label_filename)\n",
        "        image_path = os.path.join(self.folder, image_filename)\n",
        "        #labels = load_labels(label_path)\n",
        "        #images = load_images(image_path)\n",
        "        # Read and parse label file\n",
        "        with open(label_path, 'rb') as label_file:\n",
        "            magic, num_labels = struct.unpack('>II', label_file.read(8))  # Read magic number and label count\n",
        "            labels = np.fromfile(label_file, dtype=np.uint8)  # Read label data as uint8 array\n",
        "\n",
        "        # Read and parse image file\n",
        "        with open(image_path, 'rb') as image_file:\n",
        "            magic, num_images, rows, cols = struct.unpack('>IIII', image_file.read(16))  # Read header\n",
        "            images = np.fromfile(image_file, dtype=np.uint8).reshape(num_images, rows * cols)  # Read images and reshape\n",
        "\n",
        "        return images, labels  # Return dataset as NumPy arrays\n",
        "\n",
        "\n",
        "    @staticmethod\n",
        "    def load_labels(label_file_path):\n",
        "        \"\"\"\n",
        "        Load labels from a file.\n",
        "\n",
        "        Parameters:\n",
        "        label_file_path (str): Path to the label file.\n",
        "\n",
        "        Returns:\n",
        "        labels (numpy.ndarray): Labels as a NumPy array.\n",
        "\n",
        "        This method is only for pedagogical purpose showing how to read data from mnist label data file without using resorting to any library.\n",
        "        Refer to 'Big-endian binary format label files' above\n",
        "\n",
        "        Usage:\n",
        "        labels = MNISTLoader(folder='data').load_labels('./data/t10k-labels-idx1-ubyte')\n",
        "\n",
        "        \"\"\"\n",
        "        with open(label_file_path, 'rb') as f:\n",
        "            # Read the magic number (4 bytes)\n",
        "            magic = int.from_bytes(f.read(4), byteorder='big')\n",
        "            assert magic == 2049, f\"Invalid MNIST label file: {magic}\"\n",
        "\n",
        "            # Read number of labels (4 bytes)\n",
        "            num_labels = int.from_bytes(f.read(4), byteorder='big')\n",
        "\n",
        "            # Read label data (1 byte per label)\n",
        "            labels = [f.read(1)[0] for _ in range(num_labels)]\n",
        "            #labels = [int.from_bytes(f.read(1), byteorder=\"big\") for _ in range(num_labels)]\n",
        "            labels = np.array(labels)\n",
        "\n",
        "        return labels  # Returns NumPy array of integers (0-9)\n",
        "\n",
        "    @staticmethod\n",
        "    def load_images(image_file_path):\n",
        "        \"\"\"\n",
        "        Load images from a file.\n",
        "\n",
        "        Parameters:\n",
        "        image_file_path (str): Path to the image file.\n",
        "\n",
        "        Returns:\n",
        "        images (numpy.ndarray): Images as a NumPy array.\n",
        "\n",
        "        This method is only for pedagogical purpose showing how to read data from mnist image data file without using resorting to any library.\n",
        "        Refer to 'Big-endian binary format image files' above\n",
        "        Usage:\n",
        "        images = MNISTLoader(folder='data').load_images('./data/t10k-images-idx3-ubyte')\n",
        "\n",
        "        \"\"\"\n",
        "        with open(image_file_path, 'rb') as f:\n",
        "            # Read the magic number (4 bytes)\n",
        "            magic = int.from_bytes(f.read(4), byteorder='big')\n",
        "            assert magic == 2051, f\"Invalid MNIST image file: {magic}\"\n",
        "\n",
        "            # Read number of images (4 bytes)\n",
        "            num_images = int.from_bytes(f.read(4), byteorder='big')\n",
        "\n",
        "            # Read number of rows (4 bytes) and columns (4 bytes)\n",
        "            rows = int.from_bytes(f.read(4), byteorder='big')\n",
        "            cols = int.from_bytes(f.read(4), byteorder='big')\n",
        "            assert rows == 28 and cols == 28, \"Images are not 28x28\"\n",
        "\n",
        "            # Read image data (each image is rows × cols = 28 × 28 = 784 bytes)\n",
        "            images = []\n",
        "            for _ in range(num_images):\n",
        "                image = [[f.read(1)[0] for _ in range(cols)] for _ in range(rows)]\n",
        "                images.append(image)  # Store each 28x28 image as a list of lists\n",
        "            images = np.array(images)  # Convert to NumPy array\n",
        "        return images # Returns a NumPy array of size 28x28 (each pixel is 0-255)\n",
        "\n",
        "    @staticmethod\n",
        "    def from_arff(base_url='https://www.openml.org/data/download/52667/mnist_784.arff', folder=None):\n",
        "\n",
        "        from scipy.io import arff\n",
        "\n",
        "        if folder is None:\n",
        "            folder = os.getcwd()  # Default to current working directory\n",
        "        else:\n",
        "            folder = os.path.join(os.getcwd(), folder)\n",
        "        # Create the folder if it does not exist\n",
        "        if not os.path.exists(folder):\n",
        "            os.makedirs(folder)\n",
        "        # Download each file if not already present\n",
        "        url = base_url + 'mnist_784.arff'  # Construct full file URL\n",
        "        file_path = os.path.join(folder, 'mnist_784.arff')  # Full local file path\n",
        "        def reporthook(block_num, block_size, total_size):\n",
        "            if reporthook.tqdm_bar is None:\n",
        "                reporthook.tqdm_bar = tqdm(total=total_size, unit='B', unit_scale=True, desc=file_path)\n",
        "            reporthook.tqdm_bar.update(block_num * block_size - reporthook.tqdm_bar.n)\n",
        "\n",
        "        reporthook.tqdm_bar = None\n",
        "\n",
        "        if not os.path.exists(file_path):  # Avoid downloading again\n",
        "            print(f\"Downloading mnist_784.arff...\")\n",
        "            urllib.request.urlretrieve(url, file_path, reporthook) # Download file\n",
        "\n",
        "        data, meta = arff.loadarff(file_path)\n",
        "\n",
        "        # Get all column names except the last one (labels -> 'class')\n",
        "        #feature_names = data.dtype.names[:-1]\n",
        "        feature_names = data.dtype.names\n",
        "\n",
        "        # Extract pixel values (X) and labels (y) from structured array\n",
        "        #X = np.array([[row[name] for name in feature_names] for row in data], dtype=np.uint8)  # (70000, 784)\n",
        "        #y = np.array([int(row['class']) for row in data], dtype=np.int32)  # Convert bytes to int (70000,)\n",
        "\n",
        "        #print(\"Shape of X:\", X.shape)  # Expected: (70000, 784)\n",
        "        #print(\"Shape of y:\", y.shape)  # Expected: (70000,)\n",
        "        # Assume `data` is a list of dictionaries and `feature_names` is a list of keys\n",
        "        data_ = np.empty((len(data), len(feature_names)), dtype=np.uint8)  # Preallocate memory\n",
        "\n",
        "        for i, row in tqdm(enumerate(data), total=len(data), desc=\"Processing Data\", unit=\"rows\"):\n",
        "            data_[i] = [row[name] for name in feature_names]"
      ]
    },
    {
      "cell_type": "code",
      "execution_count": null,
      "metadata": {
        "id": "r-Z2nl_cR4SC"
      },
      "outputs": [],
      "source": [
        "loader = MNISTLoader(dataset_type='fashion')"
      ]
    },
    {
      "cell_type": "code",
      "execution_count": null,
      "metadata": {
        "id": "lAXRuk1c55vQ"
      },
      "outputs": [],
      "source": [
        "!pip install mnist_datasets"
      ]
    },
    {
      "cell_type": "code",
      "execution_count": null,
      "metadata": {
        "id": "YPIDtUxf6Gc_"
      },
      "outputs": [],
      "source": [
        "from mnist_datasets import MNISTLoader\n",
        "loader = MNISTLoader('fashion')"
      ]
    },
    {
      "cell_type": "code",
      "execution_count": null,
      "metadata": {
        "id": "W7y4LaKbSR6L"
      },
      "outputs": [],
      "source": [
        "images, labels = loader.load()"
      ]
    },
    {
      "cell_type": "code",
      "execution_count": null,
      "metadata": {
        "id": "8_WQo_JxSYRS"
      },
      "outputs": [],
      "source": [
        "len(images), len(labels)"
      ]
    },
    {
      "cell_type": "code",
      "execution_count": null,
      "metadata": {
        "id": "mujRkUroSgdL"
      },
      "outputs": [],
      "source": [
        "test_images, test_labels = loader.load(train=False)\n",
        "assert len(test_images) == 10000 and len(test_labels) == 10000"
      ]
    },
    {
      "cell_type": "code",
      "execution_count": null,
      "metadata": {
        "id": "lRp_7yC1QErS"
      },
      "outputs": [],
      "source": [
        "!gunzip /content/t10k-labels-idx1-ubyte.gz"
      ]
    },
    {
      "cell_type": "code",
      "execution_count": null,
      "metadata": {
        "id": "fJZFQ2RagNVD"
      },
      "outputs": [],
      "source": [
        "labels = MNISTLoader.load_labels('/content/t10k-labels-idx1-ubyte')\n",
        "#images = MNISTLoader.load_images('/content/data/t10k-images-idx3-ubyte')"
      ]
    },
    {
      "cell_type": "code",
      "execution_count": null,
      "metadata": {
        "id": "kl-VDoQUgbs7"
      },
      "outputs": [],
      "source": [
        "labels.shape"
      ]
    },
    {
      "cell_type": "code",
      "execution_count": null,
      "metadata": {
        "id": "QEWLz7PmiI58"
      },
      "outputs": [],
      "source": [
        "labels = MNISTLoader(folder='data').load_images('./data/t10k-images-idx3-ubyte')"
      ]
    },
    {
      "cell_type": "code",
      "execution_count": null,
      "metadata": {
        "id": "_mOrVMBOWw7k"
      },
      "outputs": [],
      "source": [
        "import matplotlib.pyplot as plt"
      ]
    },
    {
      "cell_type": "code",
      "execution_count": null,
      "metadata": {
        "id": "b8jfEXcaW8tE"
      },
      "outputs": [],
      "source": [
        "image = images[7000].reshape(28, 28)/255.0\n",
        "plt.imshow(image, cmap='gray')  # 'gray' colormap for grayscale images\n",
        "plt.axis('off')  # Hide axes for better visualization\n",
        "plt.show()"
      ]
    },
    {
      "cell_type": "code",
      "execution_count": null,
      "metadata": {
        "id": "q_JcnXXGssy9"
      },
      "outputs": [],
      "source": [
        "fig, axes = plt.subplots(nrows=2, ncols=5, figsize=(10, 5), sharex=True, sharey=True)\n",
        "axes = axes.flatten()\n",
        "for i in range(10):\n",
        "    img = images[labels == i][0].reshape(28, 28)\n",
        "    img = img/255.0\n",
        "    axes[i].imshow(img, cmap='Greys')\n",
        "axes[0].set_xticks([])\n",
        "axes[0].set_yticks([])\n",
        "plt.tight_layout()\n",
        "plt.show()"
      ]
    },
    {
      "cell_type": "code",
      "execution_count": null,
      "metadata": {
        "id": "0_ovoTfTzAdN"
      },
      "outputs": [],
      "source": [
        "fig, axes = plt.subplots(nrows=5, ncols=5, figsize=(10, 5), sharex=True, sharey=True)\n",
        "axes = axes.flatten()\n",
        "for i in range(25):\n",
        "    img = images[labels == 9][i].reshape(28, 28)\n",
        "    img = img/255.0\n",
        "    axes[i].imshow(img, cmap='Greys')\n",
        "axes[0].set_xticks([])\n",
        "axes[0].set_yticks([])\n",
        "plt.tight_layout()\n",
        "plt.show()"
      ]
    },
    {
      "cell_type": "code",
      "execution_count": null,
      "metadata": {
        "id": "9VGEpRhVVflO"
      },
      "outputs": [],
      "source": [
        "from tempfile import TemporaryFile\n"
      ]
    },
    {
      "cell_type": "code",
      "execution_count": null,
      "metadata": {
        "id": "lV7caXsPViDN"
      },
      "outputs": [],
      "source": [
        "#outfile = TemporaryFile()\n",
        "#np.savez_compressed('outfile', images=images, labels=labels)\n",
        "#_ = outfile.seek(0) # Only needed to simulate closing & reopening file\n",
        "npzfile = np.load('outfile.npz')\n",
        "npzfile.files\n"
      ]
    },
    {
      "cell_type": "code",
      "execution_count": null,
      "metadata": {
        "id": "DWKbw4Q1V7ne"
      },
      "outputs": [],
      "source": [
        "labels_loaded = npzfile['labels']\n",
        "images_loaded = npzfile['images']\n",
        "labels_loaded.shape, images_loaded.shape"
      ]
    },
    {
      "cell_type": "code",
      "execution_count": null,
      "metadata": {
        "id": "hFjxxddJWXKN"
      },
      "outputs": [],
      "source": [
        "!du -h outfile.npz"
      ]
    },
    {
      "cell_type": "code",
      "execution_count": null,
      "metadata": {
        "id": "cND7GCbhY8Pu"
      },
      "outputs": [],
      "source": [
        "urllib.request.urlretrieve('https://www.openml.org/data/download/52667/mnist_784.arff', './mnist_784.arff')"
      ]
    },
    {
      "cell_type": "code",
      "execution_count": null,
      "metadata": {
        "id": "ZRbMoS8YV6sZ"
      },
      "outputs": [],
      "source": [
        "epochs =1\n",
        "X_train = np.arange(10).reshape(5, 2)\n",
        "shuffle = True\n",
        "import random\n",
        "\n",
        "minibatch_size = 2\n",
        "for i in range(epochs):\n",
        "\n",
        "    # iterate over minibatches\n",
        "    indices = np.arange(X_train.shape[0])\n",
        "\n",
        "    if shuffle:\n",
        "        random.shuffle(indices)\n",
        "\n",
        "    for start_idx in range(0, indices.shape[0] - minibatch_size +1, minibatch_size):\n",
        "        batch_idx = indices[start_idx:start_idx +  minibatch_size]\n",
        "        print(batch_idx)"
      ]
    },
    {
      "cell_type": "code",
      "execution_count": null,
      "metadata": {
        "id": "ReJqwL7rermI"
      },
      "outputs": [],
      "source": [
        "def sigmoid(z):\n",
        "    return 1 / (1 + np.exp(-np.clip(z, -100, 100 )))\n",
        "\n",
        "def sigmod_derivative(z):\n",
        "    return z * (1 - z)"
      ]
    },
    {
      "cell_type": "code",
      "execution_count": null,
      "metadata": {
        "id": "SIo0TBlUfURw"
      },
      "outputs": [],
      "source": [
        "import matplotlib.pyplot as plt"
      ]
    },
    {
      "cell_type": "code",
      "execution_count": null,
      "metadata": {
        "id": "yALYg9ABfVzv"
      },
      "outputs": [],
      "source": [
        "input = np.arange(-10, 10, 0.1)\n",
        "output = sigmoid(input)\n",
        "output_derivatives = sigmod_derivative(output)\n",
        "plt.plot(input, output)\n",
        "plt.plot(input, output_derivatives)\n",
        "plt.plot(output, output_derivatives)\n",
        "plt.legend()\n",
        "plt.show()"
      ]
    },
    {
      "cell_type": "code",
      "execution_count": null,
      "metadata": {
        "id": "NhK5FgUM1VuP"
      },
      "outputs": [],
      "source": [
        "type(torch.clamp(torch.tensor(7.0), -5, 5).item())"
      ]
    },
    {
      "cell_type": "code",
      "execution_count": null,
      "metadata": {
        "id": "OJJDVPflvgUO"
      },
      "outputs": [],
      "source": [
        "loader = MNISTLoader(folder='data')\n",
        "images, labels = loader.load()\n",
        "images = images/255.0"
      ]
    },
    {
      "cell_type": "code",
      "execution_count": null,
      "metadata": {
        "id": "xkgpUkUsO2sa"
      },
      "outputs": [],
      "source": [
        "class Layer:\n",
        "    def __init__(self):\n",
        "        self.input = None\n",
        "        self.output = None\n",
        "\n",
        "    def forward(self, input):\n",
        "        raise NotImplementedError\n",
        "\n",
        "    def backward(self, error_gradient, learning_rate):\n",
        "        raise NotImplementedError\n",
        "\n",
        "class Linear(Layer):\n",
        "\n",
        "    def __init__(self, input_size, output_size):\n",
        "        super().__init__()\n",
        "        #self.weights = np.random.randn(output_size, input_size) * 0.01  # Small random values\n",
        "        self.weights = np.random.randn(output_size, input_size) * np.sqrt(2 / input_size)\n",
        "\n",
        "        self.bias = np.zeros((output_size, 1))  # Typically initialized to zero\n",
        "\n",
        "    def forward(self, input):\n",
        "        self.input = input  # Store input for backpropagation\n",
        "        output = np.matmul(input, self.weights.T) + self.bias.T\n",
        "        return output\n",
        "\n",
        "    def backward(self, error_gradient, learning_rate):\n",
        "        weights_gradient = np.matmul(error_gradient.T, self.input)/self.input.shape[0]\n",
        "        self.weights -= learning_rate * weights_gradient\n",
        "        self.bias -= learning_rate * np.mean(error_gradient, axis=0, keepdims=True).T\n",
        "        return np.matmul(error_gradient, self.weights)\n",
        "\n",
        "class Activation(Layer):\n",
        "    def __init__(self, activation, activation_derivative):\n",
        "        super().__init__()\n",
        "        self.activation = activation\n",
        "        self.activation_derivative = activation_derivative\n",
        "\n",
        "    def forward(self, input):\n",
        "        self.input = input\n",
        "        return self.activation(self.input)\n",
        "\n",
        "    def backward(self, error_gradient, learning_rate):\n",
        "        return error_gradient * self.activation_derivative(self.input)\n",
        "\n",
        "class Sigmoid(Activation):\n",
        "    def __init__(self):\n",
        "        sigmoid = lambda z: 1 / (1 + np.exp(-np.clip(z, -100, 100 )))\n",
        "        sigmod_derivative = lambda z: sigmoid(z) * (1 - sigmoid(z))\n",
        "        super().__init__(sigmoid, sigmod_derivative)\n",
        "\n",
        "class MSELoss():\n",
        "\n",
        "    def __init__(self):\n",
        "        self.y_true = None\n",
        "        self.y_pred = None\n",
        "\n",
        "    def __call__(self, y_true, y_pred):\n",
        "        self.y_true = y_true\n",
        "        self.y_pred = y_pred\n",
        "        return np.mean((self.y_true - self.y_pred)**2)\n",
        "\n",
        "    def backward(self):\n",
        "        batch_size = self.y_true.shape[0]  # Number of samples\n",
        "        num_outputs = self.y_true.shape[1] if self.y_true.ndim > 1 else 1  # Handle 1D case\n",
        "        return (2 / (batch_size * num_outputs)) * (self.y_pred - self.y_true)\n",
        "\n",
        "\n"
      ]
    },
    {
      "cell_type": "code",
      "execution_count": null,
      "metadata": {
        "id": "y2st7fL_j3Rt"
      },
      "outputs": [],
      "source": [
        "network = [\n",
        "    Linear(784, 128),\n",
        "    Sigmoid(),\n",
        "    Linear(128, 10),\n",
        "    Sigmoid()\n",
        "]\n",
        "epochs = 10\n",
        "learning_rate = 0.025\n",
        "loss = MSELoss()\n",
        "batch_size = 512\n",
        "n, _ = images.shape\n",
        "\n",
        "\n",
        "for epoch in range(epochs):\n",
        "    for i in range((n - 1) // batch_size + 1):\n",
        "        start_idx = i * batch_size\n",
        "        end_idx = start_idx + batch_size\n",
        "        batch_images = images[start_idx:end_idx]\n",
        "        batch_labels = labels[start_idx:end_idx].astype(int)\n",
        "        output = batch_images\n",
        "        for layer in network:\n",
        "            output = layer.forward(output)\n",
        "        batch_labels = np.eye(10)[batch_labels]\n",
        "\n",
        "        error = loss(batch_labels, output)\n",
        "\n",
        "        error_gradient  = loss.backward()\n",
        "        for layer in reversed(network):\n",
        "            error_gradient = layer.backward(error_gradient, learning_rate)\n",
        "    print(error)\n",
        "    print(output)\n"
      ]
    },
    {
      "cell_type": "code",
      "execution_count": null,
      "metadata": {
        "id": "pucnMowW5Hg_"
      },
      "outputs": [],
      "source": [
        "from PIL import Image\n",
        "\n",
        "# Open the PNG image\n",
        "img = Image.open(\"de-by-dx.png\").convert(\"RGBA\")\n",
        "\n",
        "# Define the new background color (e.g., white)\n",
        "new_bg_color = (255, 255, 255, 255)  # (R, G, B, Alpha)\n",
        "\n",
        "# Create a new image with the same size and the new background color\n",
        "new_bg = Image.new(\"RGBA\", img.size, new_bg_color)\n",
        "\n",
        "# Paste the original image on top of the new background\n",
        "new_bg.paste(img, (0, 0), img)\n",
        "\n",
        "# Save or show the result\n",
        "new_bg.convert(\"RGB\").save(\"output.png\")  # Convert to RGB if you don't need transparency\n"
      ]
    },
    {
      "cell_type": "code",
      "execution_count": null,
      "metadata": {
        "id": "B3PVfmCT5icv"
      },
      "outputs": [],
      "source": [
        "import cv2\n",
        "import numpy as np\n",
        "\n",
        "# Load the image\n",
        "img = cv2.imread(\"de-by-dx.png\")\n",
        "\n",
        "# Define the background color (white in this case)\n",
        "lower_bound = np.array([200, 200, 200], dtype=np.uint8)\n",
        "upper_bound = np.array([255, 255, 255], dtype=np.uint8)\n",
        "\n",
        "# Create a mask of the background\n",
        "mask = cv2.inRange(img, lower_bound, upper_bound)\n",
        "\n",
        "# Replace background with a new color (blue in this case)\n",
        "new_bg_color = [255, 0, 0]  # BGR format for blue\n",
        "img[mask == 255] = new_bg_color\n",
        "\n",
        "# Save the new image\n",
        "cv2.imwrite(\"output.png\", img)\n"
      ]
    },
    {
      "cell_type": "code",
      "execution_count": null,
      "metadata": {
        "id": "XUEEmUMX59af"
      },
      "outputs": [],
      "source": [
        "import cv2\n",
        "import numpy as np\n",
        "\n",
        "# Load the image\n",
        "img = cv2.imread(\"de-by-dx.png\", cv2.IMREAD_UNCHANGED)\n",
        "\n",
        "# Define the black color range\n",
        "lower_black = np.array([0, 0, 0], dtype=np.uint8)\n",
        "upper_black = np.array([50, 50, 50], dtype=np.uint8)  # Adjust this threshold if needed\n",
        "\n",
        "# Create a mask where the background is black\n",
        "mask = cv2.inRange(img, lower_black, upper_black)\n",
        "\n",
        "# Define the new background color (e.g., white)\n",
        "new_bg_color = [255, 255, 255]  # (B, G, R) format\n",
        "\n",
        "# Replace the black background with the new color\n",
        "img[mask == 255] = new_bg_color\n",
        "\n",
        "# Save or display the new image\n",
        "cv2.imwrite(\"output.png\", img)\n"
      ]
    },
    {
      "cell_type": "code",
      "execution_count": null,
      "metadata": {
        "id": "VEa2EO856ep2"
      },
      "outputs": [],
      "source": [
        "import cv2\n",
        "import numpy as np\n",
        "\n",
        "# Load the image\n",
        "img = cv2.imread(\"mse.png\", cv2.IMREAD_UNCHANGED)\n",
        "\n",
        "# Define the black color range\n",
        "lower_black = np.array([0, 0, 0], dtype=np.uint8)\n",
        "upper_black = np.array([5, 5, 5], dtype=np.uint8)  # Adjust this if needed\n",
        "\n",
        "# Create a mask where the background is black\n",
        "mask = cv2.inRange(img, lower_black, upper_black)\n",
        "\n",
        "# Define the new background color (light blue)\n",
        "\n",
        "new_bg_color = [80, 80, 80 ]  # This is good\n",
        "\n",
        "# Replace the black background with the new color\n",
        "img[mask == 255] = new_bg_color\n",
        "\n",
        "# Save or display the new image\n",
        "cv2.imwrite(\"mse-output.png\", img)\n"
      ]
    },
    {
      "cell_type": "markdown",
      "metadata": {
        "id": "vqMjLcVR9xhP"
      },
      "source": [
        "![output.png](data:image/png;base64,iVBORw0KGgoAAAANSUhEUgAAA6IAAAH5CAIAAAAUTBTNAAAgAElEQVR4AezBB1SUd74w4N/7zsBQht57H3rvjMBQhxlB/8aIGowxGjd1U3ST7ZrN3SS7SZRsmsYYY6Jg7KPCNIbeO0gXAaV3lDoDM/N+98w5nAOfevemrBf1fR4MIQQkEolEWkEgEDipUCgUqVSqVCppNJqBgYFUKi0pKQkJCYF7lJSUuLu7m5iYAACGYaBCEIRSqSQIAgCwFQBgYmKivb09LCwM1raSkpKAgAAajaZUKgmCUFdX19bWJgji5s2bzc3NiYmJcI/+/n4zMzMKhYLjOAAolUpCBcMwUMFWu379upeXF5DukZOT4+fnZ2RktLS0BAAEQejp6WlpafX09DQ2NkZHR8M92tvbGQwGhmEUCkWpVMIKBEGACoZhOI4rlUocx7u6uhwcHID0uOvs7HR0dASAxcVFHMe1tLS0tbWnp6evX7/u4+MD9ygsLPT399fV1cVUAIBQgWUYhgEAhmFUKlWpVE5OTra0tISHh8MagyGEgEQikUgrtLe3e3p6ymSyGzduTE1NKRQKLS0tBoMRFRU1MDAgEAiCgoJgtfLycg8PD3t7ezsVmUzW3t4+ODhIEAQAECpqamq6urpWVlYWFhZ9fX1ZWVl2dnawhhUUFERFRampqXV2dk5NTS0sLNBoNDMzs4CAADqdXl5ebmFhAfcYHh42Nzd3dHR0dnbW1NTs6urq6emRSqUAgGEYAOA4rqGhYWpqamtrq6+vn5GRkZ+fz+VygbSCUCgMCgpycXFpaWkZGhqSyWRKpdLU1DQ4ONjMzOz69evl5eUxMTGwWmdnJ4PBMDMz8/Dw0NHRGRoa6urqmp6eBhWlUkmhUDQ0NAwNDa2trc3MzPLy8jIyMrhcLpAeX83NzcHBwRMTE729vXfu3CEIgk6nMxgMd3f3yclJiUQSFBQEq5WWlgYGBhobG7u6ulpaWspksq6urv7+fqVSCQA4jiuVSiqVqqWl5eDgYGFhMTg4eObMmZs3b3K5XFhLMIQQkEgkEmlZaWlpfHy8paVlUVGRlZUVLBOJRBwOByF06dKlnJychIQEWC0nJ8fW1nb9+vUxMTGDg4MnT55sbGykUqk4jiuVSoIgKBSKnp6eu7t7ZGSkXC6/fPmyra0trGHj4+ObN28uKCiQSCQJCQmwbHBwkMPhzM3NXbx40dfXF1YTiUTq6upcLjc5OVlDQ+PSpUuFhYVzc3OwDMMwTU1NKyurdSpHjhzR1tYG0mr19fW7d+8eHx8/ceJEQkICLLt+/TpCiE6n8/l8a2trWE0gEKirq/v7++/YscPKyio/Pz87O3t4eBjHcYIglEolhULR1NQ0MjLy9/dns9nFxcXHjx/ncrlAekwVFhampaUZGBjweDwnJydYVlhYmJiYGBQUVFVVxefzExISYAWBQKCpqamnp7d9+/bw8PCenp4rV67U19crlUpcRalUUqlUHR0dV1fXlJQUmUx27NgxNzc3WGMwhBCQSCQSadmtW7e2bt1qaGh45coVdXV1WKGsrOyDDz4YHh4+cuRIcHAw3KO+vn7Hjh1MJrO+vv5f//pXREQE3EMoFCYmJlpZWeXn57u5ucFaJRKJnnvuufXr1xcXF//www9hYWGwrKysbMuWLV5eXiKRCB5AT08vJSVldHT05MmTlpaWcD/d3d2vvvrqV1995eDgAKQV+Hx+ZGTka6+91tfXd/DgwejoaFgBw7CYmJi6uroLFy7Ex8fDPSYnJ59//nkdHZ0ff/xRLBbHxsbCPSoqKvbs2dPX1/fjjz9yuVwgPaZu3rz51ltv4Th+5syZsrKy+Ph4WDYwMLBly5alpaXvv//ew8MD7lFVVbV3797AwECJRHL27Nnw8HC4H1NTUzMzs++++y4oKAjWGAwhBCQSiURa1tfXl5KSoqWlJRQKdXV1YQU+n/+HP/zB3d390KFD1tbWcI+urq49e/Y4Ojrm5OT09fXBA4yMjFhZWdXW1vr6+sJaJRKJtm3bxmKxysrKzp8/HxUVBcvEYnFKSkpSUlJbW9upU6dCQ0NhteLi4pdeeiksLKy2tvbMmTPu7u5wP1VVVa+++uqxY8f8/f2BtIJQKIyJidm8eXNfX9/nn38eFRUFK0xOTm7dunVycvKHH37w9PSEe2hpaT399NN379797rvvqqur2Ww23EMikWzdunVycpIgCCA9vrq6unbt2qWmpnbx4sWampqEhARY1tTUtHXrVgcHh3Pnzmlra8M9hoeHd+7caWZmdubMmaysrKSkJLgfuVxua2t79uzZyMhIWGMwhBCQSCQSaVlBQYGzszOO411dXZGRkbCavb19fHz8sWPH8vLy4uPjYbWpqamXX36ZIIiMjAwqlQrLJBLJ0tISh8MBldHRUTMzs+rq6qCgIFjDWltb7e3t29raAgMDYQWhUJiYmLhp06aRkZETJ054eHjAai0tLa+++qqLi0tOTs6FCxeCgoJgmUgkYrPZoFJXV/fUU09lZmZGREQAabXKykp3d/f+/n4PDw9YbWRkJC0tjUqlnjp1ysTEBO7BYDBiY2ObmppOnDjh6uoKKkKhkEqlLi0tcTgcAMjPz9+0aVNfX5+Ojg6QHl+FhYUeHh4EQbS1tUVHR8MKNTU127ZtCwkJuXz58sLCAtxDQ0MDITQ/P5+RkVFcXMzlckFFIpEolcrExERQWVpaMjIyunbtWnR0NKwxGEIISCQSiXQPiUSiq6urpqYmlUpnZmYSExMBgMFgJCQknD9//uLFi5GRkbBCfn7+xo0bt23bdvPmzUOHDvn7+8OyycnJ/v5+Hx8fUOnr69PV1a2vr2exWPAoKC4u1tLSwjBsbm4uMjJSJBJxudwtW7aMjIwcP37cyckJVpucnNyzZ4+uru65c+cEAgGLxQKVqqoqe3v7rq6u8PBwAKitrY2MjMzOzo6JiQHSAxQUFNDpdBzHZTLZzMxMYmLi+Pj4zp07tbW1T58+TaPRYLWqqqq//vWvzs7Oly9fPn/+PJPJBJXq6mpLS8uBgYGQkBAAyM3NXb9+fUdHh52dHZCeABKJRFdXl0ajyeXy6enpmJiYurq6nTt3BgcHX7lyZXJyElYrKCjYvXs3i8Xq7OzMyMiwtbUFFYlE4uLiolQqHRwcQGV+fh4AKioqYmNjYY3BEEJAIpFIpBVyc3OdnZ29vLwMDQ1nZ2eVSuXc3Fx5efno6Oi7774bHBycmZl5/vz5uLg4WKGpqWnnzp2hoaEVFRUffvghh8MBlZKSkh07dhQVFbW0tHA4HAAoLS2lUChhYWGw5pWWlkZFRdnY2MzNzREEAQANDQ39/f2JiYmbNm3q7e09fvy4k5MTrEalUrdv3z49PZ2RkVFcXMzhcACAz+f7+/t7eHgIBIKwsDAAEIlExsbGo6OjHA4HSPcoKSnx9vb29PRcWlpaXFzEMKy1tbWtrS0wMDAtLY1Go2VkZNBoNFjtzp07v/3tb7W0tP71r38VFxcnJCSAytDQkIODQ0lJSVBQEKjU19ffvXuXxWIB6bEmEAjc3Nz8/f3pdLpUKsVxfGJioqamhkaj7d6929PT88qVK+Pj47BaU1PTyy+/7OnpmZ+ff/bsWX9/f1CpqqqKiooaHx+n0+mgUl1dvbS0FBERAWsPhhACEolEIi2rra2Nj4/39PTs7OwsKioaGhqiUCju7u7e3t6FhYVvvvmmo6PjN998w+fz4+LiYIXh4eG9e/eamZmdPXt2ZmYGlikUCk9Pz3Pnzvn4+MCjg8/nM5nMlJSUubm5nJyc1tZWmUzm4uLi7Owsk8lcXFyio6M7OjpOnDjBYDBgNWdn54SEhObm5u+++87Z2RlUurq6IiMjZ2dnp6engfTv9PT0IIRMTEyys7Pr6+tnZmZMTU1DQkKmp6ctLCzi4+OlUunJkycNDQ1hNSsrqw0bNgwODh46dMjZ2RlUamtrY2Njl5aWLl68yOFwgPTEqKio2LBhg5+fX0NDQ15e3sjIiL6+vq+vr7q6OgDExsba2NicP39+dnYWVhsbG9u1a5epqemFCxeuXbvGYrEAID8/39/fPzQ0NDs729nZGdY8DCEEJBKJRFJpamravHmzk5NTQUGBQCBgsVigIhQKWSyWk5NTUlKSmpraBx98YGhoCCuIxeKkpKTt27draWk1NTW1t7djGKarq6uvr+/u7l5bW3vq1KmwsDB4RIjF4tjY2LS0tNbW1tOnT/v6+sKy3t7eoKAgPz8/Ozu72tra48ePBwQEwAoFBQXvv/++u7v77du3Gxsb79y5o6GhYWBgYGtrq1AoeDwenU4H0v9ocHBwz549i4uLR48edXFxgWWtra0BAQEhISHu7u43btw4efKknZ0drCAWi99+++3o6OihoaGampq7d+9SqVRtbW07OzsqlSoWi3EcB9ITIz8/f//+/fb29ufOnSsuLo6JiQGVvLy80NDQiIgId3d3Go12+vRphUIBq1EolKefftrAwKCpqamrq0sqlWpqalpaWpqbm/f19X399dfh4eGw5mEIISCRSCQSQFlZ2c6dOwMDA3Nzcy9cuMBisWCFvr6+F1980dnZeXx8/N1332UwGLBCRUXFpk2bkpOTZ2dnGxoaJicnKRQKnU63srJycHA4e/ZsdnY2i8WCR4FAIIiOjt6zZ8/U1NShQ4c8PT1hhaKiomeeeSYlJUUulwuFwlOnTrFYLFhhdHT09ddf19fXr62tHR4eBgB1dXUjIyMbG5ve3t7jx4/7+voC6cFu3769Z88eQ0PDjz76yN7eHlbIy8tDCHE4HBMTk9zc3BMnToSHh8MKjY2Nf/7znx0dHTs6Om7evLm4uEihUOh0upOT0+zs7IULFwwMDID0ZKipqXnmmWeio6MvX7586dKlqKgoWGFgYGD79u0+Pj63b9/+/vvvDQ0NYTUrKysOhyOVSltbW8fGxgBAU1PT3t7eyMiosLDw+++/T0hIgDUPQwgBiUQiPfFycnI2bdqUkpIyOjp65swZU1NTWK27u/tPf/qThYVFWVnZp59+Gh4eDiu0trampaUxmcy6urpvv/22r68PwzAAsLa2fv7550UiUXl5eVJSEjwKmpubX331VQ8Pj++++04qlcJqEonkueeeS01NHRsbO3PmjEKhgNVMTEy2bNkyPj7+xRdfNDc3K5VKgiCsrKxYLBaO45mZmbGxsUB6gOvXr2/bto3FYuXl5R0+fJjL5cIKOTk5Tz/99FNPPaWmpnbu3Lkff/wxKSkJVpiYmNi/f7+mpubJkyfz8vJmZmYwDNPU1Fy3bp2VlVVhYaGzszOQngBCoXD9+vV79uyZmJj46KOPnJycYLXe3t5du3b5+PjU1dV99dVXXl5esIJEIjl48KCvr29BQQGPxxscHMQwjCAIb2/vmJiY+vp6CoUCjwIMIQQkEon0xLt58+YLL7zg4eGRm5t79uxZPz8/WG1oaOjgwYM6OjqnTp06c+ZMXFwcrDA8PLx79257e3s+n3/06NGkpCRQKSwsfOmll7KyspycnEClpqZGoVCEhobCmpSfn89ms/fs2TM+Pv773/8+KCgIVisuLt61a1dycnJdXd3x48ddXV1hhZycnD/+8Y/R0dHV1dVffPGFj48PqJSWlrJYLIVCoVQqYVlLS8udO3eYTCaQVPLy8qKionbu3Emj0Y4dO6ampgarFRUVPfPMM1wud3h4OCMjQ0dHB1aj0+m7d++emJhIT083NTWFZbOzsyYmJvn5+WFhYQDA5/Otra0XFhZCQ0OB9Diqr6/ft29fQECAQCD44osvYmNjYbWxsbHdu3dbWloKhcJvv/02Pj4eVuju7n7nnXfMzMyOHTsmFotjYmJApaenJyIiorCwkMFggEpFRQWNRvP394c1CUMIAYlEIj3xpFLprl27NDU1f/zxRz6fHxMTA6vJZLJ33nlndnb28OHDpaWlXC4XVpDJZHv27MFx/NSpUwRBwLKioiIWi1VWVhYWFgYA+fn5oaGh09PT5ubmsCY1NTXt2bNn3bp1RUVFNTU1cI/u7u5du3a5u7tnZ2efOnUqJiYGVmhoaDh48KCLiwuPx8vMzAwJCQGVkpISBoMxPz9vb28PKrW1tWw2Ozs7OzQ0FEgq1dXVTz311MaNG/v7+z/55BNnZ2dYraamZu/evaGhodXV1RkZGW5ubrCCQCB455132Gx2W1vbP/7xD29vb1h269YtLS2thoaGxMREACgvL4+Pj6+srPTy8gLS42h0dPTdd9+l0WgfffSRmpoa3GNpaWnXrl0LCws//PADnU6H1Wg02vPPPz8zM/PZZ59VV1cnJSWBSlNTk7W1dUNDQ0xMDKgsLS3Nzc2Vl5dzOBxYezCEEJBIJNITz8DA4Omnnx4fH//uu+/09fVhNYlEsnfv3i1bthQWFn711VeBgYGwQl5e3ubNm3fs2NHd3f355587OjrCMpFIpKure/fu3aSkJAC4ceOGl5dXd3e3tbU1rD18Pt/Pz++3v/2ttbX12bNnh4eH4R4EQWzfvn1xcfHUqVPa2tqw2vj4+O9//3tdXd2jR49mZ2fHxsbCsoKCArlcHh8fDwASiSQhIcHY2Pj06dNsNhtIKq2trbt27WIymRUVFYcPHw4PD4fVBgYGdu/ebWZmdunSJR6PFx8fDysUFxd/9tlnDg4OWVlZR48ejYqKgmV5eXkYhsXExACASCQKCgpyd3c/d+4ci8UC0mNHIpEghF566aWJiYk333zT19cXVispKUlLS0tMTKysrDx+/HhISAisIBKJfve737HZ7IaGhiNHjri4uMAysVhMoVDi4uJApbKycseOHWKx2MHBAdYkDCEEJBKJ9MSztrbeuHFje3v7iRMn7OzsYLXm5uYDBw5YWFh89NFHJSUlbDYbVmhubt61axeLxcrPz09PT4+KioL7EQgEiYmJWlpalZWVfn5+sPaIxeKIiIhXXnlFQ0Pj2LFjcI/q6uodO3aEh4dXVFRkZmYGBATAajQa7cUXX5ydnU1PT9fT04MHuHHjxsaNG0Uika2tLZCWdXZ2/uY3v/Hz8+PxeF999RWHw4HV6HQ6QqirqyszM9PBwQFW6+3t/fTTT9XU1P7+97+rqanBA1RXVyclJY2MjFCpVCA9jgoKCp577rlt27Y1Nzf/7ne/i4mJgdVGR0d37typo6OTmZmppqYGq9XX1//pT39ydXXNyck5ffq0v78/3I9IJOJwODY2NqdOnYqKioI1CUMIAYlEIj3xjI2NN2/e3NjY+P3337u6usIKJSUlycnJzz77bEFBwZEjR9atWwerjY+P792719LS8ty5c2NjY/AAg4OD69ata2trKykpiYuLg7VHKBSGhIS8+uqrWlpa6enpurq6sNrc3Nz27dulUunZs2cNDAxgNZFI9MYbbyCEmpqa0tPTGQwG3E9FRUVSUpKBgcGRI0eSkpKAtKy9vf2FF14IDAw8e/bs8PAwrNba2vriiy8aGxtfvnw5Nzc3Li4OVhAKhampqa+88srY2Njbb7/t5uYG91NQUMBkMv39/S9cuODm5gakx1FBQUFqauquXbuKi4vfe++9hIQEWKGysjI1NZXJZNbV1WVmZgYEBMBqY2Njb731lo6OzpkzZ7KystatWwf3c/v27dTU1OzsbGNjY1irMIQQkEgk0hNPJpO98MILfX19J06ccHR0hGUikSgsLCwtLU2pVB45csTOzg5WEwgEGzdufO6556RS6YkTJ9TU1OB+enp6EELz8/NZWVmurq6wVrW1te3du9fLy+vLL7+kUCiwQlNTU1pamr29vUQiEQgE0dHRsFpxcfHHH3/s6el59erVb7/9NiwsDO5RU1Ozbt06JpMpEomoVCqQVqipqUlNTU1MTMzJyenq6oIVKioqUlNTg4KCqqurr1y5EhAQAKsVFxfv378/Li6uqqrqvffeYzKZcI+SkpLQ0NCoqKienp7vv/+ezWYD6XEkFAojIyP37dvX2dn55z//OS4uDpYJBIL4+Pjk5OTp6ekrV67U1NRwuVxYTV1d/YUXXlhYWDhy5EhhYSGbzYbVxGKxs7Pzhg0btLW1P/jgg7i4OFirMIQQkEgk0hOvubl59+7d5ubm2dnZ+fn5UVFRAFBcXOzh4REXF2dkZHT16lVtbW1Yoby8XFtb28zMjMvlxsTEDA4OXrhwoba2liAIpVKJqVCpVB0dHSsrq8jISGtr6wsXLohEovj4eFircnNzExMTt27d2tDQ8M0338zMzCQlJQkEAjs7u7i4OA8Pj+vXrwuFwsDAQFiWn59vbGyspaVlY2Pz9ttva2trZ2Zm5ufn3717FwAwFRzHNTQ0TExM/Pz8goODp6am0tPTvby8gLRCTk5OWFjY1q1bZTLZ119/7ezsDAB8Pt/ExCQmJmbdunU3b94UCoXOzs6wjM/nGxkZ6ejoODk57dmzx9bWtqCgIDMzc2ZmBltGEASNRjM0NGQwGOHh4Uql8siRI7a2tkB6fNXV1f3mN79hMBiffvppU1NTXFwcAJSWlnp4eMTHx1OpVIlEUllZGR8fDyoCgUBXV1dPT09DQ2Pr1q0JCQl9fX2nT59ub29fWloCAIIgqFQqjUbT0NCwsbEJCwtjMBgXL16cnZ2FNQxDCAGJRCI98fh8flhYWGxsLEEQbW1t/f39FArFwsLC0dFRQ0OjvLw8Pz+fy+XCMj6fHxYW5uDgYGZm5uzsbGZmNjEx0dLSMjU1hWEYoaKmpkaj0QwMDKytrc3MzNrb20+fPu3k5ARrW1VV1aZNmxgMRmVlZX9/v1Qq1dXVdXNzs7S0bGlpKSoqCgwMhGVCodDR0TE4ONjAwMDa2prBYMjl8oaGhuHhYblcji1TU1PT09MzMTGxsLAgCEIgEJw9e5bL5QJpteLiYjabHR4e3tnZ2dTUNDs7q6Oj4+Dg4OzsPDAwIBKJPD09YYXy8vKwsDArKytLS0sPDw91dfWOjo7Ozk6ZTIavQKfTTU1Nrays1NTUiouLv/3224SEBCA9voRCYUBAQGpq6tTUVH19/ejoqLq6upmZmbu7u1KpLCsrq6mpiY2NhWV5eXkhISEMBoNOp3t6epqYmAwNDbW0tNy9excAMAwDAAqFoq2tTafTraysTE1NBwYGjh496uzsDGsYhhACEolEIgEIhUJXV1dvb29zc3OCIORyuUKhGBkZaW1t7enpSUxMhNV6e3utra01NDQAgFBRKpUEQeA4ThAEAOA4TqFQ1NTU5HK5Uqm8ffv2jRs3oqOjYc2rrKwMDQ11dHRUKpVyuRzDsJmZmZs3b7a0tERHR8MKfD7fxsbG19dXXV0dwzBi2eLiIgDgOI6pUCgUTIUgiNnZ2ZaWFl9fXyDdT1FRUUBAgLu7u7a29sLCApVKnZub6+zsbG5uDg8Ph9VKS0t9fX0NDAwwDMNxfHFxEVQIgsBxHMMwgiAwDKOqEAQxPT3d1tbm5eUFpMedWCx2dXUNCgrS09NTKBQEQchksuHh4dbW1t7eXjabDSuIxWIfHx9ra2s1NTUMwwBAqVQSBCGXywmCAACCICgUCpVKpVAoGIbJZLLh4eG6urqEhARYwzCEEJBIJBJphaKiIg0NDblcLpVKY2Nj4UklkUj09PTkcrlMJmOxWLD28Hh8hLjwmCovL6dSqXK5/M6dOxwOB0ikn6WwsFBDQ0OpVM7NzcXHx8OTBEMIAYlEIpFIpJ+ruLhYJpPFx8cD6aHLz8/HMIzFYsGjTyAQaGpqSqXSpKQk+DUIBAIOhwM/C5/P53K58IjDEEJAIpFIJNJalXWVn7yBC2tVXl7e66+/3tTUJJFIEhISgPRwGRkZaWhoZGRksFgseMTdunWLyWTW1taam5vDo4zH4yPEhTUAQwgBiUQikUikn6WqquoPf/hDQ0PDtWvXmEwmkB4uV1dXbW3to0ePhoSEwCNufHyczWaXlJTk5+dzuVwg/WIYQghIJBKJRHocZWUJkpM58L9w9apgwwYO/HRlZWUHDhxobGy8dOlSZGQkPOJ4PD5CXHiAKzw+AGxEXFgz3NzcdHR0Pv/887CwMHjEDQ0NrV+/vqysLD8/n8PhwOOFz+dxuQgArvD4APhGlAT/eRhCCEgkEolEWpNKi68YGWpM310IiUCwWo6Ap1SAQgHcjQgAcnN5mpowPQ1JSQgeorKysr/+9a+NjY2XLl2KioqCx0h+Hs/QSEO2KA0JRvBg/KvXaJoKTS1YXARWDIKHy9PTk06nf/rpp+Hh4fCIGx0dZbPZpaWlBQUFXC4XHhc5OTwbW/rszGxQEAKVKzz+RsSF1fhXeRraoKYGi3KIi0Xwa8AQQkAikUgk0hqTm8/z9bXxcLPU11Xq6OjkiAsMTTbAsonRcl8fm/aOusZ6JZOFmhp57PUuDk5WJaWFEjGREIvgYamoqDhw4EBDQ8Ply5eZTCY8FsQinqeXhaeXtY4OaGkr29sHMSIUlrU2X42NDRwaGqusuBXGRGUFoniOXVCoTn1d35Urw7ExCB4iX19fLS2t9PT0sLAweMSNjIxwOJzS0lJNTU14LIjFPAbD2NPTysAQMzTSq6mpLyyYTohHoNLZkRMe4TI80lFdsRC+DlWX8xI5dgEhHrV15Rcv3omLRvCLYQghIJFIJNLaJpFIjI2NNTU1CYIAABzHAQDHcVAhCAIACIKA1RYXFycnJ6OiouARdKu3yM3Noqe7RV8XUrfEjo5OHT5Uz4xCAFCQw9v7m7CgIGuh6IIgCyYnwcMbtqR5+vk7l1flHTs6ExGM4GEpLy8/cOBAQ0PD5cuX161bB4+FW7eq3NxMR0baFpZkbLatsZHzRx/kBQYhUKFgFVu3x5aV1l883xYYgqpLRNufYyQlG9dUD377bZunO4KHyNvbW0ND47PPPgsPD4dH3PDwcHJycklJiYaGBjwW2ttzAwMd+wcaJ6dg955QmobGJ/8s9PFGACDi857e4sbmeFXXCC+enQ0KRY21vK1pTnGJgU1tZZ992u/nieAXwznh7Q8AACAASURBVBBCQCKRSKS1bXR0NCUlRU9PD8dxpVKJrUCowP3Mzs5WVFRkZWUlJSXBI6X+ujAw0HX6zkBt9XhwELz88sbRsaG//a0qJBQBQHM97623Ek3NqWd+5OflACsBlRfx4jm6Sesju29dP3qkLzQQwU8hEPA4HAQ/S3l5+V/+8pfGxsbLly9HRkbCo6+8PDs41FWxNFNZftvcEva+5GBuxnj3gMjdHQGA8Brvt296JHF9Txy/KhTMRbJQLp8XGau1eavz5AT+zdcNHp4IlklyeBgGcfEI/kfX+LwULoKfxcfHR0tLKz09PTw8HB5xIyMjycnJJSUlNBoNHn0V5cLgYDdNLUVuXpO1Lezfn0DThL8dyGE4IwCoKOH95uUQ/0CbbP7Fy+chMhrl5/CiWJqbt66bX7z96eEbHgwEvxiGEAISiUQirW3Nzc1+fn7a2toEQSiVShzHMQzDcRwAiGWwGo7jMpnsxo0bNjY28EgRiHjBIfY2VkYVFbXTU7B5k/bWbSkl5QXph4dZMQgARvp5b7zJmZeOnzxZXVcNizL4b56+kLIxYGFx/MS3vZFMBCpZfJ6DA83Jya6y4kZ0FIJ7iEQ8RwdzhqtTa2uzu3sM/HRlZWUHDx6sr6+/dOlSVFQUPPq6eypdGCbdnTfaW6TMSNj7st/w0PwH798ID0cAIBHy/vER096R8slHRZWVoFgC7gbU3Mjb9LShurrZd8fbQsKRKItnbKLj5eNsZKRBVZfNzs22tQ7d6p5JYCNYrbxK4uvnMDExaWMRDD+Lt7c3nU4/fPhweHg4/HRVVVUWFhaTk5MDAwNcLhceoLW11cDAoLe3NzQ0FB6st7eXSqU2NTWx2Wz46UZGRlJSUoqLi2k0Gjz6bt2q8fFxbWqqbm+fTuLCnr1P9/a1/de7LaHBCAButvN++0a0ngGecSY/VwSJSQgAmhp4KcjR3Frx+ee3g/0RrNbakevCsGxr7fXxZMMKJaVX/QOdZDKloZ43rIYhhIBEIpGeVPX19Z6enlQqlSAIHMcBAMMw+LkIgoBlGIYBAEEQoIJhGCwjCAJTWVpa6u3tdXR0hH+Hz+drampSqVSFQqFUKjEMAwAMw0CFIAi4B47jBEEsLCxwOBz4d65fv+7m5qahoQH3IFQwDAMADMNgNYIgYAUMw+AnUiqVACCXKzs6bvT29nA4HKGIZ2dnoaFOdHcOW1jAi79x9vb2+uIoD6cgUKHh4ud3x9fVt57OuNnVCZwUBABNDbyYOHe58u7pjMFkLmpozHV0MqGpz/kHWtrbWaYfznZlILhHQT4vNt6XyQznXb5mZBQMDyAWix0dHe3t7alUKqECADiOLy4uGhgYbNq06datW/X19XNzc7DawsJCT0+Ph4cHPFhdXZ2Li4uuri5BEPDLEASBYRj8NDiOUfr6+lpbWxIS4wCgoaFU30BjqL9PHYOnU80SOXZ8Qf3x40vsJAQAHa1X3v8weXKq9dPDXc4MBCqVZbz4REN1Nf0LZ7vlCnB0wn19/RQK+cTkqJY27u3N0NDEqqurSkvmmOsQrNA/dH3zlpiqqlpi0R4erKGhgcFgaGlpKZVKAMBxHFORy+UbN27U0NAQCAQzMzMYhsEyHMcXFxdv377t5OQED5Cbm5uWlhYREdHW1sbj8VxdXeF+KisrX3nlFScnp8LCwmvXroWEhMD9dHV17du3j0ajZWZm5ubmstlsuJ+8vDw3NzdLS0uCIAAAwzAAUCqVBEEwGAxfX98bN260tbUpFApYbX5+vqamJioqCh5AKBTa2tq6uLhQqVSFQkGlUuEhwQAwUOnq6e7q6kqMjwOAhoZCczPDG+1dVHV4brdtEif6wvmrJ7+9q5DCf4uKgZdfTRifmPz2RK2lBQIAPo9nZALroq1s7DWPHbsZH4vg/0O9FRjonJVVaGHChGXZfJ6Dk96zzyb19g6PDRvAahhCCEgkEulJ1d/fz+FwNDU1lUoljuMYhsF/HkEQGIZRKJSFhYXa2locx+H/FJ/PDwoKiomJ0dXVhfshCALDMFDBMAxUCIKAXwNBEDiOy2RLEklOdXVVYmIiAAiFQhxkICfCw7DX3wi/My177++13r4IAPjXeG+8brue653xY+HVq7PhTAQqN1pEwWFe/YOdOjosAGjvLPBwM5QrexISbB0drQ7+pczaGsE9ckQ8v0BNe3u70pJ2Pz8ED1BUVBQWFhYSEkKj0QiCwDCMIAgcx5eWljQ0NAIDA0dGRoaHhxcXFwkVDMMAgCCIu3fvVlVV6erqwoP19fVFRUWZm5srlUp42DAgMJxCbWioFwoF0dGRACAUCnCcQizO+3vD83siTEwnjh3vUNdCoELBG3/725DiEt7xYzL/QAQqddVZEeE2C/OEJOeWsSlEx5jr6OpJcjqGh4FGAz9/eDrVH8fnT3/fUVMN8WwEy1racv1DLDvaehysufBgg4ODMTEx+vr6BEEolUoqlYqpKJVKT09PNTW11tZWqVSKYRgsw3F8fn6+trZWLBZzuVy4n/Ly8j/+8Y8cDqepqenLL7/U09OD+2lvb//444/d3NxEItEXX3zh5uYG9zM3N/fll19iGPbtt99++eWXcXFxcD9lZWUJCQmenp4YhhEEgeM4ABAqJiYmlpaWY2Njo6OjBEHACkqlcmpqKjMzMygoCB4gLy8vKCgoOjqaSqUqlUocx+HfwVQAAMMw+LkIwAAwAjClUllZWVFaVhzFXAcAQgFPnQqLUnB2hbd+F2VoaPj+f/GsbRAAiK7yUtP0ntkRXFba9sOpAV9fBAB8Hs/CkhoR6YdRZubn3eEeg6MFFla0xoYRP08EALwrArSRAwBVNTxmpN3gwJiJYSKshiGEgEQikZ5UNTU1DAZDXV2dIAh4uHAcl8vlAwMDDAYD/h0+n6+hoUGhUHAcVygUAIDjOKYC90MQBAAoFAqZTMZms+Hfqaurc3Z2VldXh3sQKpgKAGAYBgAEQYAKQRAYhsEvQBAEhUKRy+WdnZ2+vr6wQkUxbxOy3ZrqkZNb+dmXU3EJCAAK83kfvh9hZ0dJ/7S4uBTYSQgAhNd4fv56bh4upRU1nh4IAAqKrunSFTIpvPiieXCwx9/ey7O2RnA/OTk8KhViYhA8mEgksrW1tbGxoVKpsAzDMIVCoaent3379q6urqqqqpmZGQAgCALDMFCRSqV9fX3e3t7wYDU1NQ4ODnQ6nSAI+M8jCAJWIAgMx7Hh4eH29vakJDYsK5DwUpLozzzD6uuv/tfnIy6eCACEfN7+t8O5bLszZ348fwHCmQhUOtpzfX3MhganqiomGO6wc1f81OTMF59XsmIRAEgEvN+8ZJS0Pigrq/7CudGQMAQrSPJ5CwuQwkXwYLW1tY6OjpqamoQKjuOgQhDE5s2b1dXV+Xz+nTt3CILAlgHA0tLS4OCgq6srPIBEInnqqaeYTGZnZ+e1a9fc3d3hfsrKyl544QUnJ6eSkhKBQBAWFgb3097e/sYbb9Dp9IyMjPz8fA6HA/eTk5Pj4uJibm4OAARBYBgGAARBAICbm5u/v39bW1tra6tSqYRlBEEolcrZ2dmGhob4+Hh4AKFQaGVl5eDggGEYAGAYBv8OhmEAgGEY/DIE4ACYglD09/Xfvt3NTkiEZXliXnSszmtvxDU1dvzXu20x8QgAcgW8N3/HWBdlk3GqMOuaPCoGgcrNDnEEM7C5rd7UJB7uIRLzKGogk8H6JASr5ebx5EvAZiNYDUMIAYlEIpHWtra2tuDgYDqdTqFQ5HI5juOYCvyPZmdn29vbLSws4NF0o433wm6mt4faNycKFgkEKu1tvEOfoInx5sOHb9o7IVApzOeFBpvpGhgIxe2xMQhW8HJtZkZ4HXyPZ2mDYAVB1jUjIz19fa35+cmhoXlOMoKfpaKi4u9//3tdXV1mZiaLxYLHRV01b+c2s4SE0Ly87C+/UqyLRwBQX8d7991kG2v4+khWjgRYcQhUhobKHex1m5u6b95QODPgud1RSoX6x/+QzE0DOwUBgI6G+Pk9MdU1PSe+a3X3QABQUpBjbKwrVypHRsfi4jfAz+Xr66upqZmenh4eHg4/XWlpqbm5+Z07dwIDA+HBGhsb9fX1BwcHw8PD4cFu3LhBo9FaW1s5HA78dJOTk+vXry8oKKDRaPC4qCznbU9joKdcM05lj4xsAJXyQt57H0YZGUuPflFVVgyJKQgAxHxeULCJM8ORL6oMC0GwwvXGPDpdY3JyenRMyuUiWJaXe9XC3AjDiJGR8egYBPfAEEJAIpFIpLVtYGCAy+UaGhrCT3Hnzp2Kiorc3FwulwuPoOH+a6+9kqRDH0pPr9M3Q6AyN1f4ztuspuuSI0dmPL0RqFxvEAQEmE9OzenqrYMV+Fd57/zOlcn0OPjeZUsbBCs01ud5eTobm9JoGrKqykZbuxT4WSoqKj744IPq6uozZ86wWCx4XHS08p5/zsHPx+P82exTpyEJIQDovsn75z+2zM33ffFZRVU1JHIQAOQV8NYx3TRp0pLiW+FMVFLE8/DSo+C0ivJRhRy4KQgALE1LNz8dnJvXlpHZ4x+AqivELq5mjo5GOro67e2dxcX9iYkIfpaAgAA6nf7JJ5+EhITAI25iYiIlJaWgoEAikXC5XHgsNDfyXn51nW+Axuf/kmAYApW2Jt6H/0yZvNN69IuupkbgbEQAUF7MCwm3pVBoInEnm41AJS+PZ2ur7+RobmqqS4C8sqqu8wYkJSEAKCm+5uxs7upqqatDGx7pk+Tejo5GsBqGEAISiUQirW1isdjAwEBTU5MgCIVCgS0DAAzD4AFkMtnk5GRCQgI8mibHsl99ORHHbn70UYeVAwIVHd3re3b7lpZcOfa10j8QAYCQfyUw0MLOVq224ba7O4LVvBkdTKbbgf+6bGmNYFllxbWgQFctbcXcwq2EJJ+2lsHhwWBQuXaFn7KRC/9rFRUVH3zwQU1NTWZmJovFgsdF103erl2OLo6MH74VytWQ8ApPScC6SPjbfz19s+v6p+k32lqBuwEBQPftUl9vp9u3WwwN4uB+rtfx9u1nmpgtnTpVlZcHNBqEhjB09RaAGApnhi4plJ99Vh4UgOBn8ff319XV/fjjj0NCQuARNzExkZKSUlBQIJFIuFwuPBbaW3mv/TbGwWXx8MelOjoIVKanxH/+S0r7jcKjnw93tAMXIQDobC/w8TO61TNqZhEHy8bGKn19Hepqy+h0SN2eWF1Tfo03ExaG8nN5fv4utjYad6dvevs4ODqZpx/Oc3ZGsBqGEAISiUQi3Y9YLAaAxMREeLLx+XwulwsPXW+P4IU90RYmU59+Vm1ghgCgrIL33HNBG1Kcy0oFx7+56+mFhEKetTXd39d5YWGsqHggNg7BCvyrvD+87cFkuv7l3ctWtgiWDQ42ODoYtbfVGpvBc8+vKyluGxmKBJWrPOEGlAT/axUVFR988EFNTU1mZiaLxYJflVgsxnFcqVQmJibCw9XUxNu2nRHk53X5wqVz5yBpAyqU8J56yvCFvcn9g50ff1ze2ACcZFRWzmNGecmXlqoqOsLDENyjoIC3ZUsAK9qpvDTnWtYd/0DU0Spy93AfG6nT0oDNW5mTMzP/+ux6aCCCn8XPz49Opx86dCg0NBQecRMTEykpKQUFBRKJhMvlwq9KJBIRBKFUKrlcLjxETQ28nbvCA4Lo33yTg2MIAHLFvO1pjO3PBHfcKPvmSE9rMygJ0DegBAS46OhhxUVtoeEIVHJzeGk7ktvbq8rLRkNCYO9L7Lr60vM/zgaHoNoqgY+vu0x2e2JyKi0tyNRM95//zHNxQbAahhACEolEIq0gFostLCxsbW21tbWXlpYmJydv3brFZDLhCSMQCKysrKytrbW1tRUKxejo6ODgYEREBDwsJUW8jcnOibFWpZU1fMncvAzCQs1sbAxcnGgUysK1azfa2oCuA+7unoolqKlu8Q9AcA8vRss6puvf3s+qqwfOegQAfD7Pzt5QnTonXZClbHQIibD+5utiPR3Ev8bjpqBrPHEKSoT/tcrKyg8//LC6ujozMzM6Ohp+PTU1NQ4ODnp6eouLi9PT0319fXfu3ElISICHIi+PFxWlv3Fj1NRY94VLzaNj4OigGRHKMDKm2toZZvNzSstBtggeXrb6BhoN9d0Mp2QAuHZNqCRwAGLjBjYACHJ43PW2SYlhVWUVeeLegUHgbkANtRJdHRrIJ1hMWmRCzDWJJDNTnpyE4Gfx8fHR1dU9dOhQaGgoPOImJiY2bNhQUFCQk5PD5XLh19PY2Ghtba2lpbW0tDQyMjI0NBQVFQUPRUEujxlpmPZsWGtr+8WL3XfugK8f3cvLwcIc9PTxPEljXQ3gFHBxddClm1y/fsPBkQXLcnOygoK86msbWPHISK+Nm+J9LetC1lVYF4UqS7OMjfXkigl3d2rq1g3NLfVffdkTxUKwGoYQAhKJRCItKygoCA4ODgoKUlNTm52d1dTUNDIyunPnzvnz511dXeGJkZ+fHx8fHxwcPDs7K5VK9fT0jI2NOzo6RCKRq6srPCyNNbzwMCOGmytB1ZEuwuTk3cKCCroWRITZGJu6y+X0u3dnb/f219W2BgUhuB8ft/bIda5/OXDFwhbBalNjvGd3ceZlfYcPNfv5IvhZqqoqP/zww+rq6szMzKioaPg1SCQSNzc3LperpqZ29+5dCoViaWk5MjIiFotbW1sTExPhoSgs4gUHGoWFumOYhlSmvrCwUFtdMjSwFBNnaWFpTYDJzBx1ZGzg+vXarpsENwnxs68qCE2CUG5IYQOAQMzjcN1jY/1LinJzhSOL8wA4LMkhKRkBQHcb7/mdLromZp8fK7G3RvBz+fn50en0Q4cOhYaGwiNucnIyJSWlsLBQLBZzuVz4NeTm5sbGxgYFBUml0oWFBV1dXUNDw56entzcXEdHR/jP4F3ho41cWFZcxIuI0AkKDlQoNaRSxczMdFV15ew0hIfr2du7y5eo09OKsfH55uaejrZpbjKCe5QV8d58I9bRmX4642pxIcQkIFCpq+Ztf8Y+JDjwm+MXNbSQIIvHSUawAoYQAhKJRCKplJSUJCUl2djYVKokJCTk5OR4enru3r3b1NT0ww8+tLK2gidAcXHxhg0bPDw8zp49e/36dS6XKxQKw8PD09LSZmdnMzMzLS0t4eEqLuZhGHVuXs5ORAAgzOJpaIE6TUOukC9I5exEBPcjyOLtf9M5PtbnwLuXGhohnoNgWVERb/NGYzYnSpInyMhYMDWGyUmIjkHwE1VVVbz//gdVVZXnzp2PjIyCXyw3N3fdunUxMTF5eXklJSUAIJfLHR0dX375ZRMTkx9++CE3N5fD4cDDkpfDU6eBQoEtLRHxiQhUJGIejYbjFI3Z+Xl2IgIVfjZfoaCmbEgEALGEtz7ZNTjIi3cpq65GlsRFt9pyTM0tOjq7R4aVFBxY8Tqbn3ZtaR84/t2Qng7MzUBkJIKfLiAgQEdH5+OPPw4JCYFH3NTU1MaNG/Py8qhUKvxKTE1NTUxMsrKyuru7ZTIZhUKJiIjYsmWLVCrNyMiwsrKCh0Uk4Glpg4YmZWJCkZSEAECYzdPSAioVZEsQE4vgwdqbeH977+mF+ckjR/OuNwI7GYHKQD9vz57A+fmlQx9f16CBkqD6BiTDChhCCEgkEomksrCwwGQy6+vrRSJRYmIiLGtvbz98+PDo6Oj+fb+LjFoHjzWRSMRisXbs2PHdd9/R6XQA4PP5XC4XAKRS6e7duzs6Oo4fP+7v7w+PAk/Xuugoj7/+VWhhi2CF9g7e7p0BZuZG//w4Z2EBOEnBly5Vh4Uj+ImKiwvfemtfTU11Xn5+bEwc/GJdXV27d+9ub28fGRmBFbq7u99+++2ZmZmvv/7awcEB1qRrPH4K4uZKeLFxVt4+RmLR9c4OWJICBYPU1IClJcjLrwsIQxWFWduf9fXwxTLP1HR1QUJ8WEF+i7dXHPx0BiqnTp1iMpnwiLt9+3ZUVFRdXZ2RkRH8GmQy2fPPP//ZZ58ZGxvDCmpqalu2bOnp6Tly5Iifnx+seXcmeb/b91RlRf3pUz2+wQhUxELe+hTTTZvdhfxCkQA2PxVUWztgYR0KK2AIISCRSCQSgEAg2LdvX2pqan19/dGjRy0tLWGZRCJ5/fXXn3vuuT/8/g8EEPBYq6ioeOONN7Zt21ZWVvb73/8+KChIKBQmJSUBQG1t7euvv85gMDIzM2UyGaxhknyepSVVT1eett05NMT5yFfCllaYuAPDY5AUhwDgdl/2zrQwJbF48vtKf3+LO3fUcCwAfjo+P0tfX39ubi4hgQ2/WEFBQUpKyv79+wcGBl555RV/f39YwdraOiUl5fLly6dOnUpISIA1qSSfx022254WvbDQNTkxgmP6OKZN09DU1zc/+V22WDwWHYeaakXbd4aYW89evVpLUVM30HPJutYSy0Lw0+Xm5lKp1OjoaHj0CYVCdXV1hUKRkJAAv1hJScl77723YcOGjIyM9PT0sLAwWFZWVvbGG28EBAR8/fXX8CjQo5dseyby9El+jkh25y5wEQKAkmLexqc8YuNtLl4Qzc+Ak2NwZkZ1dAyCFTCEEJBIJBIJICcnZ//+/Ww2Oy8v7+TJk97e3rBMKBRu2rTpww8/zMrKOnDgQFRUFDy+KioqXnvtte3bt585cyY9PT0yMhIA+Hw+l8stKSnZs2fPxo0bi4qKPv/88+DgYFiTsvg8R0fDSJYHTX3czkZpoIsNDExLpVo9vVBadjs4IBkAyit4sTHm3t4ePT23xidkRcUDkUwE/9eKi4sRQq+99lptbe0f//hHJpMJK6irq7/00kttbW1ffPGFq6srrEnN9Ve2pQU5O2vh2DjAklKhqaauAxg+M7OUcaq8phrYyaggh8eMNgsMs7hzZ2FoaLq+bsjLHQHpV1VZWXnw4MHY2Nivvvrq+++/j46OhmVisfj5559PTU0VCoXp6elJSUmwtnl43PD0MPz6y5LGOliQARchABAIeL5+NDbXWyZdHB66e71hwN4+GVbDEEJAIpFIJJXW1lYDA4OhoaGAgABYgc/nb9y48eOPP25ra9u3b5+rqys8vvh8vr29vY2Nze3bt728vGCF/Pz8Xbt2PfPMMy0tLYcPH3Z2doa1KkdyzcRMm4LPq+FyDECxBAQBcwsweReS2AhUSgp5+vrqGIUyNbWwLhLBGsDn883MzBwcHPr7+318fOAeb7755vz8/KFDh3R0dGBNEol5pqagrg5UClAw+G84BkolLC7C6Ciw4hColBTxjEwBxyh3pxUhwQhI/wGdnZ2WlpaNjY0RERGwQk5OztatW1988cW6uroDBw4wmUxYw0pLeIfS10+M3/z6y47um8BFCJbl5fNMzKkUjDo3tzQ1qUhMQLAahhACEolEIq0mFot1dXU1NDRmZmYiIyMBgEKhpKen9/b2vvXWW1ZWVvBkyMvLo9PpGIZJpdLIyMjc3Nzdu3c/++yzN27cSE9Pt7KyAhU+n8/lcmFt41/lcTcgeICsa/zkFC6sJSKRyMjIiEqlTk9PR0VFAQCO4/v375fL5Z988gmFQoFlAoGAw+HAWsXP5nHXIyD938nLy6PT6QRBzM3NxcbGCgSCnTt3vvbaay0tLX/961+9vb1hjamvl7BYHm1t9ZaW66UyyVv7nsrOunT+7GxoGILVsvhZABSlktiQzIV7YAghIJFIJJJKTk6Oq4q+vj6O4xiGzc7O3r59u7OzMzEx8f333+/u7t63b5+FhQWo5BZXmlha0rR1FpWKqbt3J0fHcAVhYmqiZ2SoAPnC/MLw4MCGyHB41IhEIg8PDy8vLz09PYVCAQAymay5uXlsbCwtLS01NbWpqenTTz+1sLCQSCQuLi52dnYYho2OjtbX1ycmJsKyyspKGxubycnJ3t5eLpcLa1hWNj95PRfWhra2Ni8vLysrKwCQy+WLi4v9/f2NjY2xsbGvvfaaXC4/dOgQAPD5fFtbWzc3N11d3ampqYqKiujoaFhWVFTk6Og4PT3d19fHZrOB9EQaHBx0d3c3MDBYXFxUKpVSqbSjo+PWrVupqamvvPJKVVXVwYMHfXx8JBKJg4ODo6OjpqbmzZs3W1pa2Gw2LKuqqrKwsJiYmPDz84P/PL7gCpPp+OabG8TiKzU13du2cQiYP/tjYXMjJLAR/BQYQghIJBKJBCASiRISEiIiIqRSaUdHx8DAgEwm09bWtrW1XVhYcHJyev3115uamt555x07OzsAKKposHVywWkas4uLNF1dbX2D2f/HHpxARVX3jwP+3GFAFBR1RrkuKIhiIq5slwFEQHatr2mWaaaWWZmamSvqlbkkKKmI3MGszMw2K5fUgbkzIqIsLqm4gbJcGQERF3BHlpn/OXMO58CxXtJ+7/uX6fM8d6rvVt2S093u1T2S09169+595uTxkuxjJCwU2o7Dhw8HBAQEBgbeuXOnoKCgrKyMoii5XE7T9O3bt4NNcnJyEhMTL126NHz4cA8Pj7t37/bp08fFxSUpKalv375gcujQobFjxwYEBJw8eXLv3r3+/v7w/0nqASFibCgAHNibSoElQF0UiYQX0qFDhzw9PcPCwhobGy9dulRaWvrw4cOOHTs6OzuXl5d7enpOmDDh1q1bCQkJHTp0KC4uHjFiBEVRHTp0UCgUP//8s1QqhSbV1dUTJkwoKCj4/fffPTw8AP3LZGZmhoWFBQQElJeX5+fnl5WVGQyGbt26yWSyx48f+/r6EkJ0Ot2yZct8fX2vX78+dOjQ6upqd3f3zp07b9u2rVevXtDE0tLS398/KyvryZMn8D9RLKonTx5edVO8d7fOrpN9ds6VgnwIHE2gmX17dUaqjrwSCX+NIoQAQgj966Wnp4eFhUVFRd25cyctLe3MmTO+vr4AoNFo3N3dQ0NDnZycQkJCsrOz5y9Y4D5ixMH0zGHDPY0gW36/cgAAIABJREFU1ZeKNTV3OvfpN9QvsFs3+dWSwlKx5Pbtm+FREQPdXDPTdcf3/kaCA6GNyM3NDQoKGjt2bHl5+Y8//lhcXBwYGAgAGRkZfn5+w4cP9/f3d3R0TEtL27x5s8FgCA4OvnPnztmzZ8ePH//hhx9yHPfDDz9EREQAwJkzZxYuXMgwzK5du7Zv3+7n5wcvgP171eNIJLyQDh8+PHr06FdffZWiqF27dmVnZ48aNQpMbt++PXjw4ODgYE9Pz+zs7HXr1l2/fj0gIKB9+/bZ2dn9+vVbt27dnj17zp49C0169uw5Y8aMAwcOfPXVV56enoD+TXJyciIiIiZOnHjhwoXdu3cXFBQEBQUBgFar9fX1ZRjG39/f2dl59+7dq1ev7tix4/jx4ysqKo4fPz5nzhxCSEJCwu7du4ODgwEgNzf3448/9vX1/e6776qqquB/Qqfb26cv1a6dREJZ1tTUlpVBRASBlvbtVb9CIuE/ogghgBBC/3oNDQ2zZs2qr6/fsWNHenr6mDFjoMmJEyc+/vjjsWPHyuXyn376afnKVWMCR18qr+rerWdBftEt8QohoZpTxV5jJw4c6noq78TpffvAaAx85WW5Q89jmenXjx0mYaHQZG/aQUn7DgZDIwkcAy+YI0eOhIeHv/322w0NDXFxcd26dYNmzpw58/HHH4eHhxuNxu+///6HH35wcXFxdXX94YcfHjx4sHTp0tmzZy9fvvzWrVtgUlZWtnLlSrlczvP8o0ePoJljx441NjYGBAQAaqLRaHx8fN57771u3bp9+eWXe/bsiYiIgCY5OTlvv/32G2+80atXr2+++YbneZqmGYY5fvx4z549rays1qxZs3v37uzsbDBJS0tbu3btqFGjeJ7/8ccfQ0JCAODIkSNdu3aVSqX37t3z9vYGZKaOHDkSEhIya9asJ0+eREdHOzk5QTMFBQXvvvvuK6+8UldX99VXX23bts3Dw0OhUHz99dc1NTWbNm0KCgqKi4v76aefxowZAwDXr19fvHhxly5dNm3aRFEUtCQIgp2dXXV1dXh4OLx4KEIIIITQv1t+fv6yZctGjhz53Xffff/9915eXtBMVlbWJ5988u677zY2Nn766ac//ryLamfl6eN362Z14ZUSeHSPkAjdJb33y5Mc+/Q+JBy8KqSBlbSbQ692nTqVicVE4QnNHL98ubejU8XNm+UXLpDwMHiRlJeXf/rpp8OHD//6668TExMjIyOhmYyMjNjYWEJIWVkZz/MZGRkjR44EAIqi8vLyPv/880GDBs2YMaNHjx5gYjQalyxZcvPmzYSEBLlcnpaW1rVr1w4dOvTs2XPQoEEFBQVdunQB1KSoqGjWrFnBwcGpqamfffbZ6NGjoRmNRrNo0aIpU6ZIJJKEhIRffvll+PDhDg4OaWlp7dq1W7hwYURExKZNmyoqKsAkLy8vOTnZ1tY2NjbWxsZGp9MNGDDA2dlZJpNZWloaDIYbN26cP3/e1dUVkNmpqqr65JNPRowYkZSUVFpaCi1dunRp/vz5hJDi4uLExMSMjIyxY8c2NDQ8evSotLT0yy+/BIBly5bZ2NiAibW19Zw5c65fv75+/foePXpAS9XV1b6+vrt27XJzc4MXD0UIAYQQ+hfTaDSzZs368MMPKysrOY7r2LEjtJSbm7ts2bIpU6YUFxdPnz594MCBakHo3qPH7Tv3Ht9/BFBPxkYevnrd79XJnaza7f/++wf558BQS16OhKfsTRWG+Y9ydnmpoLDwUk42GRMAL4zMzMw333zz448/Li8vX7x4cY8ePaClY8eOxcfHR0VFHTt2LDEx8eLFi7169Xr48GFlZeWYMWPi4+PPnTs3Z86cgIAAMOndu/fs2bPT09MTExOHDRt2+fJlV1fXbt26DRw4UKFQfP3111VVVYBMtFrtxIkT582bR1HUhg0bHjx4AC1lZGSsWLFiwoQJV69eXbt2bUZGhoODg5WVVXFxsa+v76pVqywtLRcuXGhvbw8mjY2NMTExV65ciYuLc3JyqqysZBimoaGhqqpKIpG4uroOGTKktLT0iy++GDhwICAzkpWVNXPmzDlz5lRUVMydO7dXr17QUlFR0YIFC0JDQ7Ozs9etW3fhwoWRI0dWVlaWl5dPnjx53bp1giCsWrVq2LBhAHD48OEPPvjgtddey8rKSkxMHDp0KLRkb28fFhYWFxeXl5cXGRkJLxiKEAIIIfQvdu7cubi4OF9fX7VavX79+kGDBkFL+fn5SqUyODj4l19+Wbp0aWBgIJjs/V1NSSxeGRsGAKerHzGvvHav8nra9m+guopEhcCf2XtAbde7r23Hjjdv3667eYNEhcMLo7S0dOHChUFBQfv371++fLm/vz+0VFJSwnGcm5vb9u3bv/76ay8vLzA5ceLEggULJk2a9Pnnn1+7dg1M0tPTly9fHhoa+tVXX23fvr2hoaF///4DBgywtrZ2dXWdMGHCpk2bbt68CcgkLy/vgw8+eO211/Lz8+Pj47t27QotnT17luO40aNHp6WlJScnOzk5gcnRo0enTJkyZ86cY8eOLVq0aNSoUWAyaNCg6dOnHzhwICkpyWg0Tp482cbGZufOna6urgCQl5c3c+bM6dOnb968edOmTREREYDMxeXLl5cvXx4WFqbVaufNm+fv7w8tVVdXL1iwwNXVddeuXZs3b/bx8QGTrKysVatWTZ48ecmSJT/++GNoaCgAnDlzZvHixQzD/Pzzz19++WVAQAC0pNfr5XL5qVOnRo0aBS8eihACCCH0L3br1q2EhIQePXps3bp127ZtDMNAMxqNJjg4ODY2tn379itXrqyrq4On7BUOeY4lLwWMycs6em7Pb1D3kIyLhKf8rlYbQAKNBjIuEl48DQ0Ny5cv79at25YtW4qLi+EpdnZ2c+fOvXfv3qZNmyiKgibl5eVxcXH29vYfffRRly5dwOTUqVOJiYldunRZu3Zthw4doIlOpyOELFy4MCUlpaqqCpBJZWXlwoULGYZJS0uLi4sbOnQotFRdXc1xXNeuXbds2fLzzz/7+vqCSUFBwccffxwUFJSQkHDz5k0wycrKiouL8/Pz27Jly3fffefq6vrhhx/W1dUlJSU5ODiASXl5+e7du0+fPv3mm2+GhIQAMhc3b95cu3Ztnz59vv7667y8PHiKra3t3LlzHz9+nJiYCM3k5+dv27bNxsZm0qRJrq6uYFJeXr506VK5XL5ly5bffvstMjISmlGr1ZGRkfACowghgBBC/2L3799fu3Ztp06dEhISdu3aFRgYCM0cOXLk/fffnzdvXkZGxoIFCxiGAYB9B9SvjI0EgL171YREak9f8B8/0daxf9bB368f1pFxofvUB16JHJuWeaz2/n0SFQEA+zRCh85drGxsHzU0Prl9mwQHwItErVaPHz9+8eLFFhYWGzduvHv3LrSUnZ29bNmy0NDQtLQ0lUo1ZMgQMNFqtVFRUbGxsXq9ftasWcOGDQOTu3fvxsXFlZaWrlu3zsHBAZrodDpCyKeffqpSqaqqqgCZ1NTULFq06KWXXtqxY8fGjRuDgoKgJUdHxw8++ODMmTMbN27s0aMHNLl+/frKlSu7d+/+3nvvOTo6gklRUdGmTZs6duwYFxenVqv79ev3zjvvdO7c+ZtvvunWrRuYiKK4f//+S5cuTZgwISQkBJC5qK2t3bBhg9FoXLVqVWNjI7R09OjRRYsWRUVFpaamJiYmenl5gUlqampgYOD27dt1Ot38+fP9/f3BRCqVzps3r6qqatOmTTKZDJocPXpUJpPZ2Ng0NjYWFRWFhobCC4kihABCCP2L3b9/PyEhoUOHDkqlcs+ePWFhYdBMaWlpTExMv379li1bZmFhASZ7U9Ns5PZUQ+ODmrvQYOjtxfiNI7eMkLN398Nzp6GhloyLOPrHWQ/G70jGkXBfdwDIzLvoPHREJ7q7tEOH4ry8ouO5JCQQXhhpaWmEkE8++aSuri4+Pl4qlUJLdXV1y5Ytq62tTUpK0mg0kZGRYHL48OE333xz8eLFhw4dmjt3blhYGJgMGDBg5syZGo2G5/nBgwdDE51ORwhZtGiRSqW6ceMGIJNbt24tW7ZswIABKSkpoihCSxcuXEhMTOzdu3d8fHxqampgYCA0uX//flxcXFVV1ZQpUwIDA8GEoiiO40pKSlavXt2nTx8AOHLkiEQi8ff3BxONRvPqq6+uX79+9+7dCxcuDAsLA2QuHj58GBcXV19f/+GHH/bt2xdakkgk8+fPf/z48eeff25rawtNMjIyJk+e/Nlnn33xxRdKpTIsLAxMnJyc3n77bbVavWnTJh8fHzA5c+ZMSEiIvb29jY2Np6fnxo0bdTpdZGQkvHgoQggghNC/WH5+flJSUu/evWNjY/fs2RMeHg5NTp8+PXPmzDfffPPXX3+NiYmJiIgAk5NimX9I+IOau4cPHXp46/bQMaFeY0Lyy8qzfv0ZxEIAA7SzHDU6GChpZloqGTtmf5qWGRN29dad2/VPfIKCGu/czlIfHOftDi+SW7duLV++XC6XK5VKqVQKzWRkZCQkJAwZMmTbtm27d+/28/ODJkePHp02bdq8efP27NmTmZkJJtnZ2WvWrPH39//666+3b9+uUCigiU6nGz9+/KJFi3iev3HjBiCTy5cvf/LJJwzDfPvtt0VFRdBMamrqokWLpk2b9ssvv2zZssXd3R2aefLkiVKpLCgomD17dmhoKJi89NJL77777p49exITEz09PaGl1NTUfv36xcbGurm5zZ8/39raGpAZuXbtWkxMTN++fWfMmNG7d29o5tKlSytWrHjppZd++OGHnTt3+vn5QZPDhw/PmjUrOjp63bp1+fn5YHLo0KE1a9YoFIotW7bs2LEjIiICAHJzc4ODg3v27Pndd99JpdL09PTff/89JiYmODgYXjwUIQQQQujfzcnJafr06fv379+yZYuHhweY5OTkvPXWW5MmTTp+/PjatWtv3rwZEREBAHsPpo6aMMUnNEoUxX17doOE8vP3dR7sWqTXp/+2C4qvQPv2A4cOG+jsrFGnRoxiAOD4mfMDhg7LyTsnG+AyIiCw7NyZ81oNCfSHF8mRI0fefvvtadOm7dmz5/z589AkJydnwYIFISEhP/zww/fff88wDDSj1WrHjRu3atWqo0ePzps3LyIiAgDkcvn8+fMbGxvj4+P3798fEhICTbRa7auvvrpkyZLk5OTKykpAJocOHXrttdemT59eVFS0Zs0aNzc3aNK9e/f3338/KysrJSXFxcUFWiovL1+5cqVUKp0xY4aPjw8A3L9//7PPPnN2dl6yZMnPP/8cEhICLZ08eXL27NlhYWEpKSk1NTWAzEt2dvbs2bNnzJixffv2c+fOQZMTJ07MmzfP19f3t99+++mnnxiGgWbS0tICAgK+/PLLH374gWXZiIiIjIyMt9566/3337958+a6deusrKzA5OLFi2PGjMnKyurXr9+9e/e2b9+uMgkKCoIXD0UIAYQQ+nc7fvz4/Pnz3d3dc3Jy1Gr1nTt3+vfvHxwc7OzsfPLkyZ9++mnIkCHQTEmtxNXb/+rVq1U3b3Tp1PHhg7tSaysHxz439FfLigsde/S062Bz7o/TPkNe2vt7Knk5IvXQEQsb20dGo+8rr7a373lKm1pz6jgZGw4vmIsXL7777rteXl6HDh3avXv3gwcPhg8f/uqrr3bs2FGn0x08eHDkyJHwlPz8/BkzZvj7+3/zzTf5+fmenp4jRowIDQ09e/asUqm0t7eHZrRa7YQJE5YtW5aUlHT9+nVATU6fPj1x4sTw8PD8/Pyff/65rKzM0dFxwoQJHh4e6enpO3bsuHbtWnh4OLSUm5s7derUiRMnpqWl6XS6QYMGOTo6vvXWW3fu3Pn0009tbW2hpdzc3DfffNPT03Pfvn21tbWAzFFxcfHs2bMZhtm5c+fvv/9eX1/v4eERFRVlZ2eXnp6uVqtHjBgBT8nJyYmJiRk6dKhKpbp169bgwYN9fHy8vb2zsrI2btzYo0cPMNFqtfb29jdu3GhsbPzkk0/eeeedpUuX1tfXwwuJIoQAQgj96+Xm5gYGBrq7u9va2hpN9Hp9dnb2uXPnRo8eDS3tTc926D/QnrY3gLGivKyyVARDo9zBwalPb2tLy1s3KktLxEc1NSQqfN9BzStRYQCw96DQa7i7b+S4q7funEg9APoSAAMZGw4vmFOnTgUGBvr4+BiNRoPBIJVKRVHMzMzMz88PDAyEv3Dy5MnRo0c7Ozs/ePCgoKBg9OjREyZM2LVrF8/zHh4e0IwgCBMmTIiOjk5KSqqoqADUTG5urkKh8PX1tbOzq6urq6+vf/DgQXp6+oULF3x8fOAv5Obmuru7Dx8+vKGhobS0VCaTLVq0KDc3d8WKFW5ubtDMyZMnx48f7+DgsHfv3j/++EMikbi4uPTr1w+Q2cnLyxszZoy7u3tjY6NEImloaCgqKjp27FhRUVFgYCD8hVOnToWGhtI0/fDhw4qKirCwMH9//3379iUnJ48cORKapKamRkRE/PHHHxs2bHBycvroo49omoYXEkUIAYQQQgCCIMjl8s6dO0ul0idPntwxiYiIgKfs/V0NllaWVlZGgIb6JyQ8BAD2Hky1at8ejMa62loSFQEm+w6kGQ0G8nLkXm2mT+Q45+HuR07+ce3sqa4WYHh4bzTjDi+e9PT07t27d+7cGQAePnxYVVX16NGjsLAw+DMnTpwYOHBgeXn5tWvXOnXq1NjYaGlpmZSU1L9//7i4uAMHDoSGhkIzgiBMnDgxOjp68+bNZWVlgFoSBEFuYmVl9eDBg5s3b9bU1ERERMBTNBqNTCZzcnKqra29cuWKhYUFAEgkklWrVk2cODEpKWnr1q2jRo2CJnl5eaNHj+7cufPRo0d79+4NAFeuXImKitq8eXN4eDggs5ORkdG1a9du3boBwIMHDyoqKgICAuAvXLhwwdXV9eLFizU1NVKptL6+3tnZOTo62sHBgef5Xbt2jRkzBlq6fv26SqUqKyv78MMPPT094YVEEUIAIYTQf8HeA2owAhkXCQAHT5x+Zcq0Bmn7g7rDHQxP+nSxvXalYPTIYfCiUqvVABAZGQl/raCgYObMmV5eXr/++mtZWRmYWFlZrV69+tixY5s3b3Z2doaWdDrda6+9tmzZso0bN16/fh3QX0hNTY2IiIC/lpeXN2nSpLCwsIsXL37++ecjRowAgOvXr/M8//Dhw1WrVnXp0gWaXL58edy4cc7OzlevXr127VpdXZ1UKnVxcbGzs1u+fHlYWBgg86VWqyMjI+GvnTlzZsGCBf7+/t99993Vq1fBpGvXrnPnzj116hTP846OjtCSRqOJiorasGHDt99+y3FcZGQkvJAoQggghBB6Ruq9eykACsAIEEEItGb/8VNjX3/TYNn+/OViq/pHdfduXb10gQSMgrbswYMHS5cu7dy5c1JS0r179wCgvLx8+fLllpaWW7duzcjICAoKgibnz58fMmSIg4PDyJEjx4wZo9VqDx069OjRo9TU1PDwcEDPSK/Xz5s3b+TIkXv27ElKSvL3909PT1+zZs3w4cO//vrr/fv3+/n5gckff/wxbdq08ePHd+jQ4d69ew0NDRKJxNLS0srK6vfff1+zZk1YWBigf7GysrINGzZ07do1Nja2trYWAMrKypYsWSKVSr/88ssjR46EhIRAS+np6bNnz54/f/4777zTvn17eFFRhBBACCH0XNR790YSAn/DXkHnMMjVvrdjbb3xVkVpVbn4sq8vtHGVlZXTp083GAy//PLLtWvXunfv/vrrr8tksl27dh09ejQgIACaqNXqfv36DR06VCaT2draduzY8fbt248ePXr8+PFvv/0WFhYG6Bldvnz5jTfe6NWrl1qtzs/Pt7Oz8/b2Dg4OTk1N3bNnD8Mw0OTMmTMhISEDBw6EZiiKMhgMGo2mY8eOgP7dRFGcP3/+o0ePdu7cWVlZ6eLiEh4ebmdnd/DgwczMTD8/P3jKqVOnoqOjvby8XnnlFQ8PD3hRUYQQQAgh9N+3V6PpKLOnJO3uVd8gwaOh7cvOzvby8urfv/+dO3ekUmnHjh1tbW1PnTp19OjR0NBQaEmn03Xq1MnCwgIAjCaWlpYGg2HkyJGAnt3hw4fd3d0HDRr0+PFjo9HYyUQURZ1OxzAMNCMIQufOnaVSKQBIJBKKooxGIwAYDIaampqgoCBA/27Z2dn+/v4ODg43b96USCT29vZWVlYnTpw4efJkYGAgNBEEwdraur6+Pjg4uLCwMDk5uaysbPbs2aGhofCiogghgBBC6H9i7341GCXk5XAwF5mZmQMGDLCxsZFIJPX19deuXauoqAgPDwf035eRkdG3b1+ZTCaRSBobG2/dulVSUhISEgIIPaOcnBxnZ+cOHToAwJMnT8pNIiIioIlarXZ3d/fy8rpw4UJBQcG4ceOmT5/+xRdfVFdXwwuMIoQAQgghhBBCf0GtVk+YMGHatGlnz54tKCjw8fG5c+fO1q1bhw8fDi8wihACCCGEEEII/bVr164FBQVJpdL79+9XV1cfP37czc0NXmwUIQQQQgghhBD6jwRBsLa2NhgMo0ePhraAIoQAQgghhBBC5oUihABCCCGEEELmhSKEAEIIIYQQQuaFIoQAQgghhBBC5oUihABCCCGEEELmhSKEAEIIIYQQQuaFIoQAQgghhBBC5oUihABCCCGEEELmhSKEAEIIIYQQQuaFIoQAQgghhBBC5oUihABCCCGEEELmhSKEAEIIIYQQQuaFIoQAQgghhBBC5oUihABCCCGEEELmhSKEAEIIIYQQQuaFIoQAQgghhBBC5oUihABCCCGEEELmhSKEAEIIIYQQQuaFIoQAQgghhBBC5oUihABCCCGEEELmhSKEAEIIIYQQQuaFIoQAQgghhBBC5oUihABCCCGEEELmhSKEAEIIIYQQQuaFIoQAQgghhBBC5oUihABCCCGEEELmhSKEAEIIIYQQQuaFIoQAQgghhBBC5oUihABCCCGEEELmhSKEAEIIIYQQQuaFIoQAQgghhBBC5oUihABCCCGEEELmhSKEAEIIIYQQQuaFIoQAQgghhBBC5oUihABCCCGEEELmhSKEAEIIIYQQQuaFIoQAQgghhBBC5oUihABCCCGEEELmhSKEAEIIIYQQQuaFIoQAQgghhBBC5oUihABCCCGEEELmhSKEAEIIIYQQQuaFIoQAQgghhBBC5oUihABCCCGEEELmhSKEAEIIIYQQQuaFIoQAQgghhBBC5oUihABCCCGEEELmhSKEAEIIIYQQQuaFIoQAQgghhBBC5oUihABCCCGEEELmhSKEAEIIIYQQQuaFIoQAQgghhBBC5oUihABCCCGEEELmhSKEAEIIIYQQQuaFIoQAQgghhBBC5oUihABCCCGEEELmhSKEAEIIIdR2qNXqvn372tjYSCQSADAYDBITALCwsJBIJAaDoaGhoa6urqioKCwsDP6eysrKl156qUuXLgDQ2Nj44MGD/Pz8c+fOhYSEwF84efKkra1tQ0NDY2OjVCqlKMpgMACARCIxGo2NjY0URVlaWhoMBgAwGAyPHj3y9vaGP5Oent67d28bG5uGhgYAkEqlAGA0oSjKaDQaDAaJRPLgwYOKiorg4GBACLWGIoQAQggh1Hbk5eW99957gwYNkkqlFEUZjUaKoiQSCUVREomEoiijyY0bNxISEpydnaE1Go0mLCzM09Pz1q1bd+/effLkSfv27R0dHbt3756VlZWamqpQKOApGRkZb7zxhpeXF0VREonEwsLCaDTW1dU1NjYajUYAkJhYWFhIJBJLS0uj0ZiVlVVeXg5/pri4eMaMGW5ubnV1dRKJRCqVAoDBYDAajWDS0NBAUdS5c+d++umnfv36AUKoNRQhBBBCCKG2QxTFxMREb29viqIaGhokEonRxMLCwtLSEgAMBoNEIrl69eqMGTPkcjn8R1qtNjAwcPr06enp6RqN5v79+w0NDZaWlk5OTq+//vqAAQPUavVvv/3m4+MDLaWlpSkUij59+owdO3b06NGNjY179uw5f/58XV1dY2MjAEilUgsLi/bt2zs4OPj7+7u4uPz6669z5swJCwuDp9y8eZPjOF9f3/r6eqPRaGFhAQAURYEJRVEWFhZSqVSj0Xz22WcymQwQQq2hCCGAEEIItR16vX7z5s3e3t5VVVUXL168e/euhYWF0WiUSCSWlpYA0NjYSFFUVVXV+vXrXVxc4D+6fPnysmXLAgMDV6xYcffuXWimpqZm0aJFFhYWiYmJ1tbW8JS0tDSpVBofH//uu++WlpYuXbo0PT29vr7eYDAAAEVRAGBtbW1vbz9hwoS5c+fu3bt3/vz5ERER8JSioqKpU6cOHjy4oaHBaDRSFAUARqMRTDp16jRixIiuXbump6fHxMR07doVEEKtoQghgBBCCLUdpaWlmzdv9vb2Pn78+FdffXXp0iWJREI1MZpQFPX48eMrV66EhITAX0tNTfX29l63bp2jo6NSqayoqIBmDh06tHTpUkLIrl27EhMTAwMD4Sm5ubkpKSnjxo1LS0tbuXJl37594c9cu3YtOTn54MGDFy5cgD+TkZHh4ODQsWNHg8EATYwmBoPBxcVl4cKFI0eO1Ol0SqVSJpMBQqg1FCEEEEIIobajpKQkJSXFx8cnNTWV4ziapuEfKCoqmjJlip2d3fbt23v27Akt2dvbL1iw4NKlS0ql0tHREZ5SWVm5ZcsWNze3L774Yt26dSNGjIA/c/78+eTk5F9++eXOnTvw7IqKipKTkwMCAgRB4DhOLpcDQqg1FCEEEEIIobZDFMWUlBSGYdLS0jiOs7e3h38gLS2tS5cuVlZW1dXVdnZ2VlZWFEU9efKkurp6zJgxnTt3XrZsWU1NTUxMjJWVFTylU6dOa9as6dSpk1Kp/PJMhUw/AAAgAElEQVTLLwMDA8HkxIkTvXr1unHjxsiRIwEgLy8vNjZ227ZtHTt2hGdXVFSUnJwcEBAgCALHcXK5HBBCraEIIYAQQgi1HaWlpSqVimGYtLS01atX9+jRA/6x/Pz8YcOG2dvbW1hYGAyGJ0+enDt37uLFi6+//vry5cvv378fExPT2NgIT/Hw8Jg/f/6NGzcWLVpkNBqhSUNDg6+vb2pqateuXQEgKytr/Pjxqamp7u7u8OyKioqSk5MDAgIEQeA4Ti6XA0KoNRQhBBBCCKG2o7S0dPPmzQqFQqPRxMTE0DQN/8Dx48c9PT1fe+219u3b5+XlVVZW1tbW9uzZs3379seOHQsICJg5c2ZZWZlSqbS0tISnTJ48edKkSSdPnoyOjv7jjz8MBoOFhUWfPn0mTZrUtWvX9evXu7q6gsmRI0ceP34cHh4Oz66oqCg5OTkgIEAQBI7j5HI5IIRaQxFCACGEEGo79Hp9UlKSr6+vRqNZvXo1TdPwvPLz8994443x48eXlJQkJiaePHkyLCwMAFJTU1977bV+/foFBgZ6e3tnZmYqlcru3btDS2fOnNHpdP379z916tSuXbvu3LljaWnZsWNHhmEGDRqUmpr62WefjRo1Cv6xoqKi5OTkgIAAQRA4jpPL5YAQag1FCAGEEEKo7bh27drmzZt9fHwEQWBZlqZpeC6nTp2aNm3ahx9+eP78+WXLljk6OkIz58+fX7Bgweuvvy6TybZt2xYbGzt8+HBoyWAw7Nixw9bWVqPRFBUV1dbWWllZOTg4eHl5PX78+PPPP//2228jIyPhHysuLk5OTh41apQgCBzHyeVyQAi1hiKEAEIIIdR2XLt2bfPmzT4+PoIgsCxL0zQ8O51ON2HCBKVSSVHU8uXLHzx4AC1lZGSsWLFi1qxZEokkPj5+w4YNYWFh0JKPj8/ixYv1ev3MmTNPnDjR2NgYGhp6+vTp9957z9HR8YsvvpDJZPB/obi4ODk5edSoUVqtluM4mUwGCKHWUIQQQAghhNqOa9euJScnMwwjCMKqVat69OgBz664uPjTTz994403Tpw48cEHH/Tv3x9aysnJWbFixVtvvSWKIsdxBoMBWjpy5Mi33347bty41NTUOXPmDBs2DEyOHTs2a9YsOzu7TZs2eXt7A4BWq3V3d7e2tu7QoQM8l+LiYp7n/f39tVotx3EymQwQQq2hCCGAEEIItR16vZ7neYZhBEFgWZamaXh2tbW1LMsOHz78u+++i46O9vX1hZaKioo4jhszZsyBAwc+//xzBwcHaKm8vHzXrl2Ojo48z8fGxjIMAybHjh0LCAior6/XaDQREREAcObMmcWLF+fl5VVVVcFzKSkp4Xnez89Pq9VyHCeTyQAh1BqKEAIIIYRQ21FaWsrzvI+PjyAILMvSNA3PSK1WT5w4MSYmpmPHjjzPnz9/Hp5CUVRsbKytre369et37tw5atQoaEkqlW7dutXGxmbx4sXffPNNUFAQNNFqtQAQEhICADqdLjw8fOrUqUqlsk+fPvBcSkpKeJ738/PTarUcx8lkMkAItYYihABCCCHUdly9elWlUvn4+AiCwLIsTdPw7GxsbFavXm00GjmOu3//PrR0+PBhpVI5adKk1NTUxMTEfv36QUs6ne7TTz9dsWJFdXX1+++/r1arw8LC4ClqtdrT0/Ojjz4qLCw8ffo0PK+SkhKe5/38/LRaLcdxMpkMEEKtoQghgBBCCLUdV69e5XleoVAIgsCyLE3T8Ozq6upWr17dpUuXlStX1tbWQku2trYLFy68ffv2xo0btVptZGQktHTs2LGkpKTJkycfP3589uzZTk5O8GcKCgpmzZo1ZMiQ6OjoXr16wfMqKSnhed7Pz0+r1XIcJ5PJACHUGooQAgghhFDbcfXqVZ7nFQqFIAgsy9I0Dc8uPz9/7ty5kZGRu3fvjomJCQ4OBhNBEAIDAz/66COpVLpz584DBw74+/tDM4cPH7axsenXrx/P80OHDt2zZ8+qVasqKyuNRqNEIjEajRRFWVtbd+rUydnZOSIiws/PT6PRrF69esyYMfC8RFHked7X11en0ymVSplMBgih1lCEEEAIIYTajqtXr/I8r1AoBEFgWZamaXh2giD4+flNmzatZ8+eGo0mJyfn4cOH3bt3HzFixJAhQxoaGg4ePJienq5QKKCZc+fOhYaGOjo6Ojg4hIeHd+nSJTs7+/jx4w8fPgQACwsLo9EokUjat2/ftWtXJyenAQMGVFVVsSwL/4woijzP+/r66nQ6pVIpk8kAIdQaihACCCGEUNtRWlqanJysUCgEQWBZlqZpeC6HDx8eMmSIv79/3759a2pq6uvrbW1tLS0ti4uL//jjj7NnzwYFBUFLp0+f9vPz6927d3sTAHj06JHBYHjy5AllYjSRSqXW1tYdOnQwGo1XrlxJS0vz8PCAf0AURZVKpVAodDqdUqmUyWSAEGoNRQgBhBBCqO0oLS3led7Hx0cQBJZlaZqGfyA3N9fV1VUmk0kkkrq6uoqKivz8/KCgIPgLhw8fbt++vcFgMBqNjY2NUqlUIpE0NjZSFAUmRqMRTCiKMhgMtbW1Y8aMgX9GFEWVSqVQKHQ6nVKplMlkgBBqDUUIAYQQQqjtKC0t5Xnex8dHEASWZWmaBnMniqJKpVIoFDqdTqlUymQyQAi1hiKEAEIIIdR26PX65ORkHx8fQRBYlqVpGsydKIoqlUqhUOh0OqVSKZPJACHUGooQAgghhFDbodfrk5OTfXx8BEFgWZamafgbjh492qlTJ4lEQplIJBIwMRqN8B8ZjUb4v0NRFAAYjUaDwVBdXT1q1Cj4G0RRTElJ8fHx0el0SqVSJpMBQqg1FCEEEEIIobZDr9fzPM8wjCAILMvSNA1/w8OHD6OiouRyOQBQTQDAaDTCf2Q0GuEfMBqNAGA0GqEZiURy9+7dPXv25ObmBgcHQ2tEUUxJSfHx8dHpdEqlUiaTAUKoNRQhBBBCCKG2Q6/X8zzPMIwgCCzL0jQNf4NUKp0+fXqvXr2MRiPVxGhCUZTRaIQmFEVBM0ajEf4Zg8FgNAEAo9EIABKJ5O7du1988YVGowkMDITWiKKYkpLi4+Oj0+mUSqVMJgOEUGsoQggghBBCbYder+d5nmEYQRBYlqVpGv4GjUZjaWlpYWEhlUoNJhKJxGBiYWFhNBoNBoPRaKQoql27dgYTiqIkEgmYGI1GiqLguRibAICxCZg8fvw4MjISWiOKYkpKio+Pj06nUyqVMpkMEEKtoQghgBBCCLUder2e53mGYQRBYFmWpmkwd6IopqSk+Pj46HQ6pVIpk8kAIdQaihACCCGEUNuh1+t5nmcYRhAElmVpmoZ/4PTp0yNHjpTL5RKJ5NGjR1euXDl37lx4eDi8SERRTElJ8fHx0el0SqVSJpMBQqg1FCEEEEIIobZDr9fzPM8wjCAILMvSNA3P5dChQwzDvPHGG3V1dRUVFQaDoUePHk5OThcvXvzmm28GDhwILwxRFFNSUnx8fLRaLcdxMpkMEEKtoQghgBBCCLUder2e53mGYQRBYFmWpml4dpmZmaGhoQzDnD179tixY3fv3qUoql27du7u7nPmzKmoqNiwYYOTkxO8GERRVKlUCoVCq9VyHCeTyQAh1BqKEAIIIYRQ26HX63meZxhGEASWZWmahmdXWVk5Z84cOzu7devWyeVyaKJWq997771333338OHDPM+7ubnBC0AURZVKpVAotFotx3EymQwQQq2hCCGAEEIItR16vZ7neYZhBEFgWZamaXh27dq1Y1kWAJRKZW1tLTRTVFS0YcMGmUyWkJBw8ODB4OBg+P9NFEWVSqVQKLRaLcdxMpkMEEKtoQghgBBCCLUder2e53mGYQRBYFmWpml4djU1NVOmTHn8+PGOHTt69+4NzWRmZq5duzY8PHzHjh1btmxxd3eH/99EUVSpVAqFQqvVchwnk8kAIdQaihACCCGEUNuh1+t5nmcYRhAElmVpmoZnl5mZ2adPnydPnpSWlhoMBhsbGwB48OBBRESEVquNi4ubOnXqgQMH4uPjXVxc4P83URRVKpVCodBqtRzHyWQyQAi1hiKEAEIIIdR26PV6nucZhhEEgWVZmqbheeXl5Q0ZMkQul7dv3x4Arl+/npOT8/Dhw88//3zq1KmpqamxsbF9+/YFk5MnT7q4uFAUVVhY6O7uDi1lZ2fX1tYGBQXBf4EoiiqVSqFQaLVajuNkMhkghFpDEUIAIYQQajv0ej3P8wzDCILAsixN0/DsTpw44eXl5enp2alTp9LS0nv37gFA586d79y5c+HChaVLl4aHh+/bty8uLs7R0VGj0QwePNjDw6NPnz5dunS5devWjz/+6OLiAk1KS0sjIyP1er1Wq2UYBv6viaKoUqkUCoVWq+U4TiaTAUKoNRQhBBBCCKG2Q6/X8zzPMIwgCCzL0jQNz+jKlSsvv/yyQqGoqalJTU3Nzc29ffu2wWBwdnaOioqysbGJiooaOHDgzp07ExISXF1di4uLx44d265du8LCwsDAwLCwsLVr15aVlUETJyenefPmpaenx8fHDx48GP6viaKoUqkUCoVWq+U4TiaTAUKoNRQhBBBCCKG2Q6/X8zzPMIwgCCzL0jQNz+LixYtvv/32K6+8UlhYuGnTpi5dukAzFRUVMTEx3t7elpaWSUlJycnJ9+7dmzx5squr665du0RRXLJkybvvvrtp06Y//vgDTARBSExMnDRp0ubNmzdt2uTn5wcmarXa1tZWJpNZW1sXFhaGh4fD8xJFUaVSKRQKrVbLcZxMJgOEUGsoQggghBBCbYder+d5nmEYQRBYlqVpGv629PT0t9566+OPP66vr1+7du2PP/4YGRkJzQiC8NNPP4WFhVVXV69evXrnzp329vaTJk168ODBjh07Bg0atG7dOhcXF5Zlb9y4ASZnz57dsWOHs7PzokWLfv3118jIyIyMjN69e3fv3r1Hjx7Dhw+3s7NTKpUeHh7wvERRVKlUCoVCq9UqlUq5XA4IodZQhBBACCGE2g69Xs/zPMMwgiCwLEvTNPxtN27cWLly5ejRo3/++WelUjls2DBoSaPRfP/99+Hh4WfOnFm5cmWnTp1OnDjh6upaUVFRXl4+derU5cuXl5eXf/zxx927dweT+vr6pKSkGzduREdH29nZAUBhYWFERISLi4u1tfWwYcOsra3Hjh07ePBgeF6iKKpUKoVCIQgCx3FyuRwQQq2hCCGAEEIItR16vZ7neYZhBEFgWZamafjb+vbtu2TJEolEEh8ff/XqVXjK2bNnf/3118GDB3/xxRcbNmwYOXIkNDl//vzixYtff/31X375ZcmSJaNGjQITd3f3Tz75RKPRrF69ul+/fgBw5MgRmqYpipLJZAsWLHBzcxs7dqyrqys8L1EUVSqVQqEQBIHjOLlcDgih1lCEEEAIIYTaDr1ez/M8wzCCILAsS9M0/D25ubmLFi2aOXOmKIpxcXH19fXwFBsbm/Xr1z969Oijjz6ysrKCZm7fvq1UKgcOHBgdHV1dXQ0mR44c2bp1a2ho6JdffpmYmOjh4QHNFBQUfPbZZ4MHDx47dqybmxs8L1EUVSqVQqEQBIHjOLlcDgih1lCEEEAIIYTaDr1ez/M8wzCCILAsS9M0/D2nT59etWrVpEmTcnJy4uLiOnfuDC0dOXJk27ZtkZGRX3311Weffebl5QVN1Gr1+PHj4+Pjb926NWXKFFdXV7VaHRkZeeXKlW+//bZv374sy/7444+jR4+GZq5cuRIbG+vq6jp27Fg3Nzd4XqIoqlQqhUIhCALHcXK5HBBCraEIIYAQQgi1HXq9nud5hmEEQWBZlqZp+HuOHDkSHR09derU48ePx8fH29vbQ0t2dnYbN24sLS1dvHhxZmZmREQENBEEYerUqWvWrDlx4sTkyZMDAwOhSXJycnV19eLFi9PT0yMiIqCZoqIipVI5ePDgqKgoNzc3eF6iKKpUKoVCIQgCx3FyuRwQQq2hCCGAEEIItR16vZ7neYZhBEFgWZamafjbpFJpdHT0kydP1qxZI5FIoJnq6uqEhISOHTsuXrw4PT09JCQEWrKxsYmPj8/Ly5s8eXJwcDAA5OTkJCUljR8/XqfTLV68uH///tBScXFxTEzM4MGDo6Ki3Nzc4HmJoqhSqRQKhSAIHMfJ5XJACLWGIoQAQggh1Hbo9Xqe5xmGEQSBZVmapuFvO3bs2DvvvDNx4sSLFy/yPJ+XlyeRSLp06RIcHPzee+81NjampKQIgjB69Gh4yo0bN1asWNG/f//o6GitVuvo6Pj++++//PLLPXv2jI+PT0pK8vb2hpZKSkpWr149ePDgqKgoNzc3eF6iKKpUKoVCIQgCx3FyuRwQQq2hCCGAEEIItR16vZ7neYZhBEFgWZamaXgWZ8+ejYyMDAwMBABRFOvq6rp162Zra6vX63/55ZfCwsLg4GD4MxqNJigo6LXXXrOxsbly5Uq7du2ePHkyffr0Tp06TZs2TaPRhIaGQkvFxcVKpXLo0KERERGurq7wvERRVKlUCoVCEASO4+RyOSCEWkMRQgAhhBBqO/R6Pc/zDMMIgsCyLE3T8Iyys7P79+/v4OBgbW1tMBjq6uqqqqoKCws9PDzgL6SlpXXp0sXKpF+/fgBQU1Pj4eGxfv36s2fPzpo1y9nZGZ5SWFgYExMzYsSI0NDQIUOGwPMSRVGlUikUCkEQOI6Ty+WAEGoNRQgBhBBCqO3Q6/U8zzMMIwgCy7I0TcNzEQTB2traaDQ+efIkNDQU/lpmZmZYWFhwcPDly5e/+uqrgIAAjUZD03RCQkJkZOT69es3bNgQEBAATykrK1u9evXAgQMnTJjQr18/eF6iKKpUKoVCIQgCx3FyuRwQQq2hCCGAEEIItR16vZ7neYZhBEFgWZamafgvKyoq+uSTT0JDQw8ePLhixQpfX99Dhw7NmjVryZIlOTk5cXFxPXr0gGYyMzNHjBjRv3//vn37jhs3rlu3blu3bhVF8d69e5mZmb6+vvCMRFFUqVQKhUIQBI7j5HI5IIRaQxFCACGEEGo79Ho9z/MMwwiCwLIsTdPwX1ZYWDh37tzhw4fv27dv//791tbWnp6e48ePv3v37tatW7Ozs0NCQqCZnJwcDw+PAQMGWFlZderUycrKqqqqqra29uHDhxqNxsvLC56RKIoqlUqhUAiCwHGcXC4HhFBrKEIIIIQQQm2HXq/neZ5hGEEQWJalaRr+yzIzM0NCQjw8PG7fvv3w4UM7O7vu3bvfu3dv3759586di4iIgJbUarWdnV379u0bGxsbGhooirKysqJMbty4ERYWBs9IFEWVSqVQKARB4DhOLpcDQqg1FCEEEEIIobZDr9fzPM8wjCAILMvSNA3/fVlZWQMHDuzVq5eNjc3Dhw8rKyuLioo8PT3hf0IURZVKpVAoBEHgOE4ulwNCqDUUIQQQQgihtkOv1/M8zzCMIAgsy9I0Df9DGo0mLCwM/rdEUVSpVAqFQhAEjuPkcjkghFpDEUIAIYQQajv0ej3P8wzDCILAsixN02DuRFFUqVQKhUIQBI7j5HI5IIRaQxFCACGEEGo79Ho9z/MMwwiCwLIsTdNg7kRRVKlUCoVCEASO4+RyOSCEWkMRQgAhhBBqO/R6Pc/zDMMIgsCyLE3TYO5EUVSpVAqFQhAEjuPkcjkghFpDEUIAIYQQajv0ej3P8wzDCILAsixN02DuRFFUqVQKhUIQBI7j5HI5IIRaQxFCACGEEGo79Ho9z/MMwwiCwLIsTdNg7kRRVKlUCoVCEASO4+RyOSCEWkMRQgAhhBBqO/R6Pc/zDMMIgsCyLE3TYO5EUVSpVAqFQhAEjuPkcjkghFpDEUIAIYQQajv0ej3P8wzDCILAsixN02DuRFFUqVQKhUIQBI7j5HI5IIRaQxFCACGEEGo79Ho9z/MMwwiCwLIsTdNg7kRRVKlUCoVCEASO4+RyOSCEWkMRQgAhhBBqO/R6Pc/zDMMIgsCyLE3TYO5EUVSpVAqFQhAEjuPkcjkghFpDEUIAIYQQajv0ej3P8wzDCILAsixN02DuRFFUqVQKhUIQBI7j5HI5IIRaQxFCACGEEGo79Ho9z/MMwwiCwLIsTdNg7kRRVKlUCoVCEASO4+RyOSCEWkMRQgAhhBBqO/R6Pc/zDMMIgsCyLE3TYO5EUVSpVAqFQhAEjuPkcjkghFpDEUIAIYQQajv0ej3P8wzDCILAsixN02DuRFFUqVQKhUIQBI7j5HI5IIRaQxFCACGEEGo7CgsLExISGIY5dOjQ2rVre/fuDeausLBw3bp1Xl5e6enpGzZs6NGjByCEWkMRQgAhhBBqO86fP79q1SoPD4+srCye552cnMDcXbx4MTo6evjw4bm5uVu3bu3Tpw8ghFpDEUIAIYQQajsKCgpiY2O9vb0zMzPXr1/fp08fMHeXLl3iOM7b2zsrKyspKalHjx6AEGoNRQgBhBBCqO24evWqSqXy8fHRarWrVq2iaRrMXVFRUUpKip+fn1ar5ThOJpMBQqg1FCEEEEIIobajpKQkOTnZ399fq9WyLGtvbw/mrrCwcMuWLX5+fmlpabGxsd26dQOEUGsoQggghBBCbUdJSUlycrK/v79Wq2VZ1t7eHsxdcXGxSqXy8/PTaDSxsbFyuRwQQq2hCCGAEEIItR0lJSXJycn+/v5arZZlWXt7ezB3JSUlKpXK19dXEASO4+RyOSCEWkMRQgAhhBBqO0pKSpKTk/39/bVaLcuy9vb2YO5EUeR53tfXV6vVchwnk8kAIdQaihACCCGEUNtRUlKSnJzs7++v1WpZlrW3twdzd/Xq1eTkZF9fX61Wy3GcTCYDhFBrKEIIIIQQQm1HSUlJcnKyv7+/VqtlWdbe3h7MnSiKycnJfn5+giDExsbKZDJACLWGIoQAQggh1HYUFxfzPO/v76/ValmWtbe3B3MnimJycrKfn58gCLGxsTKZDBBCraEIIYAQQgi1HcXFxTzP+/v7a7ValmXt7e3B3JWUlPA87+fnJwgCx3FyuRwQQq2hCCGAUBO1Wk1RFPwZo9EYGRkJCCHUJDU1laIoMDEajQBgNBrBJDIyEv5riouLeZ739/fX/j/24AMqirtfGPBvWCyACivgYMMyNlRU6oiwDE0QjMmYa2KJscRYY2If41IWWVTE6NIWRsaWpokxxrzqMuzAgljAjuAgAoti7xUVBHa/c/YcztGTGEJy+V6v/J9HEBQKBY7j8K6rrKxMSUmRyWSZmZmxsbF2dnaAIEhTMJqmAWn1bty4IZPJOnXqZDQaMRMzMzOj0djQ0GBmZoaZNDQ0FBcX19fXA4Igrdjp06f9/PwIgjAajWYmGIYZjUaDidFoxDBMIpGUl5dnZ2d7enpCC9Dr9Wq1WiaTCYKgUChwHId3XWVlZUpKio+Pj1arjY2NtbOzAwRBmoLRNA1Iq9e5c+eFCxd27drVzMzM3NwcMzEYDPX19WZmZhKJxMzMrK6ubu/evYsXLw4JCQEEQVqra9euLVu2LCgoyGg0YiZmZmYAYDQaDQZDfX09ALRt2zYzM1OpVA4cOBBagF6vV6vVMplMEASFQoHjOLzrKisrU1JSfHx8tFptbGysnZ0dIAjSFIymaUBavZ49ezIM071794cPHz558sRoNGIYBiYYhpmZmWEYVldX9+uvv4aHh4eFhQGCIK3V5cuXv/zyS39/fzAxGAxmJkYTDMPs7e2trKx4nmcYhiAIaAF6vV6tVstkMkEQFAoFjuPwrqusrExJSfHx8dFqtbGxsXZ2doAgSFMwmqYBafV69Ojx9ddf29nZZWZmHj58+MmTJxKJxGg0mpmZgYnRaDQYDBcuXOjcuTMgCNKK5efnu7m5OTo6YhhmNBobGhowE6PRaDAYbG1tp02bNnjwYJ7nV65c2bdvX2gBer1erVbLZDJBEBQKBY7j8K6rrKxMSUnx8fHRarWxsbF2dnaAIEhTMJqmAWn1unfvHh4e3qlTp6SkpC1btly/fh3DMDAxmoSFhWk0mrCwMEAQpNXTaDSYCQAYjUYwCQ0NBYDS0lKO43x8fHieZxiGIAhoAXq9Xq1Wy2QyQRAUCgWO4/Cuq6ysTElJ8fHx0Wq1sbGxdnZ2gCBIUzCapgFp9bp16xYeHm5tbZ2QkMCyrLu7OyAIgjTfhQsXtmzZ4uPjw/M8wzAEQUAL0Ov1arVaJpMJgqBQKHAch3ddZWVlSkqKj4+PVquNjY21s7MDBEGagtE0DUir17Vr1/DwcGtr64SEBJZlPTw8AEEQpPlKSkq2bNkik8l4nmcYhiAIaAF6vV6tVstkMkEQFAoFjuPwrqusrExJSfHx8dFqtbGxsXZ2doAgSFMwmqYBafVwHI+MjOzUqZNKpUpPT/fw8AAEQZDmKykp2bJli0wm43meYRiCIKAFVFZWpqSkyGQyQRAUCgWO4/Cuq6ysTElJ8fHx0Wq1sbGxdnZ2gCBIUzCapgFp9XAcj4iIsLa23rRpE8dxHh4egCAI0nwlJSVbtmyRyWQ8zzMMQxAEtAC9Xq9Wq2UymSAICoUCx3F411VWVqakpPj4+Gi12tjYWDs7O0AQpCkYTdOAtHo4jkdERFhbW2/atInjOA8PD0AQBGm+kpKSLVu2yGQynucZhiEIAlpARUVFWlqaj4+PVqtVKBQODg7wrquqqkpKSvLy8srMzFy7dq29vT0gCNIUjKZpQFo9HMcjIiKsra03bdrEcZyHhwcgCII0nyiKW7dulclkPM8zDEMQBLSAioqK1NRUmUym1WqjoqK6du0K77qKiorU1FSZTJaZmRkbG2tnZwcIgjQFo2kakFYPx/GIiAhra+tNmzZxHOfh4QEIgiDNJ4rili1bfH19eZ5nGIYgCGgBJSUly5Ytc3NzKygoYFm2X79+8K4rLi5euXLliBEjjkzAyTUAACAASURBVB8/vnXr1t69ewOCIE3BaJoGpNXDcTwiIsLa2nrTpk0cx3l4eACCIEjziaLIcRxFUTzPMwxDEAS0gPPnz8fFxVEUpdPp1q9f7+joCO+60tLStWvXenp65uXlJSYmdu3aFRAEaQpG0zQgrR6O4xEREdbW1ps2beI4zsPDA/4eQRAAYPTo0QCg0WjCwsLg78nKympoaAgJCYFWQBAEiUQSEBAAzZSRkREaGgpI65ORkREaGgrNlJ2dXVtbGxYWBv89oihyHEdRFM/zDMMQBAEtoKysLDk5OSAgIDMzU6FQdO3aFd515eXlCQkJFEXpdLo1a9bY2toCgiBNwWiaBqTVw3E8IiLC2tp606ZNHMd5eHhAUwoLC/39/YcMGSKRSI4fPy4Igkwmg9dpNBqSJGtqarp37w6N8vLygoKCXFxcLly4oNFofHx84N1VUFDg6+vr4uLSpk2bU6dOZWVl+fj4wOsyMjLc3Nxqa2srKir8/f3B5NixY76+vs7OzmVlZZmZmT4+PoC0DkajceTIkZaWllVVVQcPHnRycoLXZWZm9unTp3v37qdOnaIoChrdv38/KCjo9u3bWq126NCh8F8iiiLHcRRF8TzPMAxBENACysvL09LSZDJZdnZ2RESEg4MDvOtKS0tTU1P9/f2zs7NXr15ta2sLCII0BaNpGpBWD8fxiIgIa2vrTZs2cRzn4eEBf0kUxUmTJrVv3/7OnTtubm6Ojo4HDhz4/vvvvby84BXm5ubLli2rrKz8+uuv3dzcwOT58+fLly93d3c/duzYhg0bpFIpvKPKysrGjx/foUOHGzduDBkyxMnJief5HTt2kCQJr5BIJIsWLaqsrPzmm2/69esHJtXV1cuWLfP09Dxz5kx8fLyVlRUg7zqdTjdhwgQvL6/CwkIcx4ODg/Pz87dt20YQBLzi1q1bixYt6tmzZ2JiYl1dHZgcP348Pj4+KCjo/v37SUlJe/bs8fX1hf8GURQ5jqMoiud5hmEIgoAWUFZWlpqaSlFUdnZ2ZGQkjuPwrrtw4UJqampAQIAgCDExMXZ2doAgSFMwmqYBafVwHA8PD7exsdm0aVN6erqnpye8WV5e3hdffGFlZaXVasvKyqZNmzZ37tzy8vLY2FgbGxtodOzYsfj4+OnTpx89enTmzJlDhgwBk7Zt28rl8uHDh1+4cGHdunVPnz6Fd1F+fv6cOXOsrKxycnLKyspoml64cOG1a9diY2OtrKygEc/zarV6+vTpx44dW7JkSc+ePcHEYDCEh4d7enpWVVWtW7fu9u3bgLzTMjIywsLCaJreu3dvQUGBu7v7unXr2rVrt2HDhj179vj5+YFJdnb21KlTFQoFAERGRt69exdMRFFMS0uTyWS1tbVqtTo1NdXNzQ3+G0RR5DiOoiie5xmGIQgCWkB5eXlKSoqfn59Op4uIiMBxHP6XCIIAAAaT0NBQeGtcvHgxJSUlICBAq9XGxMTY29sDgiBNwWiaBqTVc3BwkMvlNjY2mzZtSk9P9/T0hDerq6ubMGHCnj17cnNzMQxbtGjR4sWLb926tXr16vr6emhUWVn57bffjhgxYu/evYsWLXJ3dwcTvV7/1VdfTZo06c6dO+vXr79z5w68i+rr68eOHavVajMzM83NzWfPnr1s2bLHjx+vXbv26dOn0Ki4uHjXrl0eHh6//PJLZGSkk5MTmFRUVMydO/fTTz99+vTp+vXrr127Bsg77fTp0+Hh4VeuXElISAgODjYYDPHx8T169IiPj09PTx85ciSYnDlzZunSpfPnz798+fJXX31lYWEBJrm5uV988cVnn31ma2ubnp6ekpLi6uoK/w2iKHIcR1EUz/MMwxAEAS2gvLw8JSXFz89Pp9NFRkZ26dIF/rXDhw87Ozv37t27Y8eOAGAwGJ4/f15ZWVlcXOzr6wtvcPr06Y4dOxqNRoPBgGEYABiNRswEADAMAxOj0WgwGIxGY01NjaurKzRfeXl5cnKyv7+/VquNiYmxt7cHBEGagtE0DUir5+DgIJfLbWxsNm3alJ6e7unpCW82atSourq6zZs3u7q6lpSUfP311xMnTiwqKlIqlW3btgUTjUYTGhq6bdu2zp07b9iwYc2aNf7+/mCi0WjGjh27YsUKqVQaFxf3+PFj+DN5eXk1NTXBwcHwNxw6dKi+vr62tjYsLAzeAhqNRqFQNDQ0/Pjjj05OTkVFRUuWLJk2bVp5eblSqcQwDBo9e/aM47ju3burVKqEhARPT08wycrKCggIWLZsWbdu3dasWfPo0SN4hVartba2btu2bU1NzYsXLwICAuBvOHToUENDQ0BAACBvGUEQRo8ePXfuXIVC0a1bNwDo16/fypUrMQyLjY397rvvfH19weTy5cvR0dEffPDB4cOHP//888GDB0MjvV4fFRXl5eW1Y8eO1NRUT09PeIOcnBwAePHiRVhYGLyBVqs1NzcPCAiAZhJFkeM4iqJ4nmcYhiAIaAFlZWVqtdrPz0+n00VEROA4Dv9OVlbW+++/P2zYsFu3btXU1Lx48cLS0rJ3795SqfTUqVOZmZkuLi7wBzqdLjQ01MnJSSqVduzYUSKRPHz48MmTJwaDAcMwMDE3N2/fvr2VlZWFhQUAnDx5Mj09PSwsDJqpvLw8OTnZ399fq9XGxMTY29sDgiBNwWiaBqTVc3BwkMvlNjY2mzZtSk9P9/T0hDc4fvx4QkLCf0wCAwNfvnwpl8tdXFz27dsXFxdHEASY6HS6efPmxcXF1dTUfPXVVz/88MOYMWOg0enTp1esWOHi4rJ+/Xpzc3NopNFo2rdv37lz5xEjRhAEkZubK4rimDFj4A0EQbCxsenbt6+np2dhYeHJkycDAgLgLXD69GmlUnno0KH//Oc/MpmsurqaYZhRo0YJgqBQKPr27QuNevToERMTI5FIVq1atWvXLoqioFFhYeH8+fP9/f1Xr17dpk0bMMnKynJ3d+/Vq1fXrl3btGmDYVh1dbVery8pKbl+/XpwcDD8QWZmpp2dXb9+/VxdXYuLiwsKCgICAuBtcvz4cScnp06dOl25cqW0tDQ4OBiacvz4cScnJysrq6qqKr1eP3r0aGhKQUHB4MGDO3TocPny5bKysjFjxsBb4/jx4wsWLOjSpcvixYtDQkJyc3PT0tLGjx9/9uzZ6OhoCwsLMMnIyKAoav369c7Ozj/88MP8+fNDQkLgFc7Ozh988MFPP/20fft2mUwGf6awsPDDDz9s165dRkZG79694XUZGRmdOnXq3bu3q6vrixcvnjx5As0kiiLHcRRF8TzPMAxBENACLl68mJqa6ufnl5WVFRkZ6eDgAP+CIAj+/v4zZ848evTo/v37Hz9+/OzZM0tLy8GDB0+YMKFfv34ZGRm//PILSZLwOkEQSJLs06fP+++/7+vr29DQsHfv3nPnztXW1mImRqNRIpF07Nixa9euMpnM2dl59+7dc+bMGTNmDDRTeXl5cnKyv7+/VquNiYmxt7cHBEGagtE0DUir5+DgIJfLbWxsVCrV5s2bPT094Q1OnDgxY8aM/fv3EwQBAP369Vu8eLGZmZlarWZZViaTgUl+fr5SqZw9e3ZlZeXnn39ubW0Nr8jKypo3b56np2d8fHyPHj0AIDs7e8iQId26dZNKpd26dQsJCbGxsYmLi9u/f7+/vz+8TqPRDBo0qHfv3jY2Nvb29l5eXi4uLps3b+Y4jqIoeAsUFRW9//77eXl5jo6OANCtW7cVK1ZYWFhs3br1m2++oSgKTDIzMzdu3DhnzpyrV69+8cUXOp1uzJgx0Cg7O3vGjBlhYWFRUVHdu3cHgIKCgpCQEGdn5/r6+pcvXxoMBgcHhz59+kgkkjNnzvznP/85efJkaGgoNLp06VKvXr06duzYvXt3kiRHjBixbdu2LVu2eHl5wVsjOzt7woQJH330ka2t7YkTJ7Zv3+7o6Ah/SafTjR8/fsqUKTY2NgUFBd9++62joyP8pUOHDo0bN+6TTz6xsbE5duzY1q1b+/XrB2+No0ePTpgw4erVq+bm5gDw8OHDzZs3EwTBsuyGDRtcXV3BJCsra+LEifHx8RKJJDY2tqKiAl7XvXv34ODgXbt2/f777yEhIfBnamtrExMT6+vrw8PDeZ4PCQkBk7Nnzw4aNEgqldrb2w8bNszX1/fs2bM//fQTNJMoihzHURTF8zzDMARBQAsoLS1NTU319/fPysqKjIx0cHCAf6GkpCQqKoqiqOXLl9fW1sIrbt++vWrVqnbt2iUkJLRr1w7+TFZW1vr162fNmnXp0qUVK1bk5OQ0NDRgGAYmRqPR3Nzc3t5+woQJS5cu1Wg0CxYsCA0NhWYqLy9PTk729/fXarUxMTH29vaAIEhTMJqmAWn1HBwc5HK5jY2NSqXavHmzp6cnvIFGo8Fx/P79+8HBwSdPnly7du3HH3986tSp+Ph4rVYbGhoKJufPn+c4zs/PT6fTzZ07d+jQofCKo0ePzpgxo0ePHhs3bnR1dQWAkydPTp48edCgQc+fP7ewsKBpura2NjIy8rfffvPz84PXZWdnf/jhh15eXvX19XV1dePGjbOzs4uPj09NTfXz84O3QFZWllQqvXfvXkhIyMmTJ1etWjV9+nRRFNetW4dhGDQ6duzYnj17ZDKZTqf76quv+vfvD6/Iy8ubPn36iBEjoqKiXFxcAEAikXzyyScZGRn5+fk3b95saGiws7MLDAycNm2ao6Pj/v37U1JSBgwYAI2kUqmnp+eLFy8wDAsODu7atWtCQgLHcSRJwlvj9OnTUVFR06dPb9OmTUlJydq1a589ewZ/qbi4+Ouvv/7ss8/MzMwuXry4Zs2ap0+fwl8qLS1lGGbmzJkAUFJSEhsb++LFC3ibHD9+vLq6OjAwEADc3NwWLVpUU1OzfPnyn376KSwsDExOnjy5ePHi5cuX6/X6efPmdejQAV7Xr1+//v37f/vtt126dIE3uHXr1sKFC69fv/7999+XlZWFhYWByePHj8eOHWthYdHQ0DBw4EB/f//ff//9xx9/hGYSRZHjOIqieJ5nGIYgCGgBpaWlaWlpfn5+WVlZkZGRDg4O8E9pNBpPT88NGzb069cvOjr6+vXr8IqMjIxVq1Z99NFHu3fvVqlUAQEB8AfHjx/fvHnzuHHjMjIy5HJ579694c9cunQpKSkpJyensLAQmq+8vDw5Odnf31+r1cbExNjb2wOCIE3BaJoGpNVzcHCQy+U2NjYqlYplWZIk4W+oq6uLiYkZMmQIx3HffPONi4sLNHr06NHu3bvt7e03btwYFRUVHBwMr6isrJw4ceKDBw9Ylh09ejQA5ObmDhs2rG3btqWlpc7OziqVqlOnTuHh4b/++mtAQAD8wfXr16VS6Y0bNyQSSVJS0vDhwzds2JCWlubr6wtvmdra2oiIiBEjRuzcuTM2NtbFxQUa3bhxIzMz08bGZv369fHx8b6+vvCKixcvTp06taamJj4+PjQ09PDhw8nJydbW1nK5vE+fPtAoNzd37ty5ixYtMhqNycnJiYmJISEhYHLlyhV7e/vLly+3b99+w4YNrq6uSUlJHMeRJAlvjWPHjjEMM2vWLEtLy+PHj8fHx5ubm8NfKiws/Oqrrz777DNLS8uzZ8/Gx8c3NDTAXzp//vzChQunT59uaWl57ty5devWGY1GeCudOHFi+/btwcHBubm5y5cv79mzJzS6fv362rVrg4KCdDrdtGnTPDw84BU6nS4qKuru3bs7d+50c3ODNysoKHj8+HFISAi84ty5c3369Hny5Mnz588nTpy4cuXKgwcPTp48OSwsDJpDFEWO4yiK4nmeYRiCIKAFlJaWpqWl+fn5ZWVlRUZGOjg4wL9QWlo6Y8aMzp07p6en9+jRA15nb2/PMMyFCxeio6MdHR3hD27fvp2enj548GCO4+Lj44cNGwaNBEEwGo3BwcEAUFhYmJCQsHfv3idPnkDzlZeXJycn+/v7a7XamJgYe3t7QBCkKRhN04C0ejiOh4eH29jYqFQqlmVJkoSmZGRkrFy5csGCBXV1dXFxcdu2bQsJCQETQRA+++yzpKSkurq6jz/+GP7AYDD4+fnl5ORIJBL4g/v37+/YsaNDhw5yuXz37t2BgYHwZufPn+c4zs3NbcOGDWlpaT4+PvA2yczMXLBgweLFiw0Gw8aNG69cuQKv6NWrV0JCQm1t7dSpUzUaTXBwMLyiurr6gw8+yMrKwjAMAM6fP79///6uXbuq1eqkpCQvLy9oVFtbq1AoSJLcs2fPqlWrhg4dCq8rLS1NTk52cXFJSkriOI4kSXibPH/+/KOPPpJKpXl5eXv27PH09IS/pNFofH19J06caGdnd+jQob1797q6ukJTHj16NHny5G7duh06dOj777/38vKCt1J1dfXmzZv79u2bmJj4zTffuLu7QyNzc/O1a9f27t17y5YtWq0WXldWVrZgwYKcnBytVhsYGAj/VE5OzsKFCxUKxYEDByZNmhQWFgbNIYoix3EURfE8zzAMQRDQAi5evJiWlkZRVHZ2dkREhIODA/wLGo3GxsbGwsLi/v37FhYWbdu2BYC6urrHjx+HhoZKpdKIiIjHjx8rFAqJRAJ/YGFhsXHjxg4dOkRHR3/33Xc+Pj5gUlhY6OjoeOXKlREjRgCAKIqxsbEcx3Xo0AGar7y8PDk52d/fX6vVxsTE2NvbA4IgTcFomgak1cNxPDw83MbGRqVSsSxLkiQ05fz582vXrn3//fePHz8eExPTsWNHaHTq1KnY2Njp06fr9fqQkBBnZ2d4hU6nmzFjhp2d3XfffTd06FD4g0ePHqWnp1tZWSkUip9//jkwMBD+jEajCQsLKy4uTk9P9/T0jI+PZ1nW29sb3iZnzpyJiIiYPHlyUVGRUqls3749NMrOzt6yZcvHH3+s1+snTJhw4cKF0NBQaJSbm/s///M/Tk5OaWlpzs7OACCK4r59+wYPHrxr166vv/7a1dUVGt29ezciIiI4ODgzM3PFihX9+/eH15WUlCQnJ7u5uSUlJXEcR5IkvGV4njc3Nw8KCoK/TavVSiSSwMBA+Nuys7PbtGnz7Nmz0NBQeFs5OjquXbvWaDSuWrVq586dvr6+YHLkyJGZM2euXLnSYDCsWbOmqqoKXldfXx8QELB37147Ozv4Mzk5OVZWVtXV1QEBAfBmeXl5CxcuDA8PP3DgwJQpU0JDQ6E5RFHkOI6iKJ7nGYYhCAJawMWLF9PS0iiK0ul0EREROI7Dv6bX6wcOHNizZ89OnToZDIYHDx6cPXtWFMVPPvlk1apVz549i4qKevnyJfyBm5vbihUrbt68uWzZsoyMjJCQEDCpq6sbNWrUwYMHu3TpAgBHjx6lafrAgQMkSULzlZeXJycn+/v7a7XamJgYe3t7QBCkKRhN04C0ejiOh4eH29jYqFQqlmVJkoSm3Lt3LzY21sPDY+/evSqVytHRERpVVVUlJibKZDKtVjt58mRfX194RVlZ2cSJE2/evLljx44xY8ZAI41GExYWBgDV1dWpqamWlpYKheLnn38OCgqCNysuLt62bZu7u3tcXBzLst7e3vA2uX79ekxMTGBgoEajUSqVPXv2hEalpaXp6ekymWz//v0LFy50dXWFV5SVlY0fP76mpkatVo8ZMwYAsrOzp06d6uzsvHv37oKCgjFjxkCjmpqayMhIDw+PvXv3yuXyYcOGwetEUVSr1a6urklJSRzHkSQJyNuKoqhFixaVl5cvW7YsJydn9OjRYHLmzJmFCxcuWLCgqqoqOjq6rq4OXte3b9+OHTv+/PPPgwYNgldoNBpLS8uhQ4eOGzfO3t7+3r17P/30k6OjI7zBkSNH5s6dGx0dvWfPnhkzZoSGhkJziKLIcRxFUTzPMwxDEAS0gIsXL6alpVEUpdPpIiIicByHf6GgoMDPz+/TTz+tq6s7duzYjRs3AKB79+4ODg55eXkjR46cM2fOjRs3IiIijEYj/MHHH388efLkI0eOyOXy06dPNzQ0SCSSnj17fvLJJ926dduwYYOTkxP8a+Xl5cnJyf7+/lqtNiYmxt7eHhAEaQpG0zQgrR6O4+Hh4TY2NiqVimVZkiShKc+fP4+NjXVyctqxY0dCQoKzszM0evjwYWJi4vDhw9Vq9ddffx0UFASvMDMzc3d3P3TokIWFBfyZp0+fpqWlWVpaKhSKn3/+OSgoCN6suLh4x44drq6ucXFxLMt6e3vD2+TFixdRUVHDhw/fuXNnXFzcsGHDoNHVq1e//fbbIUOGbNu2TS6Xe3l5wStqamqCgoKOHDkCf0OXLl3Cw8NtbGxSU1PXrl0bGBgIrxNFMS0tzcXFJTExkeM4kiQBeStlZ2cnJibOnDnzyJEjS5Ys6dGjBzQqKSlZsmTJp59+eu7cueXLl+M4Dq/Iz8+PiYnJz8/fv3+/TCaDVxQUFHz88cc+Pj4FBQW3bt2Ki4sTRXH58uX9+/eHP3PkyJH58+dHRkb++uuvM2bMCA0NheYQRZHjOIqieJ5nGIYgCGgBFy9eTEtLoyhKp9NFRETgOA7/VGFh4bx58yZNmiSK4qpVq/r27QuN2rdvP3To0NGjR48YMeLw4cNr1qyxtraG1504cUKn0w0cOFAURZ1O9+DBAwCwsrIaPnx4z5499+3bt3bt2sDAQPjXysvLk5OT/f39tVptTEyMvb09IAjSFIymaUBaPRzHw8PDbWxsVCoVy7IkSUJTnj9/vmbNmgEDBrAsm5yc7O7uDiaCIIwaNSopKWnQoEEJCQmHDh2CV2i12oULF1pYWPzwww/Ozs7wZ54+fZqWlmZpaalQKH7++eegoCB4s+Li4u3bt7u5ucXFxbEs6+3tDW+T6urq8PBwNze3nTt3rlmzxs3NDUw0Gg1Jklu3bu3fv39KSopCofD19YVGOTk506dP79q1a3p6+vDhw+EvXbp0KSoq6r333tNqtUqlslu3bvAH58+fT09PHz58eGJiIsdxJEkC8rZ67733Zs2adeTIkQULFhAEAY3Ky8tXrlw5derUI0eOfPHFFwRBwCvs7Ox8fHy2bdtWUFAQFhYGjXQ63dixY8eNG/fDDz+0bdtWEIR9+/a5u7t/8sknbdu2hT9z5MiRefPmyeXygwcPTp06NTQ0FJpDFEWO4yiK4nmeYRiCIKAFXLx4MS0tjaIonU4XERGB4zj8I/n5+bNnz16wYMGpU6cWL148bNgweEVJScmXX345adIkOzu77du3x8bGDhs2DF5nMBi+//77jh07ajSa69ev19bWAkDXrl1JkqypqVm/fv39+/fhf0N5eXlycrK/v79Wq42JibG3twcEQZqC0TQNSKuH47hcLpdKpSqVimVZkiShKVVVVXFxcZ6enjt37lSpVEOHDgWTo0ePzpo1KyIiwtLScsuWLUuXLg0KCgKTjIyM8ePHjxo1Ki8v78CBA2PGjIE/8/Tp07S0NEtLS4VCsXv37sDAQHiz4uLi7du3u7m5xcXFsSzr7e0Nb5PKysrVq1cHBgb++uuva9asGTp0KJgIgjB79mylUtmhQ4etW7dGRUV5enpCo3bt2vn7++fm5tbU1MBfKigoWLx48fTp0/V6fVxcnLm5OfyZ8+fPsyzr4uKSmJjIcRxJkoC8rby8vBiGOXPmzPz587t16waNMAyLiIhwdXU9fPjwypUrcRyHRpcvX16yZElWVtbBgwd9fX3hFffu3ZsxY0ZBQcG9e/cA4NSpUxkZGY6OjhMmTLCysoI/k5eXN2/evOjo6IMHD06aNCk0NBSaQxRFjuMoiuJ5nmEYgiCgBVy8eDEtLY2iKJ1OFxERgeM4NF9OTs6ECROWL1/etm3b6Ojop0+fwuuOHDny9ddfz5o1y8zMLC4uLiEhISQkBF7B87xSqVyyZMnNmzc///zzs2fP1tbWNjQ04Dg+e/bsXr16qdVqOzs7+N9QXl6enJzs7++v1WpjYmLs7e0BQZCmYDRNA9Lq4Tgul8ulUqlKpWJZliRJaIpWq12xYsWCBQsqKiqUSmX79u0BQBAEmUw2d+5co9Ho7+9/+/bt8ePHDxw4EEyePXv23nvvnT9/XqPReHh4wBs8ffo0LS3N0tJSoVDs3r07MDAQ3qy4uHj79u1ubm5xcXEsy3p7e8PbJCcn54svvpg/f/6NGzfWrFljZmYGABqNxsPDY+XKlfX19WPHjr1w4cKnn35KEASYPHjw4P3337927drPP/9MkiS8mVarnTVr1vTp02/fvr1t2zae50ePHg1/pri4OC0tzdXVNSkpieM4kiQBeVvV19cnJiZ27txZoVDs3LnTx8cHAK5duzZlyhQ3Nzccx9u0abNx48YbN26ASW5ubnR09MuXL9PT04cOHQqv0Gq1w4YNc3JyysjIGDlyJAA8f/78119/vXTp0qefftqnTx/4M7m5ufPmzYuOjj548OCUKVNCQ0OhOURR5DiOoiie5xmGIQgCWkB5eXlqaqqvr69Op4uIiMBxHJqvrKyMYZiPPvqooKBg6dKlffr0gdfl5+dHR0dPmzZNr9crlcq6ujp43YkTJ1iWHTduHM/zS5YsGTRoEJgcOXJk1qxZnTp1Sk1N9fDwAACtVktRlEQiMTc3h3+kvLw8OTnZ399fq9XGxMTY29sDgiBNwWiaBqTVw3FcLpdLpVKVSsWyLEmS8DcUFRXNnz8/MDCwsrLyyJEjDx486NKlS58+faqqqgRBmDJlyqRJk44ePZqbm/vw4cNu3boNGDBAFMWDBw8OHz4c3qy6ujotLc3S0lKhUOzevTsgIADerKioaPv27e7u7nFxcSzLent7w1umqKho+vTpY8eOvXXrVm5u7oMHDzp37jxw4MBLly799ttvM2fOpGm6oKDg1KlTDx8+tLW17d27d0VFhUajGTZsGLxZfn7+5MmT33vvvUuXLv3444+nTp0KCgqCNygqKmJZ1tXVNSkp8oNvKAAAIABJREFUieM4kiQBeVtpNJqZM2fOmjWrtrY2JyenvLy8Q4cOTk5ODx48OHr0aN++fT/77LO6urp9+/bdunWrbdu2Q4cOBYCdO3eeP39+zJgx8LqsrKy2bdv6+voCQFZW1qpVq+Ry+c8//7x8+XJ3d3f4M4cOHZozZ050dPSBAwemTp0aGhoKzSGKIsdxFEXxPM8wDEEQ0AIqKyvVarWPj09WVlZkZKSDgwM037Nnz2JiYoYNG/bjjz+uWrVKJpPB6/R6/dq1a/39/X/77bf4+HiCIOB1d+7c+e677wiCUKvVcXFx7u7uYHLo0CFvb++Ghobs7OywsDAAOHfu3PLlywsKCp4+fQr/SEVFRXJysp+fnyAIMTExdnZ2gCBIUzCapgFp9XAcl8vlUqlUpVKxLEuSJPw9RUVFnp6eAwYMsLKyqqure/bs2ZUrVw4fPuzq6lpUVBQUFNS/f/+GhoYXL17U1NSUlZWdPXt2xIgR8Jeqq6vT0tIsLS0VCsXu3bsDAgLgzc6dO7djxw53d/e4uDiWZb29veHtU1RUNGrUqEGDBrVp06a+vv7FixdXr17Nzc11cXEpLi4OCAjo1atXmzZtnj9//vTp06qqqrNnzw4bNgzeTKvVzpkzJzAw8Pz58/v27SsuLg4ODhYEQSKRBAQEwB8UFxezLOvq6pqYmMhxHEmSgLzFcnNzfX19XVxcOnbsWFtbW1dXd+vWrRMnTpSUlNjY2Hh5eY0YMcLS0rK2tvbZs2e3b98+ceJEWVlZWFgY/KXTp0+r1eqxY8euXbt248aNfn5+8GcOHTo0d+7c6OjoAwcOfPLJJ6GhodAcoihyHEdRFM/zDMMQBAEtoKKigmVZb29vnU4XERGB4zg0X/v27ePi4iwsLOLj4/V6PfwBhmGrV6+2srJSqVQ//PCDn58fvK5du3bp6ekSiWTVqlXffvttQEAAmGg0mg4dOjQ0NPj7+wNAbm7u+yYxMTF9+/aFf+Ty5csJCQkURel0uujoaFtbW0AQpCkYTdOAtHo4jsvlcqlUqlKpWJYlSRL+NkEQbG1tra2tJRLJ8+fP79+/L5PJwCQ3N9fe3t7CwgLDsCdPnty9ezcoKAia8vTp07S0NEtLS4VCsWfPHn9/f3izc+fO7dixw93dPS4ujmVZb29veCtlZ2dLpVIrKytzc/Pa2tq7d+9SFAUmOTk5nTt37tChAwBUV1ffv38/ICAA3uzw4cMfffSRt7f3qVOneJ53cnICk/v37w8YMCAzM9Pd3R1eV1xcvHnzZhcXl8TERI7jSJIE5O3G87yDg0OnTp0AoL6+/tGjR/fv3w8NDQUArVZrY2Nja2trbm7+/Pnze/fvy3x84G+4e/fu999/b29vP3/+/F9++SU0NBT+TF5e3ty5c6Ojow8cODBlypTQ0FBoDlEUOY6jKIrneYZhCIKAFlBeXs6yrI+PT05OTkRERJcuXaD52rVrt3btWgzD5HJ5TU0NvC43N1epVH7wwQcajSY1NbVv377wuqysrCVLlsTExFy5cmXhwoUSiQTe4MGDB/Pnzy8pKYmPjw8NDYV/5NKlS0lJSb6+vjqdLjo62tbWFhAEaQpG0zQgrR6O43K5XCqVqlQqlmVJkoT/nidPnqSlpVlaWioUil9//dXf3x/e7Ny5c9u3b/fw8IiLi2NZ1tvbG95pWVlZn3766ZAhQ86dO5eZmenq6gomubm5H3/8sZOTU3Jy8rBhw+B1xcXF6enpI0aMSExM5DiOJElAWpnMzEyaptPS0u7fv//pp5926dIF3iAvL2/evHkKheLAgQNTpkwJDQ2F5hBFkeM4iqJ4nmcYhiAIaAGlpaUbN2709vbOzc1du3Ztt27doPmePXu2evVqHMfDw8NramrgdZ06dVq0aNG9e/cSExNzcnJCQkLgdUePHk1KSpo0adKRI0fmz5/fr18/+DMXL16cM2eOk5NTZGRk9+7d4Z+6ePHi+vXrKYo6dOhQXFxcly5dAEGQpmA0TQPS6uE4LpfLpVKpSqViWZYkSfjvefbsGcuyVlZW4eHhu3btCg4OhjcrKiravn27q6vrhg0bWJYdNWoUvLuOHDnyP//zP1OmTLly5crZs2fv3LljNBoxDDMYDA4ODi4uLlevXt2wYQNFUfC68+fPsyzr6uqanJysVqtHjRoFSCuTlZX11VdfRUdH63S62bNnu7m5wRscPnz4yy+/jIqKOnDgwLZt26CZRFHkOI6iKJ7nGYYhCAJaQGFh4YoVK4YPH37ixImtW7f2798fmq+kpGThwoXvvffenj171q1bR1EUmOTm5gYGBs6aNQsAdu7cyfO8j48PNMrIyOjQoYOVldWAAQOSk5MHDRq0b9++1atX3717F0wwDDMzMzM3N+/UqRNBEEFBQT4+PlqtNioqavTo0fBPFRUVLVmyxNXV9dSpU9u2bevTpw8gCNIUjKZpQFo9HMflcrlUKlWpVCzLkiQJ/99VVFR07drVzMzM29t73rx5FhYWP/74I8/zDx8+fPTo0aVLlwICAsBEo9F07969T58+BoOhX79+S5cuJQhi3759Bw4cuHPnzsOHD6uqqry8vODdkp2dPXPmzAULFjg6Ot68ebOurg5eYW1t/fTpU47jysvLoVFRUVGfPn0AYMCAAV988QVBEBqNZt++fTdv3qyurq6qqiJJEpDW4fDhwwkJCVOnTt2wYUN0dHRwcDC87vDhw71795ZKpTiOf/zxx++//35xcXFMTMyjR48aGhoqKytdXFzgbxBFkeM4iqJ4nmcYhiAIaAElJSWRkZGurq75+fkpKSm9e/eG5hMEwcfHZ9q0aba2toIgFBYW1tTUdOrUaejQocOHDzczM9u/f79Wq5XJZPCKoqIiX1/f/v379+jRY9y4cdbW1seOHcvLy6utrQUADMPMzMzMzc3btm0rlUr7mVy/fj02NlYikcC/UFpaKpfL3d3d8/PzU1NTe/bsCQiCNAWjaRqQVg/HcblcLpVKVSoVy7IkScL/X4IgTJ48mSRJiUQilUq7d+9uZmZ29+7dmzdvvnz58sKFCwcPHhw6dCiYCILg6+s7fvx4g8FgZWVFEISVldXNmzfv3Lnz8uXLqqqqzMzMbt26wbvl5MmTKpVq+PDhmAm8wszMTCKRlJeXsyzb0NAAjWpqaj744AMzM7OOHTv26tXLwsLi/v37d+/effHixfXr1wVBsLW1BaR1KC0t3blz57BhwyZOnNjQ0AB/cPXq1bFjx/bu3btNmzY9e/a0tbWtrq6urKysqal58eLF77//fuzYsdGjR0NTRFHkOI6iKJ7nGYYhCAJawKVLl9LS0ry8vPLy8sLDw+3s7OAf0el0zs7Ovr6+ffr0ef78eU1NTYcOHYxGY1VV1fHjxwsLCwMDA+F1oigGBAQQBNGuXTtzc3MMw2pra1+8eGE0GsHEzMwMw7A2JhKJpL6+/sKFC7/99puXlxf8C1VVVampqSNHjszLy1MoFDY2NoAgSFMwmqYBafVwHJfL5VKpVKVSsSxLkiT8/6XVakeNGkUQRENDw/PnzxsaGgwGQ9u2bc3Nzc3MzG7cuHHu3LmRI0eCCc/zTk5Obm5uAPDy5cuGhgajiUQiadu27ZMnT4qLi52cnODdkpOT88EHH5iZmdXX12MYBq8wM7l///65c+dcXFyg0aVLl9zd3Q0Gw0sTADA3N2/fvr25ufmjR49KSkr69+8PSOvw8uXLH3/88c6dO6NHj3Z1dYU/KC4udnFx6dy5c21t7cuXL+vr683MzCwtLSUSSV1d3ZkzZ8rKykJDQ6EpoihyHEdRFM/zDMMQBAEtoLy8PC0tTSaTZWdnR0VFdenSBf4FQRCcnZ179+7dvn376urq4uLi69evBwUFwZ/JyMho165dmzZtAMBgAo2MRiMAmJmZGY1GzKShoQEAGhoaRo8eDf9OZWVlamqqt7e3IAhKpdLW1hYQBGkKRtM0IK0ejuNyuVwqlapUKpZlSZIEBEH+z9JqtTY2NgBw//790NDQnJycL774QqlU7t69e8aMGaGhodBiRFHkOI6iKJ7nGYYhCAJagF6vV6vVMplMq9VGR0fjOA7vukuXLqnVam9vb57nY2Nj7e3tAUGQpmA0TQPS6uE4LpfLpVKpSqViWZYkSUAQ5P+sa9euBQcH19fX//bbb0OGDLl9+3ZcXJyzs7NcLr916xa0JFEUOY6jKIrneYZhCIKAFlBZWalWq318fARBUCgUOI7Du66ysjI1NdXb2zszMzM2NtbOzg4QBGkKRtM0IK0ejuNyuVwqlapUKpZlSZIEBEH+b+J5fvbs2cuWLbt3796aNWsKCws///zzadOm5eXlrVy50t3dHVqSKIocx1EUxfM8wzAEQUALqKysVKvVPj4+giAoFAocx+Fv0Gq1FhYW5ubmZmZmYCKRSADAaDQCgNFoBACjCQAYjUYAwEzAxGg0AoDRaAQAzAQAMAyD1xmNRgAwGo0AYDQa4Q8wDAMTDMOePHkyevRo+BsqKyvVarWPj49Wq1UqlXZ2doAgSFMwmqYBafVwHJfL5VKpVKVSsSxLkiQgCPJ/U0ZGxrRp02bPnv3kyZPc3NzOnTuPGDHiwoULcXFxbm5u0MJEUeQ4jqIonucZhiEIAlrApUuX1Gq1t7d3VlaWQqHo0qUL/A0vXrwIDQ21s7MDAAzDAMDMzMxoAgBGoxEAjCYAYDQaMRMAwDAMAIwmAGA0GjETAMAwDN7MaDTCnzEajW3atHn8+PHvv/9+7Ngxf39/aIper1er1TKZTBAEpVJpa2sLCII0BaNpGpBWD8dxuVwulUpVKhXLsiRJAoIg/2edOnVq1KhRTk5Obdq0efr0aUlJyenTpz09PaHliaLIcRxFUTzPMwxDEAS0gEuXLqnVam9v76ysLIVC0aVLF/gb2rRpM3ny5J49exqNRgDAMMxgMJiZmQGA0QQAMBMAwDAMAIwmYIJhGABgGAYARhMAMBqN8DoMwwAAwzB4s/r6+nbt2j1+/Dg9PZ3neYqioCl6vV6tVstkMkEQlEqlra0tIAjSFIymaUBaPRzH5XK5VCpVqVQsy5IkCQiCIM0niiLHcRRF8TzPMAxBENACKisr09LSRo0alZWVFRUVheM4/A0ajaZdu3YSiQQzMZq0adOmoaHBaDRiJgBgNBolEonRaMQwzMzMDMMwo9FoMBiMRiMAGI1GaGQ0GuENMAyDNzOaGAyGly9fhoSEwN+g1+vVarVMJhMEQalU2traAoIgTcFomgak1cNxXC6XS6VSlUrFsixJkoAgCNJ8oihyHEdRFM/zDMMQBAEtQK/Xb9682cvLKysrKyoqCsdxeNfp9Xq1Wi2TyQRBUCqVtra2gCBIUzCapgFp9XAcl8vlUqlUpVKxLEuSJCAIgjSfKIocx1EUxfM8wzAEQUAL0Ov1mzdv9vLyysrKioqKwnEc/qnMzMxevXoNGDCga9eulpaWDx48qKqqKiws9PPzg7eJXq9Xq9UymUwQBKVSaWtrCwiCNAWjaRqQVg/HcblcLpVKVSoVy7IkSQKCIEjziaLIcRxFUTzPMwxDEAS0gIqKivT0dC8vL0EQoqKiHBwc4B/Jy8ujKMrX1/fhw4dPnz41GAwdOnRwcnK6e/furl27CgsLw8LC4O2g1+vVarVMJhMEQalU2traAoIgTcFomgak1cNxXC6XS6VSlUrFsixJkoAgCNJ8oihyHEdRFM/zDMMQBAEtoKKiIj093cvLSxCEqKgoBwcHaL7Dhw+PHj165MiRJ06cOHv27LNnzxoaGtq3b+/k5LRgwYJ79+4lJib27NkT3g56vV6tVstkMkEQlEqlra0tIAjSFIymaUBaPRzH5XK5VCpVqVQsy5IkCQiCIM0niiLHcRRF8TzPMAxBENACKioq0tPTvby8BEGIiopycHCA5rt9+/aXX37ZuXPn+Pj4Tp06QaOMjIwFCxZ89tlnmZmZHMc5OTnBW0Cv16vVaplMJgiCUqm0tbUFBEGagtE0DUirh+O4XC6XSqUqlYplWZIkAUEQpPlEUeQ4jqIonucZhiEIAlpARUVFenq6l5eXIAhRUVEODg7QfObm5pGRkQaDQalUGgwGeEVlZaVKpercufOGDRt+//330aNHw3+bXq9Xq9UymUwQBKVSaWtrCwiCNAWjaRqQVg/HcblcLpVKVSoVy7IkSQKCIEjziaLIcRxFUTzPMwxDEAS0gIqKivT0dC8vL0EQoqKiHBwcoPkePHgwderUurq6bdu29ezZE15x5MiRhISEoKCgrVu3pqamenh4wH+bXq9Xq9UymUwQBKVSaWtrCwiCNAWjaRqQVg/HcblcLpVKVSoVy7IkSQKCIEjziaLIcRxFUTzPMwxDEAS0gIqKivT0dC8vL0EQoqKiHBwcoPkOHz7cq1cvg8Fw6dKltm3bSiQSg8Hw6NGjsLAwnU73zTfffPTRRwcOHIiLi+vfvz/8t+n1erVaLZPJBEFQKpW2traAIEhTMJqmAWn1cByXy+VSqVSlUrEsS5IkIAiCNJ8oihzHURTF8zzDMARBQAuoqKhIT0/38vISBCEqKsrBwQH+EUEQHB0dBw4caGdnBwD19fUPHz48efLky5cv161bN3nyZK1WGxMT07t3bwDIyMjo2bNnjx49DAbDzZs3hwwZAq/QaDT29vY1NTUymQxagF6vV6vVMplMEASlUmlrawsIgjQFo2kakFYPx3G5XC6VSlUqFcuyJEkCgiBI84miyHEcRVE8zzMMQxAEtICKior09HQvLy9BEKKiohwcHKD5zpw54+bm5unpaWdnd/369Vu3bpmbm9vb29+6dauoqGjp0qWhoaH79++PjY0lCEKr1To5OY0cObJXr17W1tZPnjzZvn37gAEDoNHly5cnTJhQUVGRmZlJkiT8b9Pr9Wq1WiaTCYKgVCptbW0BQZCmYDRNA9Lq4Tgul8ulUqlKpWJZliRJQBAEaT5RFDmOoyiK53mGYQiCgBZQXl7OcZyXl5cgCFFRUQ4ODtBMZWVlH374oUwmu3379t69e/Pz8728vDQazcCBAz/88ENLS8vAwMBBgwbt3r17/fr1Tk5Oer3+vffea9OmTWlpqb+///vvv79u3bpr165Boz59+qxYsSInJ2fdunX9+vWD/216vV6tVstkMkEQlEqlra0tIAjSFIymaUBaPRzH5XK5VCpVqVQsy5IkCQiCIM0niiLHcRRF8TzPMAxBENACKioq0tPTvby8srKyoqKicByH5hBF8fPPPx8/fnxxcfE333yD4zi8Qq/Xf/PNN+7u7u3atUtJSUlKSnr06NGUKVMGDBiwa9euW7duhYeHz5w5MzEx8cSJE2AiCEJiYuKECRNSUlLUajVJkgAgCIKdnV2HDh3at29vZmb24MGD6upqLy8v+Ef0en1qaqqPj48gCEql0tbWFhAEaQpG0zQgrR6O43K5XCqVqlQqlmVJkgQEQZDmE0WR4ziKonieZxiGIAhoAXq9ftOmTaNGjdLpdLGxsV27doW/LTs7e/r06UuWLKmurl63bl1NTQ28TqvV/vjjjzRN379/Pzw8/Pvvv+/Vq9cnn3xy584djuOGDRu2cePGAQMGREVF3bp1C0zOnTv3008/9erV68svv6yrqwOAM2fOeHp6jhgxwt7evr1JTU2NXq//7bffCIKA5isrK0tMTPT29tZqtevXr8dxHBAEaQpG0zQgrR6O43K5XCqVqlQqlmVJkgQEQZDmE0WR4ziKonieZxiGIAhoAYWFhbNnzx4wYMDZs2d/+eWXIUOGwN9269YtuVweEBCwZ8+eqKgoV1dXeF1GRsauXbvGjx9/8uTJlStXWltbnzlzZvDgwVVVVdeuXZs+fXp4ePjVq1fnz5/fs2dPMMEwLC0t7caNG8uWLbO2ts7Pz584caKrq+vp06fPnDnz7NkzBweHCRMmjBs3rrCwcOnSpf3794dmOnv27Jw5c/r163f27Nm9e/cOHjwYEARpCkbTNCCtHo7jcrlcKpWqVCqWZUmSBARBkOYTRZHjOIqieJ5nGIYgCGgBFy9eVKlUo0aNOnToUGxsbNeuXeFvc3R0XLZsGQCsX7/+xo0b8AenTp36/fffhw4dmpCQkJiY6OnpCY3Onz/PMMyHH364d+/epUuXBgUFgYmHh8eSJUsyMzOjo6P79Olz8+bNJUuWdOrUaePGjR07dgQTURQ5jvP19V20aNH27duDgoKgOUpKShITE2UyWVZW1vr163EcBwRBmoLRNA1Iq4fjuFwul0qlKpWKZVmSJAFBEKT5RFHkOI6iKJ7nGYYhCAJaQHl5OcdxXl5eOTk5ERERXbp0gb8nPz9/5cqVM2fOrKysjI2NNRqN8AdWVlYcx12/fn3BggVWVlbwijt37qxbt27AgAGRkZH37t0DE51Ot2XLljFjxrAsm5SU5O7ufvfuXYVCQRBEQkLC1atXwYTn+fXr13/11VdbtmxZuXKlr68vNEdlZWVKSopMJsvJyVm9erVUKgUEQZqC0TQNSKuH47hcLpdKpSqVimVZkiShKefPn/f19SUIQiKRlJSUHD161NnZGV6n0+lGjRpVU1Nz+vTpwMBAMMnPz/f39x86dOjFixczMjJ8fHzg3SWK4qhRo/r162dubl5eXp6TkzN8+HB4nSAIXl5etbX/jz34AGrC8B+H/UnYSwghQXESsAxlKRKBkDASRhyNWLW4Jw4UFQUBCZqwCQJqAghqWhUr2qqtGpIACVMERQwIyopUxYGiKMqGvHfccYcn1Pb9/f2WIs/Tdf/+fRKJBAOKi4uJRKKFhUVDQ8ONGzfs7Oxg3DcgKytr4cKFxsbGWlpajx49ys7Orq+vp1KpMER2draRkZGenl5FRYWVlRUMevfunYuLy5s3b3g8nrGxMfxLqqqq0tLSSCQSn88PCAgwMDCAr6C+vj41NdXW1lYkEtHpdCwWC3/PnTt3goODvby8bt++HRERgUKh4FPFxcUnT550dXVNTU2NiYmxtraGIZSUlI4cOfLq1at169bhcDgY8Pjx459++klPT49Op58/f97JySk3N3fu3LlaWlp37961sLCAAXl5eRwOx8vLKz4+Pjw8nEQiwT8hlUo5HA6BQBCLxQwGA4VCwbhx474EQaPRYNw3T1dXNzg4GIVCJSQkpKSk4PF4+EsVFRVbt26VyWRPnz61trY2NDQUCoVcLnfu3LkwiMfjLV++PDg4uL6+fv/+/aampjBo9+7dc+fOvXPnTmxsrLKyMoxRDx48WLVqlYqKyrNnz0xNTc3NzXNzcxMTE/F4PAyhoaGxf//+R48ehYeHT5kyBQZ0d3f7+flZW1vfv3+fxWIhEAgYN9bl5eV5e3ubmZkVFRVNnDhxwYIF9+7dS0pKmjZtGgzKzMx0cHDw8/ObOnVqfHz827dvYUB5eXlCQoKLi0tzc3N8fHx6erqzszP8G6qqqtLS0kgkEp/PDwgIMDAwgK+goaEhJSXFzs4uJycnNDQUi8XC31NYWLhnz541a9bcu3cvMjJy0qRJ8Cltbe3Y2FiJRMJkMm/duuXh4QGDMjMzV61axWKx7ty54+XlRSQSYYCioiKbzX758uX+/ftVVFRggEAgQCAQrq6uMOjdu3dpaWkIBGLPnj1ZWVnu7u7wT0ilUg6HQyAQxGIxg8FAoVAwbty4L0HQaDT4LxCJRMrKyn19fQ4ODjDu/zVdXd3g4GAUCpWQkJCSkoLH42Fkt27d8vPz6+3tvXjx4tOnT7ds2bJt27Y///wzKipKSUkJBonFYjabvXr16tzc3O3btxsbG8MAdXV1f39/c3Pz2tra6Ojot2/fwlhUUFDg4+OjrKx848aNxsbGpUuX7ty5s6WlJTw8XEFBAQbx+fwTJ06sXbu2sLBw//79kyZNggFycnIhISGWlpbPnj2LiYl5/PgxjBvTeDze0qVLFy9enJycXFVVZW1tHRUVhUKhYmJi0tPTXVxcYIBYLF69ejWDwejp6QkJCWlpaYEB1dXVycnJjo6OXV1dR48ePX78uI2NDfwbqqqq0tLSSCQSn88PCAgwMDCAr0AqlSYnJ9vZ2WVnZ4eGhurq6sLf1tvb6+/vLy8vHxsbi0AgYJBQKLSzszt06JCGhkZYWFh2draTkxMMwefzf/jhh9jY2MrKymXLljk7OwNAeXl5VFSUl5cXj8cLCgrC4XAwnGfPnu3bt2/u3LlMJvPq1avOzs7wD0mlUg6HQyAQxGIxg8FAoVAwbuwSi8VKSko9PT0kEgnG/R8gaDQajGJ5eXk2Njbm5uZTpkyRk5Pr7+9vbm4uKSkpKysjEokw7v8RXV3d4OBgFAqVkJCQnJw8f/58GE5mZqaHh4ecnByVSj179qyWllZOTs7evXt37tzZ3NwcERHR0dEBgxobG8+dOzdr1qxLly7t379/zpw5MKC+vn7Hjh2rVq16+fJlZGRka2srjEU9PT0eHh6ZmZkikUhRUXHz5s379+9/9+5dREREW1sbDKqqqsrIyLCysrp48WJoaKiJiQkMqK6u3rJly+bNmzs7OyMjI588eQLjxrSysrLDhw/X1NQcPXrUw8Ojp6cnIiJi2rRpCQkJJ06csLOzgwHl5eV79uzx8fFpbGzcvXu3kpISDBAKhVu2bNm1a5eenh6Hw0lISLCxsYF/Q3V1dVpaGpFI5PP5Bw4cwOFw8BU8evQoKSnJzs4uKyvr0KFDurq68LcVFRWtXLnS09OzsbHx559/Li8v7+/vx2Kxbm5uCxYs6O3tPXfuXFZWFpFIhM+8ePEiODhYX1//yJEjIpHI0NDQw8Pj+++/nzlzJpPJTElJwePx8KnMzEwCgbBmzRpVVdVr16799ttvrq6u8M9JpVIOh0MgEMRiMYPBQKFQMG7MycnJsbKymjdv3pQpU+Tl5fv6+t6/f19VVVVUVGRtbQ3j/jkEjUaDUSkrK2v27NlkMnnmzJnNzc3cWrYYAAAgAElEQVRPnz79+PEjBoMxMjLS1dW9e/fu9evXJRKJm5sbjEAgEDg6Ok6bNk0mk/X19fX29spkMgBAIBBIJBKGQCAQSCRSJpP19/cDQG9vLxKJ7O/vb2hoqKqqcnJygrEOi8XS6XQUCnXkyJHk5OT58+fDcDIzMz08PIhEYmtr66lTp+bNm/fgwYPg4GBPT8+7d+9GRESoqqrCoP7+/lOnTuno6ERERMTFxTk6OsIAgUBAIpH27NmDxWJjYmK6urrgMwKBYPLkyW/evCESiTCyvLw8XV1dNTW1np6ed+/evX79mkKhwOgwb9687u7uc+fOmZmZPXjwwM/Pb/Xq1ffv3z906JCysjIMceLECW1t7djY2GPHjtna2sKgtra2gIAAHA7HYDA+fPgAg3g8no6ODhqNVlRUbG9vb21tffPmjYeHB4ygoKBAR0dHXV29u7v73bt3LS0tFAoFxo0mQqHQw8Njw4YNBw8e1NfXBwBjY2NfX18AiIyMPH/+PJFIhAFSqZTBYCxevFgsFu/atcvIyAgGVVZWhoWFOTk5nTp16tixY3Z2djCCe/fuycnJvXz5kkwmw6eEQiEGg9HU1JTJZJ2dna9fvyaRSPBPVFdXnzx50sHBQSAQBAQE4HA4+AqkUmlSUpK9vX1WVtahQ4d0dXXhnygvL3dxcbGzs0MgEM+ePevr69PU1FRVVf3zzz8LCwvLy8tdXFxgOGKxGI/HU6lUdXX1pqYmeXn5jx8/bt26VUtLa9OmTZmZmRQKBYYoKCiws7NzdHTs6Oi4du3a/fv3dXR0JkyYUFNTQ6VS4Z+QSqUcDodAIIjFYgaDgUKhYNzY8vDhQxcXF1NT066uridPnrS1tWlqahoYGOjq6j5//jwzMzMvL49MJsPIamtr8Xi8oqJiX19fT08PAPT398tkMnl5eSQSCQMQQ8hkMgDo7+/v7e1FIpGtra03btygUqkwhiBoNBqMSs+ePVu0aJGqqmpFRUVlZWVTU1N3d7eampq+vv7ixYuJRGJdXd2pU6du3rzp4eEBw8nJydm0aZOZmZm8vLyenp6Ojo6CgkJfX9/z589fvHjR29sLAxAIBAAgkUgAUFNTw2AwaDRaSUkJAK5evXrq1ClTU1MY67BY7OHDh7W1tWNjY5OSkubPnw8jKCoq4nA4Fy9e5PF4rq6uPT09dDp91qxZly5dYrFYRkZGMEAoFG7duvXIkSMdHR07duy4cOGCh4cHDCouLt61a9fcuXMTEhJUVVVhCB6PN3HiRDc3N2Nj42vXrt26dcvd3R2G8+HDB1tbW3V1dQQCoaqqikAgamtri4qKHjx4QKFQ4F8lkUgYDIZYLL569SqJROrq6jpw4MC8efOuX78eGhpqYmICg0xMTEJDQzs6OgIDA8+fP08mk2FQSUnJ9u3bKRRKaGiompoaDMjMzFyyZImRkZGampqcnJyKikpPT091dXVhYeHMmTPhM2/fviWRSCoqKgoKCmpqav39/bW1tcXFxdXV1WQyGUaH8vLy+fPnT5gwQSKR3Lt3j0qlwpeUl5fb2tpqaWlVVFTcuXOHSqXCl5SXl+PxeC0trfv372OxWBhNSktLd+/era6unpWVBQA5OTknT56k0Wj37t0LDQ1VUVGBQa2trUePHjU2Nj5z5sz+/fudnJxgCFNT0yVLlqSnp3O5XCcnJxjOw4cPvb29VVVVz5w5g8ViYRCPxzM1NXVwcJg6dapMJlNRUdHQ0GhqasrPzy8oKHBzc4O/p7q6+uTJkw4ODgKBICAgAIfDwVdQX1+fkpJib2+fk5NDp9N1dXXhH8rLyzM2NsbhcKqqqnJycp2dnU+ePKmursbj8TACkUg0ceJEmUympKQ0Y8YMBALx9u1bKyur6OjoysrK7du3T58+HYYoLi4mEAizZs1qbm4uKioyMDDIzMxcs2YNEom8cOGCs7Mz/BNSqZTD4RAIBLFYzGAwUCgUjBtDqqqqVqxYoaWlVVdXV1FR8fjx446ODlVV1enTp9vZ2Tk5OcnJyZ0+fbqrqwtG9vHjx6VLl06YMEFHR2fy5MnKysp9fX2vXr2qq6vr7++XyWQwQCaTIZFIBQUFRUVFFAqlp6enoqLS09NTX1+/atUqJycnGEMQNBoNRp8HDx78+OOP06dP//XXX3Nzc11dXWGI8vLyffv2LVy4UCwWHzt2TF9fH0bQ1NSkra0tLy+/bNmy77//XktLq7Gx8dKlS0VFRd3d3XJycjBAJpMBAAKB0NDQwGAwdnZ2zs7OaDT61KlTCQkJRkZGMNbp6uoePnwYhUKxWCwOhzN//nwYQWFhoaenZ25urqmpKY/H2zOgr6/v2LFjJ0+eJJFIMKCgoCAqKmrLli2PHj3asGEDCoWCIbKysrZu3WplZRUfHz99+nQAyM7OtrKy0tXVVVFRMTExWbBggbKyckRExOXLl8lkMnwqLy/P3t7e3d29paXl8ePHHR0dGAwGj8cbGhrW1dVdvHgxLy/P0dER/j0VFRWOjo4lJSUzZ84UCoXe3t5+fn4IBCIlJSUxMZFCocAAoVDI4XDWr19fU1OzZ88ekUhEpVJhUF5enpeXl5ubW0hIiIGBAQAUFxcvXrx4zpw5T58+ffbsWW9v74wZM+zs7DAYTGlp6fnz53V0dGBQXl4ekUj08PB49+5dXV1dd3c3BoPB4/HTp09vbGz89ddfhUKhk5MT/Nuys7PXrVu3du1aTU1NsVh88uTJqVOnwl8Si8VeXl4bN27U0tIqLCxMTk6ePHky/KXc3Nwffvhh8+bNKBSquLg4MTFxxowZMGoUFxcvWLCgqalJRUUFAFpaWlJTU42Njdls9pEjRywtLWGAUCj08vI6cuRIZ2dnVFTUn3/+CZ/S09NzcXH55Zdfent7YQS9vb2xsbH9/f0HDx5EIBAwQCAQWFtbu7i4qKurNzY2vnv3TkNDw9zc3NbWtrW19ezZs3w+39raGv6G+/fvnzx5kkQiZWZmHjhwwMDAAL6Curq61NRUOzu7nJyc0NBQLBYL/7/w+XxlZWU5Obmuri4ymQwjKygocHNzc3JyevDgwZkzZwgEAgCUlJQcP37cw8MjLi6Ow+HY2dnBoPv373t4eJBIpI6OjoqKipcvX8rJyamqqlKpVIFAcPr0aTKZDP+EVCrlcDgEAkEsFjMYDBQKBePGCj6f7+PjY25ufvXq1aKiIjs7Oxji9u3bixYt2rVrV3Nz8/79+6dOnQojqKqqMjAw0NDQmD9//saNG7W0tAAgPT39999/7+zslA0AgP7+fgCQl5dXUlLCYDDz5s1zcnKaPn363bt3XV1diUQijCEIGo0Go0x2dvYPP/ywZcuWjx8/JiUlwXBevHiRkJCgp6fHYrHOnj3r5OQEf8nS0nLHjh0YDIbH48XExGhra8MIMjMzZ82atXfvXjKZfObMmZSUFAsLCxjrsFhsSEiIlpZWfHx8SkrK/PnzYWT5+fkfPnygUqkSiSQ8PHzp0qUlJSVRUVHKysowqKKi4syZM/b29iKRaPPmzRYWFjBEcXHxxo0bsVhsfHz83LlzAeDWrVs0Gm3atGkfPnyYNGnSjz/+2NfXFxISkpGR4eLiAkMIBAICgfDDDz88fPjwypUrL168cHd3z8nJsbGx2bVr1/z580tLS5OSkvLy8tzc3OBfkpWVpaSkRCQSAaCqqurgwYNeXl4lJSVMJlNdXR0G3bx589q1azY2NgKBYN++fTNnzoQhbt++vXz5chMTk5CQEDs7Oz6f7+npSaPRbty4UVhY2NTU5O7uXlxcTCaTN2/ePHPmTD6fn5ycPHXqVBjQ1ta2du3a6urq69evNzY29vf3Kygo2NjYbN261cHBoaKigsPhCAQCd3d3+FdJJJLDhw+vXr0aiUTev38/Ojr648eP8JcePHgQGBi4fv16AKitrY2KimptbYW/VFVV5e/vv2XLFgCoqalhMpnt7e0wamRmZmpqan78+JFCoQCAjY2Nr6/vx48f/fz8Ll++7ObmBgPKy8v9/Px8fX2rqqq2b9+ORqPhU4aGhvr6+unp6VgsFkbw/PnztWvXvnnzJiMjw9DQEAY8f/584cKFSCTy+vXrEomkt7dXTk7O0NBw+/bta9euffz4cVxc3OXLlx0dHeFLKioq0tLSnJ2dr1+/HhQUZGhoCF9BbW1tamqqvb29SCSi0+lYLBa+MqlU6ufnR6FQrl69ymQybW1tc3NzN27cuHv37rt378bGxpaVlVGpVBggkUh++OGHFStWTJs27c2bNx0dHfLy8kgkUllZWUlJae/evT09PfAPSaVSDodDIBDEYjGDwUChUDBurHj9+nV0dLRMJktNTeXxeA4ODvApiUTCYDCWLVt28uRJBoNBIBBgZEKhcOnSpSwWS1dX99WrV6tWrcrPz/fw8IDhCIXC6dOne3p6ent7P3jw4IcffiCTyTCGIGg0GowylZWVvr6+69ev7+7uTk9PP3jwIIVCgU9lZWXFxsauXbs2Ozs7MjJy8uTJMLKcnJzjx497enoqKipyudzExEQTExP4S8rKygcOHLh8+fLp06fnzZsHY52CgsL27ds1NTW5XO4vv/zi4OAAfw+DwTAyMkpJSUlISLCysoIBPB7PwcHhwoULOjo6cXFxDAaDTCbDEI2NjV5eXi9fvkxJSXF1dQWA7OxsExMTdXX1pqam7777Li4uTktLi06nX7hwwcXFBYYoLS3dvn07mUyOiYmBT2loaAQEBOjp6f30008cDsfc3BxGh5CQEBMTEy6Xy2Qy7ezsYNDr16+vXbumpaXFYrHi4uLs7OxgiMbGxuXLl7e1tcXHx3t4eJSWlsbHx+vo6NDp9LKyMiqVCgOysrK8vb13794tJyeXnJx89OhRCoUiFov37dtHpVLDwsKysrJcXV1hkKKi4oEDBwwMDM6fP89isSwsLOBfdevWLT8/v7Vr16qrq9++fTsuLk5BQQH+UllZmY+Pz8aNG9XU1MrKymJjY+Xl5eEv3b17d9u2bVu2bFFTUystLY2MjFRVVYVRqby8/Oeff3ZwcBCLxYGBgVOmTIFBzc3NDAaDTCYLhcLVq1fb29vDELm5uYGBga2trZcuXTIzM4MRCIXCyZMnt7e3t7S0uLu7A0Bubu7mzZvd3d2zs7NTU1OJRCIMevz48YkTJ6ytrX///fcDBw6YmJjAl9y5cycqKopAIOTk5LBYLBMTE/gKampq0tLS7O3tRSIRnU7HYrHwlTU0NOzYscPS0vLy5cvXrl1TVFTE4/ErV6589epVampqcXExhUKBQVVVVa6urubm5goKCkgkEgAUFBT6+vqQSGRLSwuXy50xYwb8Q1KplMPhEAgEsVjMYDBQKBSMGyvMzc337t2rqqp65cqVqKgofX19+JRIJFqzZk10dHRLS8uGDRuKioqoVCqMoLCwcMuWLcHBwaqqqiUlJUuWLLG1tYW/9OjRo5iYmDdv3qxfv55KpcIYgqDRaDDKSKXSPXv2/Pjjj21tbadPnz506BCVSuXxeFQqFYbA4XCBgYFdXV1hYWHp6ekUCgVGUFFRcfbsWTwe//bt26NHj546dQqPx8NfamhoiI2N5fF4Fy5csLe3h7Gup6dn48aNmpqa6enpV65ccXR0hC8RCoVBQUG7du169+4dg8E4d+4clUqFATk5Odu2bYuNje3u7l6xYgV8Rl5e3sHBITs7W05ODj7z5s2bEydOoFCogwcPZmRkkMlkGOLBgwcRERELFiy4evVqUFCQpaUlDHr06BGTyaRQKCKRKDo6WkdHB/5tOTk5e/bs2bFjR3t7O4vFevHiBQwxa9as8PDwzs7ONWvW8Pl8MpkMQ8hkMjc3Nx6PJy8vDwDV1dXXrl2bOHFicnLykSNH7O3tYVB7ezudTrexsbly5UpgYKClpWVJSUliYuL333//xx9/MJlMQ0NDGNTQ0HDw4MFFixYVFRUxmUwdHR34t719+3bJkiU6OjrFxcVXr16dN28efElLS8sPP/yAQqFu3br122+/2drawpe0tLQsW7YMjUbfvHkzIyODQCDAqNTZ2XnixAk9PT02mx0fHz937lwYkJmZuWTJEiaTOWXKlNTU1NzcXPhUQ0PD9u3b8/Pzb9y44eLiAn/bnTt3Dh48uGLFipKSEhaLNWHCBBhi8eLFGzZsePz48apVq3R0dOBLSktLg4OD8Xh8YWEhh8OZPXs2fAU1NTVpaWn29vYikYhOp2OxWPjKCgsLnZyc5s6d+/r16/fv36PRaH19/Q8fPpw/f37KlCnwmezsbDk5OQQCgUQiEQNkMll/f39nZ6ebmxv8c1KplMPhEAgEsVjMYDBQKBSMGyuIROLGjRuVlZXT09NZLJaxsTF8is/nUyiUpKSkKVOmhISEJCQkuLq6wgiqq6v9/f03btzY29t77ty5nTt3urm5wWd4PB6VSoUB9+7do9PpXV1dQqEQxhYEjUaDUaakpIRGozk6OjY1NV25cgWNRsNwdHV1g4KCMBgMh8M5duyYtbU1jEBeXj42NlZfX7+uri4iIuLKlSvOzs7wlyorK8PCwgQCwe+//+7o6AhjnZaWFoPBQKPRsbGxKSkpdnZ28CWVlZXh4eFLliwpKSkJDw9XU1ODQSUlJSwWa9WqVY8ePXJ3dzc1NYUhCgoK1q1bh0ajz507Z2RkBJ95/fp1WloaCoUKDg7OyMigUCgwRFVVVVBQ0IoVK+7cubNjx46ZM2fCoIcPHzKZzIULF5aUlERFRamqqsK/rbKyMjQ0dNmyZeXl5REREYqKijCooKAgNTXV09Ozrq5u2bJl+vr6MERBQYGXl9eMGTOOHz9uZWUFABUVFenp6fPmzUtPTw8MDMTj8TCopaUlKCjI0dFRIBCEhITMnDmzuLiYyWRu2LDh9u3bu3fvnjJlCgyqqqoKCgpavny5RCKJioqSl5eHfxufz8dgMMrKyi0tLUQiEf4GPp+PRqOVlZXfvHlDIpHgb+DxeDo6OioqKq2trQ4ODjBa4XA4JpPZ0dFx8ODBCxcuODs7w4CCgoLNmzcHBAR0d3dHRkY+efIEPiWTyRwdHS9fvoxGo+Ez2dnZWCxWQUGhq6vr5cuXbm5uMKi0tHT37t3r1q37888/Y2Nj+/r6YAg7Ozs/P7+PHz/SaDRNTU34ksrKyrS0NCcnJx6PFxgYaGBgAF9BTU1NWlqavb29SCSi0+lYLBa+vvz8/O+++87AwEBBQaGzs7Opqam2ttbW1hb+J6RSKYfDIRAIYrGYwWCgUCgYN1YgEAgvL6/Ozs5z584VFRVRKBT4FI/Hs7e3T0pKMjY2Pn/+/M6dO0kkEoygqakpOjra2dm5tbU1Ojq6pqYGvkQikezfv//Dhw/FxcUwtiBoNBqMPkKhUE1Nrb29nUKhwAi0tbWDgoL09fV//vlnFotlbGwMI5g/f76Pj4+6urpYLA4LCysqKqJSqTBEQUFBd3e3i4sLDKqvr9+7d++NGzcEAgGFQoGxTktLKyIiAovFRkdHs9lsW1tb+JLm5ubo6GhbW9tLly6xWKzp06fDoNraWg6H4+jomJmZuXLlSkdHRxji0aNHnp6eT548OX/+vKurK3ymtbX1xIkTEyZMCAkJycjIIJPJMER+fr6Tk5OtrW15efmlS5eoVCoM+vPPP8PDw11cXHJycqKionR0dODf9vLlSyaTSSQSf//998jIyBkzZsCghw8fnj592tbW9vfff9+xY4eNjQ0M0dDQ4Onp+fbt28ePH8OAvLw8T09PGxubq1ev5ubmurm5waDOzs6goCALC4urV6+GhYWZmZkJBALKgNu3b/N4PAKBAIP+/PPPoKAgKpVaXFwcFRU1YcIEGDeaUCiUHTt21NfX+/r6isVid3d3GFBeXu7r67t9+/aGhobQ0FCZTAaf+u6771RUVM6fPz9r1iz41L1796ytrWfMmKGlpaWuri4QCPLy8lxdXWEAn8+3t7cnEoktLS3Xr183NzeHQVlZWXFxcdu2bXvy5MmKFSt0dXXhS+7fv3/69GkHB4ecnJx9+/bp6+vDV1BbW5uammpvby8Sieh0OhaLhbFOKpVyOBwCgSAWixkMBgqFgnFjhVAoVFNT6+npcXR0hOHweDx7e/vjx4/PmjUrLy9v5cqVNjY2MByhUEihUI4ePTp9+nSpVOrn54dAIOBTIpGov7+fTCbDoMrKyt27dz979uzhw4cwtiBoNBqMbiKRSElJSUFBQSaT9fb2vn//3sPDAwDQaHRgYCAOh/vll19iY2NxOBwMJy8vLzU1ddGiRYqKiidOnEhISDA1NYUhSktLFy5cWFVVhcFgYNDbt29XrFhx6dIlTU1N+AZgMBgmk4lGo1ksFpvNxuPx8CXt7e1RUVGzZ88+efJkQkLC7NmzYdCLFy+Sk5MtLS1Pnjy5c+dODw8PGEJOTm7OnDk5OTkTJkyA4Xz48CE5OVldXT0kJCQjI4NMJsNnBAKBm5sbfEpeXj4wMBCHw6Wnpx87dmzWrFnwb+vo6KDT6fPmzbtw4QKTyTQzM4NBjx8/PnfunImJyc8//+zv729vbw9D9PT0EAiEoqIieXl5GEIsFjs5OcEQPB5v06ZN+/fvV1BQSElJOX78uIuLCwzIysqiUCjwKSQSGRgY+N1332VkZMTFxc2aNQvGjRo8Hi85OXnjxo3FxcV79uzR09ODQTU1NX5+fqtXr753715gYCAKhYIh7t69e/DgwcLCwhs3bhCJRBiitLR02bJlJiYmd+7c6enpodPpjY2NPj4+JiYmMASfz5fJZB4eHjDEw4cPU1JSSCTSlStXgoKCTExM4EskEgmXyyWRSEKh0N/fH4fDwVdQW1ubmppqb28vEonodDoWi4WxTiqVcjgcAoEgFosZDAYKhYJxY5FAIFAeAABdXV0dHR1ubm4A8O7du+TkZCMjo3v37i1ZsuTZs2dUKhU+U1BQsHz58iNHjigoKJSVlW3btm3GjBkwRHZ2tqura3d3d0FBgZOTEwyorq729vaura1tbm6GsQVBo9FgVBIKhbq6ukZGRqamplgsFoFA9PX1tba25ubmVlZWurm5TZ8+/cCBA5MmTbpw4UJMTMyMGTNgOE+fPuVwOFZWVp2dncHBwefOnXN0dIQh2traNm3alJKSoq2tDYOqq6tnz55dWlpqbW0N3wAMBsNkMtFoNIvFYrPZeDwevqStrS06OtrExCQpKeno0aPz5s2DAVlZWUQi8dixY4aGhikpKQKBAIYoKyvbuHFjd3f3hQsXLCwsYDhtbW0pKSkaGhoHDx7MyMggk8nwN9y8eZNOp3t5eVVXV8fFxfH5fCqVCv+29+/fh4SE2NnZXbhw4fDhw5aWljDo/fv358+f19XVTU5ODg0NJRAIMKi0tHTt2rUTJkw4deqUmZkZ/KWGhoZDhw65uLhkZmbGxMTo6+vDyEpKSg4ePLhy5crKysojR44gkUgYN8osXrx4w4YNBQUFO3fuxOFwMKihoSEgIGDZsmW3bt3y8/ObNm0aDDFjxgxzc/PU1NS7d+9SqVQYlJeXR6PRnJ2dU1JSMBhMTk7OjRs3bGxslixZkp+fT6FQ4C9Nnz49LCysvb09KCjoypUrjo6O8CUSiYTL5ZJIJKFQ6O/vj8Ph4Cuora1NTU21t7cXiUR0Oh2LxcJYJ5VKORwOgUAQi8UMBgOFQsG4sUUsFpuampqZmU2dOlVRUbG7u/vNmzdVVVW3b98mkUh9fX0nTpyYNGlSdXW1u7v73LlzYTgPHz7cv3//pk2b2tvb//jjj+3btzs6OsIQDQ0NmzZtqqmpSU9Pd3Z2BgAej6elpWVtbf306VMcDgdjC4JGo8Go9OrVq3Xr1tnY2Dx69KiiouLVq1e9vb36+vrTpk07derUrVu39u7du2fPHm1t7fPnz8fGxurr68NwFBUVWSzWtGnTHjx4EBAQIC8vD0OIxeI1a9bY29t7e3u7uLjAtwqDwTCZTDQazWKx2Gw2Ho+HL3n8+HFUVJSNjc2ZM2cSEhIsLS1hQH5+/qZNm0JDQ9XV1VNTUzMzM2EQj8dbtWqVra0tn8+/fv06lUqF4bS2tp44cUJTU/PgwYMZGRlkMhn+hmnTpu3du7elpSU+Pv7q1auurq4wCjQ2Nh4+fJhMJl+8eDE8PNzc3BwGCASCHTt2hIWFqaionDhx4uDBgw4ODjBITU2NRCKJRKLOzk74S0VFRQcOHFi9evX9+/ejo6PV1dVhZJmZmdu2bdu7d297ezuLxbpw4YKbmxuMG2VsbW337t1bVla2a9euKVOmwKC+vr6DBw9aWlqWlJQEBwdjMBgY9PTp0wMHDvB4vD/++MPBwQEG8Xg8R0dHLy+vwsLClpYWALh7925eXp6uru7ChQsnTJgAf+n58+dcLldfXz88PDw1NdXe3h7+BolEwuVySSSSUCj09/fH4XDwFdTW1qamptrb24tEIjqdjsViYayTSqUcDodAIIjFYgaDgUKhYNwY8uTJk1WrVtnY2Lx586a6uvrJkycymWzy5Mm6uroVFRW//fYbgUDgcDhoNPr+/ftubm42NjYwnBcvXsTExBCJxNbW1mPHjpWXl8OnMBgMkUi8fPmyTCaDbwCCRqPBKFNSUuLl5bV+/fq+vr60tLSMjAwHBwcYpKKismDBgp9++mnlypXLli1TUVE5ffp0XFycqakpDMfY2DgkJERNTS0zM/PAgQMGBgYwSCwWk8nkjRs31tTU5OfnwzcMg8EwmUw0Gs1isdhsNh6Phy8Ri8W7d+/etm3b48ePY2Nj+/v7ASArK4tCoaxZs6a9vX3RokXPnj3z8vLS19eHAf39/d9//31RUdGvv/7q7OwMI3jz5k1aWpqmpubBgwczMjLIZDKMjM/nu7u7KysrBwcHt7e3s9ns69evOzo6wuiQk5Ozfft2Hx+flpaW6Ojo7u5uABAIBCQSadeuXR8/fly0aFFNTc3OnTt1dHRgQPENI8QAACAASURBVF9f36JFi6qrqzMyMvB4PIwsPz/fx8dn1apVlZWVx44dQ6PR8JcUFBQCAgJ6e3s5HM6VK1coFAqMG33a29sTExOxWGxsbGxqaqqjoyMAtLa2enp6mpiYYLFYLS2txMTER48ewYDKysrAwMAXL16kpqbOnTsXhhAIBNbW1jgc7sqVK87OzgDQ0dFx5cqV2traH3/80djYGEb29OnThISE2bNnx8TEHD9+nEKhwN8jkUi4XC6JRBIKhf7+/jgcDr6C2tra1NRUe3t7kUhEp9OxWCyMdVKplMPhEAgEsVjMYDBQKBSMGxMEAsHSpUt9fX1RKNSpU6cuXrxobm4OAwQCgbW1NZVKff78uaqq6qFDh5SVlUUikZeXl52dHXyGz+evXLkyLCxMT0+vrq5u69atmpqaMMT79++DgoJevnyZmJg4ZcoU+AYgaDQajCZlZWVbtmxZvXp1c3Pz0aNHr1696ubmBkNkZ2fv378fABYsWGBlZdXd3c1msxMSEvB4PAxnwYIFa9euVVRUlEgkIpHo5cuXCAQCADQ0NAwNDS0sLNTV1ePj46VSKXzDMBgMk8lEo9EsFovNZuPxePgbysvLN2/evGjRora2tvz8/MePHxsYGOjr6+fl5QmFwvXr13t7e1dUVFy7dq2jo8PAwEBXV7ewsPD69es2NjYwspaWlpMnT2ppaQUHB2dkZJDJZPhLCgoKAQEBjY2Np0+fLigoIJPJMJqUlZWtXbv2+++/7+npuXnzplQq1dPTMzMzy83N/f333zdt2rRhw4aHDx+KRKLXr18bGBjo6urevn372rVrVlZWMLKCggIfHx8PD4979+5xuVw9PT34S4qKij4+Pi9evOByuYWFhWQyGcaNSjwez8vLa8uWLRMmTLh161ZFRYWWlpaRkZFUKs3KyjI0NNy+ffuECRP++OOPqqoqPT09PB5fV1f3888/z5w5Ez7D4/EUFBQoFAoACASCw4cPBwQEnD9/3s/Pz9bWFkbQ2NhIp9OnTp2anJx848YNOzs7+NskEgmXyyWRSEKh0N/fH4fDwVdQW1ubmppqb28vEonodDoWi4Wxrr6+PikpycHBQSwWMxgMFAoF48aEqVOn7tu3TyaTRUdH//bbbwQCAYYoKipydXV1c3NDIpGrVq0CgDNnzuzdu5dIJMJnbt265e3t7efnp6mp+fLlyzNnzrS0tCCRyL6+Pk1NzcmTJ1tYWEyaNCkxMTE1NZVIJMI3AEGj0WDUuHPnjre394YNG9rb2+Pj47lcLpVKheGsXbuWQCBgMJimpqbIyMiffvrJ1dUVPlNQUHDt2rV58+YBQENDw7Nnz/r7+5FIpEwmU1VV1dPTmzhxolQq3b9/v4KCAnzDMBgMk8lEo9EsFovNZuPxePh78vPzzczMbGxs9PX1FRQUXr58efPmzaKiIicnp6KiImtr6/nz5+vq6vb29jY1Nd28ebOiooJEIsFfamlpOXnypJaWVnBwcEZGBplMhpGpq6t7e3uXlpaePXv24cOHHh4e2dnZGhoa7e3tTk5OMDoUFBQYGxvPmzfP0NAQiUS+fv365s2bxcXFTk5OBQUFeDzexsZmypQpPT09jx8/LikpqaqqsrW1hZGJRKI9e/bMnz8/Jyfn6tWrZmZmAJCXl6eqqtra2kqhUOBTampqGzZsqK6uPnPmTGVlpYeHh0gkUldX//jxo5OTE4wbZfh8vqGhob29/ezZs1VUVFpbW+/du1dQUGBlZZWdnW1ubk4kEg0NDT9+/Pjhw4eysrI7d+7MmTMHvuT27dunTp1yc3M7dOhQYmKis7MzDOLxeABApVL5fD6BQNi0aZOqqmpycnJ+fr6rqysASCSSN2/eODk5wZdIJBIul0sikYRCob+/Pw6Hg6+grq4uJSWFQCBkZ2eHhobq6urCWFdXV5eSkkIgEEQiEYPB0NbWhnH/cUKhcMWKFaGhoRgMJiIigsvlzp8/Hz7T3NwcFBQ0a9YsfX39vr4+FosVGRnp4uICn6mtrQ0ICFi3bh0ASKXSJ0+e9PT0IBCIvr4+DQ2NqVOnTpo0SSqVBgcH9/b2wrcBQaPRYHTg8Xjr16/39fU1MDD47bffYmJiDAwMYDgtLS1HjhyZM2eOnJxcWVnZoUOHFBQUYDjv3r27dOkSGo1+8uRJUlJSaWlpd3e3nJxcf3+/iorKvHnzli5d+uHDB19f3xkzZsCgzMxMDw8P+JZgMBgmk4lGo1ksFpvNxuPx8E/k5eWpq6vLycl1dHS8ffuWSqXCAD6fP2HCBBUVFZlM1t3d3dbWRqFQ4EtaWlpOnjyppaUVHByckZFBJpNhBEpKSqtXr7558+alS5dmz54NA969e2diYlJWVjZp0iQYTXJzc9XU1JBI5MePH9vb293d3WFAZmampqamoqIiAoHo6up6//69u7s7jCw3N3fnzp1mZmbZ2dk3btywsbGBAe3t7WZmZpcvX7awsIAhlJSUli9fLpFILl26ZGRkBAOePHliaWlZUVExefJkGDcqiUQiDQ0NJBLZ09PT1tZGoVBgUEFBgYaGBgD09PS8e/eOTCbD3/Dy5ctz587p6upu2rTp6tWrHh4e8JlXr16tX7++vb394sWLGAwGBpSXl2/duvXChQs4HA6+RCKRcLlcEokkFAr9/f1xOBx8BY2NjWw2297eXiwWh4SEYLFYGOukUmlycrKdnZ1YLD58+LC2tjaM+4/r6OiIjY01NzcXi8Vbt26dNWsWDKe6uprFYi1evBgA2tradu/eff78eQ8PD/hMS0tLaGgomUx+/fp1enr65cuXEQgEAPT19amoqOBwuI0bN759+zYyMlJbWxu+DQgajQajw9u3bwMDA8lkclNTU0JCApfLdXZ25vF4VCoVPvX69evExMQ5c+YgEIizZ8/GxMTMnDkThjN79uxDhw7Jy8vfunXL39+/rKzMzc0NBr148cLHxwcA9u/fb2trC98wDAbDZDLRaDSLxWKz2Xg8Hv49LS0tJ0+e1NLSCg4OzsjIIJPJ8JmcnJwFCxZ4eHiIRKLc3Nzm5mY3NzcA4PP5Xl5eM2bMuH79+uTJk2HMyc3N3bp164wZM/h8/q1bt2xtbWFAcXHxjz/+qK+vHx8fP2fOHBgkLy+/cOHC/Pz8nJwcKysrGCAUCmk02uzZs69evaqnpwfjvgFCofD7779PS0t78uTJ5s2bMRgMfCorK8vW1tbZ2fnjx4/Xr19/+PChh4cHDPjw4cP69esTEhKmTp0KXyKRSLhcLolEEgqF/v7+OBwOvoLa2loWi0UkEsVicXh4uJ6eHox1dXV1cXFxdnZ2OTk5LBZLV1cXxv2X3b59+/Dhw5s2bZLJZCEhIceOHaNQKDCcqqqqmJiYJUuWyGSympqazZs3YzAYGA4SiYyMjDQyMnr48CGDwejs7OTxeABApVIzMzMnTJjAYDD6+vrS0tJwOBx8GxA0Gg1GgdzcXH9///Xr1+vp6fF4vNjYWBQKBSPo6OiIiYmxsLBoa2tjMplpaWlOTk7wmaKiIjabvWzZMgQCkZ6ezmAwZs2aBUM8ffp069atz549Ky8vhyGKiopQKNSLFy+cnZ3h24DBYJhMJhqNZrFYbDYbj8fDv6elpeXkyZNaWlrBwcEZGRlkMhk+JRaLaTSat7d3V1dXXl7ehw8f5OXlZTIZACgpKVlYWEil0tOnTxsbG8PYUlRUtG3btmXLljU0NJSVlbW1tSEQCDk5OZlMNnHiRCMjo8rKyri4OEdHRwDIzMz09PT08fHp7OwsKSl5/fo1EomUyWRIJFJNTc3c3Ly5ufno0aPGxsYw7huQm5vr6+vLYDD4fL63t/fcuXNhCB6PRyQSN23aNGXKlPLy8sbGxu7ubgQCIS8vr6ioaGFhIZPJwsLCjI2N4UskEgmXyyWRSEKh0N/fH4fDwVcgkUjCw8MdHBzy8/Pj4+OnTZsGY92DBw8YDIa1tXVeXl5SUtLUqVNh3H9Wdna2i4tLYmLijBkznjx5snHjRnV1dRjBo0ePYmNjXV1du7u7r1y54uPj4+DgAJ8RCoWbN28ODw9XU1MrLi729/fX1dWFIfh8fkRERHNz8y+//DJnzhwYJBaLp02b1tTURCQSYcxB0Gg0GAUePXoUGRnp4uLS19eXmJh47NgxW1tbGAEGgwkNDZ0yZcrt27dDQ0OVlZVhOM+ePTt16tTs2bO7u7uDg4PPnj1rZ2cHQ7x+/Xrx4sXFxcUymQyGUFZWnjBhAo/Hs7a2hm8DBoNhMploNJrFYrHZbDweD/9bmZmZ5ubmenp6AGBjY7N582YVFZWMjIz8/Px37969evWqrq6OQCAAQF5e3sKFC/ft22dmZvbu3bv29nZ5eXkkEgkD5OXlOzo6fvrpJzabjcfjYQzJysry9fX18fHR1dV9+/Ztd3c3EolEIBBIJBIAVFVVm5ubORyOVCoFgOzsbFdX15CQEHNz8/fv33d1dSGRSAQC0d/fDwDy8vJdXV2XLl2KiYnB4/Ew7htQXFwcHx+/cuXKqKiosLAwNzc3GCQUCkkk0pYtW5ydneXk5Nra2mQDAEBeXl5OTk5dXf3SpUt0Ot3Kygq+RCKRcLlcEokkFAr9/f1xOBx8BXV1ddHR0SQSKTc3NyIiYtKkSTDW1dfXs1is+fPn5+TkxMXFTZw4Ecb9Z5WUlAQEBOzZswcABALB5s2bra2tYTh8Pp9EIsXExFhYWLx8+fLAgQPv3r2D4dy/f9/f39/b27u9vf3atWsHDhywsrKCIXJzc/ft2/fgwQMej+fo6AgDBAKBjY0NgUA4e/bsnDlzYMxB0Gg0GAUQCMThw4fNzc0fP358+PDht2/fwsgIBIKPj4+CgkJaWlp8fPysWbNgOEgk8sSJEzo6Os+fP9+8eXNubq6rqysMUVVVhcPhHjx4MGfOHBiUn58fGRlZWVl58eJFe3t7+DZgMBgmk4lGo1ksFpvNxuPx8L+Vk5Pj6elpaWnZ29urq6s7adIkBALR3Nz8+vXrnp6e2tra7OxsMzMzALh9+/a6deuWLl0qk8lgOM3NzRcuXLhy5YqLiwuMIXl5eQkJCWZmZn19fchBiEEAUFtb+/PPPyORSAAoLCxct27dihUrkEgkYggY9PLly19//fWXX34hk8kw7hvw4MGDjIwMExOT5cuXIxAIGKKoqGjp0qU0Gg2NRvf19cnLyysoKPT09CgqKvb29sKAX375hcvlEggE+BKJRMLlckkkklAo9Pf3x+Fw8BU0NjYmJiaSSCSRSESn07FYLIx1UqmUzWY7ODhkZ2czmUw0Gg3j/rOkUumxY8dIJBIAxMbGHj582M3NDYaTm5vr5eXFZDK1tbULCgrWr19vaWkJw/n48WNISAiRSHz16lVqampERISbmxsMkZ2dbWdn9/Tp0/r6eiqVCgNu3769bNmyadOmRUZGEggEGHMQNBoNRgE9Pb3AwMCpU6eWlpYePnxYSUkJRlBWVsblcl1cXBobGxkMxuXLl52dneEzfD7f29s7OjpaRUWlsLBw586d+vr68CmBQIBEIikUCgwhLy+/fPnypKSkmzdvUqlU+DZgMBgmk4lGo1ksFpvNxuPx8L+VmZlpYWExefLk7u5uAOjr6+vv71dQUEAMeP36dW1trYODAwCIRKLZs2dPmjSpt7e3fwAAyGQyGIBAILq6uqRSqbm5OYwtfD7fxcVFQUEBiUT29/fLZDIYhEQiAeDt27f19fXW1tYAwOfzzczMpkyZIhsEAIgBMKCjo+PRo0empqYw7hvA4/HIZPLFixcfPXpEo9HMzMxgCJFIZGBgMHnyZDk5uf7+fplMpqCg0Nvbq6Cg0NvbCwAIBKK2tlYqlXp4eMCXSCQSLpdLIpGEQqG/vz8Oh4OvQCqVHjt2jEQiiUQiOp2OxWJhrKuvr2ez2SQSKTs7OywsTFtbG8b935SWlqqrqzc3Nzs6OsL/UGZmJolEOnbsmJGRUXd398qVK69du0alUmE4Eolk3759Pj4+LS0tHA6nvLwchiMUCletWhUQEGBoaPjw4cPDhw93dXXBp3g8nqKiIplMhiGam5tXrFhx//79V69ewViEoNFoMAp89913AQEBaDT62rVrERERkyZNghFoaGgcOXJES0srPT09Li5u5syZMByxWBwVFbV9+3YASE1NDQ8Pnzt3LnxJcXFxYmKiVCpls9l4PB6+GRgMhslkotFoFovFZrPxeDyMGzfuPysrK0tbWxsAXr9+7ebmVlhY6OvrS6fTz549u23bNldXV/hqJBIJl8slkUhCodDf3x+Hw8FXIJVKjx496ujoKBKJ6HQ6FouFsa6+vp7D4RCJxKysLCaTqaOjA+P+D4RCoZeX1+zZs69cuaKtrQ3/Q0Kh0MPDIz4+ftq0aa9evSISicbGxjCCt2/fRkZG2tnZFRQUBAYGYrFYGM6tW7d8BqBQKLFY7Ovra2hoCF9SUlKydOlSS0vLpKSkadOmwViEoNFoMArgcLjg4GA0Gv3zzz/HxcUZGhrCcEpLS48dO7Z06dLy8vJDhw7l5OS4urrCcMrKys6fP08gENrb2w8dOsTlch0cHOBLtLW1t2zZEhISoqGhAd8SDAbDZDLRaDSLxWKz2Xg8HsaNG/ef1dTURKVSe3t7f/vtN2Nj45aWlsjISCMjowMHDrx9+xa+JolEwuVySSSSUCj09/fH4XDwFUil0oSEBGdnZ5FIRKfTsVgsjHV1dXXJyckODg4CgSAsLAyDwcC4/4O7d++mpKSYmpoGBQVdvnzZw8MD/lcEAoGrq2tCQoK+vn5NTY2zs7ONjQ0Mp7CwcMOGDYGBge3t7UePHk1KSnJ1dYXh1NTU+Pv7r1mzpre395dfftm7d6+TkxP8JT6fTyaTf/zxx5qaGhaL5e7uDmMRgkajwSigrq5+6NCh6dOnc7ncxMREIyMjGI6WllZUVJSSklJCQkJqaqqtrS0Mh8/nW1tbX758GYPBvHjxYseOHVlZWWQyGUaWmZk5b9686OhoqVQaEBAwf/58+JZgMBgmk4lGo1ksFpvNxuPxMG7cuP+siRMn+vv7Nzc3x8bGPnr0aMOGDQsWLBAIBAwGw87ODr4miUTC5XJJJJJQKPT398fhcPAVNDQ0JCYmOjs7i0QiOp2OxWJhrKuvr09KSnJwcODz+eHh4RgMBsb9H3R3dx8/frytrS0gIEBVVRX+t168eJGYmIjH4+/du+fi4kIkEmE4XV1dwcHBc+bMuXjx4sGDB21sbGAE7969CwoKolAoz58/P3r0aE1NDfwlHo9nbm6+efPmyZMnx8XFoVAoGKMQNBoNRoGmpqawsDAHB4fr16+zWKwpU6bApzIzMw0MDI4fP25vb3/+/PmEhAQDAwMYQU5Ozvr16+Pj4+Xl5e/du+ft7T158mQYWVZWlqmpqa+vr6ura0BAwK+//kqhUOBbgsFgmEwmGo1msVhsNhuPx8O4ceP+s5SUlLZs2fL+/fvCwsKpU6fOnDmzoqLi9OnTs2fPhq9MIpFwuVwSiSQUCv39/XE4HHwFDQ0NR48edXJyEolEdDodi8XCWNfQ0MBms4lEokAgCAsLw2AwMO7/wNTU1N/fPy8vj8FgTJ8+Hf63SktL6XT6tm3bGhsbnZ2dLSws4DMNDQ3bt2/39PSsrq6OiopSU1ODkSkrKx84cMDS0vL+/fsRERGdnZ0wMqFQqK+vv2rVKiqVmp2dHRERQSKRYIxC0Gg0GAWys7N37dq1devWN2/eJCQkXL161cXFBYZ4+vTpzp07PT098/Pz/f39jYyMYDgCgUBOTm7GjBkMBsPT0xMA+Hy+r6/v06dPEQNgEAKBkJOTU1NTmz59urm5+eLFi8lkskQiWb9+/XfffQffGAwGw2Qy0Wg0i8Vis9l4PB7GjRv3n3Xz5k07OztLS0s1NbXXr18XFhbeuXPHw8MDvj6JRMLlckkkklAo9Pf3x+Fw8BXU19cfP37c0dExJyeHTqfr6urCWNfQ0MBms4lEokAgCA8P19HRgXH/kEAgUFZW7u/v19TUjImJ8fDwuHTpUlJSklQq7erqcnd3h/8VHo/n4OBw4sSJ6dOn+/n5nTp1ytXVFYZ4+PDhmjVrli1b1tTUdPToURiBUChEIpHa2trbt2/39vbW1tYuKCgICwtTU1MDAIFAIBsAAAoKCgCgoaGBwWAsLCwWLlzo7Oz85MmT8PDw/v5+GLsQNBoNRoeKigpfX98lS5aUl5cnJSXdunWru7sbiUQqKSmZmpoeOHDA3t6ez+cnJiZOnjwZPnPr1q25c+caGhqi0WgTExMqlaqqqgoAt2/fvnjxYmdnJwKBAAAEAgEDVFRUdHR0pkyZMnPmTAMDAy0tre7u7iNHjpSWlsK3B4PBMJlMHR2d2NhYNpuNx+Nh3Lhx4/45iUTC5XJJJJJQKPT398fhcPAV1NXVsdlsR0fHnJwcOp2uq6sLY51UKj1+/LiDg4NQKAwPD9fR0YH/rMzMTHl5eQCQDUAgEACAQCBgAIVCgUGZmZny8vIAIBuAQCBgAAKBAAAKhQKfyszMlJOTkw2AAQgEor+/38PDg8/nW1lZrV69WlVVVU1NzcbGRltbu7q6ur6+vr29XSwWZ2ZmOjo6wv9Kdnb2pk2bQkNDW1pagoKCRCJRZ2dnX1+fsrKyhYXFmjVrSCRSbW1tamqqQCCgUqkwiMfj/X/swQlQEwf/MODfhkNFLAJJFhQVgreiYkUSSEICyFX9d62v9dWqtdb79caAQBaVoLSJtlqyEESitbfVttYWkpAsKuKJRwQBWYIntSLeioKQ/WaYcUZHacvXQjXs88TExOh0uoCAgEGDBnE4nMGDB4tEIh8fHwCoqKj46aefqqur7e3t7ezs6BYA4Ozs3LNnz759+/br18/HxwdF0UePHu3atSstLc3Pzw9sF4JhGLwySktLP/jgg7fffru5udlsNl+7ds3e3r5v3779+/enaXpHi9DQUHiZy5cvz5s3LzAwsLGxEQCQFgCAIAgAIAgCLZAW8AwEQWiabmpqunbt2rJly0aOHAmdj6enZ1JSEofDUalUarWaz+cDg8FgtF15eXl2drZIJNLpdPHx8TweD9oBRVFqtVoikZhMJhzHURQFW1ddXZ2eni4SiQwGQ2pqKpvNhtdTfn6+RCIZMWIETdP19fVNTU0Igtjb2zs6Onbp0uXx48e7d+8eNWoUAOj1+nHjxg0ZMoTFYtXX1z958gRpwWKxunfvDgAkSXp6esJT+/fvj46O9vHxaWxsbGhoAAAWi+Xo6Hj//v1Dhw7179+foqj//Oc/LBZrzJgxQqHw/v37+/fvv3z5cnNzc1FR0YEDByIjI6EDGY3GWbNmLViwwGq1nj59ura21s7OjsvlDhw4sEuXLrm5uVqtdtiwYfAyJpMJx/HAwEAnJycEQQAAQRBoQT8DnkIQxM7OjsViIQjS3NxsZ2d3+fLlr7/+eu/evZGRkWC7EAzD4FVCkqS/v79IJPL19UUQ5PHjx/fu3SsrKysuLu7fvz+0TqfTcbncN954g6ZpAEAQBAAQBIG/gKbpxsbG+vr6urq6qKgo6Hzq6+tnzpzZs2fPH3744aeffhKLxcBgMBhtd+jQocTExICAgMLCwuzs7JEjR0I7oChKrVZLJBKTyYTjOIqiYOuqq6vT09NFIpHBYEhNTWWz2fB6Onr06KRJk0JCQnx8fPr169etWzcWi9XU1HTjxo0rV65QFLV58+aBAwcCQEFBwdSpU4VC4eDBg729vZ2dnWmafvLkyZ07dywWy5UrV3bs2PHGG2/AU8XFxfPnzx83bhyPx+vevTtN042Njb/99tuBAwe++OILDw8PeKp3797r1q0rLy+PjY3t1asX/Htyc3NHjhwZFBQ0aNCgLl26AMC9e/coiiouLi4vLw8LC4PWHT9+3MXFxc7OjqZpAKBpGlrQLaAVCIJYrVYAaGhouHnzZlhYGNg0BMMwePXk5+d37doVAGiabmxsDA8PB0Z7ampqmjt3rpOT09dff/3jjz9KJBJgMBiMtjt58qRMJgsICDh8+HBGRoafnx+0A4qi1Gq1RCIxmUw4jqMoCrauuro6PT1dJBIZDIbU1FQ2mw2vrcLCwq5duwYHBy9fvlwgEDx48MBoNKakpNy4caOpqYnP58NTBw4ccHR0HDly5IoVK6KiomiaPnLkSHp6+sGDBwHg5s2b0dHR8Iz9+/ez2ey5c+e+9957t2/f/vrrr3/99dfffvvt3r17MTEx8FRoaOjs2bOzs7PT09NHjBgB/zaDwdClSxe6hdVqDQsLA8Y/BMEwDBidnpubW0JCApvN/vTTT7OysgQCATAYDEbblZaWZmZmhoeH5+XlxcfH+/r6QjugKEqtVkskEpPJhOM4iqJg66qrq9PT00UikcFgSE1NZbPZ8Jqrra1NTEx86623bty4kZWVdfLkSWjFiRMn5HL5ggULaJr+5ZdfVq9ePXDgQGhdr169IiIiTCbTN998IxQK4XkGg0Gv148YMWL58uXffvttZGQkMGwXgmEYMDo9FEXlcjmHw1GpVARB8Pl8YDAYjLYrKSnRarVisdhoNK5atcrHxwfaAUVRarVaIpGYTCYcx1EUBVtXXV2dnp4uEokMBkNqaiqbzYbX3KVLl+Lj46dMmXLr1q2tW7ceO3YMWrF//365XL5ixQqr1Zqbm5uYmDhgwABoRWlp6bx58x49evTFF18MHz4cXnD9+vUff/zx5s2bCxcudHNzA4ZNQzAMA0anh6KoXC7ncDgqlYogCD6fDwwGg9F2Z8+ezcnJkUgk+fn5q1at4vF40A4oilKr1RKJxGQy4TiOoijYuurq6vT0dJFIZDAYUlNT2Ww2vOYqKytjY2Pff//9+vr6L7/80mAwQCuOHTuWlJQ0f/58mqbz8/MTExN9fHzgZXQ63YwZMwYPHmwymUiSjIqKghfweLz169cbjca4uLhBx7nDiAAAIABJREFUgwYBw6YhGIYBo9NDUVQul3M4HJVKRRAEn88HBoPBaDuz2ZyTkyOVSg0Gg0wm4/F40A4oilKr1RKJxGQy4TiOoijYuurq6vT0dJFIZDAYUlNT2Ww2vOZKS0uXL18+b9685ubmvXv3fvjhh+PGjYMX5ObmRkVFrVy5MiQkpKmpqaCgIDk52cPDA17mt99+mzp1anl5+d69ewUCAbyAJMktW7ZMmTIlOzv7448/Hjt2rE6nGzp06MOHD4cMGQIMm4NgGAaMTg9FUblczuFwVCoVQRB8Ph8YDAaj7cxmc05OjlQqNRgMMpmMx+NBO6AoSq1WSyQSk8mE4ziKomDrqqur09PTRSKRwWBITU1ls9nwmjtz5syyZcsWLlxoZ2dnMpmmTJkilUrhBefOnZsyZcqECROGDRvm5OR08ODBlJSUN954A16g0+kWLVrE5XJ3797t5eUFL1NeXr5jx44hQ4bgOP7FF19IJJKLFy9GRUWdO3fOzs4OGDYHwTAMGB3ozJkzb7zxhtVqbW5uZrFY0AJ5Cv6yxsbGW7duBQUFwT8BRVG5XM7hcFQqFUEQfD4fGAwGo+3MZnNOTo5UKjUYDDKZjMfjQTugKEqtVkskEpPJhOM4iqJg66qrq9PT00UikcFgSE1NZbPZ8JorLi5esmTJsmXLHB0di4qKJk6cKBQK4QVdunQZNWpU3759g4OD+/Xrd+LEiZSUFHt7e3jB3bt3J0+efOTIkb1794aGhsLL1NTU7Nq1q1u3bosWLbJarYWFhdOmTevVq9cvv/zC4XCAYXMQDMOA0VEOHjw4d+7cgQMHIgjS3NxsZ2cHADRNw1MIgsDLIAgCz7t7925RUZFerw8NDYW/DUVRuVzO4XBUKhVBEHw+HxgMBqPtzGZzTk6OVCo1GAwymYzH40E7oChKrVZLJBKTyYTjOIqiYOuqq6vT09NFIpHBYEhNTWWz2fCaO3LkyKJFi1atWuXk5HTy5Ml33nln9OjR8LyKiorp06fX1tZ26dJl5syZw4cPLysrUygUjx8/hucdPXp06dKlDQ0Ne/bs6d+/P7SirKwsIyNj+PDha9asOXnypJ+f36BBg06fPm00GkUiETBsDoJhGDA6SlFR0f/+9z8/Pz97e3uaphEEoWkanoEgCLwMgiDwvFu3bplMpp9//lkqlcLfhqKoXC7ncDgqlYogCD6fDwwGg9F2ZrM5JydHKpUaDAaZTMbj8aAdUBSlVqslEonJZMJxHEVRsHXV1dXp6ekikchgMKSmprLZbHjNFRYWzpkzJz4+3tXV9dy5c9OnT/f29oZn5Ofnv//++717987Ly/P09JTJZAEBARRFKZXKuro6eJ6dnZ1UKt27d29RUVFERAS0wmAwTJw4cerUqZWVlbdv32axWKWlpUePHg0ICACGLUIwDANGBzp58iSKonZ2djRNIwgCLRAEgRY0TcNf8+jRo99//z0oKAj+CSiKyuVyDoejUqkIguDz+cBgMBhtZzabc3JypFKpwWCQyWQ8Hg/aAUVRarVaIpGYTCYcx1EUBVtnsVjUarVIJDIYDKmpqWw2G/4Jubm5AIAgCPwN0dHR0Hb79++fMWPG6tWre/XqRVHUokWLnJ2d4Rl1dXVTp04tLCzMy8sTiUSJiYkCgaC6unrTpk2//fYbPKO4uHjVqlWXLl367rvvxo4dC38oLy8vMDDQx8eHpulz586Vl5dHREQAw0YhGIYBo9NDUVQul3M4HJVKRRAEn88HBoPBaDuz2ZyTkyOVSg0Gg0wm4/F40A4qKys3btwokUhIklQoFJ6enmDrqqqqNm7cGBQURJKkUqnkcrnw95AkGRAQwGazaZoGAJqm4f8LgiC3b98+f/786NGjoS1MJtO7776bmJjI4/EuXrwYFxf35MkTeMpkMi1ZsqR79+5fffXVwIEDHz9+nJiYKBKJLl68uGnTpqtXr8Iz3N3dxWLxtm3bjh8/Hh0dDQzGUwiGYcDo9FAUlcvlHA5HpVIRBMHn84HBYDDazmw25+TkSKVSg8Egk8l4PB60g4qKiqSkpMDAwCNHjmzevLlfv35g6yiKSkpK8vf3P3r0aEZGRu/eveHvKSkp+eSTT4YNG0bTNADQLaDtHBwcSkpKMjMzu3btCm2h1+snTJiwZs2aoUOHXrt2TaFQXLt2DZ6qr6+fMmXKvn379Hp9ZGTknTt3EhMTx40bV1NTs3nz5qqqKniqoqJCoVDo9foffvhBLBYDg/EMBMMwYHR6KIrK5XIOh6NSqQiC4PP5wGAwGG1nNptzcnKkUqnBYJDJZDweD9pBeXn5Rx99JBaLCwoKPvroIy8vL7B158+f/+ijjwQCwcGDBzdu3Ojh4QF/T2FhoUQi8fLyomkaAGiahv9ftbW1J06cGDFiBLTRkydPFAqFv7//rVu3Nm3aVFZWBi0OHTqE43htbe1XX301atQoALh27VpCQsLbb79948YNgiDMZjO0yM3NXbVqVZ8+fT766CN/f3/oKAUFBd26dWtqanr48GFkZCQwXlUIhmHw7zl48GBzczNN0/C3IQgCfxtN0/A8BEFomn7y5ElkZCT8c3Q6HYIgkZGR8GpAUVQul3M4HJVKRRAEn88HBoPBaDuz2ZyTkyOVSg0Gg0wm4/F40A4oisrMzBSJRCaTCcdxFEXB1lVVVWk0muDg4IKCgrVr17q5ucHr7/79++vXrw8MDLx37x5BEMePH4cWdnZ248ePz87O5nK50MJisaxevfq///3vgwcPtm3bVlhYCC2uXLmydu3ar7766qeffoqKioIOcfr06fHjxwcFBd28efOXX35xcnKCttDpdA4ODiwWC149Vqs1LCwMbAiCYRj8SyorK1euXOni4kLTNLSgaRraCEEQAEAQBP4MgiDwZ2iahudZrVZHR8erV6/u2bOnZ8+e8Pfo9fphw4Z5e3s7Ojo2Nzfb2dnRNI0giJ2dHQDQNA0taJqGFjRNQwuapuF59+/fpyhqyJAh8E9AUVQul3M4HJVKRRAEn88HBoPBaDuz2ZyTkyOVSg0Gg0wm4/F40A6qq6szMjKCg4ONRiOO4x4eHmDrLl68mJGRIRAISJJct26dm5sbvP5u3bqVlpYWFBT08OHDrKyswsJCANDpdARBHD9+fPfu3SKRCFqUl5fHxcXNmjWroaHhiy++WLZsWVRUFEmSCoXC1dV19erVY8eOhY5iZ2e3evXqMWPG1NfXf//99wkJCYGBgfDXnD17dubMmSNGjIB/FE3T8E9obGz89ttvEQQBW4FgGAb/kmvXrhEEweVyWSwWAFhbQBshCAIvQBAE/r/QNA3PY7FY9vb25eXlGRkZTU1N8PeYzeZPP/00MDDQ0dGRpummpiYEQVgsFjwPQRD4Mzdu3Pj+++/T09ODg4Phb0NRVC6XczgclUpFEASfzwcGg8FoO7PZnJOTI5VKDQaDTCbj8XjQDqqrqwmCEAqFJpMJx3EURcHWXbx4Ua1WBwcHG43GlJQUd3d3eP1dvnx5zZo1//d///f48ePPP/9cp9MBgJubW1RU1Pr16318fOCp06dPx8fHL1iwAEGQn3/++b333gsPD3/y5MmKFStkMlm/fv2gA3Xp0iUpKcnPzw8A9u7du2TJkjfffBP+GoqiEhIShEIhPGW1WpuammiaRhCE1YJuAU8hCALPQBAEXkDTNPxtNE0/evRo06ZNd+7cAVuBYBgG/5KCgoLBgwfb29uzWCyappubm61WK03T8JchCALPQBAEWiAIAv9faJqG59nZ2dE0XV9f//vvv/P5fPh7jEajWCz29PS0t7e3Wq00TbNYLKQFvICmaWjdnTt3ysrKfH194Z+AoqhcLudwOCqViiAIPp8PDAaD0XZmszknJ0cqlRoMBplMxuPxoB1YLBa1Wi0Wi00mE47jKIqCrauuriYIQigU5ufnKxQKd3d3eP1VVVUlJSX997//bWho+O6773788ceKiooNGzbs3r37119/lUql8FRxcXFcXNyiRYvs7OwMBsO7777bvXv3hISEW7dupaWlRUVFQQeqrKxcsGDBO++8c+PGDY1G8+WXX44bNw7+GpIk+/Tp4+rqCk9ZW9A0jbQAALoFPA9BEGh/zc3Nly9fFggEYCsQDMOA0bF0Oh2LxQIAq9VK0zQA0DSNIAg8A0EQaIEgCLyM1WqNjo6GfwiKonK5nMPhqFQqgiD4fD4wGAxG25nN5pycHKlUajAYZDIZj8eDdlBVVUUQhFgsJkkSx3Eulwu2zmKxEAQhEokMBoNCoWCz2fD35OXl+fr69ujRg8Vi2dvbAwCCIADQ3NxstVppmoa/7N69e1evXg0NDYU2Kikpkclk8+fPb2xs3Ldvn0wmmzJlCpfLValUgYGB8Ixjx46tXLly0aJFTk5OBQUFCxYs8PPzmzVrFo7j3t7e0LHy8vK4XC6Hw2lsbKypqQkJCQHGqwrBMAwYnR6KonK5nMPhqFQqgiD4fD4wGAxG25nN5pycHKlUajAYZDIZj8eDdkBRFEEQISEhJEniOM7lcsHWWSwWtVotFosNBoNCoWCz2fD3mM3mzZs39+nTh6ZpBEEAgKZpAKBbwF9mZ2dXXl6+fft2Z2dnaKNTp04tXrxYJpM9efLEaDRmZWXNnj1bo9F06dIFnnfo0KElS5YsXbq0Z8+ex48f/+STT0JDQysqKi5cuAAMRusQDMOA0elxuVwcx93d3ZVKZWZmpkAgAAaDwWi7M2fObN++XSKR6HS6+Ph4Ho8H7YCiKIIgQkJCSJLEcZzL5YKts1gsarVaLBYbDAaFQsFms+HvKSwsnD9/fu/evWmaRhAEAGiahrZzdHSsrq42GAx9+/aFNjpy5MiHH36YkpJC03RZWVlJScmlS5dUKpVEIoHn7d+/f968ebGxsVwu98KFC/n5+Q0NDUqlcsyYMcBgtA7BMAwYnZ67u3tKSgqbzU5LS8vIyAgKCgIGg8FouzNnzuzcuVMkEuXn569atYrH40E7oCiKIIiQkBCSJHEc53K5YOssFotarRaLxQaDQaFQsNls+NuKi4u7desGACwWC0EQaDur1QoA9fX1d+7cCQ8PhzYiSfL999//9NNP7ezs7t69e+DAgeTkZB8fH3iB0WicNWtWfHy8l5fXgwcPjh8/vm3btkePHgGD8YcQDMOA0em98cYbOI67ublt3rw5KysrKCgIOpDZbB44cOD9+/fNZvO4ceOA8TIlJSVDhw6tr68vLi6WSqXAYLROp9MNGDDAw8Pj1q1bFotFIpFARykpKdFoNCKRyGg0JiQk+Pr6QjugKIogiJCQEJIkcRzncrlg6ywWi1qtFovFBoNBoVCw2Wx4/el0umnTpmVmZjo6Ol6/fl2pVFZXV8PL6HS6adOmJSYm+vr63rx584cfflAoFG+++SYwGH8IwTAMXm06nQ5BEKvVGh0dDYz2QdP03Llze/To8dVXX+3evVssFkNHoShqxowZQUFBd+7c+fzzz5ubm4HxgvLy8tmzZ4tEovv372dlZel0uoiICGAwWnH9+vUZM2YMGzaMoqhvvvmmR48e0FFOnjyZnJz85ptvHj58eMuWLcOGDYN2QFEUQRAhISEkSeI4zuVywdZZLBa1Wi0Wiw0Gg0KhYLPZ8PrLzc2dNGlSVlZWly5ddDpdUlJS//79oRVdunRJTk4eMmTI4cOHU1NTu3btCrYrLy+PxWLRNB0VFQWMvwHBMAxePXl5eZ6env369eNyuRwOB0GQhoaGu3fv1tTUnD9/XiQSwZ/R6XR2dnY0TQNAc3MzgiA0TQOAnZ0dAERERMDzdDodi8Vqbm5GWtA0jbRobm6Ojo4GW+fg4DB37lxnZ+cvvvhi165dIpEIOoTBYPi///u/DRs2+Pj4AMDOnTsXLVo0btw4YDyvqalp8+bNvr6+AKDVauVyeWBgIDAYL5OXlzd37ty4uLg+ffpcuXKFIIjz589DRzl27FhqaurYsWMLCws3b948dOhQaAcURREEERISQpIkjuNcLhdsncViUavVYrHYYDAoFAo2mw2vv9zc3JiYmPT09IaGhuTk5D179kRHR0MrmpubFQqFp6dnVlbWJ598IpFIwOYcO3bM29vb09OzZ8+eDg4OTU1NDx48qKuru3jxop+fHzxPr9fb2dlZrVaapuEZLBYLQZDw8HBonU6nY7FYzc3NAIAgCDwVFRUFtgXBMAxeMXl5ef7+/kKh0NPTE0EQBwcHmqYRBHF0dOzWrdupU6f27dvn5+cHrTMajQEBATwer6lFY2Mji8Vqbm62t7d3dHR88uQJRVHnzp2LjIyEFgcOHBCJRK6uro8fP2axWEgLFotlb29fU1NjNpsFAgHYNBRF5XJ5z549N23apNFo+Hw+dAi9Xj9+/HilUunt7Q0An3/++bJly6RSKTCe19jYuGXLlv79+wPA9u3bk5KSAgMDgcF4mdzc3AULFshkMi8vr8uXL2dmZlZUVEBHOXXq1Pbt20NDQ3Nzc1evXu3r6wvtgKIogiBCQkJIksRxnMvlgq2zWCxqtVosFhsMBoVCwWazwSbcu3cvPj6+uro6KSlJLBZD627durVq1SqaplUqFZvNBptTVlYWFhbWq1cvBwcH+xYsFsuhxeXLl/ft29evXz94iiRJsVjs7u7e3Nzc1NRE0zQAIAhiZ2fn6OjY2NhoNpv79+8PL1NWVjZ8+PDu3bs3NjYCAKtFc3NzbW3tG2+8AbYFwTAMXjG//fbb+PHjXV1dzWZzRUVFbW2t1Wrt3r27j4/PO++8M2rUqJ9++mnXrl39+/eHVhQVFU2fPj0sLMze3v6NN95wdnZmsVh0i3v37l25ciUvL++XX34Ri8XQ4uTJk3FxcQEBAc7OziwWi6bpx48fP3jw4NGjR8eOHfv2228HDRoENs3Dw2PNmjVubm5paWkZGRlBQUHQUcrLyz/44IOQkJC6urqsrCx7e3tgvMBsNn/44YehoaF3797NzMzU6/XR0dFgo/Lz8wcMGNCnT5/r16+XlpZGREQAo42uX78+c+bMoUOHlpeXf/PNN66urtBRSkpKtm/fLhKJDAaDTCbj8XjQDiiKIggiJCSEJEkcx7lcLtg6i8WiVqvFYrHBYFAoFGw2G2xCaWlpUFCQxWLhcDjwh06fPi0SiR49emQ0GqVSKdiWU6dOzZgxw8PD49y5c6WlpbW1tU1NTU5OTv369QsNDQ0KCiorK8vKyurVqxe0OHny5P/+9z9fX18XFxc3NzcHBweapgHg0aNH9+7dq6mp2bNnj4ODA7zM48ePJ0+ePHz48B49etA0/fjx4wcPHty4caOoqOjChQtgWxAMw+BVUlZWNn36dBcXl927d7u7u8Pzzp8/v2HDBj6fr9VqMzIyAgIC4GV0Ot2QIUMGDRrUs2fPiIiIcePGOTs7A8Dly5dzc3OLiopOnTpVVVUVExMDLUwmU1hY2OTJk6dNm9bQ0HDx4sXz58+XlJRcvny5oqLi7NmzEokEbJqHhweO425ubkqlMiMjQyAQQAc6evSor6/vrVu3Bg0aBIxWHDx4cOjQoXV1ddXV1TExMWCjDAZDYGDg4sWL/fz8rl69um7dOldXV2C0ndls5nA4dXV1I0aMgA5UXl6+detWsVhsMBhkMhmPx4N2QFEUQRAhISEkSeI4zuVywdZZLBa1Wi0Wiw0Gg0KhYLPZwLAVJpNp8eLFgwcP/uqrrwoLCyMjI+EZpaWlS5YsmTRpktFoXLNmjb+/PwCYTKaAgAA3N7dhw4a99dZbI0eOdHR0vH///pEjR3799VeKosrLy0eNGgUvc+bMGYlE8sEHHwiFwmvXrp05c8ZsNlMUdebMGW9vb7AtCIZh8MrQ6/UffPDBO++8U1JSsm3btgEDBsALHj9+nJ6ebrVa4+Li9Hp9VFQU/KHbt2+rVKrRo0fb2dnl5+evXbuWy+XCC3Q63YwZMzZt2nTgwIFvv/32xIkTQ4cOhU4DRVEcx9lstlKpJAhCIBAA41WVm5sbExMDNurIkSMzZsxQKBRdu3YFgE8++aSwsBAYr4/S0tKtW7dKpVK9Xh8XF8fj8aAdUBRFEERISAhJkjiOc7lcsHUWi0WtVovFYoPBoFAo2Gw2MGzF7du3169fX1ZWtm3btjNnzsTExMDzrl69mpaWFhgYuH79+vPnz8MzjEbj//73v4ULF/br1+/GjRuff/75+vXrJRIJ/CGLxRIbG+vv7/9DC19fX7BRCIZh8MqoqqpKSEgYP378/fv3MzMzP/nkk8jISHhefn5+dnb2u+++++WXX3788ceDBg2CP7R///7169fPnDnT2dmZoiiFQrFnz56IiAh43rVr11avXu3g4LB27VovLy/oZFAUxXGczWYrlUqCIAQCATAY/4aioqLJkycnJiZ6enreu3fv008/PXv2LDBeH6WlpdnZ2RKJRK/Xx8XF8Xg8aAcURREEERISQpIkjuNcLhdsncViUavVYrHYYDAoFAo2mw0MWxEcHDx//vxu3bpptVqlUunn5wfPO3r06KJFi+RyeWlp6axZs/r27QvPuH///po1a0Qi0ePHj/Pz81NSUry8vKB1R48enTVr1tixY41G47fffisWi8F2IRiGwSujtrZ2zZo1ERERt27d2rJli1KpjIqKghf4+/uvXLmypqYmMTExNzc3KioK/hBN05s3b/b29m5sbNy6deuWLVuGDx8OT+Xl5fn6+sbGxnK53KSkJB6PB50PiqI4jrPZbKVSSRCEQCAABuNfUlFRMXXq1KCgoLNnz3722Wf+/v7AeH2UlJTk5OSEhITo9fq4uDgejwftgKIogiBCQkJIksRxnMvlgq2zWCxqtVosFhsMBoVCwWazgWETTpw4kZWVFRMTgyBITk5OWlqan58fPM9gMLz77rufffZZ9+7d58+f/+WXX0ZFRcFTR44ckcvlH374Ybdu3c6dO/fxxx/fv38fWpGfnz9t2rSQkJDDhw9/9913IpEIbBqCYRi8MkpKSubPnx8WFmY2m7Oysjw9PeFl+vfvHxcX161bN4VCsW3bNrFYDH9Ip9Pt2LFjwoQJTk5Ohw8fXrt2bffu3eEpi8Uyf/784cOHr1692sPDAzolFEVxHGez2UqlkiAIgUAADMa/SqfTRUVFAeN1U1JSotVqxWKxXq+Pi4vj8XjQDiiKIggiJCSEJEkcx7lcLtg6i8WiVqvFYrHBYFAoFGw2Gxg2wWAwyGSy6dOnV1dXp6Wl9ezZE1qRlZXF5XI3bty4du3acePGwTO6d+++evXq4cOH19bW7tixIyUlZdy4cfCCvLy8SZMmTZw4sbi4ePv27UFBQWDrEAzD4FVy8uRJV1fX2tpaPp8PrfDy8oqLi3N1dU1PT8/MzHzzzTfhz/Tt21cmk3l5edXV1W3YsGHr1q3jxo0DgNOnTy9evHj06NEbNmwoKiqKioqCTglFURzH2Wy2UqkkCEIgEACDwWC0XUlJiVarFYvFer0+Li6Ox+NBO6AoiiCIkJAQkiRxHOdyuWDrLBaLWq0Wi8UGg0GhULDZbGDYCqPROHDgwJs3b167di0mJgZexmq1ajQaT0/PHTt2LF26NCwsDJ5RW1ubkJAQHR1ttVoLCwuXL1/u6+sLL2hsbJw7d+7p06d37tw5atQo6AQQDMPgVZKbmxsTEwPP0Ol0ABAVFQVP9e/fPzExsXv37hqNJj09ffjw4fBnrl69mpaWJpVK7ezs9u3bl5qa2qtXr/Ly8mnTpo0ZMyYnJ8dqtUInhqIojuNsNlupVBIEIRAIgMFgMNqupKREq9WKxWK9Xh8XF8fj8aAdUBSVlZUVHBxsMplwHEdRFGydxWJRq9VisbigoGDdunWurq7AsF06nS4qKgqeys3NjY6O3rZtG5vN3rdv38yZMyUSCTzj2LFjixcvXrBggZub2/Xr1zdu3FhVVQXPq6urW758+aVLl7Zv396/f3/oHBAMw+DVU1BQ4O/vHxgYiKKoo6NjY2NjZWVlfn6+n58fAPj5+S1fvtzZ2Tk7O/uzzz4bOnQo/BmDwbB27do5c+a4urpeuHBh8+bNhw4dmjBhwsiRI7/99tvc3Nzw8HDoxFAUxXGczWYrlUqCIAQCATAYDEbblZSUaLVasVis1+vj4uJ4PB60g6qqKpVKFRwcbDKZNmzY0Lt3b7B11dXVKpVKJBIVFBSkpaWx2Wxg2Jyamho+n9+7d29HR8cnT55cuXKlqKioX79+eXl5b7/9dlZWVs+ePU0m0+TJk0NCQuB5Dg4OCQkJ/v7+DQ0NP//884oVKwICAuApiqLi4+Pv3r375Zdfenp6QqeBYBgGr5KioqKgoKDw8HAfH58bN26cPXu2tra2S5cuAwYMcHFx+eabb44fP56WljZnzhwHB4eMjIz09PRRo0bBX/DgwQOFQjF27NhHjx4dPHjw4sWLzs7OJEn+9NNPEokEOjcURXEcZ7PZSqWSIAiBQAAMBoPRdiUlJVqtViwW6/X6uLg4Ho8H7eDMmTMLFy4cNWrUyZMnd+7cOXjwYLB1ZrN53rx5fn5+Z86c+eabbwYMGAAMm5CXlwcAAQEB0dHRQ4cOvX//fklJyZUrVxwdHfv16+fk5HTs2LHi4uIJEyaoVKru3bv/+uuvM2bMCAkJgeedP38+Li5u1qxZAHD27Nm4uLhu3bpBi2PHjuE43rVr161bt3p4eEBngmAYBq+MU6dOTZ06NTIy8tGjR/n5+YWFhVevXn306JG9vX2fPn0EAsHw4cO1Wu2aNWveeuuthoaGTz/9NDMzMyAgAP6CgwcPrlmzZtq0ae7u7rdv3y4uLt61a9e+ffuCgoKg00NRFMdxNputVCoJghAIBMBgMBhtV1JSotVqxWKxXq+Pi4vj8XjQDiorK9evXy8WiwsLCzds2NCrVy+wdZWVlampqUKhcP/+/Zs2bfL09ASGTTh48OD48eOnTZtmZ2dnNBoPHjx4+fLl+vp6BEHfXvGJAAAgAElEQVTYbPaYMWMGDBhAUdTgwYMTEhLs7e137ty5dOlSqVQKz8vPz58+fTqO4717975+/fpnn31WVlYGAAcOHFi1apWvr++3335rMBgiIiKgM0EwDINXw7lz5z744IPx48fX1NTs3LkzPz9fKBTCM4qLi2Uy2YULF+bNmzdkyJC7d++uX79eq9WKRCL4a5ydnVeuXDlq1Cir1frTTz+tW7fO19cXGAAoiuI4zmazlUolQRACgQA6UEFBAZfLffLkyahRo4DRCoPB0Ldv3wcPHowZMwYYzzh06JC7u3tdXZ1IJALGU0eOHHFzc6uvr7927VpMTAx0lJKSEq1WKxaL9Xp9XFwcj8eDdmCxWAiCEIlEBw4cSEpK4nA4YOuqq6sJghAKhQUFBWvXrnVzcwPG648kyQ8++ODDDz988uSJVqvdu3fvmDFj4BmnT58eP378iBEjXF1dJ0+eDABqtToxMTEsLAxecOvWLblcPm7cuPr6+oKCgg8//PDhw4dz5swJCwvbsWOHyWSSSCTQySAYhsEr4MyZMwsXLpw8efLdu3czMjJ27dollUrhBe7u7hiGhYSE9OjR4+rVqwkJCXv27ImMjIS/5vr162vWrAkNDXVwcCgsLFQoFN27dwcGAIqiOI6z2WylUkkQhEAggI5y8uTJ8ePHBwUFPXjwYMeOHZ6ensB4wfHjx99+++3Q0NC6urodO3acOXMmOjoaGAAXL1585513BgwYUFZWtnXrVoFAAAyAioqKCRMmjBw58tKlS7t37+7Xrx90lJKSEq1WKxaL9Xp9XFwcj8eDdlBZWZmZmSkWi0mSxHGcy+WCrbNYLBkZGUKhkCTJdevWubm5AeM1ZzQap02bJpPJ2Gz2xo0bd+7c+eabb8LzdDpdeHj4kiVLvL29Bw4c2NjYmJiYSBBEVFQUvODs2bNLly6dN29e165dL1y4gOM4giDvvfeeXq/fuXNnSEgIdD4IhmHwb8vNzV2wYMGyZcu4XO7nn3++efPm4cOHw8s0NjZu2rRp8ODBAHDo0KGEhAQ2mw1/jdFonDhx4uzZs/39/V1cXH777bdt27alp6cLhULo9FAUxXGczWYrlUqCIAQCAXQIvV4fHh6+bt26YcOGPXz4UKvVJicnR0REAOMZubm5EolEqVQOGzasqakpMzPz448/FggE0OkdPnx42rRpsbGxvXv3vnz5ckJCwqNHj4AB0LNnzxUrVgwePPjChQvp6ek1NTXQUUpKSrRarVgs1uv1cXFxPB4P2kFlZWVWVpZQKDSZTDiOoygKtq6qqiozM1MoFJpMpnXr1rm7uwPjdZabmxsREZGamjpy5Mjc3FyZTDZw4EB4mRs3bqSlpfH5fAcHh7q6utmzZ9vZ2cHLmEymd999NykpycfH5+HDh4cPH759+/bp06e//vrr0aNHQ6eEYBgG/7YbN25s2LBBLBaXlZWtX7/+xx9/jIyMhJd5+PBhVlaWj48PAGRkZKhUqlGjRsFfYDQax48fLxaLu3Tp4ufnN3r0aKvVajAYFAqFp6cndHooiuI4zmazlUolQRACgQA6hNFofOeddzZu3MjhcABg9+7dc+bMkUqlwHiGTqeLiYlRq9Wenp4A8OOPPy5dunTMmDHQ6RUXFy9YsEAmkzk6OjY2NsrlcoqigAHg7e2dkJDA5XJra2sJgjh79ix0lJKSEq1WKxaL9Xp9XFwcj8eDdlBVVbV161aBQECSpFwuR1EUbB1FURqNRigUmkymdevWubu7A+N1dvr0aaVS+e677zY2Nq5atWrbtm2RkZHwMr/99tumTZuEQiEAnDhxYsaMGUOGDIFW/P777ziOx8TEAMC1a9d27dq1cePGMWPGQGeFYBgG/yqj0bh27dr58+c7Ozt//fXXSqXSx8cHWmG1WgmC8PLyevDgwfLly3ft2hUWFgZ/Jjc3Nzo6evLkyZWVlYcOHYqKipo9e7a7u3tZWdmmTZtu3boFnR6KojiOs9lspVJJEIRAIICOcv369aVLlwqFwrq6um3bttXU1ADjBRaLJTY2Njw8/M6dO5mZmV988UVoaCh0eiRJRkVF/e9//+vbt29lZeX69evd3NyAAfD48eOFCxcOHz68oqJi27ZtNE1DRykpKdFqtWKxWK/Xx8XF8Xg8aAdVVVXZ2dl8Pp8kSRzHuVwu2DqKojQajVAoNBqNKSkp7u7uwHhtGQyGCRMmZGRkuLm5lZWVzZ07l8vlQivu3LmjVCoDAgKam5szMjLi4+MjIyOhFSUlJQkJCR9++CEAFBYWxsbG9u7dGzoxBMMw+FddvHgxKytr7NixT548SU5O3rZtm1AohFZ4enquX7/e1dX18OHDK1as6NWrF/wZvV4vEonef//9GzdubN++3cfHBwDi4+P5fP7Nmzd37doll8vFYjF0biiK4jjOZrOVSiVBEAKBADoKSZIjRowYPXr0tWvX9u/fHxwcDIwX5OXljRo1SiwW19TU6PV6kUgEjBZHjhwZO3Zs3759KyoqevToAYwWhw4dGj16NI/Hu3z58vHjx4VCIXSUkpISrVYrFov1en1cXByPx4N2UFVVlZ2dzefzSZLEcZzL5YKtoyhKo9EIhUKj0ZiSkuLu7g6M19bp06fXrl07a9YsANi1a9eyZcv4fD68jNFojI6OTktL8/X1rampWbx4Mfwhi8WSnJz8n//85/79++np6SdOnIDODcEwDP5V9vb2n376qZeX1+XLl1euXNnc3AytCw0NXbhwYXNzc3p6+pYtW8aMGQN/pq6ubsmSJXfu3MnKyiotLY2JiamoqFi1atV7773XtWvXs2fPJiUl2dvbQ+eGoiiO42w2W6lUEgQhEAiAwWAw2q6kpESr1YrFYr1eHxcXx+PxoB1UVVVlZ2fz+XySJHEc53K5YOsoitJoNEKh0Gg0pqSkuLu7A+P1lJubGxQUtHnz5pEjRzY3NyckJGzZsiUmJgZe5vDhw9OnT09OTnZycjIajXPmzBk7diy0rqGhYf369f7+/pcvX16yZAmLxYLODcEwDP5VAwYMiI+Pd3d3P3jwYHx8vIeHB7Ti1KlT3333HZ/Pr6ysXL16tdFoDAsLgz9EUZRMJuvatevGjRu9vLyghclkmjlzZmxsrI+Pz4MHD7RarVwuDwsLg04MRVEcx9lstlKpJAhCIBAAg8FgtF1JSYlWqxWLxXq9Pi4ujsfjQTuoqqrKzs7m8/kkSeI4zuVywdZRFKXRaIRCodFoTElJcXd3B8bryWAwTJw4cfPmzWw2+86dO5MmTXrjjTegFWVlZatWrZo7d25tbW1aWtrFixehdfv37//vf/+bkpLC4XCOHTv27rvvjh49Gjo3BMMw+FcFBgYuXbrUycnpu+++S0lJGThwILxMXl7eO++8k52d3b17923btikUitGjR8MfOnnypFwuZ7PZn376KZvNhmfU1NTEx8dPmjQJAA4dOiSTyTw8PKATY7PZiYmJbDZ706ZNmZmZQUFBwGAwGG139uzZrVu3hoSE5OXlJSYm9u/fH9pBVVVVdnY2n88nSRLHcS6XC7aOoiiNRiMUCo1GY0pKiru7OzBeT/v3758yZYpKperRo0dVVVV0dPTw4cOhFffu3Vu/fv3YsWOLiopWrlzp5eUFrTt16tTChQtXrlyJIMiePXvmzJkzbtw46NwQDMPgXzVmzBiZTGZvb5+env7JJ5+MHj0aXsZsNm/ZsmXChAnl5eWzZ88+depUTEwMtO7EiRNxcXGDBg1KTEzs27cvPC8/P3/WrFmJiYm9evWqra1NS0u7ePEidGIIgixevNjNzS0nJ+frr78Wi8XAYDAYbXf69OmUlJQ333yTJMnPPvts+PDh0A6qqqqys7P5fD5JkjiOc7lcsHUURWk0GqFQaDQaU1JS3N3dgfF6MhqN//nPfzZv3uzi4pKfnz916lSRSAQvc/r06blz565YseLWrVsbNmy4du0a/KFLly4lJSVNmjTp3r17mzZtOnv2LHR6CIZh8K/y9PRMS0tzcnL6+OOPCYLg8/nwgtzc3KlTp27atKlr167JyckajSYiIgJad/To0eXLl0ul0vj4+J49e8LL3L17NzExMTw8vKGh4Zdffpk7d25ISAh0Vo6OjgsWLOjRo0dOTs53330XEhICDAaD0XbFxcVr164dO3bsoUOHNm/ePHToUGgHVVVV2dnZfD6fJEkcx7lcLnSUgoICT09PJycni8UilUqho1AUpdFohEKh0WhMSUlxd3cHxuspLy8vJiZm8+bNffv2/fnnn6dNmzZu3Dh4mebm5jVr1gwdOvSrr75KSkoKCgqCP3T37l2FQhEcHFxdXS2Xyx89egSdHoJhGPyr7t69m5GRMWDAgJycnI8//njEiBHwgosXL27atCk0NHTPnj3x8fF+fn7QuoqKisWLFwsEguTkZAcHB2jFsWPHlixZsmzZMicnp0uXLslksidPnkBn1atXrzVr1vTo0UOpVGZmZgoEAmAwGIy2O3fuXE5OjkgkMhgMMpmMx+NBO6iqqsrOzubz+SRJ4jjO5XKhQ5w4cWLatGmLFi3q0qXLl19+uXbt2oiICOgQFEVpNBqhUGg0GlNSUtzd3YHx2qIoav369W+//fb+/fsnTJgQHh4OL6AoSiaTTZw48eTJk3K5nMvlwp/p1q1bWlqal5fXsWPHVq5c6enpCZ0egmEY/KsOHjyYkpIyZ86c48ePr1q1qlevXvC8y5cvJyUlRUdHGwyGVatWDR8+HFpx4MABkUj0/vvvBwcH6/X6+fPnR0VFQStMJtO0adMSExP79u1bX1+/d+/e5cuXBwUFQafk6emZnJzs4uKycePGjIwMPp8PDIbNMRqNw4YN8/LyqqioGDBgADDagdls1mq1EonEZDKtWrXK29sb2kFVVVV2djafzydJEsdxLpcLHeLKlStr1qyZMGECAFRWVr799tuDBw+GDkFRlEajEQqFRqMxJSXF3d0dGK+tgoKCSZMmqdXqxsbGiRMnuri4wPPMZvOiRYumTJlCUdSWLVtYLBb8maKiomXLlq1atcpqtebn569YsWLEiBHQ6SEYhsG/raKiQqFQiESiX3/9VavVFhcXR0dHA8Dp06eDgoKmTZvm5+dXWFioVCp9fX0BIDc3NyYmBlrk5+f7+/uPHj3ay8tr4MCBo0aN6tOnD4vFunjx4ueff15QUODq6grPKy4uFolEgYGBY8aMCQwMtLe3B4CbN2/u3bu3srLy4cOHer1+2LBh0Jl4eHgkJye7uLhs3LgxMzOTz+cDg2FbioqKJk6cOH/+fC6Xe/z48ZSUFB8fH2D808xms1arlUgkJEnGxsZ6e3tDO6iqqsrOzubz+SRJ4jjO5XKhQ1RVVSUkJEybNg0Ajhw5MmnSpMDAQOgQFEVpNBqhUGg0GlNSUtzd3YHxOisuLl6xYsX8+fNPnz6dkpJy5MiR8PBwADh69OjYsWMnTZoUEBBQXl6+bds2k8kUExMDL2MwGKRS6aBBgxwcHHg8XlhYmK+vLwCUlZX98ssvdS1++OEHqVQKnRWCYRi8Ampra2fOnDlmzJjbt29TFHXnzp2uXbt6enp6eHjcvXu3sLAwLy9v4MCB8Izc3NyYmJiDBw9GRUVJpVJXV1cWi9WlSxc7OzsWi2VnZ1dXV/f999///PPPMTEx8AyLxTJx4kR/f39HR0cAQBDE3t6+qampoaHh8ePHjx49UqvVffv2hc4ERdE1a9a4uLhs3LgxMzOTz+cDg2FbKIpasmTJjBkznJycampq1q5dW1dXB4x/mtls1mq1EomEJMnY2Fhvb29oB1VVVdnZ2Xw+nyRJHMe5XC50CJPJFB4ePnHiRADQ6/W7d++Ojo6GDkFRlEajEQqFRqMxJSXF3d0dGK+58vLy6dOnv/3223fu3CktLb1z546jo6OHh4enp2d9ff2JEydIkjSbzWFhYdCKAwcOvP/++wEBASwWy97e3snJCUEQq9Xa2Nj45MkTmqavXr26adOmwMBA6KwQDMPg1VBSUuLn5zd06NA+ffp079798ePH169fLy8vP3/+/NWrVwUCAbxMbm6uh4cHiqIsFquhocFqtdI0bWdn5+DggCDIlStXAgMD4Xn79+/v1atXjx49mlvQNG1nZ0fTNAAgCNLU1HThwoXQ0FDoTFAUTU5OdnFx2bhxY2ZmpkAggI6l1+utVmt0dDQwWmc0Gq1Wa0REBDDazmw2z549e/78+T179jx37pxcLndwcACblp+fb7VaIyMjoQOZzWatViuRSEiSjI2N9fb2hnZQVVWVnZ3N5/NJksRxnMvlQkchSbJ3797Nzc2///57aGgodBSKojQajVAoNBqNKSkp7u7uwHj9nTx5csiQIf7+/v369evRo0dzc3NtbW1FRUVlZeWlS5euX78eExMDf8hsNrPZbARBrFZrcwtowWrR0NBAUVRMTAx0VgiGYfDKyMvLY7PZrq6uDg4OjY2NDx48uHnzZnh4OHSU3NzcmJgY6HxQFE1OTnZxcVGpVBqNRiAQQEchSXL06NESieTOnTu7d+8eM2YMMF6g0+mCg4NDQ0MfPHjwww8/DBkyBBhtlJ+fP3r06LfeegtF0eLi4u+//z4oKAhs1NGjR0Ui0ZAhQy5dulRQUDB69GjoKGazWavVSiQSkiRjY2O9vb2hHVRVVWVnZ/P5fJIkcRzncrlg6yiK0mg0QqHQaDSmpKS4u7sDw1YUFRW5uro6OzsDwP3792/cuCGRSIDxT0AwDANGp4eiaHJysouLi0ql0mg0AoEAOsqtW7dWrlwZFBR07969rKyszMzM8PBwYDzv6tWr69atCwwMbGhoyMzMTE9Pl0qlwGgjo9Ho4eHh5OR048aNwMBAsGlLlizx8/M7f/68RqN5+PAhdBSz2azVaiUSCUmSsbGx3t7e0A4oitq6dWtQUFBBQYFcLudyuWDrLBaLWq0Wi8UmkyklJcXNzQ0YDMafQTAMA0anh6JocnKyi4uLSqXSaDQCgQA6hE6nmzx5skqlQlEUAH788cf58+cHBwcD4xk6ne6tt97aunWrm5sbAOzbt2/evHl8Ph8YjJfJzc1dunRpfHw8m82ura1NT08vLS2FjmI2m7VarUQiIUkyNjbW29sb2oHFYtFoNEFBQQUFBXK5nMvlgq27ePFienq6UCg0Go0pKSnu7u7AYDD+DIJhGDA6PRRFk5OTXVxcVCqVRqMRCATQIXJzc8VicXJyckBAwL1797Zt26ZQKKKiooDxvBs3bqSlpQUGBtbX12dlZX388cchISHAYLTC2dl52bJlgwYNqqys1Gg0dXV10FHMZrNWq5VIJCRJxsbGent7Qzu4cOFCdnZ2QEDA/v37k5KSuFwu2LoLFy6o1WqhUGgymdauXctms4HBYPwZBMMwYHR6KIomJye7uLioVCqNRiMQCKCjFBUVRUdHi8Xi33//fdeuXTweDxgvKCgomDBhQkRERE1NzTfffMPj8YDBaF1paWlMTMzgwYOrqqry8vIGDRoEHcVsNmu1WolEQpJkbGyst7c3tIOKioq0tLSAgICCgoJPPvmkX79+YOvKysrWrl0rEAgOHjyYnp7u5eUFDAbjzyAYhgGj00NRNDk52cXFRaVSaTQagUAAHSg/P5/D4dy/f18kEgGjFSaTycvL686dO4GBgcBg/JnCwkJnZ+cHDx6IRCLoQGazWavVSiQSkiRjY2O9vb2hHZw5cyY2NnbEiBEnTpzQarUDBw4EW1dSUrJ06dJRo0YdP378888/79+/PzAYjD+DYBgGjE4PRdHk5GQXFxeVSqXRaAQCATAYDEbbmc1mrVYrkUhIkoyNjfX29oZ2UFFRkZ6eLhaLSZJct26dh4cH2LoLFy6oVKrg4GCSJNPS0rhcLjAYjD+DYBgGjE4PRdHk5GQXFxeVSqXRaAQCATAYDEbbmc1mrVYrkUhIkoyNjfX29oZ2UFVVpdFogoODCwoKcBzncDhg6y5cuJCeni4SiUwmU0pKipubGzAYjD+DYBgGjE4PRdHk5GQXFxeVSqXRaAQCATAYDEbbmc1mrVYrkUhIkoyNjfX29oZ2cOnSJbVaHRQUVFBQgOM4h8MBW3fhwgW1Wi0UCo1GY0pKiru7OzAYjD+DYBgGjE4PRdHk5GQXFxeVSqXRaAQCATAYDEbbmc1mrVYrkUhIkoyNjfX29oZ2UFVVRRCEWCw2mUzJyclcLhc6Sl5eXrdu3RAEefz4cWRkJHSUqqqqjIwMkUik0+lSU1M5HA4wGIw/g2AYBoxOD0XR5ORkFxcXlUql0WgEAgEwGAxG25nNZq1WK5FISJKMjY319vaGdlBVVUUQhFgsNplMycnJXC4XOoTJZBr3/9iDE7Cm6/8B4O8vIB5os8FOr4FCHmiesO82YMjp6vfzW5Y/88zKI608hprKJm7AYBv3qdLMStPOn5oDGfuO2wNNJngMxhhoUnlrCSqw//PwPDyPPmaLfn9M4PN6hYTMnz/fxcVl//79t2/fhmfFbDZnZmb6+fkdPXpULpfTaDRAEMQejCAIQPo8BoMhlUopFIpKpcrOzsZxHBAEQbrOaDRqNBqhUEiSpFgs5nA40A3MZnNGRoa/v79er5dKpXQ6HZ6JhoYGqVRKEAQAGI3GN954w9vbG54Ji8WSkZEhEAjy8/PlcrmbmxsgCGIPRhAEIH0eg8GQSqUUCkWlUmVnZ+M4DgiCIF1nNBo1Go1QKCRJUiwWczgc6AZmszkjI8Pf31+v10ulUjqdDs/E5cuXIyMjZ8+eDQB1dXX/+te/XnrpJXgm6uvr09PTBQJBfn6+XC53c3MDBEHswQiCAKTPYzAYUqmUQqGoVKrs7GwcxwFBEKTrjEajRqMRCoUkSYrFYg6HA93AbDZnZGT4+/vr9XqpVEqn0+GZOHHixNy5c5csWTJgwIDvvvsuJiYmLCwMnon6+vr09HSBQKDT6eRyuaurKyAIYg9GEAQgfR6DwZBKpRQKRaVSZWdn4zgOCIIgXWc0GjUajVAoJElSLBZzOBzoBmazOSMjw9/fX6/XS6VSOp0Oz0p5eTmNRnNwcLh27Zqvry88K1arNS0tTSAQ6HQ6uVzu6uoKCILYgxEEAUifx2AwpFIphUJRqVTZ2dk4jgOCIEjXGY1GjUYjFApJkhSLxRwOB7qB2WzOyMjw9/fX6/VSqZROp0NvZ7Va09LSBAKBTqeTy+Wurq6AIIg9GEEQgPR5DAZDKpVSKBS1Wp2dnc3lcgFBEKTrjEajRqMRCoUkSYrFYg6HA93AbDZnZGT4+/vr9XqpVEqn06G3s1qtaWlpAoFAp9PJ5XJXV1dAEMQejCAIQPo8JpMplUopFIparc7KyuJyuYAgCNJ1RqNRo9EIhUKSJMViMYfDgW5gNpszMjL8/f31er1UKqXT6dDbWa3WtLQ0gUCg0+nkcrmrqysgCGIPRhAEIH0ek8mUSqUUCkWtVmdlZXG5XEAQBOk6o9Go0WiEQiFJkmKxmMPhQDcwm80ZGRn+/v56vV4qldLpdOjtrFZrWlqaQCDQ6XRyudzV1RUQBLEHIwgCkD6PyWRKpVIKhaJWq7OysrhcLiAIgnSd0WjUaDRCoZAkSbFYzOFwoBuYzeaMjAx/f3+9Xi+VSul0OvR2Vqs1LS1NIBDodDq5XO7q6goIgtiDEQQBSJ/HZDKlUimFQlGr1VlZWVwuFxAEQbrOaDRqNBqhUEiSpFgs5nA40A3MZnNGRoa/v79er5dKpXQ6HXo7q9WalpYmEAh0Op1cLnd1dQUEQezBCIIApM9jMplSqZRCoajV6qysLC6XCwiCIF1nNBo1Go1QKCRJUiwWczgc6AZ1dXUZGRl+fn4kSUokEjqdDr2d1WpNS0sTCAQ6nU4ul7u6ugKCIPZgBEEA0ucxmUypVEqhUNRqdVZWFpfLBQRBkK4zGo0ajUYoFJIkKRaLORwOdIO6urqMjAw/Pz+SJCUSCZ1Oh97OarWmpaUJBAKdTieXy11dXQFBEHswgiAA6fOYTKZUKqVQKGq1Oisri8vlAoIgSNcZjUaNRiMUCkmSFIvFHA4HukFdXV1GRoafnx9JkhKJhE6nQ29ntVrT0tIEAoFOp5PL5a6uroAgiD0YQRCA9HlMJlMqlVIoFLVanZWVxeVyAUEQpOuMRqNGoxEKhSRJisViDocD3cBisWRkZAgEApIkpVIpjUaDZ+jo0aNOTk73798XiUTwrFit1rS0NIFAoNPp5HK5q6srIAhiD0YQBCB9HpPJlEqlFApFrVZnZWVxuVxAEATpOqPRqNFohEIhSZJisZjD4UA3sFgsmZmZfD7fYDBIJBIajQbPxNGjR729vWfOnDl48GCdTkelUuFZsVqtaWlpAoFAp9PJ5XJXV1dAEMQejCAIQPo8JpMplUopFIparc7KyuJyuYAgCNJ1RqNRo9EIhUKSJMViMYfDgW5gsVgyMjIEAoHBYJBIJDQaDZ4Jk8m0bt26RYsWPXjwwGAwLFmypLm5WSQSQfezWq1paWl8Pl+n00VHR7u6ugKCIPZgBEEA0ucxmUypVEqhUNRqdVZWFpfLBQRBkK4zGo0ajUYoFJIkKRaLORwOdIPz58+r1Wo+n19UVBQXF8dms+GZaGpq2r59e1hYmM1ms1gsr7766tixY7VarUgkgm5mNptlMpmPj09paWlycjKTyQQEQezBCIIApM9jMplSqZRCoajV6qysLC6XCwiCIF1nNBo1Go1QKCRJUiwWczgc6Abnzp3bvn37tGnTSktLU1NT3d3d4Zk4e/bshx9+uHz5cgzDDh48uHz58qCgIHgmLly4EBkZ6ePjc+zYsYyMjGHDhgGCIPZgBEEA0ucxmUypVEqhUNRqdVZWFpfLBQRBkK4zGo0ajUYoFJIkKRaLORwOdAOLxZKamurn56fX67dt28ZgMOCZ0Gq17u7uPB5vwIABBQUFEyZMgGelrq4uKSkpICAgPz8/JqqYyXkAACAASURBVCaGTqcDgiD2YARBANLnMZlMqVRKoVBUKlVWVhaO44AgCNJ1RqNRo9EIhUKSJMViMYfDgW5gtVozMjJ4PJ7BYIiMjKTT6fAMkSTp6OgYEBAAz5DFYklLS/P39ydJMioqytXVFRAEsQcjCAKQPo/JZEokEgqFolars7KycBwHBEGQrjMajRqNRigUkiQpFos5HA50A6vVmpmZieM4SZISiYROp0NvV19fn5aW5ufnR5Lk9u3bqVQqIAhiD0YQBCB9HoPBkEqlFApFpVJlZ2fjOA4IgiBdZzQaNRqNUCgkSVIsFnM4HOgGVqs1MzMTx3GSJCUSCZ1Oh97OarWmpaUJBAK9Xi+TyahUKiAIYg9GEAQgfR6DwZBKpRQKRaVSZWdn4zgO9hw9etTT03PMmDEUCuXOnTs1NTVmszksLAweV1lZSaVSL1++zOPxoNPFixcnTZoEAGfOnJkwYQL0XgUFBWM6DB069Lfffjt//vzFixdFIhE8rrKykkajXbp0icvlQqeqqqrJkyc7OztXVFR4e3sD0pfU19ePHTt2yJAhd+7cOXfuXH19fWhoKDzOaDQOGzasvr5+xowZ0Kmqqmry5MkYhp09e3b8+PHwzBmNRo1GIxQKSZIUi8UcDge6gdVqzczMxHGcJEmJREKn06G3a2hoSE1NFQgEer1eJpNRqVRAEMQejCAIQPo8BoMhlUopFIpKpcrOzsZxHOz57bffuFxua2vrwIEDvby8fv75588//3zkyJHwOG9v70mTJh06dOjw4cOBgYEAcOLEibfeeuuNN96w2Wxffvnlrl27Zs2aBb3UrVu3cBx3dnYeOHCgh4fHr7/+umfPnmHDhsHjxo4dO23atO+++y4/P9/Pzw8AysvL33zzzfnz5zs6Oh44cKC+vh6QPuP333/39/e/d+/ekCFDxo8fX19f//XXX58+fXrWrFnQ6eTJkytXrpw+ffqBAwe+/PJLkUgEAHq9ftmyZW+++WZbW9vXX3+9f/9+HMfh2TIajRqNRigUkiQpFos5HA50A6vVmpmZieM4SZISiYROp0Nv19jYmJqayufz9Xq9TCajUqmAIIg9GEEQgPR5DAZDKpVSKBSVSpWdnY3jOPwps9m8aNGiW7dulZaWDho0aPXq1ePHj09LS2toaIBHnD9//rvvvhs9enRsbGx2djafzweACxcubNy4ccGCBQCwf/9+sVjs5+cHvVFtbe2cOXPu379/7NgxFxeX9957b/r06enp6bW1tfCI8+fPf/HFF5MmTdq2bdvu3bt5PB4AVFVVrV27dtmyZY6OjocPH16yZElQUBAgfYDZbF65cmVjY2NhYSGNRouIiBg5cuTOnTs1Gg2fz4cOWq3W398/NTV17NixMTExsbGxYWFhAFBWVqZQKBYsWAAA+/fvT0hIGDNmDDxbRqNRo9EIhUKSJMViMYfDgW5gtVozMzNxHCdJUiKR0Ol06O0aGxtTU1P5fL5er5fJZFQqFRAEsQcjCAKQPo/BYEilUgqFolKpsrOzcRyHp9Pr9WKxeODAgV999dWIESPq6uqioqJEIpFGo9m4cWNISAh0otFoGRkZDx8+XLFixX//+9/g4GAAOHbs2JIlS5YvXz5q1KiDBw+uXr0ax3HodYqLi99//30XF5eDBw+yWKyLFy9GRUXNnj173759a9asCQ4Ohk4MBkOhUAwYMGDlypXffvttSEgIAJSXl8+dO3fVqlXjxo3T6/VvvPGGUCgEpA+YMGECm81OSkry9va2Wq0KhUIgEOzdu1elUk2cOBE6FBQULFy4UKVS9e/ff82aNU1NTdBBp9MtX758xYoVI0eOPHjwYFxcnLu7OzxbRqNRo9EIhUKSJMViMYfDgW5gtVozMzNxHCdJUiKR0Ol06O0aGxtTU1P5fL5er5fJZFQqFRAEsQcjCAKQPo/BYEilUgqFolKpsrOzcRyHp2tqatq4cePevXvz8vJCQ0Pb29u3bNni7e29a9eurVu3hoaGQofi4uKYmJiVK1fW1tYuWrSIxWJBpwsXLqxevfrNN9/U6/WrV68ODAyEJ5AkCQAzZ86ErtDr9W1tbaGhofBPu3bt2vLly48cOXL48OHQ0NCHDx9KJBJvb+/PP/9cLBaHhoZCh9zc3NTU1Pfee6++vn758uUvvPACdDp79uzy5cuXLVtWWFi4ZMmS4OBgeITBYBgwYICjo+P9+/fv3bsXFhYGf1lhYWFbW1tQUBAgzxmj0Zienv7FF198//334eHh7e3tkZGRY8eO3bNnT1JS0qRJk6DD8ePH161bt3HjxqampsWLFw8ePBg6mUym9evX//vf/z569KhcLp8wYQI8rqCgwMnJSSgUgj0kSfbv35/P50NXGI1GjUYjFApJkhSLxRwOB7qB1WrNzMzEcZwkSYlEQqfTobdrbGxMTU3l8/l6vV4mk1GpVEAQxB6MIAhA+jwGgyGVSikUikqlys7OxnEcno7FYk2aNCk9Pd3T07OwsHDdunUrV668e/duQkJCU1MTdKqpqdm1axePxzt69OiKFSumTJkCj3BwcPjggw/Onj27ZcuW0NBQeIRWq2UymX5+frdu3aqoqODxePAXaLVaX1/fcePG1dTUVFZWCoVC+EfRaLSxY8fu2bPHw8OjuLh4xYoVH3zwwf3791NTU61WK3Q6e/bsp59+6ufnl5ubu2nTptGjR8Mj7t+/L5FIjEbj0aNHodOJEycmTpw4cuRIFxcXBweHBw8eNDU1XbhwwWq1hoWFabVakUgET6HVaqdPnz5p0qS6urpjx44FBwfDc6C4uHjUqFEDBgy4cuXKlClT4C8oLCx0d3cfPHjwlStXLl26JBKJwB6DwTBq1KjBgwdfvnx56tSp8FwaMmTIggULNmzYMHr0aAAYN27cRx991NbWlpSUtHv3bn9/f+hw4cKF+Pj42bNnnz59ev78+ePHj4dHuLq6rlix4tSpU7GxsdOnT4dHaLXa119/ncViHT582NvbG56uvLw8ODiYwWAcOXJk/Pjx8JcZjUaNRiMUCkmSFIvFHA4HuoHVas3MzMRxnCRJiURCp9Oht2tsbExNTeXz+Xq9XiaTUalUQBDEHowgCED6PAaDIZVKKRSKSqXKzs7GcRye7sUXX7TZbEeOHOHz+fX19VKp9NVXXy0rK4uOjn7hhRegU3Nz8549exgMRnJycnR0tJ+fHzzizp07ixYtOn/+fG1tLXQoLCx0dXV1dHQcPnx4aGjo7Nmzi4qKUlNTvby84C8gSTI+Pj48PHzfvn3Z2dnTpk2Df5Sbm1tra2teXh6Xy7VarWKxmCCIyspKmUzm4uICne7cubN79+7hw4dnZWUplcqpU6fCI5qamj744AOTyVRdXQ0dKioq3nzzzcmTJ//+++/Nzc2DBw/29PQcMmSI0Wj8/vvvjx07FhAQAE93/Pjxjz/+mCCIb7/9VqVScblc+Kfl5ua+8sorCxYscHNzMxgMn3/++cSJE+FP5ebmhoeHv/3220wmU6/XazSaSZMmwZ/Ky8ubOXPmO++8w2AwDAZDTk7O1KlT4Tmj1WrXrFnj5OSUlZUlFApPnjyZlJT0+uuvl5WVxcTEuLi4QAetVjt16tTdu3ePHTv2iy++WLlyZUhICDziwYMHS5cura6uTk1NDQgIgEeUlpYWFBQwmczly5fr9fqQkBB4irt37yYmJr744otr16794YcfRCIR/DVGo1Gj0QiFQpIkxWIxh8OBbmC1WjMzM3EcJ0lSIpHQ6XTo7RobG1NTU/l8vl6vl8lkVCoVEASxByMIApA+j8FgSKVSCoWiUqmys7NxHIen0Gq1Dh1CQ0MBoF+/fpGRkaNHj/7ss8/UavWkSZOgQ25u7nvvvZeUlPTw4cMNGzZoNJrw8HB4xJ07d2bPnn38+PHm5mYAOHr06IwZM+bMmdO/f383Nzdvb28PD49vv/1WoVB4eHjAX2AwGORy+eTJkz/77LOvv/46MDAQ/lHFxcVtbW2BgYEAgGHY5s2bx48f/9VXX8lkssmTJ0MnBoORmJjY1ta2devWvXv3+vv7wyOampoWLlx4+vTpW7duAcDx48fXrVvn5eX15ZdfFhUV3bp1q1+/fjweb8WKFTNnzjx//nx6evoPP/wQFBQET3Hq1KmIiIgZM2Z88cUXe/bsCQ0NhX/a2bNnJRLJ4sWLHRwcqqurY2Njm5ub4U9VVlZu2bJl2bJlAHDu3Dm5XH7//n34U+fOnduwYcOyZcsA4Ny5c9u3b3/48CE8f44dO9bS0hIYGAgATk5Ocrl85MiRqR18fX2hQ0FBwSuvvKLRaGw2W0REhEajEYlE8Aibzfbvf/+7vLz8+vXr8LizZ89+8cUXzc3NH374oZeXFzxdc3Pztm3bmpubN2/ezGaz4S8zGo0ajUYoFJIkKRaLORwOdAOr1ZqZmYnjOEmSEomETqdDb9fY2Jiamsrn8/V6vUwmo1KpgCCIPRhBEID0eQwGQyqVUigUlUqVnZ2N4zj8BTqdbsOGDe+///7du3eTkpL27NkTHBwMHYqKiiQSybp1637++ed33323oKBAJBLBI1pbW/39/X/44QcqlQoA+fn5np6e3t7ev//++6VLl1atWvXWW28dOXIkOjra3d0d/pqzZ88OGjTo559/FggE8NwoKChYtWrV+vXrW1pa0tLSsrKyQkNDoZNAIBCLxZcuXfroo4/gCS0tLXPmzNm/f/+QIUMAwNHRcdu2bTExMYcPHw4NDYVOzc3NkZGRXC738OHDcrl81KhR8HTV1dUDBw68cuWKn58fPAeqqqokEsmiRYscHByqq6sVCsW9e/fgTxmNxi1btixdutTR0bGmpiYuLu7mzZvwpy5evLh58+bFixcDQE1NjUKhuHXrFjzHCgoKoqOj33777WvXrm3fvv2bb74JCwuDDhUVFes7/PTTT6+++iqHw4HHubm5jR8//tChQ0OHDoXHFRQUvPTSS7/99pvVap01axY8HUmSXl5eLS0tY8aMga4wGo0ajUYoFJIkKRaLORwOdAOr1ZqZmYnjOEmSEomETqdDb9fY2Jiamsrn8/V6vUwmo1KpgCCIPRhBEID0eQwGQyKRUCgUlUq1Y8cOHMfhL7h48WJ8fLxIJNLpdHFxcVQqFTr9+OOP6enpr7766qlTpxYtWjRu3Dh4RGFh4bx589zd3Xfs2DFp0iR4QlBQ0OLFi48cOaJQKEaPHg092cWLF7du3Tpv3rzCwsKoqCgajQadSktL9+3bFxwcXFZW9sEHH7i7u8MjDAbD7NmzuVyuUqmcPHmyTqfbuHHjunXrjh07JpPJaDQadKqoqFi/fv2qVavq6+vlcnlzczM8hVarFYlE8JxxdnZ+7733aDTakSNHPv30U29vb3iEVqsViUTwOEdHx9WrV9NoNK1Wm52d/fLLL4M9GIatXbvW1dU1Ly8vPT198uTJ8Bw7f/58YmJicHCwTqeLjY1lMBjQqaGhISkpSSAQlJaWvvLKKyEhIfCIsrKy1atX//bbb3v37vX19YVnzmg0fvLJJ0KhkCTJiIgIDocD3cBqtWZkZOA4TpKkVCql0+nQ2zU2NqakpPD5fL1eL5fLqVQqIAhiD0YQBCB9HoPBkEgkFApFpVLt2LEDx3H4C/r3779t2zZPT091Bz8/P+hUV1d38OBBDofzxRdfrF271t/fHx5hMpnmzZt38+bNzMxMkUgETwgKClq8ePGhQ4fi4+PHjBkDPVl7e3tkZOTLL7+8c+fOyMjIwMBA6KDVaseMGZOfn89mszUajUQi8fX1hUfU1NTMmzfv4cOHVVVVAFBQUCCTydauXfvgwYP3339///79YWFh0KGsrOz9999fs2bN3bt34+Pjm5qaoEc5evToqFGjXFxcrly54uvrC39BXl7eyJEjhwwZYrVa/fz84C/Iz88fMWKEi4tLY2OjQCCA51tra6tcLh8zZszOnTszMjImTZoEHfLy8sLDw5VKJYfDyc7OJkkSHtfQ0DBv3rzz589/9dVXYWFh8MwZjcZPPvlEKBSSJBkREcHhcKAbWK3WjIwMHMdJkpRKpXQ6HXq7xsbGlJQUPp+v1+vlcjmVSgUEQezBCIIApM9jMBgSiYRCoahUqh07duA4Dn/BhAkT1q1b19LSIpPJPv30U5FIBB3y8vLCw8O//PLL/v37r1ix4urVq/A4Z2dnHx8frVb7wgsvwB8JDg5evHjxwYMH4+LiPD094enOnDkzc+bMESNG2Gy2kydPnjhxQigUwvOEw+FERES0t7er1erGxkZ4hJOT06effurs7Lxy5cr9+/eHhobC40JCQg4dOjRw4EDo0NzcvHLlyqampqysrNGjR0OnioqK1R1u3rypUCh++eUXeNyZM2dwHPfw8HBycqqsrDx+/DiPxwPkOcZisbZs2eLk5CSXyz/99NPQ0FDoQJLkggULoqOjHRwcZDJZfX09PM7BwWHKlCkkSVIoFOhUXl7O4/EmTZoEAGVlZSdOnAgODoYnGAyGCRMmTJkyxdXV9fbt2waDwcPDA7rIaDR+8sknQqGQJMmIiAgOhwPdwGq1ZmRk4DhOkqRUKqXT6dDbNTY2pqSk8Pl8vV4vl8upVCogCGIPRhAEIH0eg8GQSCQUCkWlUu3YsQPHcbCnqKgoMjJy2bJlFotl+/btNpsNOun1+nfeeScxMfHBgweBgYFMJhMecezYsaVLlzo6Ou7evdvHxwf+SHBw8JIlS/773//Gx8ePGTMGnuLcuXPr1q37+eefr1y5MnPmTDc3t7179x4+fNjf3x+eD4WFhWvXrl21atWvv/4aGxt77949eISXl1dMTExLS8trr702ePBgeMSxY8cWLlxIo9FSU1N9fHygg1arZbPZLS0tN27cAACRSAQdTCaTWCx+6623zp49K5VKXVxc4BG1tbXvvffe7du3r1275ufn5+bm9tVXX3399df+/v7wHNNqtSKRCPoqb2/vdevWXbt2LSoq6uDBg6GhodChtLR06dKlW7duvX379oYNGx48eACPyM/PX7VqlaOj4zfffDNx4kToUFJSMnfuXC8vr+rq6nnz5g0cOFAmkw0aNAgeV15eHhYW5uPj09DQ0N7ePmvWrNbW1sWLF/P5fOgKo9H4ySefCIVCkiQjIiI4HA50A6vVmpGRgeM4SZJSqZROp0Nv19jYmJKSwufz9Xq9XC6nUqmAIIg9GEEQgPR5dDpdIpFQKBS1Wr1jxw4cx8Ge0tLSLVu2vP322xcuXNi+ffugQYOgU2Fh4dq1a7du3frw4cMZM2Z4enrCI3777TehUPjjjz+2t7fDU4SEhCxatOjQoUNxcXFjxoyBP1JVVfXxxx9bLJZ9+/bdunVr8+bN8+fPP3LkSEpKytixY+H5UFxcvGbNmpUrV/70008xMTFtbW3wCB6PJxaLr1y58uqrr7q7u8Mjbty48a9//auqqurOnTtgj7Oz8+bNm9ls9p49e1JSUmbMmAGdqqqq1q9f39jYePDgwV9//XXdunULFy4sLi5Wq9WjR48G5Hk1adKktWvXNjQ0SKVSR0dH6HTixInVq1evWbOmqanpww8/HDhwIDzi1q1bc+bMKS8vP3jwYGhoKADodDqhUPivf/3rwIEDNTU1WVlZgYGBmzZt2rNnT0hICHTKzc0NDw/39/evrKzU6XR0On3btm2BgYHvvvuuzWaDrjAajTk5OUKh0GAwREREcDgc6Ab19fUZGRk4jhsMBqlUSqfTobdrbGxMTk7m8/kkScrlciqVCgiC2IMRBAFIn0en0yUSCYVCUavVO3bswHEc7NFqtWs7/PTTT1FRUf369YNOJpMpJiZm9uzZLS0tvr6+Y8aMgU4lJSVLly4dNGjQN9984+XlBU8REhKyePHiQ4cOKRSKMWPGwBMMBsP8+fN5PJ5CofDy8iooKJDJZPPnz//hhx8SExO9vLzg+aDValeuXBkREXH37l25XN7S0gKdzp49m52dHRQUdP369VmzZo0YMQI6lZaWzp8/f8SIEXv37uVwOPAIrVYrEongEU1NTRERETiO5+fnp6enjxw5Eh7B4XDGjRuXkpLi5eWl0+lkMtnChQsLCgoUCsWYMWMAeV5xOJxNmzbdunUrMjKyra0NOtXW1m7fvv21116zWCwffvjhgAEDoNOxY8fWrFnT0tLy7bffenp6Qofz588vWbKkpaUlISHBw8Nj3759HA7no48+OnDgQFhYGHRqamp6/fXXr169+vnnn+M4bjKZkpOT+Xz+smXLmpuboSuMRmNOTo5QKDQYDBERERwOB7pBfX19RkYGjuMGg0EqldLpdOjtGhsbk5OT+Xw+SZJyuZxKpQKCIPZgBEEA0ufR6XSJREKhUNRq9Y4dO3Ach7/g1q1bEonEw8NDo9F88sknPj4+AFBRUTFnzpzg4OARI0Z4e3uvW7fus88+mzlzJgCUl5f/+9//Hjt2rMFgKCgomDVrFjxFSEjI4sWLDx06pFAoxowZA08oLCxcsGDBL7/80traCgBnz55VqVR8Pn/Xrl07d+6cNm0aPDeuX7++ZcuWiRMn7t27NykpicvlAkBpaelbb70VFBQ0evToMWPGbN26df/+/T4+PgBQXFz8yiuvvPzyyydPnvzhhx9CQ0Ph6Wpra1etWiUQCE6fPp2Tk0On0+EROp3u/fffb2hoOHTo0KxZs86ePatSqfz9/b/44oukpKSpU6cC8ry6fft2TEyMh4dHTk7Ozp07p06dCgCnTp165ZVXZs+ePWLECAaDkZmZWVlZCR2Ki4vnzJkzfvz4I0eOlJaWhoeHQweLxRIYGFhRUXHq1Km33norJyfHZDK9++67LBYLHnH79u2XXnqpoqJixIgRAHDr1q2cnJx+/frNnj2bw+FAVxiNxpycHKFQaDAYIiIiOBwOdIP6+vr09HQej0eSpFQqZTAY0Ns1NDSkpKTw+XyDwSCTyahUKiAIYg9GEAQgfR6dTo+MjKRQKAkJCTt27MBxHP4Cg8Ewb968//znPxiGFRcXV1ZW2my2cePGDR8+vKKiwsXF5Z133rl3797Bgwerqqr69+8/duxYNze3U6dO6fV6Pz8/eLrg4ODFixcfOnRIoVB4enrCE7Rarbu7+7Vr1/z8/ADg5s2b8fHxTCYzLi7uwIEDAQEB8NwwGAwEQSxYsMDZ2bmwsLCysrK1tXXs2LEeHh6lpaVUKnXJkiX37t3Ly8szGo39+vUbPXo0jUa7cOGCTqfz9fWFp6uurl62bNnkyZNPnz79/fffDxs2DB6Xl5fn6en5yy+/8Hg8ALh+/bpCoRg2bFhKSsru3bsDAwMBeV6VlJT85z//mTNnDgAUFRVVVlY6OTl5eXlRKBSr1dqvX78FCxY4Ojp+/vnntbW1Li4unp6eVCq1oqKisLCQz+dDp+Li4qFDh/70009DhgyJiYl59913s7Ozo6KiBAIBPKKsrGzAgAE3btwICQkpLCycO3euUqn88ccf33jjDX9/f+gKo9GYk5MTEBBgMBgiIiLc3d2hG5jN5uzsbC6XW1xcHBkZSafTobdraGhITk7m8/kGg0Eul1OpVEAQxB6MIAhA+jw6nR4ZGUmhUBISEnbs2IHjOPw1p06dmjFjxrRp09zc3Jqbm+/fv//7779XV1cXFxc7OzsHBAT4+voOGjTo1q1b9+/fv3nzZnV1dWVlJZ/Phz8VHBy8ePHiQ4cOKRQKT09PsGfo0KESieTGjRsSiWTAgAHwnDl+/Pj06dOnTp3KYDDa2tpaWlp+//33ysrKkpKS/v374zjO5XIHDx589+7d9vb2GzduVFdXG41GHx8feDqTybRgwQIvL6/jx48fOnTI29sbAAoLC202W2BgIPyRwYMHb9my5c6dOwqFAsMwQJ5vZWVlOI5Pnz6dSqU+7HD79u0ff/yxoqLC0dExICBAIBAMGDDg6tWr7e3td+/eraysPHv2LJfLhT9y+fLl3bt3jxgxYu7cuYMGDYKnMxqN69evX7p06eeff3706FHoIqPRmJOTExAQYDAYIiIi3N3doRtcvHhRrVbzeDyDwaBQKIYPHw693cWLFxUKBZfLLSoqSkxMZLPZgCCIPRhBEID0eXQ6PTIykkKhJCQk7NixA8dx6IrTp09zOJyhQ4c+ePCgsbGxvr4+PDwcAPLy8lgs1pgxY/r373/v3j2LxXLlyhWRSAT2BAcHL168+NChQwqFwtPTE+yZNGnS6tWr8/PzY2NjX3rpJXgunThxYtSoUa6urm1tbVeuXLl48aJIJIIOp0+fHjVq1ODBgx88eNDQ0HDp0iWRSARPd+7cucWLFw8fPtxgMOh0Ol9fXwCoqKiYOnXq9evX6XQ6/BFvb+8VK1aUlZXFx8ePGjUKkJ7g9OnTI0aMePHFF1taWi5fvmy1WmfNmgUAWq12VAdHR8fm5uaGhoYpU6bAUxQVFb3zzjsymay8vHzevHl+fn5VVVXXrl0LDAyEJzQ1NcXGxk6aNEmhUFgsFugio9GYk5MTEBBgMBgiIiLc3d2hG5hMJolEMn369LKystTU1FGjRkFvd+7cuaioqGnTphUXF2dlZY0aNQoQBLEHIwgCkD6PRqNFRkZSKJSEhISdO3fiOA7/qKCgoEWLFv3www+xsbFeXl7wp/Lz87Ozs2fNmqVUKnfv3i0QCKBXu3Dhwpw5c1gslsFgKCws9Pf3hw5Xr16dNWvWuXPnmpub4QkGgyEpKWnWrFk7d+7Mzs729fUFpM+wWCzx8fE8Hi8+Pv78+fNnzpyZO3euTqfjcDjwuPz8/FdeeUUul2MYtn79+n79+kEXVVZW5uTkBAQEGAyGDRs2uLu7Qzcwm80xMTE+Pj5lZWVKpZLNZkNvZ7FYYmJifHx8DAZDUlISi8UCBEHswQiCAKTPo9FokZGRFAolISFh586dOI7DPyooKGjBggW5ubkxMTFeXl7wpy5cuLBv3z43N7d169ZptdrwdHANHAAAIABJREFU8HDovaqqqlatWjV58mSdTldVVdXS0uLo6Giz2ZydnadOnTpy5Mhvvvlm4MCB8ASz2bxjxw42my2VSg8cOCASiQDpG/Ly8kQiUWpq6u+//75ixYqhQ4dSKJQZM2bs2rXL3d0dHldSUrJw4cINGzbU19evXLnS09MTuqiysjInJycgIMBgMGzYsMHd3R26gdlsTk1N9fPzKyoq2rZtG41Gg97OarUmJSUJBAKSJKOjo11dXQFBEHswgiAA6fNoNFpkZCSFQklISNi5cyeO4/DM5eXlDR8+vLW11cXFZevWrSKRqKSkZOfOnSaT6cGDB7dv3w4ICIA/4uTklJycbLVaIyIimEwm9F5nzpxZuXLl0qVL79+/39TUBAAOHTAM69evn4uLS2VlpVwu53A48IQBAwbExsb+/PPPW7dupVAogPQZ+fn5b775ZlxcnMViWb16tc1me//994uLi3NzcwMCAuBxlZWVa9asWbRoUV5e3vr163k8HnRRZWVlTk5OQECAwWDYsGGDu7s7dAOz2ZycnOzv719SUrJt2zY3Nzfo7erq6hISEgQCQVFRUWxsrKurKyAIYg9GEAQgfR6NRouMjKRQKAkJCTt37sRxHJ65M2fOvPfeewMGDOjfv7+3t/fw4cN//fXXCxcu3Lx58+7duydPniwvLw8KCoInCASClStXHjp0KCoqavz48dBL5ebmzps3TyKRUCgUDMMAoL293Waz9evXz8HBAQDu3r37ww8/xMfHT548GZ7g6+v79ttv63Q6lUo1evRoQPoMrVbL5XLFYvHQoUP37NkzevToe/fuffbZZ9OmTYMnXL58OSoqysfHJzEx8eLFi9B1lZWVOTk5AQEBJElu3LjR3d0duoHFYklKSvLz8ystLZVKpW5ubtDbWSyWhIQEPp9fVFSkUCioVCogCGIPRhAEIH0ejUaLjIx84YUXEhMTd+7cieM4PHMnT5586623HBwcHjx4cP/+/fb2dkdHR2dnZwcHh3v37lVXV1dWVoaEhMDjysvLP/30U39/f7VavWPHDl9fX+il8vLyAgMDp0yZ0tbWBgDt7e0YhrW2ttpsNicnJwcHh+bm5osXL5aXlwcHB8PjKioq0tPTcRzXaDRZWVnTpk0DpC8xGAxTp04VCAQODg4///xzbm7u1KlT4Y/cu3cvNjbWxcVlzZo1gwYNgq6rrKzcuXOnUCgkSXLjxo0eHh7QDWpqalJSUvz9/Q0Gw/bt2xkMBvR2FoslMTGRz+eTJKlQKNzc3ABBEHswgiAA6fOYTObmzZspFEpiYuKuXbt8fX3hOZafnx8aGgodLl269Nlnnw0dOnTr1q3ffffdzJkzAemg1WpFIhF0+PXXX5OTkxkMRnR09P79+4OCggBBOmm1WpFIBAAGg2H+/Plbt249c+bMu+++y+PxoOuqq6vT09NnzpxJkuTGjRs9PDygG9TU1KSmpvr7++v1eplMxmAwoLezWCyJiYkCgUCv1ysUCjc3N0AQxB6MIAhA+rzhw4dv2LBh6NCharU6Ozubz+fDc6mgoGDixIl+fn4nTpx48cUXAWDEiBEymayiomLTpk2jRo0CpMPPP/8cEhJiMBjc3NwAgM1mb9261Wg0ymQyJpMJCNKhoqIiPDy8tbW1qKho8uTJNTU1W7duDQoKSklJuXDhAvwtZ86cycnJCQgIIEly48aNHh4e0A1qampSU1P9/f0NBkNUVBSDwYDezmKxJCYmCgQCvV6vUCjc3NwAQRB7MIIgAOnz6HT6pk2bhg4dmpWVtXv37p9++snBwQHDMAcHBwCw2WzQwcHBYebMmfDPuXLlikwmmzZtWkpKSnV1tcViSU1NHTly5ObNm48cORIcHAwIQG1trVqtFgqFSUlJJ0+e/Omnn2JiYkaOHBkVFXXkyJGgoCBAkA50On3Dhg23b9+Oioo6efLku+++u2LFijNnzmzfvp3D4cDTkSTp5OQET8AwjMViJSUl+fv7kyS5adMmDw8P6Aa1tbUpKSl+fn5FRUVRUVF0Oh16O4vFkpCQIBAISJJUKBRubm6AIIg9GEEQgPR5TCZz06ZNDAbj/PnzDQ0Nra2tANDe3o5hGHR6+PBhcXHx1atX4Z/z008/SSSSCRMmaDSapqamhQsX9u/ff/fu3d9//72fnx8gHUwmk0Kh4PF4mZmZly5d+s9//uPs7Pzll19+9913fD4fEKSTm5vbmjVrLl++nJuby2QyuVxuQ0PDl19+WVRUNGvWLHiKqqqq1157bfLkyfAEDMMGDRo0depUJpOp1+s//vhjDw8P6Aa1tbUpKSl+fn5FRUVRUVF0Oh16O4vFkpCQIBAISJJUKBRubm6AIIg9GEEQgPR5dDp969atTCYTAGw2G4Zh8ITW1tZvvvnm+++/h3+OXq+fMmVKeHg4hUJpbW1tbGw0GAy1tbVBQUGAdMrPz3/55Zdfe+01Nze3u3fvWq3WgoICi8USEhICCPKIH3/8USQSjRs3ztnZ+erVq6dOnaqqqrp+/frMmTPh6a5fv75x48aZM2fCH3FycoIOhYWFGzdudHd3h25QW1ubkpLi5+dXVFQUFRVFp9Oht7NYLAkJCQKBgCRJhULh5uYGCILYgxEEAUif5+jouGTJEhaLZbPZAADDMJvNBgAYhkGnhw8fFhQU/Pjjj/CPys/PHzJkyMCBA2022507dwICAgD5I6WlpUOGDLHZbL///jufzwcE+SNFRUUuLi4ODg4tLS13794NCwsDe+rq6t555x2BQAB/BMMwm83m7OxcVlaWnJw8fvx46Aa1tbUpKSkCgaCoqCgqKorBYEBvZ7FYEhIS+Hw+SZIKhYJGowGCIPZgBEEA0uedPHly2LBh/fv3h07t7e0AgGEYdGpvb79x48a4ceMAQZA+jCTJ4cOHv/jiixiGwSMwDAMArIOjo+P169ctFktQUBB0A7PZnJycLBAIioqKoqKiGAwG9HYWiyUhIYHP55MkqVAoaDQaIAhiD0YQBCBIB61WKxKJAEEQ5PlmNpuTk5MFAkFRUVFUVBSDwYDezmKxJCQk8Pl8kiQVCgWNRgMEQezBCIIABEEQBOk5zGZzcnKyQCAoKiqKiopiMBjQ21ksloSEBD6fT5KkQqGg0WiAIIg9GEEQgCAIgiA9h9lsTkpKEggERUVF27dvZzAY0NtZLBa1Ws3n80mSjIuLo9FogCCIPRhBEIAgCIIgPYfZbE5KShIIBEVFRdu3b2cwGNDbWSwWtVrN5/NJkoyLi6PRaIAgiD0YQRCAIAiCID1HbW1tUlKSQCAoKiqSyWQMBgN6u7q6OrVazefzSZKMj4+n0WiAIIg9GEEQgCAIgiA9R21tbVJSkkAgKCwslMvlDAYDeru6ujqVSsXn8w0GQ3x8PI1GAwRB7MEIggAEQRAE6Tlqa2sTExMFAkFxcbFMJmMwGNDb1dXVqdVqHo9nMBji4+NpNBogCGIPRhAEIAiCIEjPYbFYEhIS+Hx+SUnJ9u3b6XQ69HZ1dXUJCQl8Pt9gMMTFxbm5uQGCIPZgBEEAgiAIgvQcZrNZrVbzeLyysjK5XE6n06G3M5vNarUax/HCwsL4+Hg6nQ4IgtiDEQQBCIIgCNJznDt3LjY2Fsfx8vJylUo1bNgw6O1MJlNMTMyMGTMKCwtTU1OHDRsGCILYgxEEAQiCIAjSc5w4cWLRokWenp7nz58/dOjQxIkTobc7ffr0vHnzRo4cWV1dnZ+f//LLLwOCIPZgBEEAgiAIgvQcZrNZrVZzudyioqLY2FgWiwW9XU1NTVxcHJ/PJ0lSrVazWCxAEMQejCAIQBAEQZCew2QypaSk8Hi8oqIimUzGYrGgt7NYLGq1msfj6fV6hULBZDIBQRB7MIIgAEEQBEF6jrq6uqSkJC6XW1JSIpPJGAwG9HZ1dXVqtZrP5+v1eoVCwWQyAUEQezCCIABBEARBeg6z2ZyYmIjjeHFxsVwuZzKZ0NvV1dWpVCo+n19QUBAfH89kMgFBEHswgiAAQRAEQXqO2trapKQkHMeLi4vlcjmTyYTerq6uTqVS8fn8goKC+Ph4JpMJCILYgxEEAQiCIAjSc9TU1CQnJ+M4XlRUJJfLWSwW9HZ1dXUqlYrP5xcUFMTHxzOZTEAQxB6MIAhAEARBkJ7DZDKlpKTgOF5YWBgdHc1isaC3q6urU6lUfD6/oKAgPj6eyWQCgiD2YARBAIIgCIL0HCaTKTk5GcfxwsLCmJgYFosFvV1dXZ1SqeTz+Xq9Pj4+nslkAoIg9mAEQQCCIAiC9BwmkyklJYXL5RYVFUVHR7NYLOjt6urqlEoln8/X6/Xx8fFMJhMQBLEHIwgCEARBEKTnqKmpSU5O5nK5RUVF0dHRLBYLeru6ujqlUsnn8/V6fVxcHIvFAgRB7MEIggAEQRAE6TlqampSUlJ8fX2Li4vlcjmLxYLerq6uTqlU8vl8vV4fFxfHYrEAQRB7MIIgAEEQBEF6jpqamuTkZF9f35KSErlczmKxoLczm81KpZLP5+v1+vj4eBaLBQiC2IMRBAEIgiAI0nPU1NQkJyf7+vqWlJTI5XIWiwX/f44ePero6NjW1hYWFgbPDbPZrFQq+Xy+Xq+Pj49nsViAIIg9GEEQgCAIgiA9h8lkSk5O9vX1LSkpiY6OZrFY8P+hrKyMzWbT6XRnZ+fm5uampqbr16/zeDx4uqNHj/bv399ms7W2tjo4ODg6Otpstvb2dgDAMAwAMAxrb29vbW0FAGdn59bW1pCQEOg6s9msVCp5PJ5er1cqlSwWCxAEsQcjCAIQBEEQpOcwmUzJycm+vr4lJSXR0dEsFgv+Z1euXAkPD2ez2b/99hsADB48eMCAAVeuXMnPz6+oqAgJCYEn6HS6gIAADofj6Oj48OFDJycnhw4YhrW1tdlsNqwDAGAYZrPZHB0dz507N3DgQOg6s9msVCp5PJ5er1cqlSwWCxAEsQcjCAIQBEEQpOcwmUzJycm+vr4lJSXR0dEsFgv+NxcvXly/fv3ly5e//fbbxsbGoKAgvV4vEAgWL148YMCAffv25eXlBQUFweN0Ot3cuXO9vLymT58+duzYfv36VVRU1NTUPHjwAMMwm83W3t4OAFQqlcPhjB07dsiQIV9//fW6devCw8Ohi8xms1Kp5PF4er1eqVSyWCxAEMQejCAIQBAEQZCew2QyJScn+/r6lpSUREdHs1gs+B+cO3fu/fffnz59emRkJJVKhUfcvHkzIiLi7t27KSkpLBYLnpCXl4dh2LZt25YvX37t2rW1a9c6OzsDQG5uLoZhNpsNAPr16/fiiy++8847H3zwwYEDByIiIsLDw6GLzGazUqnk8Xh6vV6pVLJYLEAQxB6MIAhAEARBkJ7DZDIlJyf7+PiUlJRER0ez2Wz4u3Jzc3k8XkxMjKenZ3R0dENDAzyisLBwzZo1YWFhX3755aVLl+CPHD9+PDY2dvbs2WVlZVKplMPhwB+5fPmySqXKz8+/cOECdJ3ZbI6Pj+fxeHq9XqlUstlsQBDEHowgCEAQBEGQnsNkMiUnJ/v4+JSUlERHR7PZbPi7tFrthAkT3nvvPQqFkpGRwWAw4HFubm6rV6+urKyMjY2dMGECPKGhoSEhIWHixIlff/11YmKit7c3/JHq6uqYmJiCgoKrV69C15nN5vj4eB6Pp9frlUolm80GBEHswQiCAARBEATpOUwmU3Jyso+PT0lJSXR0NJvNhv9Bbm7uiBEjMAybMGECAGi1WgzDZs2aBR0GDhwoFovv3r0bGxvr4uICT7DZbNHR0W5ubklJSZ9++imPx4MOx44dGzFixPXr119++WUAuHDhglQq3b179+DBg6HrzGZzfHw8j8fT6/VKpZLNZgOCIPZgBEEAgiAIgvQcJpMpOTnZx8enpKQkOjqazWbD/+zkyZMTJkxgs9kuLi6tra137twxGo0Wi+XNN9+MiIh48OBBXFxce3s7PMHDw2PDhg03btyQyWRHjhwJDg6GDjdu3PDx8SkqKho2bBgAHD9+/PXXX//vf//r4+MDXWc2m+Pj43k8nl6vVyqVbDYbEASxByMIAhAEQRCk5zCZTElJST4+PiUlJTExMWw2G/4HhYWFM2bMCAoK6tev36VLl27evNne3v7CCy84OTlVVFTgOL506dKbN28qlUpHR0d4QkhIyNy5c0+ePCmXy3/88UeRSAQAZ86cmTt37rBhw7Kzs8eOHQsAubm5VCrV19cX/haz2RwXF8fj8UiSVCqVbDYbEASxByMIAhAEQRCk5zCZTElJST4+PiUlJTExMWw2G/6usrIyUYcHDx58/fXXFy9evH37ts1mGzJkiJ+f38CBA3Ec9/f3r6qqUqlUVCoVHnfs2LF9+/ZNmTLl+PHjhw8f/uWXXzAMGzRokLe396RJk86cOZOYmCgQCOB/Zjab4+LieDweSZJKpZLNZgOCIPZgBEEAgiAIgvQcJpMpMTHRx8entLQ0JiaGzWbD31JaWvrKK68sWrTo/v37O3bs0Ol0YWFh0MlisbzxxhsikWj48OEHDx5MSEgYP348PO7GjRu7du168cUXjx49WldX19raimEYlUqdMmVK//799+zZo9FoRCIR/M/MZrNCoeDxeCRJqlQqNpsNCILYgxEEAQiCIAjSc5hMpsTERB8fn9LS0piYGDabDV139OjRgICAVatWjR49eteuXZmZmSKRCB5RXl6+Zs2aefPmOTo6ZmZmZmdnz5w5Ex7H4XA2b9587dq12NhYi8Xi4ODQ3t7u6uo6a9asIUOG5OTkUKlU6KDVakUiEfxdZrNZoVDweDySJFUqFZvNBgRB7MEIggAEQRAE6TlMJlNiYqKPj09paWlMTAybzYauMxqNy5cvf+utty5cuCCRSIYPHw6PKy0tFYvF8+bNu3LlSmJiYltbGzyupKREqVQSBHH8+PGPPvpo4sSJ0MFgMCxcuJBKpe7evXv69OkAkJeX5+np2dra+tJLL8HfYjabFQoFj8cjSVKlUrHZbEAQxB6MIAhAEARBkJ7DZDIlJib6+PiUlpbGxMSw2WzouqtXr27YsMHHx+f777/ftm2bQCCAx507d+7jjz8ODAw0GAzp6emjRo2Cx9XV1SUlJU2ZMmX//v3R0dG+vr7QobCwcObMmRiG5ebmhoaGAsCJEycWL15sNpvb2trgbzGbzXFxcTiOGwwGpVLJZrMBQRB7MIIgAEEQBEF6DpPJlJCQ4OPjU1paGhsby2azoeva2to2bdpEo9F27NhhsVjgCc3NzRs3bqTRaJ988snevXsFAgE8rrW1VaVSUanUuLg4jUYTGBgIncrKymw2m0AgAID8/Hwej7dw4cLs7Gwmkwl/i9lsjouL43K5hYWFSqWSzWYDgiD2YARBAIIgCIL0HCaTKSEhwcfHp7S0NDY2ls1mQ9f169dv8+bNNptNpVK1tLTA43Jzc9euXbtgwQKj0ZiRkcFkMuFxWq12xYoVEonkzp07GzduPHLkyKxZs+CP1NTUvPPOO62trdu3bw8LC4O/xWw2x8XFcbncwsJCpVLJZrMBQRB7MIIgAEEQBEF6DpPJlJCQMGPGjNLS0tjY2GHDhkHXtbS0fPzxxwMGDIiOjnZycoLHXb16devWrS4uLunp6YcPHw4PD4fHFRYWbtu2beHChefOnVu/fv3IkSPhj5w8efK1114LDg5OSkqiUqnwd5nNZoVCweVyCwsLlUrlsGHDAEEQezCCIABBEARBeg6TyZSQkDBjxozS0tLY2Nhhw4ZB11ksljVr1kydOnXXrl1XrlyBR5hMpo8//tjT03P//v0HDhzAcRyeUFlZmZ6e7uvre+TIkS1btvj4+MDj8vLyaDRaeHj4okX/1x7cwER533EA//3v8AVo2bQWheehOkRsxBWFO+5pURFEBbI1/2KWrFtrNHNdaLu5qYttXDrlgLt7juMA12pSN7cEl+o2MpsOkRe5R7ir1tFSVuG54wq2TKkW91K2Ml7uniWXkGi0O9Bu65nv5/N0V1fXnj17ioqKGhoaioqKaOb8fr/FYpEkyeVyybIsCAIBQDiMc04AAACRw+v1OhwOo9HY0dFRUVEhCALNXFNTU2Fh4Xe/+92JiYnDhw8rihIMBqOjo7/61a9++9vfTklJqaurq6+vz8nJoRtcuHBh+fLloiguW7Zs+/btc+bMaWtrq6+vHx8fJyK9Xj85OUlE8+bN+8pXvrJq1aqMjIxPPvlk//79Y2NjdBf8fr/FYpEkyeVyybIsCAIBQDiMc04AAACRw+v1OhwOo9HY0dFRUVEhCALdkba2tszMzOLi4uTk5L/+9a8jIyMxMTFxcXEDAwNvvPFGe3t7UVER3czr9RYXF4uiGB2iadqnn376z3/+kzGm1+uDwSALiYqKio6Onjt37uTkZE9Pz5EjR7Kysugu+P1+i8UiSZLL5ZJlWRAEAoBwGOecAAAAIoeqqg6Hw2g0dnR0WCwWQRDoLrS3tz/44IMJCQnz58//y1/+cvXq1Y8++mjdunX0GVpaWmbNmqXX61kIhTDG6GZaSCAQmJiY2LBhA90dv99fUVEhSZKiKLIsC4JAABAO45wTAABA5FBV1eFwGI3Gjo4Oi8UiCAJ9Hk6dOlVYWEhfSH6/v6KiQpIkRVFkWRYEgQAgHMY5JwAAgMihqqrD4TAajR0dHRaLRRAEutf5/f6KigpJkhRFkWVZEAQCgHAY55wAAAAih6qqDofDaDR2dHRYLBZBEGjaTp06xRjTNI1CNE2jEMaYpmlFRUUNDQ16vV4LoRBN0+hmRUVFdLOGhgaatqKiIpohv99fUVEhSZKiKLIsC4JAABAO45wTAABA5FBVtbKy0mg0ut1ui8UiCAJNQ0dHx+bNm5OTk3U6HWOMbqBpGmOMQhhjer1e0zQi0jSNiDRNo1swxiiEMUYzpGkaY+zy5cstLS0rV66kafD7/eXl5ZIkKYpit9sFQSAACIdxzgkAACByqKpaWVlpNBrdbrfFYhEEgabhzTff3Lp1a1pamk6nY4zR7TDGaBoYY3R3GGP9/f3Hjx9funQpTYPf7y8vL5ckSVEUu90uCAIBQDiMc04AAACRQ1VVu91uNBrdbrfVahUEgabh9OnTy5cvnz9/PguhaWOM0RTGGN01LWRkZKS/vz87O5umwe/3l5eXm0wmRVEqKysFQSAACIdxzgkAACByqKpqt9uNRqPb7bZarYIg0L3O7/eXl5ebTCZFUSorKwVBIAAIh3HOCQAAIHKoqmq3241Go9vttlqtgiDQXWhvb1+0aFFsbKxOpwsEAqOjox9//PGjjz5KXyR+v7+8vNxkMimKUllZKQgCAUA4jHNOAAAAkUNVVbvdbjQa3W631WoVBIHuVHd3t8FgWLhw4Zw5cyiEMTYyMnLu3DlVVQsKCuiLwe/3l5eXm0wmRVEqKysFQSAACIdxzgkAACByqKoqy7LRaHS73TabTRAEuiNerzc/Pz8+Pv6dd965cuXK6OhoXFzcQw89lJ+f/7e//e3EiRNvv/12YWEhfQH09fWVl5ebTCZFURwOhyAIBADhMM45AQAARA5VVWVZNhqNbrfbZrMJgkAz5/F4vvnNb65fv/61114bHx+nG2ia9oMf/KC7u/vIkSPLli2jL4C+vr6ysjJJklwuV1VVlSAIBADhMM45AQAARA5VVWVZNhqNbrfbZrMJgkAz9+c///m555575JFHjh079sorrxQUFNCUs2fPms3mjIyMo0ePHj9+PDc3l/7f+vr6ysrKJElyuVxVVVWCIBAAhMM45wQAABA5VFWVZdloNLrdbpvNJggCzdzly5d37NixZMmSEydO1NXVFRYW0g0SEhKeeeYZj8fz8ssvp6am0v9bX19fWVmZJEkul6uqqkoQBAKAcBjnnAAAACKHqqqyLBsMBrfbbbPZRFGkmWtra0tOTp49e3Zvb29eXh7dLDY2ds+ePf39/Q6HIz4+nv7ffD5fWVmZJEkul6uqqkoURQKAcBjnnAAAACKH1+u12WwGg8HtdttsNlEU6S643e7U1NR58+ZFRUUNDQ15vd7169ffd999u3fvvnLliizL8+bNoylnzpyJjY39+9//vmnTJvof8vl8ZWVlkiS5XK6qqipRFAkAwmGccwIAAIgcqqrabDaDweDxeGw2myiKdEcuXLiQm5u7du3aQCAwODgYDAYXLFgwPDz8i1/84hvf+EZJScng4KDVap0/fz4RNTc3S5KUn58fExMzPDz829/+dvny5TTF5XIVFBTMmTPH4/GkpaXR583n85nNZkmSXC6X0+kURZEAIBzGOScAAIDIoaqqzWYzGAwej8dms4miSDN37dq14uLixYsXd3R0tLS0DA4O6nS6uLi4goICxtiqVavy8vK6u7vtdntiYqLL5Vq/fv3KlSt7enpmz579/e9/X1GUt956i6YMDw+/8MILgUCgpqYmLi6OPm8+n89sNkuS5HK5nE6nKIoEAOEwzjkBAABEDlVVbTabwWDweDw2m00URZqhsbGxb33rW/fdd9/rr7/+hz/84bHHHqMpf/zjH7dt27Zp06bk5OSWlpbKysqUlJShoaGcnJyBgYHW1taMjIyampqLFy9u375948aNFBIXF7dr166BgQG73R4fH0+34/F4RkZGNm/eTDPn8/nMZrMkSS6Xy+l0iqJIABAO45wTAABA5FBV1WazGQwGj8djs9lEUaSZGBwc/N73vpeRkdHY2Hjo0CGj0Ug3S0lJ2b59e1xc3K9//etXXnll9erVer1+6dKlJ0+eHB4e/s53vvPcc8+dPHnyzJkzNCU9Pf3JJ588efLk4cOH09PT6WYtLS0bN24sLi4+evRoXFwczZzP5zObzZIkuVwup9MpiiIBQDiMc04AAACRQ1VVq9VqMBg8Ho8sy6Io0rS1trZu3bp1x44d165dq62tnTVrFt3ioYceevbZZ8fHx2tqan7zm98hZCmaAAAJFklEQVTk5eUNDQ3FxsZ2dnYuW7bsxRdffPjhhw8ePPjRRx9RSGtra21tbUZGRlVVVX19/YYNG+hmra2tjz/+eGFh4auvvjpv3jyaOZ/PZzabTSaToihOp1MURQKAcBjnnAAAACJHb2+vzWYzGAwej0eWZVEUadoGBgZ+9KMf5eTkvPHGG3a7PSMjg27W0NCwb9++p556qqenR5blBx54gIhaW1t1Op1er//617++c+fOq1ev7t+/PyEhgUL6+/tra2s1TTObzXFxcXQ777zzzqJFi/r7+7Ozs2nmfD6f2Ww2mUyKojidTlEUCQDCYZxzAgAAiBy9vb02m81gMHg8HlmWRVGkadM0befOnYsWLTpy5MihQ4c2b95MN3O73dXV1RkZGceOHfvVr36VmZlJU7q6up555pknnniipaVl//79a9eupZD777//xRdf7O7utlqtS5YsoZs1NzfPmjVrdHS0sLCQ7pTP5zObzSaTSVEUp9MpiiIBQDiMc04AAACRo7e312azGQwGj8cjy7IoijRtMTExzz//PBH97Gc/+/TTT+l29u3bd+XKFYfDce7cuaKiIprS39+/e/fujIyMQ4cOXblyhaY8+uijW7Zs+f3vf3/w4MHVq1fTlLNnz6akpAiCMHfu3MnJya6urrS0NLojPp/PbDabTCZFUZxOpyiKBADhMM45AQAARI7e3l6r1WowGDwej91uF0WRZmLnzp1EVF1dzRijm7377rtms3nFihVHjx597bXXsrOz6QZDQ0N79+5NSEh46aWXYmNjKaSzs9PpdK5YseLll18+duzY+vXrKaS9vT0jI2PZsmVjY2OzZ8/Ozc1tb28fHBykO+Lz+UpLS00mk6Io1dXVoigSAITDOOcEAAAQOXp7e61Wq8Fg8Hg8drtdFEWatoGBgZ07dy5ZsuSXv/zl8ePHCwsLacqFCxe2bNny5JNPut3un//85++//35RURHdYGhoaPfu3YmJiS+88MKCBQsoZM6cObt37w4EAuXl5c3NzYWFhRQyMDCQnZ09ODjodrsTEhJqa2svXrx45swZuiM+n6+0tNRkMimKUl1dLYoiAUA4jHNOAAAAkUNVVYvFkpmZ6fF47HZ7UlISTVtTUxMPuXz58okTJ/r6+gKBQFRUVGJi4po1a/Lz8y9duvTqq6+mpqbSLf70pz/t2LFj3bp1dXV19fX1jLGHH354+/btubm5nZ2dP/3pT5OTk2nKpUuXRFE8f/58dnb2yMiILMv19fUXL16kO+Lz+Q4cOGAymRRFqa6uTkpKIgAIh3HOCQAAIHKoqmqxWDIzMz0ej91uT0pKopk4f/58QUHBY489NjIy8u6773788cfx8fFpaWkPPvhgV1fXyZMn09PT6XZaWlqysrKKi4tjYmLefvvtQCCQmJi4atWq9PT03/3ud5WVlUajkaY0NTVFRUXl5eUpirJt27atW7daLJbx8XG6Iz6f78CBAyaTSVGU6urqpKQkAoBwGOecAAAAIoeqqhaLJTMz0+Px2O32pKQkmqFTp06tXLkyKysrISFBp9MFAoGrV6+2t7cvXbqUPtvp06f1ev0DDzxgMpkWLlx4/fr1999//8c//vGKFSvMZnNjY2NOTg7doru7e+/evampqXv37k1MTKQ74vP5Dhw4YDKZFEWpqakRRZEAIBzGOScAAIDI0dvba7VaMzMzPR6P3W5PSkqiu9DU1LRp0yYKR1XVdevWEVFDQ4PBYKCQ0dFRp9Pp9Xr37duXmppKt3P16tWXXnrp+vXr+/btW716Nd0Rr9drNpuzsrJcLldtba0oigQA4TDOOQEAAESOnp4ei8ViMBjOnj1bVVW1ePFi+i9rb29/+umnS0pKLl26ZLFYvvzlLxOR1+u1WCypqakOh+PEiRMbNmygWzQ3Nz/++OO7du1qbGzs7OykO6WqakVFRWZmZltb28GDB5OSkggAwmGccwIAAIgc7733XkVFhclk6ujoqKysXLx4Mf2XvfXWW9u2bdu4cePp06ePHTuWmZnZ1dW1a9eu3NzcI0eO1NXVrV27lm7nzTfffOqpp7Zs2XLo0KGRkRG6U16vt6yszGAwuFyu2trapKQkAoBwGOecAAAAIofX6y0tLc3KyvL7/c3NzYODg0SkaRoRsZBgMMgY+9e//qUoypo1a+iuNTY2rlmz5mtf+9ro6Ghvb+/999+flpb2pS996fXXX29oaNiwYQPdoLGxMSYmZnx8PD8/v6en5/nnn09LSyspKVmxYgV9tvPnzz/yyCMLFy4MBAKMsWAwSESMMSKamJhYtGjRE088kZycfPbs2ZqaGlEUCQDCYZxzAgAAiBx+v7+0tHTVqlXBYPCTTz6ZmJigKbqQYDBIRNevX9+zZ09KSgp9Htra2pYuXZqSkhIdHR0MBoeHh/v7+z/88MPNmzfTzSYnJ1evXn3u3DmPx5OTk1NSUuL1ektLS/Py8uizffjhhyUlJZmZmRMTE4yxQCCg1+spZHJycu7cuXFxcVFRUe3t7bW1tYIgEACEwzjnBAAAEDnee++9n/zkJ+np6bNnz6Zb6HQ6TdOI6Nq1az/84Q+XLFlCn5PGxsbo6Gi9Xq9p2tjYWH5+Pt2iqanp2WefzcnJcbvdg4ODJpNJr9fX1dUtXLiQ/qMPPvhg165dRqNR07RgMKhpGmOMQjRNY4zpQxRFOXz4sCiKBADhMM45AQAARI7W1tbc3Nz4+PioqCgiCgaDRKSFMMZ0Op2maYyxf/zjH01NTdnZ2fS/df369aysLCIaGRkZHR31er0XL17cuHEj/Ufnzp2TJEkQhEAgoGlaMBhkjOl0OiJijAUCASKKior64IMPOjs7JUkiAAiHcc4JAAAgopw5c0av17OQYDBIRFoIC9E0jTEWDAZzc3Ppf665uXnBggXR0dFjY2MjIYWFhTQNra2tUVFRmqYxxjRNY4wREWNMCyEinU43OTmZl5dHADANjHNOAAAAAAD3FsY5JwAAAACAewvjnBMAAAAAwL2Fcc4JAAAAAODewjjnBAAAAABwb2GccwIAAAAAuLcwzjkBAAAAANxbGOecAAAAAADuLYxzTgAAAAAA9xbGOScAAAAAgHvLvwFg+AhCHIUZBwAAAABJRU5ErkJggg==)"
      ]
    },
    {
      "cell_type": "markdown",
      "metadata": {
        "id": "ncDakuYdDQYo"
      },
      "source": [
        "![mse-output.png](data:image/png;base64,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)"
      ]
    },
    {
      "cell_type": "code",
      "execution_count": null,
      "metadata": {
        "id": "hu3tI60aGseQ"
      },
      "outputs": [],
      "source": [
        "input = np.reshape([[0,0], [0,1],[1,0], [1,1]], (4,2,1))\n",
        "output = np.reshape([[0], [1],[1], [0]], (4,1,1))\n",
        "#input, output"
      ]
    },
    {
      "cell_type": "code",
      "execution_count": null,
      "metadata": {
        "id": "lQAJPhPBedPM"
      },
      "outputs": [],
      "source": [
        "class MSELoss():\n",
        "\n",
        "    def __init__(self):\n",
        "        self.y_true = None\n",
        "        self.y_pred = None\n",
        "\n",
        "    def __call__(self, y_true, y_pred):\n",
        "        self.y_true = y_true\n",
        "        self.y_pred = y_pred\n",
        "        return np.mean((self.y_true - self.y_pred)**2)\n",
        "\n",
        "    def backward(self):\n",
        "        batch_size = self.y_true.shape[0]  # Number of samples\n",
        "        num_outputs = self.y_true.shape[1] if self.y_true.ndim > 1 else 1  # Handle 1D case\n",
        "        return (2 / (batch_size * num_outputs)) * (self.y_pred - self.y_true)\n",
        "\n"
      ]
    },
    {
      "cell_type": "code",
      "execution_count": null,
      "metadata": {
        "id": "nB_pvwgbN80z"
      },
      "outputs": [],
      "source": [
        "import numpy as np\n"
      ]
    },
    {
      "cell_type": "code",
      "execution_count": null,
      "metadata": {
        "id": "pWTH6UvNefg9"
      },
      "outputs": [],
      "source": [
        "loss = MSELoss()\n",
        "y_t = np.array([[1000.0, 200]])\n",
        "y_p = np.array([[110.0, 100]])\n",
        "\n",
        "l = loss(y_t, y_p)\n",
        "print(l)\n",
        "grad = loss.backward()\n",
        "print(grad)"
      ]
    },
    {
      "cell_type": "code",
      "execution_count": null,
      "metadata": {
        "id": "61upG2fNNrt8"
      },
      "outputs": [],
      "source": [
        "import torch.nn.functional as F"
      ]
    },
    {
      "cell_type": "code",
      "execution_count": null,
      "metadata": {
        "id": "64Aib0U0NyL9"
      },
      "outputs": [],
      "source": [
        "mse_loss = F.mse_loss"
      ]
    },
    {
      "cell_type": "code",
      "execution_count": null,
      "metadata": {
        "id": "2_8oFp2BOGXT"
      },
      "outputs": [],
      "source": [
        "t1 = torch.tensor(y_t, requires_grad=True)\n",
        "t2 = torch.tensor(y_p, requires_grad=True)\n",
        "mloss = mse_loss(t1,t2 )\n",
        "print(\"mloss: \", mloss)\n",
        "print(\"Grads: \", t1.grad, t2.grad)\n",
        "mloss.backward()\n",
        "print(\"Grads: \", t1.grad, t2.grad)"
      ]
    },
    {
      "cell_type": "code",
      "execution_count": null,
      "metadata": {
        "id": "kH56NOa_fzB1"
      },
      "outputs": [],
      "source": [
        "y_t.shape, y_t.size"
      ]
    },
    {
      "cell_type": "code",
      "execution_count": null,
      "metadata": {
        "id": "NKkx8orSa1ou"
      },
      "outputs": [],
      "source": [
        "from pathlib import Path\n",
        "import requests\n",
        "\n",
        "DATA_PATH = Path(\"data\")\n",
        "PATH = DATA_PATH / \"mnist\"\n",
        "\n",
        "PATH.mkdir(parents=True, exist_ok=True)\n",
        "\n",
        "URL = \"https://github.com/pytorch/tutorials/raw/main/_static/\"\n",
        "FILENAME = \"mnist.pkl.gz\"\n",
        "\n",
        "if not (PATH / FILENAME).exists():\n",
        "        content = requests.get(URL + FILENAME).content\n",
        "        (PATH / FILENAME).open(\"wb\").write(content)"
      ]
    },
    {
      "cell_type": "code",
      "execution_count": null,
      "metadata": {
        "id": "qIbZdzAUbDku"
      },
      "outputs": [],
      "source": [
        "import pickle\n",
        "import gzip\n",
        "\n",
        "with gzip.open((PATH / FILENAME).as_posix(), \"rb\") as f:\n",
        "        ((x_train, y_train), (x_valid, y_valid), what) = pickle.load(f, encoding=\"latin-1\")"
      ]
    },
    {
      "cell_type": "code",
      "execution_count": null,
      "metadata": {
        "id": "HXBqvWYydkt9"
      },
      "outputs": [],
      "source": [
        "import torch\n",
        "\n",
        "x_train, y_train, x_valid, y_valid = map(\n",
        "    torch.tensor, (x_train, y_train, x_valid, y_valid)\n",
        ")\n",
        "n, c = x_train.shape\n",
        "print(x_train, y_train)\n",
        "print(x_train.shape)\n",
        "print(y_train.min(), y_train.max())"
      ]
    },
    {
      "cell_type": "code",
      "execution_count": null,
      "metadata": {
        "id": "YNW1cYHs_7Sl"
      },
      "outputs": [],
      "source": [
        "def accuracy(out, yb):\n",
        "    preds = torch.argmax(out, dim=1)\n",
        "    return (preds == yb).float().mean()"
      ]
    },
    {
      "cell_type": "code",
      "execution_count": null,
      "metadata": {
        "id": "mXfL5OpYFlQe"
      },
      "outputs": [],
      "source": [
        "import torch.nn.functional as F"
      ]
    },
    {
      "cell_type": "code",
      "execution_count": null,
      "metadata": {
        "id": "uFXQGJBaTXIF"
      },
      "outputs": [],
      "source": [
        "loss_fn = F.cross_entropy\n",
        "loss_func = F.cross_entropy\n",
        "from torch.utils.data import TensorDataset, DataLoader"
      ]
    },
    {
      "cell_type": "code",
      "execution_count": null,
      "metadata": {
        "id": "aIXNchAbUz3M"
      },
      "outputs": [],
      "source": [
        "from torch import nn\n",
        "import math"
      ]
    },
    {
      "cell_type": "code",
      "execution_count": null,
      "metadata": {
        "id": "Fq70VPxdU4Jl"
      },
      "outputs": [],
      "source": [
        "class Mnist_Logistic(nn.Module):\n",
        "    def __init__(self):\n",
        "        super().__init__()\n",
        "        self.weights = nn.Parameter(torch.randn(784, 10)/math.sqrt(784))\n",
        "        self.bias = nn.Parameter(torch.zeros(10))\n",
        "\n",
        "    def forward(self, xb):\n",
        "        return xb @ self.weights + self.bias"
      ]
    },
    {
      "cell_type": "code",
      "execution_count": null,
      "metadata": {
        "id": "i1jiROCBVZLt"
      },
      "outputs": [],
      "source": [
        "model = Mnist_Logistic()\n",
        "learning_rate = 0.01\n",
        "bs = 64\n",
        "epochs = 10\n",
        "optimizer = torch.optim.SGD(model.parameters(), lr=learning_rate)\n",
        "\n",
        "train_ds = TensorDataset(x_train, y_train)\n",
        "train_dl = DataLoader(train_ds, batch_size=bs, shuffle=True)\n",
        "\n",
        "valid_ds = TensorDataset(x_valid, y_valid)\n",
        "valid_dl = DataLoader(valid_ds, batch_size=bs * 2)"
      ]
    },
    {
      "cell_type": "code",
      "execution_count": null,
      "metadata": {
        "id": "JKKgfuXyYIFm"
      },
      "outputs": [],
      "source": [
        "def fit():\n",
        "    for epoch in range(epochs):\n",
        "        model.train()\n",
        "        for xb, yb in train_dl:\n",
        "            # Zero the gradients\n",
        "            optimizer.zero_grad()\n",
        "\n",
        "            # Forward pass\n",
        "            pred = model(xb)\n",
        "            loss = loss_fn(pred, yb)\n",
        "\n",
        "            # Backward pass\n",
        "            loss.backward()\n",
        "            # Update parameters\n",
        "            optimizer.step()\n",
        "        model.eval()\n",
        "        with torch.no_grad():\n",
        "            valid_loss = sum(loss_fn(model(xb), yb) for xb, yb in valid_dl)\n",
        "        print(epoch, (valid_loss.item()/len(valid_dl)), loss.item() )\n",
        "       #print(loss.item())"
      ]
    },
    {
      "cell_type": "code",
      "execution_count": null,
      "metadata": {
        "id": "XGTZvm8DRdCS"
      },
      "outputs": [],
      "source": [
        "fit()"
      ]
    },
    {
      "cell_type": "code",
      "execution_count": null,
      "metadata": {
        "id": "naXJEVdUh7ml"
      },
      "outputs": [],
      "source": [
        "print(F.cross_entropy(model(x_train[:64]), y_train[:64]))"
      ]
    },
    {
      "cell_type": "code",
      "execution_count": null,
      "metadata": {
        "id": "5ugjwDP7bJvr"
      },
      "outputs": [],
      "source": [
        "from torch import optim"
      ]
    },
    {
      "cell_type": "code",
      "execution_count": null,
      "metadata": {
        "id": "zTPYM3H1Z9Ra"
      },
      "outputs": [],
      "source": [
        "def get_model():\n",
        "    model = Mnist_Logistic()\n",
        "    return model, optim.SGD(model.parameters(), lr=lr)\n",
        "\n",
        "def loss_batch(model, loss_func, xb, yb, opt=None):\n",
        "    loss = loss_func(model(xb), yb)\n",
        "\n",
        "    if opt is not None:\n",
        "        loss.backward()\n",
        "        opt.step()\n",
        "        opt.zero_grad()\n",
        "\n",
        "    return loss.item(), len(xb)\n",
        "import numpy as np\n",
        "\n",
        "def fit(epochs, model, loss_func, opt, train_dl, valid_dl):\n",
        "    for epoch in range(epochs):\n",
        "        model.train()\n",
        "        for xb, yb in train_dl:\n",
        "            loss_batch(model, loss_func, xb, yb, opt)\n",
        "\n",
        "        model.eval()\n",
        "        with torch.no_grad():\n",
        "            losses, nums = zip(\n",
        "                *[loss_batch(model, loss_func, xb, yb) for xb, yb in valid_dl]\n",
        "            )\n",
        "        val_loss = np.sum(np.multiply(losses, nums)) / np.sum(nums)\n",
        "\n",
        "        print(epoch, val_loss)\n",
        "def get_data(train_ds, valid_ds, bs):\n",
        "    return (\n",
        "        DataLoader(train_ds, batch_size=bs, shuffle=True),\n",
        "        DataLoader(valid_ds, batch_size=bs * 2),\n",
        "    )"
      ]
    },
    {
      "cell_type": "code",
      "execution_count": null,
      "metadata": {
        "id": "Kon6IxB4aNvb"
      },
      "outputs": [],
      "source": [
        "train_dl, valid_dl = get_data(train_ds, valid_ds, bs)\n",
        "model, opt = get_model()\n",
        "fit(epochs, model, loss_func, opt, train_dl, valid_dl)"
      ]
    },
    {
      "cell_type": "code",
      "execution_count": null,
      "metadata": {
        "id": "AIY2RBbXZuvd"
      },
      "outputs": [],
      "source": [
        "class Mnist_CNN(nn.Module):\n",
        "    def __init__(self):\n",
        "        super().__init__()\n",
        "        self.conv1 = nn.Conv2d(1, 16, kernel_size=3, stride=2, padding=1)\n",
        "        self.conv2 = nn.Conv2d(16, 16, kernel_size=3, stride=2, padding=1)\n",
        "        self.conv3 = nn.Conv2d(16, 10, kernel_size=3, stride=2, padding=1)\n",
        "\n",
        "    def forward(self, xb):\n",
        "        xb = xb.view(-1, 1, 28, 28)\n",
        "        xb = F.relu(self.conv1(xb))\n",
        "        xb = F.relu(self.conv2(xb))\n",
        "        xb = F.relu(self.conv3(xb))\n",
        "        xb = F.avg_pool2d(xb, 4)\n",
        "        return xb.view(-1, xb.size(1))\n",
        "\n",
        "lr = 0.1"
      ]
    },
    {
      "cell_type": "code",
      "execution_count": null,
      "metadata": {
        "id": "AvJQylggbheT"
      },
      "outputs": [],
      "source": [
        "model = Mnist_CNN()\n",
        "opt = optim.SGD(model.parameters(), lr=lr, momentum=0.9)\n",
        "\n",
        "fit(epochs, model, loss_func, opt, train_dl, valid_dl)"
      ]
    },
    {
      "cell_type": "markdown",
      "metadata": {
        "id": "zLWW_kieuK2a"
      },
      "source": [
        "![image.png](data:image/png;base64,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)"
      ]
    },
    {
      "cell_type": "markdown",
      "metadata": {
        "id": "hj0g1544Yq4q"
      },
      "source": [
        "![image.png](data:image/png;base64,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)"
      ]
    },
    {
      "cell_type": "code",
      "execution_count": null,
      "metadata": {
        "id": "ZcJTIGQUAkQQ"
      },
      "outputs": [],
      "source": [
        "import numpy as np"
      ]
    },
    {
      "cell_type": "code",
      "execution_count": null,
      "metadata": {
        "id": "HNWNnULmJnGf"
      },
      "outputs": [],
      "source": [
        "import numpy as np\n",
        "def sigmoid(z):\n",
        "    return 1 / (1 + np.exp(-np.clip(z, -250, 250)))\n",
        "\n",
        "def sigmoid_derivative(z):\n",
        "    delta = sigmoid(z)\n",
        "    return delta * (1 - delta)\n",
        "\n",
        "import numpy as np\n",
        "\n",
        "def softmax(z):\n",
        "    exp_z = np.exp(z - np.max(z))  # Numerical stability\n",
        "    return exp_z / np.sum(exp_z, axis=-1, keepdims=True)\n",
        "\n",
        "def softmax_derivative(z):\n",
        "    s = softmax(z).reshape(-1, 1)  # Convert to column vector\n",
        "    return np.diagflat(s) - np.dot(s, s.T)  # Compute Jacobian matrix\n",
        "\n"
      ]
    },
    {
      "cell_type": "code",
      "execution_count": null,
      "metadata": {
        "id": "VpVe7TthNwG5"
      },
      "outputs": [],
      "source": [
        "z = np.array([1,20, 4])\n",
        "drv = softmax(z)\n",
        "print(drv)\n",
        "softmax_derivative(np.array([1,20, 4]))"
      ]
    },
    {
      "cell_type": "code",
      "execution_count": null,
      "metadata": {
        "id": "_jeCwLV8Ojp3"
      },
      "outputs": [],
      "source": [
        "zt = z.reshape(-1, 1)\n",
        "np.dot(z.T, z), np.dot(z, z.T), np.dot(zt, zt.T),  np.dot(zt.T, zt)"
      ]
    },
    {
      "cell_type": "markdown",
      "metadata": {
        "id": "ENqUGmZCS6j5"
      },
      "source": [
        "# Pictorial Representation of 𝑊\n",
        "**In a neural network, weights are typically stored in a matrix where:**\n",
        "\n",
        "\n",
        "*   Rows (𝑘) represent neurons in the current layer.\n",
        "*   Columns (𝑙) represent neurons (or input features) from the previous layer.\n",
        "\n",
        "The weight matrix 𝑊 will look like this:\n",
        "\n",
        "![image.png](data:image/png;base64,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)"
      ]
    },
    {
      "cell_type": "markdown",
      "metadata": {
        "id": "u32mkcK-UYsj"
      },
      "source": [
        "# Visualizing It with a Neural Network\n",
        "\n",
        "Previous Layer  →  Current Layer\n",
        "   (Inputs)           (Neurons)\n",
        "   \n",
        "   x1  ● ─── W_1,1 ───▶ ● (Neuron 1)\n",
        "\n",
        "   x2  ● ─── W_1,2 ───▶ ● (Neuron 1)\n",
        "\n",
        "   x3  ● ─── W_1,3 ───▶ ● (Neuron 1)\n",
        "\n",
        "\n",
        "\n",
        "---\n",
        "\n",
        "\n",
        "\n",
        "\n",
        "   x1  ● ─── W_2,1 ───▶ ● (Neuron 2)\n",
        "\n",
        "   x2  ● ─── W_2,2 ───▶ ● (Neuron 2)\n",
        "\n",
        "   x3  ● ─── W_2,3 ───▶ ● (Neuron 2)\n",
        "\n",
        "  \n",
        "\n",
        "---\n",
        "\n",
        "\n",
        "   x1  ● ─── W_3,1 ───▶ ● (Neuron 3)\n",
        "\n",
        "   x2  ● ─── W_3,2 ───▶ ● (Neuron 3)\n",
        "\n",
        "   x3  ● ─── W_3,3 ───▶ ● (Neuron 3)\n",
        "\n",
        "---\n",
        "\n",
        "   x1  ● ─── W_4,1 ───▶ ● (Neuron 4)\n",
        "\n",
        "   x2  ● ─── W_4,2 ───▶ ● (Neuron 4)\n",
        "\n",
        "   x3  ● ─── W_4,3 ───▶ ● (Neuron 4)\n",
        "\n",
        "   ---\n",
        "\n",
        "Here:\n",
        "\n",
        "Each dot (●) represents a neuron.\n",
        "Each line (─── W_k,l ───▶) represents a weight.\n",
        "Each neuron in the current layer gets input from all neurons in the previous layer.\n"
      ]
    },
    {
      "cell_type": "code",
      "execution_count": null,
      "metadata": {
        "id": "GtM_1ZmBXAhJ"
      },
      "outputs": [],
      "source": [
        "import numpy as np\n",
        "\n",
        "# Define weight matrix W (random values for illustration)\n",
        "np.random.seed(42)  # For reproducibility\n",
        "W = np.random.randn(4, 3)  # Example weight matrix with 4 rows (neurons), 3 columns (inputs)\n",
        "\n",
        "# Regularization strength (hyperparameter)\n",
        "lambda_reg = 0.1\n",
        "\n",
        "# Compute the regularization loss\n",
        "reg_loss = (0.5 * lambda_reg) * np.sum(W ** 2)\n",
        "\n",
        "# Print results\n",
        "print(\"Weight matrix W:\\n\", W)\n",
        "print(\"\\nRegularization Loss:\", reg_loss)\n"
      ]
    },
    {
      "cell_type": "code",
      "execution_count": null,
      "metadata": {
        "id": "tP_Nk-UAVfFf"
      },
      "outputs": [],
      "source": [
        "import torch.nn as nn\n",
        "import matplotlib.pyplot as plt\n",
        "import numpy as np"
      ]
    },
    {
      "cell_type": "code",
      "execution_count": null,
      "metadata": {
        "id": "8ACLoqehgX6g"
      },
      "outputs": [],
      "source": [
        "\n",
        "x = np.linspace(0.01, 1.0, 20)\n",
        "y = -np.log(x)\n",
        "\n",
        "plt.xlabel('x ->')\n",
        "plt.ylabel('loss ->')\n",
        "plt.title('NLL')\n",
        "plt.plot(x, y)\n",
        "plt.show()\n",
        "\n"
      ]
    },
    {
      "cell_type": "code",
      "execution_count": null,
      "metadata": {
        "id": "NKkR0nuV3QO8"
      },
      "outputs": [],
      "source": [
        "x = np.empty((10,10), dtype='uint8')\n",
        "idx = range(10)\n",
        "x[idx] = np.arange(10, 20)\n",
        "x"
      ]
    },
    {
      "cell_type": "code",
      "execution_count": null,
      "metadata": {
        "id": "CspqPrlc5GdO"
      },
      "outputs": [],
      "source": [
        "import numpy as np\n",
        "import matplotlib.pyplot as plt\n",
        "\n",
        "N = 100  # Number of points per class\n",
        "D = 2    # Dimensionality (2D points: x and y)\n",
        "K = 3    # Number of classes\n",
        "X = np.zeros((N*K, D))  # Data matrix\n",
        "y = np.zeros(N*K, dtype='uint8')  # Class labels\n",
        "\n",
        "for j in range(K):  # Loop over 3 classes\n",
        "    ix = range(N*j, N*(j+1))  # Select index range for this class\n",
        "    r = np.linspace(0.0, 1, N)  # Radius (distance from center)\n",
        "    t = np.linspace(j*4, (j+1)*4, N) + np.random.randn(N) * 0.2  # Angle (theta) with noise\n",
        "    X[ix] = np.c_[r*np.sin(t), r*np.cos(t)]  # Convert polar to Cartesian (x, y)\n",
        "    y[ix] = j  # Assign class labels (0, 1, or 2)\n",
        "\n",
        "# Plot the generated dataset\n",
        "plt.scatter(X[:, 0], X[:, 1], c=y, s=40, cmap='BuGn_r1')\n",
        "plt.show()\n"
      ]
    },
    {
      "cell_type": "code",
      "execution_count": null,
      "metadata": {
        "id": "94RA2cEEhOOu"
      },
      "outputs": [],
      "source": [
        "import numpy as np\n",
        "import matplotlib.pyplot as plt\n",
        "import time\n",
        "from IPython.display import clear_output\n",
        "\n",
        "# Generate some data\n",
        "np.random.seed(42)\n",
        "X = np.random.rand(100, 2)  # 100 random points\n",
        "\n",
        "# Different colormaps to cycle through\n",
        "#cmaps = ['viridis', 'plasma', 'inferno', 'magma', 'cividis']\n",
        "\n",
        "cmaps = ['Accent', 'Accent_r', 'Blues', 'Blues_r', 'BrBG', 'BrBG_r', 'BuGn', 'BuGn_r', 'BuPu', 'BuPu_r', 'CMRmap', 'CMRmap_r', 'Dark2', 'Dark2_r', 'GnBu', 'GnBu_r', 'Grays', 'Grays_r', 'Greens', 'Greens_r', 'Greys', 'Greys_r', 'OrRd', 'OrRd_r', 'Oranges', 'Oranges_r', 'PRGn', 'PRGn_r', 'Paired', 'Paired_r', 'Pastel1', 'Pastel1_r', 'Pastel2', 'Pastel2_r', 'PiYG', 'PiYG_r', 'PuBu', 'PuBuGn', 'PuBuGn_r', 'PuBu_r', 'PuOr', 'PuOr_r', 'PuRd', 'PuRd_r', 'Purples', 'Purples_r', 'RdBu', 'RdBu_r', 'RdGy', 'RdGy_r', 'RdPu', 'RdPu_r', 'RdYlBu', 'RdYlBu_r', 'RdYlGn', 'RdYlGn_r', 'Reds', 'Reds_r', 'Set1', 'Set1_r', 'Set2', 'Set2_r', 'Set3', 'Set3_r', 'Spectral', 'Spectral_r', 'Wistia', 'Wistia_r', 'YlGn', 'YlGnBu', 'YlGnBu_r', 'YlGn_r', 'YlOrBr', 'YlOrBr_r', 'YlOrRd', 'YlOrRd_r', 'afmhot', 'afmhot_r', 'autumn', 'autumn_r', 'berlin', 'berlin_r', 'binary', 'binary_r', 'bone', 'bone_r', 'brg', 'brg_r', 'bwr', 'bwr_r', 'cividis', 'cividis_r', 'cool', 'cool_r', 'coolwarm', 'coolwarm_r', 'copper', 'copper_r', 'cubehelix', 'cubehelix_r', 'flag', 'flag_r', 'gist_earth', 'gist_earth_r', 'gist_gray', 'gist_gray_r', 'gist_grey', 'gist_grey_r', 'gist_heat', 'gist_heat_r', 'gist_ncar', 'gist_ncar_r', 'gist_rainbow', 'gist_rainbow_r', 'gist_stern', 'gist_stern_r', 'gist_yarg', 'gist_yarg_r', 'gist_yerg', 'gist_yerg_r', 'gnuplot', 'gnuplot2', 'gnuplot2_r', 'gnuplot_r', 'gray', 'gray_r', 'grey', 'grey_r', 'hot', 'hot_r']\n",
        "\n",
        "# Loop to update the plot\n",
        "for cmap in cmaps:\n",
        "    clear_output(wait=True)  # Clear the previous plot\n",
        "    plt.scatter(X[:, 0], X[:, 1], c=np.random.rand(100), cmap=cmap, s=40)\n",
        "    plt.title(f\"Colormap: {cmap}\")\n",
        "    plt.colorbar()\n",
        "    plt.show()\n",
        "    time.sleep(2)  # Pause for 2 seconds before updating\n"
      ]
    },
    {
      "cell_type": "markdown",
      "metadata": {
        "id": "N5qPm9N2lTht"
      },
      "source": [
        "$\\sigma_i=15$"
      ]
    },
    {
      "cell_type": "code",
      "execution_count": null,
      "metadata": {
        "id": "RnhmKA1w9QJV"
      },
      "outputs": [],
      "source": [
        "import numpy as np\n",
        "import matplotlib.pyplot as plt\n",
        "\n",
        "# Generate 200 samples (100 per class)\n",
        "N = 100  # Number of points per class\n",
        "D = 2    # Dimensionality\n",
        "X = np.zeros((N*2, D))  # Data matrix\n",
        "y = np.zeros(N*2, dtype='uint8')  # Labels\n",
        "\n",
        "# Generate first half-moon (upper moon)\n",
        "t1 = np.linspace(0, np.pi, N)  # Angles from 0 to π\n",
        "X[:N] = np.c_[np.cos(t1), np.sin(t1)]  # Convert to (x, y) coordinates\n",
        "y[:N] = 0  # First class\n",
        "\n",
        "# Generate second half-moon (lower moon, shifted)\n",
        "t2 = np.linspace(0, np.pi, N)  # Angles from 0 to π\n",
        "X[N:] = np.c_[np.cos(t2) + 0.5, -np.sin(t2) + 0.2]  # Shifted second moon\n",
        "y[N:] = 1  # Second class\n",
        "\n",
        "# Plot the dataset\n",
        "plt.scatter(X[:, 0], X[:, 1], c=y, s=40, cmap=plt.cm.Spectral)\n",
        "plt.title(\"Two Moons Dataset\")\n",
        "plt.show()\n"
      ]
    },
    {
      "cell_type": "markdown",
      "metadata": {
        "id": "KSZuunBh9qjt"
      },
      "source": [
        "🌙 ***Noisy Two Moons Dataset\n",
        "Adding noise makes classification harder by slightly shifting points randomly.***"
      ]
    },
    {
      "cell_type": "code",
      "execution_count": null,
      "metadata": {
        "id": "OcKJxyiL-JK1"
      },
      "outputs": [],
      "source": [
        "import numpy as np\n",
        "import matplotlib.pyplot as plt\n",
        "\n",
        "# Generate 200 samples (100 per class)\n",
        "N = 100  # Number of points per class\n",
        "D = 2    # Dimensionality\n",
        "X = np.zeros((N*2, D))  # Data matrix\n",
        "y = np.zeros(N*2, dtype='uint8')  # Labels\n",
        "\n",
        "# Generate first half-moon (upper moon)\n",
        "t1 = np.linspace(0, np.pi, N)  # Angles from 0 to π\n",
        "X[:N] = np.c_[np.cos(t1), np.sin(t1)]  # Convert to (x, y) coordinates\n",
        "y[:N] = 0  # First class\n",
        "\n",
        "# Generate second half-moon (lower moon, shifted)\n",
        "t2 = np.linspace(0, np.pi, N)  # Angles from 0 to π\n",
        "X[N:] = np.c_[np.cos(t2) + 0.5, -np.sin(t2) + 0.2]  # Shifted second moon\n",
        "y[N:] = 1  # Second class\n",
        "\n",
        "# Add random noise\n",
        "X += np.random.randn(N*2, D) * 0.1  # Adding Gaussian noise\n",
        "\n",
        "# Plot the dataset\n",
        "plt.scatter(X[:, 0], X[:, 1], c=y, s=40, cmap=plt.cm.Spectral)\n",
        "plt.title(\"Noisy Two Moons Dataset\")\n",
        "plt.show()\n"
      ]
    },
    {
      "cell_type": "markdown",
      "metadata": {
        "id": "zwMGuN4o-YmW"
      },
      "source": [
        "# 🎯 Concentric Circles Dataset"
      ]
    },
    {
      "cell_type": "code",
      "execution_count": null,
      "metadata": {
        "id": "luwRY_2w-gQ3"
      },
      "outputs": [],
      "source": [
        "import numpy as np\n",
        "import matplotlib.pyplot as plt\n",
        "\n",
        "# Generate 200 samples (100 per class)\n",
        "N = 100  # Number of points per class\n",
        "D = 2    # Dimensionality\n",
        "X = np.zeros((N*2, D))  # Data matrix\n",
        "y = np.zeros(N*2, dtype='uint8')  # Labels\n",
        "\n",
        "# Generate inner circle\n",
        "t1 = np.linspace(0, 2*np.pi, N)  # Angles from 0 to 2π\n",
        "X[:N] = np.c_[np.cos(t1) * 0.5, np.sin(t1) * 0.5]  # Smaller radius\n",
        "y[:N] = 0  # First class\n",
        "\n",
        "# Generate outer circle\n",
        "t2 = np.linspace(0, 2*np.pi, N)  # Angles from 0 to 2π\n",
        "X[N:] = np.c_[np.cos(t2), np.sin(t2)]  # Larger radius\n",
        "y[N:] = 1  # Second class\n",
        "\n",
        "# Add random noise\n",
        "X += np.random.randn(N*2, D) * 0.05  # Adding Gaussian noise\n",
        "\n",
        "# Plot the dataset\n",
        "plt.scatter(X[:, 0], X[:, 1], c=y, s=40, cmap=plt.cm.Spectral)\n",
        "plt.title(\"Concentric Circles Dataset\")\n",
        "plt.show()\n"
      ]
    },
    {
      "cell_type": "markdown",
      "metadata": {
        "id": "a0O6v9kM-4K-"
      },
      "source": [
        "# 📌 Gaussian Blobs Dataset"
      ]
    },
    {
      "cell_type": "code",
      "execution_count": null,
      "metadata": {
        "id": "S1375nez--v1"
      },
      "outputs": [],
      "source": [
        "import numpy as np\n",
        "import matplotlib.pyplot as plt\n",
        "\n",
        "# Generate three clusters (blobs) with some noise\n",
        "N = 100  # Points per cluster\n",
        "D = 2  # Dimensions\n",
        "K = 3  # Number of clusters\n",
        "\n",
        "X = np.zeros((N * K, D))  # Data matrix\n",
        "y = np.zeros(N * K, dtype='uint8')  # Class labels\n",
        "\n",
        "# Cluster centers\n",
        "centers = np.array([[1, 1], [-1, -1], [1, -1]])\n",
        "\n",
        "for j in range(K):\n",
        "    ix = range(N * j, N * (j + 1))\n",
        "    X[ix] = centers[j] + np.random.randn(N, D) * 0.3  # Add Gaussian noise\n",
        "    y[ix] = j  # Assign labels\n",
        "\n",
        "# Plot dataset\n",
        "plt.scatter(X[:, 0], X[:, 1], c=y, s=40, cmap=plt.cm.Spectral)\n",
        "plt.title(\"Gaussian Blobs Dataset\")\n",
        "plt.show()\n"
      ]
    },
    {
      "cell_type": "markdown",
      "metadata": {
        "id": "WxZ2TKVu_VCd"
      },
      "source": [
        "# 📌 Swiss Roll Dataset (3D Spiral)"
      ]
    },
    {
      "cell_type": "code",
      "execution_count": null,
      "metadata": {
        "id": "OP7HWZpN_Zye"
      },
      "outputs": [],
      "source": [
        "from mpl_toolkits.mplot3d import Axes3D\n",
        "\n",
        "# Generate Swiss roll\n",
        "N = 1000  # Number of points\n",
        "t = 3 * np.pi * (1 + 2 * np.random.rand(N))  # Angle\n",
        "x = t * np.cos(t)  # X-coordinates\n",
        "y = 10 * np.random.rand(N)  # Y-coordinates (random height)\n",
        "z = t * np.sin(t)  # Z-coordinates\n",
        "\n",
        "# Color by t-value (helps visualize the roll)\n",
        "colors = t\n",
        "\n",
        "# Plot dataset\n",
        "fig = plt.figure(figsize=(8, 6))\n",
        "ax = fig.add_subplot(111, projection='3d')\n",
        "ax.scatter(x, y, z, c=colors, cmap=plt.cm.Spectral)\n",
        "ax.set_title(\"Swiss Roll Dataset\")\n",
        "plt.show()\n"
      ]
    },
    {
      "cell_type": "markdown",
      "metadata": {
        "id": "1YmxVsBBKXgv"
      },
      "source": [
        "# PCA on Swiss Roll"
      ]
    },
    {
      "cell_type": "code",
      "execution_count": null,
      "metadata": {
        "id": "EqGDv62uKaHP"
      },
      "outputs": [],
      "source": [
        "import numpy as np\n",
        "import matplotlib.pyplot as plt\n",
        "from mpl_toolkits.mplot3d import Axes3D\n",
        "\n",
        "# Step 1: Generate Swiss Roll Data\n",
        "N = 1000  # Number of points\n",
        "t = 3 * np.pi * (1 + 2 * np.random.rand(N))  # Angle\n",
        "x = t * np.cos(t)  # X-coordinates\n",
        "y = 10 * np.random.rand(N)  # Y-coordinates (height)\n",
        "z = t * np.sin(t)  # Z-coordinates\n",
        "X = np.c_[x, y, z]  # Combine into (N, 3) dataset\n",
        "\n",
        "# Step 2: Center the Data\n",
        "X_mean = np.mean(X, axis=0)  # Compute mean of each column\n",
        "X_centered = X - X_mean  # Subtract mean to center the data\n",
        "\n",
        "# Step 3: Compute Covariance Matrix\n",
        "cov_matrix = np.cov(X_centered, rowvar=False)  # (3,3) covariance matrix\n",
        "\n",
        "# Step 4: Compute Eigenvectors & Eigenvalues\n",
        "eigenvalues, eigenvectors = np.linalg.eig(cov_matrix)  # Eigen decomposition\n",
        "\n",
        "# Step 5: Sort Eigenvectors by Largest Eigenvalues\n",
        "sorted_indices = np.argsort(-eigenvalues)  # Get indices in descending order\n",
        "top_2_eigenvectors = eigenvectors[:, sorted_indices[:2]]  # Keep top 2 eigenvectors\n",
        "\n",
        "# Step 6: Project Data onto Top 2 Components\n",
        "X_pca = X_centered @ top_2_eigenvectors  # Matrix multiplication to transform data\n",
        "\n",
        "# Step 7: Visualize the Reduced 2D Data\n",
        "plt.scatter(X_pca[:, 0], X_pca[:, 1], c=t, cmap=plt.cm.Spectral)\n",
        "plt.title(\"PCA Projection of Swiss Roll (2D)\")\n",
        "plt.xlabel(\"Principal Component 1\")\n",
        "plt.ylabel(\"Principal Component 2\")\n",
        "plt.show()\n"
      ]
    },
    {
      "cell_type": "code",
      "execution_count": null,
      "metadata": {
        "id": "FucmNaGBXDPF"
      },
      "outputs": [],
      "source": [
        "import numpy as np"
      ]
    },
    {
      "cell_type": "code",
      "execution_count": null,
      "metadata": {
        "id": "gE2xWb_nXHeS"
      },
      "outputs": [],
      "source": [
        "np.log(0)"
      ]
    },
    {
      "cell_type": "code",
      "execution_count": null,
      "metadata": {
        "id": "xhzkiZRIYSIZ"
      },
      "outputs": [],
      "source": [
        "epsilon = 1e+10\n",
        "np.log(0 + epsilon)  # Avoids -inf\n"
      ]
    },
    {
      "cell_type": "code",
      "execution_count": null,
      "metadata": {
        "id": "g9YvDloNcn-b"
      },
      "outputs": [],
      "source": [
        "np.log(0.71), np.log(0.98), np.log(0.49)"
      ]
    },
    {
      "cell_type": "code",
      "execution_count": null,
      "metadata": {
        "id": "qD5ln6mpj1lC"
      },
      "outputs": [],
      "source": [
        "np.log(0)"
      ]
    },
    {
      "cell_type": "code",
      "execution_count": null,
      "metadata": {
        "id": "FMOmpLnleGrq"
      },
      "outputs": [],
      "source": [
        "-np.log(0.1)"
      ]
    },
    {
      "cell_type": "code",
      "execution_count": null,
      "metadata": {
        "id": "ww0ZoUiDeh-6"
      },
      "outputs": [],
      "source": [
        "-np.log(0.36787944117144233)"
      ]
    },
    {
      "cell_type": "code",
      "execution_count": null,
      "metadata": {
        "id": "GWZRrCSLfXdK"
      },
      "outputs": [],
      "source": [
        "1/np.e"
      ]
    },
    {
      "cell_type": "code",
      "execution_count": null,
      "metadata": {
        "id": "5NsV2A6uwxcm"
      },
      "outputs": [],
      "source": [
        "sigmoid(2), 1/(1 + np.e ** (-2)), sigmoid(0.3) + sigmoid(-0.3)"
      ]
    },
    {
      "cell_type": "code",
      "execution_count": null,
      "metadata": {
        "id": "5LLSChuww3fb"
      },
      "outputs": [],
      "source": []
    },
    {
      "cell_type": "code",
      "execution_count": null,
      "metadata": {
        "id": "BcVlqO33gGOz"
      },
      "outputs": [],
      "source": [
        "import numpy as np\n",
        "import matplotlib.pyplot as plt\n",
        "\n",
        "p = np.linspace(0.01, 1, 100)  # Probabilities from 0.01 to 1\n",
        "nll = -np.log(p)\n",
        "\n",
        "plt.plot(p, nll, label=\"-log(p)\", color=\"b\")\n",
        "plt.axvline(x=np.exp(-1), color='r', linestyle='--', label=\"p = 0.367 (e^-1)\")\n",
        "plt.axhline(y=1, color='g', linestyle='--', label=\"Loss = 1\")\n",
        "\n",
        "plt.xlabel(\"Predicted Probability (p)\")\n",
        "plt.ylabel(\"Negative Log Likelihood (-log(p))\")\n",
        "plt.title(\"Negative Log Likelihood vs. Probability\")\n",
        "plt.legend()\n",
        "plt.grid()\n",
        "plt.show()\n"
      ]
    },
    {
      "cell_type": "code",
      "execution_count": null,
      "metadata": {
        "id": "aIkG8CURegxH"
      },
      "outputs": [],
      "source": [
        "X_train, y_train = MNISTLoader(folder='data').load()\n",
        "X_train.shape, X_train.dtype, y_train.shape, y_train.dtype\n",
        "indices = np.where((y_train == 0) | (y_train == 1) | (y_train == 2))\n",
        "X_train_123 = X_train[indices]\n",
        "y_train_123 = y_train[indices]\n",
        "X_train_123.shape, y_train_123.shape"
      ]
    },
    {
      "cell_type": "code",
      "execution_count": null,
      "metadata": {
        "id": "W__LGXEjN9M3"
      },
      "outputs": [],
      "source": [
        "in_features = 784\n",
        "out_features_1 = 3\n",
        "weights_1 = np.random.randn(out_features_1, in_features) * np.sqrt(2. / in_features)\n",
        "bias_1 = np.full(out_features_1, 0.1)"
      ]
    },
    {
      "cell_type": "code",
      "execution_count": null,
      "metadata": {
        "id": "TWapPpH9fqES"
      },
      "outputs": [],
      "source": [
        "z1 = X_train_123 @ weights_1.T + bias_1\n",
        "a1 = 1 / (1 + np.exp(-z1))\n",
        "preds = np.argmax(a1, axis=1)\n",
        "print(preds.shape, y_train_123.shape)\n",
        "#loss = np.mean((y_train_123 - preds) **2)\n",
        "loss = -np.mean(y_train_123 * np.log(a1) + (1 - y_train_123) * np.log(1 - a1))\n",
        "\n",
        "#error_delta = (a1 - y_train) / a.shape[0]\n",
        "\n",
        "print(loss, a1.shape)"
      ]
    },
    {
      "cell_type": "code",
      "execution_count": null,
      "metadata": {
        "id": "L-RYfkvzod20"
      },
      "outputs": [],
      "source": [
        "probs = np.linspace(10, 20, 10).reshape(2,5)\n",
        "probs[range(2),[4, 0]]"
      ]
    },
    {
      "cell_type": "code",
      "execution_count": null,
      "metadata": {
        "id": "8unyEv9Fpe1A"
      },
      "outputs": [],
      "source": [
        "def download(url, filename):\n",
        "    from pathlib import Path\n",
        "    import requests\n",
        "    splits = filename.split('/')\n",
        "    data_path = '/'.join(splits[:-1])\n",
        "    f_name = splits[-1]\n",
        "    data_path = Path(data_path)\n",
        "    data_path.mkdir(parents=True, exist_ok=True)\n",
        "\n",
        "    if not (data_path / f_name).exists():\n",
        "        content = requests.get(url).content\n",
        "        (data_path / f_name).open(\"wb\").write(content)"
      ]
    },
    {
      "cell_type": "code",
      "execution_count": null,
      "metadata": {
        "id": "osRUvYE3qYFf"
      },
      "outputs": [],
      "source": [
        "download(url, \"Pima-Indians-Diabetes-Dataset/diabetes.csv\")"
      ]
    },
    {
      "cell_type": "code",
      "execution_count": null,
      "metadata": {
        "id": "gg_1NXALNDLO"
      },
      "outputs": [],
      "source": [
        "import numpy as np\n",
        "import matplotlib.pyplot as plt\n",
        "\n",
        "# Load dataset\n",
        "url = 'https://raw.githubusercontent.com/npradaschnor/Pima-Indians-Diabetes-Dataset/refs/heads/master/diabetes.csv'\n",
        "diabetestxt = np.loadtxt(url, delimiter=',', skiprows=1, dtype=np.float16)\n",
        "\n",
        "# Split dataset\n",
        "split = int(0.8 * len(diabetestxt))\n",
        "X_train, y_train = diabetestxt[:split, :-1], diabetestxt[:split, -1]\n",
        "X_test, y_test = diabetestxt[split:, :-1], diabetestxt[split:, -1]"
      ]
    },
    {
      "cell_type": "code",
      "execution_count": null,
      "metadata": {
        "id": "b1v2pW_tM2me"
      },
      "outputs": [],
      "source": [
        "np.random.seed(42)\n",
        "# Initialize weights & bias\n",
        "in_features = X_train.shape[1]\n",
        "out_features = 1\n",
        "\n",
        "weights = np.random.randn(in_features, out_features) * np.sqrt(2. / in_features)\n",
        "bias = np.full((1, out_features), 0.1)\n",
        "\n",
        "# Activation functions\n",
        "z = lambda x, w, b: x @ w + b\n",
        "a = lambda z: 1 / (1 + np.exp(-z))\n",
        "sigmoid_prime = lambda a: a * (1 - a)\n",
        "\n",
        "# Training loop\n",
        "epochs = 20\n",
        "lr = 0.01\n"
      ]
    },
    {
      "cell_type": "code",
      "execution_count": null,
      "metadata": {
        "id": "XOhIeS6TKm1-"
      },
      "outputs": [],
      "source": [
        "losses = []\n",
        "\n",
        "for epoch in range(epochs):\n",
        "    logits = z(X_train, weights, bias)  # Forward pass\n",
        "    preds = a(logits)\n",
        "\n",
        "    # Compute MSE Loss\n",
        "    loss = np.mean((preds.flatten() - y_train) ** 2)\n",
        "    losses.append(loss)\n",
        "\n",
        "    # Compute Gradients\n",
        "    loss_gradient = 2 * (preds - y_train.reshape(-1, 1)) / y_train.shape[0]\n",
        "    sigmoid_drv = sigmoid_prime(preds)\n",
        "\n",
        "    # Weight and bias update\n",
        "    wt_delta = X_train.T @ (loss_gradient * sigmoid_drv)  # Corrected gradient\n",
        "    db_delta = np.sum(loss_gradient * sigmoid_drv, axis=0, keepdims=True)\n",
        "\n",
        "    weights -= lr * wt_delta\n",
        "    bias -= lr * db_delta\n",
        "\n",
        "    print(f'Epoch: {epoch+1}/{epochs} | Loss: {loss:.10f}')\n",
        "\n"
      ]
    },
    {
      "cell_type": "code",
      "execution_count": null,
      "metadata": {
        "id": "AQ7cWP0rQjA_"
      },
      "outputs": [],
      "source": [
        "def predict(X, weights, bias):\n",
        "    logits = z(X, weights, bias)\n",
        "    preds = a(logits)\n",
        "    return np.round(preds).flatten()\n",
        "def accuracy(y_true, y_pred):\n",
        "    return np.mean(y_true == y_pred)"
      ]
    },
    {
      "cell_type": "code",
      "execution_count": null,
      "metadata": {
        "id": "hVjSoYSvQzcm"
      },
      "outputs": [],
      "source": [
        "y_pred = predict(X_test, weights, bias)\n",
        "accuracy(y_test, y_pred) * 100"
      ]
    },
    {
      "cell_type": "code",
      "execution_count": null,
      "metadata": {
        "id": "0lhK6_r3Nsrs"
      },
      "outputs": [],
      "source": [
        "import numpy as np\n",
        "\n",
        "# Load dataset\n",
        "url = 'https://raw.githubusercontent.com/npradaschnor/Pima-Indians-Diabetes-Dataset/refs/heads/master/diabetes.csv'\n",
        "diabetestxt = np.loadtxt(url, delimiter=',', skiprows=1, dtype=np.float32)\n",
        "\n",
        "# Split dataset\n",
        "split = int(0.8 * len(diabetestxt))\n",
        "X_train, y_train = diabetestxt[:split, :-1], diabetestxt[:split, -1]\n",
        "X_test, y_test = diabetestxt[split:, :-1], diabetestxt[split:, -1]\n",
        "\n",
        "# Reshape y_train and y_test for proper broadcasting\n",
        "y_train = y_train.reshape(-1, 1)\n",
        "y_test = y_test.reshape(-1, 1)\n",
        "\n",
        "# Normalize X_train and X_test\n",
        "X_mean = X_train.mean(axis=0)\n",
        "X_std = X_train.std(axis=0)\n",
        "X_train = (X_train - X_mean) / X_std\n",
        "X_test = (X_test - X_mean) / X_std  # Fix test normalization\n",
        "\n",
        "# Initialize weights & bias\n",
        "np.random.seed(42)\n",
        "in_features = X_train.shape[1]\n",
        "out_features = 1\n",
        "\n",
        "# He initialization\n",
        "weights = np.random.randn(in_features, out_features) * np.sqrt(2. / in_features)\n",
        "bias = np.zeros((1, out_features))\n",
        "\n",
        "# Activation functions\n",
        "z = lambda x, w, b: x @ w + b\n",
        "sigmoid = lambda z: 1 / (1 + np.exp(-z))\n",
        "\n",
        "# Training loop\n",
        "epochs = 500  # Increase epochs\n",
        "lr = 0.005  # Learning rate\n",
        "epsilon = 1e-7  # Small value to avoid log(0)\n",
        "reg = 1  # Regularization\n",
        "\n",
        "losses = []\n",
        "\n",
        "for epoch in range(epochs):\n",
        "    # Forward pass\n",
        "    logits = z(X_train, weights, bias)\n",
        "    preds = sigmoid(logits)\n",
        "\n",
        "    # Clip predictions for stability\n",
        "    preds = np.clip(preds, epsilon, 1 - epsilon)\n",
        "\n",
        "    # Compute Binary Cross-Entropy Loss\n",
        "    loss = -np.mean(y_train * np.log(preds) + (1 - y_train) * np.log(1 - preds))\n",
        "    reg_loss = 0.5 * reg * np.sum(weights * weights)\n",
        "    total_loss = loss + reg_loss\n",
        "    losses.append(total_loss)\n",
        "\n",
        "    # Compute Gradients\n",
        "    loss_gradient = (preds - y_train) / y_train.shape[0]  # Derivative of BCE loss\n",
        "\n",
        "    # Corrected sigmoid derivative\n",
        "    #sigmoid_drv = preds * (1 - preds)  # Use preds, which is already sigmoid(logits)\n",
        "    sigmoid_drv = sigmoid_prime(preds)\n",
        "    # Weight and bias update with regularization\n",
        "    wt_delta = X_train.T @ (loss_gradient) + reg * weights\n",
        "    db_delta = np.sum(loss_gradient * sigmoid_drv, axis=0, keepdims=True)\n",
        "\n",
        "    weights -= lr * wt_delta\n",
        "    bias -= lr * db_delta\n",
        "\n",
        "    if (epoch + 1) % 50 == 0:\n",
        "        print(f'Epoch: {epoch+1}/{epochs} | Loss: {total_loss:.10f}')\n",
        "\n",
        "# Print final accuracy\n",
        "y_pred_test = sigmoid(z(X_test, weights, bias)) >= 0.5\n",
        "accuracy = np.mean(y_pred_test == y_test)\n",
        "print(f'Test Accuracy: {accuracy:.4f}')\n"
      ]
    },
    {
      "cell_type": "code",
      "execution_count": null,
      "metadata": {
        "id": "nJxoGyI2WQp2"
      },
      "outputs": [],
      "source": [
        "import matplotlib.pyplot as plt\n",
        "plt.plot(losses)"
      ]
    },
    {
      "cell_type": "code",
      "execution_count": null,
      "metadata": {
        "id": "2S4yFrEXhzYr"
      },
      "outputs": [],
      "source": [
        "w = np.random.randn(3,3)\n",
        "w, np.sign(w)"
      ]
    },
    {
      "cell_type": "code",
      "execution_count": null,
      "metadata": {
        "id": "zUeAWpK2Yhnx"
      },
      "outputs": [],
      "source": [
        "import torch\n",
        "import torch.nn as nn\n",
        "import torch.optim as optim\n",
        "import numpy as np\n",
        "import pandas as pd\n",
        "from sklearn.model_selection import train_test_split\n",
        "from sklearn.preprocessing import StandardScaler\n",
        "\n",
        "# Load dataset\n",
        "url = \"https://raw.githubusercontent.com/jbrownlee/Datasets/master/pima-indians-diabetes.data.csv\"\n",
        "columns = ['Pregnancies', 'Glucose', 'BloodPressure', 'SkinThickness', 'Insulin',\n",
        "           'BMI', 'DiabetesPedigreeFunction', 'Age', 'Outcome']\n",
        "\n",
        "df = pd.read_csv(url, names=columns)\n",
        "\n",
        "# Split features and labels\n",
        "X = df.iloc[:, :-1].values\n",
        "y = df.iloc[:, -1].values\n",
        "\n",
        "# Normalize the features\n",
        "scaler = StandardScaler()\n",
        "X = scaler.fit_transform(X)\n",
        "\n",
        "# Convert to PyTorch tensors\n",
        "X_train, X_test, y_train, y_test = train_test_split(X, y, test_size=0.2, random_state=42)\n",
        "X_train, X_test = torch.tensor(X_train, dtype=torch.float32), torch.tensor(X_test, dtype=torch.float32)\n",
        "y_train, y_test = torch.tensor(y_train, dtype=torch.float32).view(-1, 1), torch.tensor(y_test, dtype=torch.float32).view(-1, 1)\n",
        "\n",
        "# Define the neural network\n",
        "class DiabetesModel(nn.Module):\n",
        "    def __init__(self):\n",
        "        super(DiabetesModel, self).__init__()\n",
        "        self.fc1 = nn.Linear(8, 16)  # First hidden layer\n",
        "        self.fc2 = nn.Linear(16, 8)  # Second hidden layer\n",
        "        self.fc3 = nn.Linear(8, 1)   # Output layer\n",
        "\n",
        "        self.relu = nn.ReLU()\n",
        "        self.sigmoid = nn.Sigmoid()\n",
        "\n",
        "    def forward(self, x):\n",
        "        x = self.relu(self.fc1(x))\n",
        "        x = self.relu(self.fc2(x))\n",
        "        x = self.sigmoid(self.fc3(x))  # Sigmoid activation at output\n",
        "        return x\n",
        "\n",
        "# Instantiate model, define loss and optimizer\n",
        "model = DiabetesModel()\n",
        "criterion = nn.BCELoss()  # Binary Cross-Entropy Loss\n",
        "optimizer = optim.Adam(model.parameters(), lr=0.01)\n",
        "\n",
        "# Training loop\n",
        "epochs = 200\n",
        "for epoch in range(epochs):\n",
        "    model.train()\n",
        "    optimizer.zero_grad()\n",
        "    output = model(X_train)\n",
        "    loss = criterion(output, y_train)\n",
        "    loss.backward()\n",
        "    optimizer.step()\n",
        "\n",
        "    if (epoch+1) % 10 == 0:\n",
        "        print(f\"Epoch {epoch+1}/{epochs}, Loss: {loss.item():.4f}\")\n",
        "\n",
        "# Evaluation\n",
        "model.eval()\n",
        "with torch.no_grad():\n",
        "    predictions = model(X_test)\n",
        "    predictions = predictions.round()\n",
        "    accuracy = (predictions.eq(y_test).sum().item()) / y_test.shape[0]\n",
        "    print(f\"Test Accuracy: {accuracy:.4f}\")\n"
      ]
    },
    {
      "cell_type": "code",
      "execution_count": null,
      "metadata": {
        "id": "vfig-Z-gcLhh"
      },
      "outputs": [],
      "source": [
        "import numpy as np\n",
        "import pandas as pd\n",
        "from sklearn.model_selection import train_test_split\n",
        "from sklearn.preprocessing import StandardScaler\n",
        "\n",
        "# Load dataset\n",
        "url = \"https://raw.githubusercontent.com/jbrownlee/Datasets/master/pima-indians-diabetes.data.csv\"\n",
        "columns = ['Pregnancies', 'Glucose', 'BloodPressure', 'SkinThickness', 'Insulin',\n",
        "           'BMI', 'DiabetesPedigreeFunction', 'Age', 'Outcome']\n",
        "\n",
        "df = pd.read_csv(url, names=columns)\n",
        "\n",
        "# Split features and labels\n",
        "X = df.iloc[:, :-1].values  # Features (8 inputs)\n",
        "y = df.iloc[:, -1].values   # Labels (0 or 1)\n",
        "\n",
        "# Normalize features\n",
        "scaler = StandardScaler()\n",
        "X = scaler.fit_transform(X)\n",
        "\n",
        "# Train-test split\n",
        "X_train, X_test, y_train, y_test = train_test_split(X, y, test_size=0.2, random_state=42)\n",
        "\n",
        "# Initialize weights and bias\n",
        "np.random.seed(42)\n",
        "num_features = X_train.shape[1]\n",
        "W = np.random.randn(num_features) * 0.01  # Small random values\n",
        "b = 0.0  # Bias term\n",
        "\n",
        "# Sigmoid function\n",
        "def sigmoid(z):\n",
        "    return 1 / (1 + np.exp(-z))\n",
        "\n",
        "# Binary Cross-Entropy Loss\n",
        "def compute_loss(y_true, y_pred):\n",
        "    m = len(y_true)\n",
        "    return -np.mean(y_true * np.log(y_pred + 1e-8) + (1 - y_true) * np.log(1 - y_pred + 1e-8))\n",
        "\n",
        "# Gradient Descent function\n",
        "def gradient_descent(X, y, W, b, learning_rate, epochs):\n",
        "    m = X.shape[0]  # Number of training samples\n",
        "\n",
        "    for epoch in range(epochs):\n",
        "        # Forward pass\n",
        "        z = np.dot(X, W) + b  # Linear combination\n",
        "        y_pred = sigmoid(z)   # Apply sigmoid\n",
        "\n",
        "        # Compute loss\n",
        "        loss = compute_loss(y, y_pred)\n",
        "\n",
        "        # Backward pass (compute gradients)\n",
        "        dz = y_pred - y  # Error term\n",
        "        dW = np.dot(X.T, dz) / m  # Gradient of weights\n",
        "        db = np.sum(dz) / m       # Gradient of bias\n",
        "\n",
        "        # Update weights and bias\n",
        "        W -= learning_rate * dW\n",
        "        b -= learning_rate * db\n",
        "\n",
        "        # Print loss every 100 epochs\n",
        "        if (epoch + 1) % 100 == 0:\n",
        "            print(f\"Epoch {epoch+1}/{epochs}, Loss: {loss:.4f}\")\n",
        "\n",
        "    return W, b\n",
        "\n",
        "# Train the model\n",
        "learning_rate = 0.01\n",
        "epochs = 1000\n",
        "W, b = gradient_descent(X_train, y_train, W, b, learning_rate, epochs)\n",
        "\n",
        "# Predictions\n",
        "def predict(X, W, b, threshold=0.5):\n",
        "    return sigmoid(np.dot(X, W) + b) >= threshold\n",
        "\n",
        "# Evaluate the model\n",
        "y_pred_test = predict(X_test, W, b)\n",
        "accuracy = np.mean(y_pred_test == y_test)\n",
        "print(f\"Test Accuracy: {accuracy:.4f}\")\n"
      ]
    },
    {
      "cell_type": "code",
      "execution_count": null,
      "metadata": {
        "id": "_zMgdiSnxZwd"
      },
      "outputs": [],
      "source": [
        "!python -c 'import tensorflow as tf; print(tf.__version__)'"
      ]
    },
    {
      "cell_type": "code",
      "execution_count": null,
      "metadata": {
        "id": "V1h_63_jxvCO"
      },
      "outputs": [],
      "source": [
        "import tensorflow as tf\n",
        "import numpy as np"
      ]
    },
    {
      "cell_type": "code",
      "execution_count": null,
      "metadata": {
        "id": "wQo8qf9bxzll"
      },
      "outputs": [],
      "source": [
        "print(tf.__version__)\n",
        "np.set_printoptions(precision=3)"
      ]
    },
    {
      "cell_type": "code",
      "execution_count": null,
      "metadata": {
        "id": "f5zmHLD4ym_1"
      },
      "outputs": [],
      "source": [
        "a = np.array([1,2,3], dtype=np.int32)\n",
        "b = [4,5,6]\n",
        "c = tf.convert_to_tensor(b, dtype=tf.int32)\n",
        "d = tf.convert_to_tensor(a, dtype=tf.int32)\n",
        "print(a, b, c, d)"
      ]
    },
    {
      "cell_type": "code",
      "execution_count": null,
      "metadata": {
        "id": "il38b-YfzMdl"
      },
      "outputs": [],
      "source": [
        "ones = tf.ones((2,3))\n",
        "ones.shape, ones.numpy()"
      ]
    },
    {
      "cell_type": "code",
      "execution_count": null,
      "metadata": {
        "id": "bAOWH5nFzvhF"
      },
      "outputs": [],
      "source": [
        "tf.constant([42])"
      ]
    },
    {
      "cell_type": "code",
      "execution_count": null,
      "metadata": {
        "id": "Ld_B3jOe0Ca1"
      },
      "outputs": [],
      "source": [
        "tf.cast(a, tf.bool)"
      ]
    },
    {
      "cell_type": "code",
      "execution_count": null,
      "metadata": {
        "id": "o7ULRQvs0Tcl"
      },
      "outputs": [],
      "source": [
        "x = tf.convert_to_tensor([1, -3.0])\n",
        "tf.cast(x, tf.int64)"
      ]
    },
    {
      "cell_type": "code",
      "execution_count": null,
      "metadata": {
        "id": "Cbd1ihjg0_JF"
      },
      "outputs": [],
      "source": [
        "import torch\n",
        "tf.random.uniform(shape=(2,3)), np.random.uniform(size=(2,3))"
      ]
    },
    {
      "cell_type": "code",
      "execution_count": null,
      "metadata": {
        "id": "uQM1TdSi2689"
      },
      "outputs": [],
      "source": [
        "tf.random.set_seed(1)\n",
        "t1 = tf.random.uniform(shape=(5, 2), minval=-1.0, maxval=1.0)\n",
        "t2 = tf.random.normal(shape=(5, 2), mean=0.0, stddev=1.0)"
      ]
    },
    {
      "cell_type": "code",
      "execution_count": null,
      "metadata": {
        "id": "7l0ef2Vq3Aw-"
      },
      "outputs": [],
      "source": [
        "tf.multiply(t1, t2).numpy()"
      ]
    },
    {
      "cell_type": "code",
      "execution_count": null,
      "metadata": {
        "id": "r8FeS97b3VTd"
      },
      "outputs": [],
      "source": [
        "t3 = tf.random.normal(shape=(5, 5), mean=0.0, stddev=1.0)"
      ]
    },
    {
      "cell_type": "code",
      "execution_count": null,
      "metadata": {
        "id": "a2wK_43F3dZl"
      },
      "outputs": [],
      "source": [
        "tf.linalg.matmul(tf.linalg.matmul(t1, t2, transpose_b=True), t3, transpose_a=True, transpose_b=True)"
      ]
    },
    {
      "cell_type": "code",
      "execution_count": null,
      "metadata": {
        "id": "qPc0tlzY4HiN"
      },
      "outputs": [],
      "source": [
        "t1"
      ]
    },
    {
      "cell_type": "code",
      "execution_count": null,
      "metadata": {
        "id": "okxPBuli4b3m"
      },
      "outputs": [],
      "source": [
        "np.sqrt(-0.67**2 +  0.803**2)"
      ]
    },
    {
      "cell_type": "code",
      "execution_count": null,
      "metadata": {
        "id": "V3qwkKmd4npN"
      },
      "outputs": [],
      "source": [
        "tf.norm(t1, ord=2, axis=1).numpy()"
      ]
    },
    {
      "cell_type": "code",
      "execution_count": null,
      "metadata": {
        "id": "9gG7EFeM5iCu"
      },
      "outputs": [],
      "source": [
        "import tensorflow as tf\n",
        "\n",
        "t1 = tf.constant([[3.0, 4.0], [1.0, -2.0], [5.0, 12.0]])  # Shape: (3,2)\n",
        "result = tf.norm(t1, ord=2, axis=1).numpy()\n",
        "\n",
        "print(result)  # Expected: [5.0, 2.236, 13.0]\n"
      ]
    },
    {
      "cell_type": "code",
      "execution_count": null,
      "metadata": {
        "id": "YLw6rUif5rue"
      },
      "outputs": [],
      "source": [
        "np.sqrt(5)"
      ]
    },
    {
      "cell_type": "code",
      "execution_count": null,
      "metadata": {
        "id": "G29ytl-85yCu"
      },
      "outputs": [],
      "source": [
        "t1"
      ]
    },
    {
      "cell_type": "code",
      "execution_count": null,
      "metadata": {
        "id": "A2tDx9kW53ae"
      },
      "outputs": [],
      "source": [
        "t1 = tf.random.uniform(shape=(5, 2), minval=-1.0, maxval=1.0)"
      ]
    },
    {
      "cell_type": "code",
      "execution_count": null,
      "metadata": {
        "id": "mDeNDGoF6Jy-"
      },
      "outputs": [],
      "source": [
        "np.sqrt((-0.527)**2 +(-0.522)**2)"
      ]
    },
    {
      "cell_type": "code",
      "execution_count": null,
      "metadata": {
        "id": "kySPuv9NEyag"
      },
      "outputs": [],
      "source": [
        "for i, elem in enumerate([2,20,30], 299):\n",
        "    print(i, elem)"
      ]
    },
    {
      "cell_type": "code",
      "execution_count": null,
      "metadata": {
        "id": "4laVMurursyH"
      },
      "outputs": [],
      "source": [
        "image_names = ['cat-01.jpg', 'cat-02.jpg', 'cat-03.jpg', 'dog-01.jpg', 'dog-02.jpg','dog-03.jpg']\n",
        "\n",
        "\n",
        "url_place_hoder = 'https://github.com/rasbt/python-machine-learning-book-3rd-edition/blob/master/ch13/cat_dog_images/{}?raw=true'\n",
        "save_to_place_holder = 'ch13/cat_dog_images/{}'\n",
        "\n",
        "for name in image_names:\n",
        "    url = url_place_hoder.format(name)\n",
        "    save_to = save_to_place_holder.format(name)\n",
        "    download(url, save_to)"
      ]
    },
    {
      "cell_type": "code",
      "execution_count": null,
      "metadata": {
        "id": "CItJ3qfJwNa_"
      },
      "outputs": [],
      "source": [
        "import tensorflow as tf\n",
        "import matplotlib.pyplot as plt"
      ]
    },
    {
      "cell_type": "code",
      "execution_count": null,
      "metadata": {
        "id": "9RqPCUYewWBv"
      },
      "outputs": [],
      "source": [
        "image = tf.io.read_file('cat-01.jpg')\n",
        "#image = tf.io.decode_jpeg(image, channels=3)\n",
        "image = tf.io.decode_jpeg(image)\n",
        "#plt.figure()\n",
        "plt.imshow(image)"
      ]
    },
    {
      "cell_type": "code",
      "execution_count": null,
      "metadata": {
        "id": "6nJu0gJB0INI"
      },
      "outputs": [],
      "source": [
        "!file cat-01.jpg"
      ]
    },
    {
      "cell_type": "code",
      "execution_count": null,
      "metadata": {
        "id": "RKgYRXOa9c8w"
      },
      "outputs": [],
      "source": [
        "!wget https://github.com/rasbt/python-machine-learning-book-3rd-edition/blob/master/ch13/cat_dog_images/cat-01.jpg?raw=true -O cat-01.jpg"
      ]
    },
    {
      "cell_type": "code",
      "execution_count": null,
      "metadata": {
        "id": "zHRsl5t0-5Wg"
      },
      "outputs": [],
      "source": [
        "!rm -rf ch13/"
      ]
    },
    {
      "cell_type": "code",
      "execution_count": null,
      "metadata": {
        "id": "JH77_Uiy_naS"
      },
      "outputs": [],
      "source": [
        "image = tf.image.flip_left_right(image)\n",
        "plt.figure()\n",
        "plt.imshow(image)\n"
      ]
    },
    {
      "cell_type": "code",
      "execution_count": null,
      "metadata": {
        "id": "0dwQINgE_xQ4"
      },
      "outputs": [],
      "source": [
        "image = tf.image.flip_up_down(image)\n",
        "plt.figure()\n",
        "plt.imshow(image)"
      ]
    },
    {
      "cell_type": "code",
      "execution_count": null,
      "metadata": {
        "id": "4AKMesG__3wg"
      },
      "outputs": [],
      "source": [
        "image = tf.image.adjust_brightness(image, delta=0.5)\n",
        "plt.figure()\n",
        "plt.imshow(image)"
      ]
    },
    {
      "cell_type": "code",
      "execution_count": null,
      "metadata": {
        "id": "FLkYWdjbBVBp"
      },
      "outputs": [],
      "source": [
        "import pathlib\n",
        "import os"
      ]
    },
    {
      "cell_type": "code",
      "execution_count": null,
      "metadata": {
        "id": "ZirggG4SBbNp"
      },
      "outputs": [],
      "source": [
        "imgdir_path = pathlib.Path('ch13/cat_dog_images/')\n",
        "file_list = sorted([str(path) for path in imgdir_path.glob('*.jpg')])\n",
        "file_list"
      ]
    },
    {
      "cell_type": "code",
      "execution_count": null,
      "metadata": {
        "id": "0gX35rkqFmED"
      },
      "outputs": [],
      "source": [
        "import matplotlib.pyplot as plt\n",
        "\n",
        "fig = plt.figure(figsize=(8, 6))\n",
        "\n",
        "for i in range(6):  # Loop through 6 subplots\n",
        "    ax = fig.add_subplot(1, 6, i+1)  # Create subplot at position i+1\n",
        "    ax.text(0.5, 0.5, f\"Subplot {i+1}\", fontsize=12, ha='center')\n",
        "    ax.set_xticks([])\n",
        "    ax.set_yticks([])\n",
        "\n",
        "plt.tight_layout()\n",
        "plt.show()\n"
      ]
    },
    {
      "cell_type": "code",
      "execution_count": null,
      "metadata": {
        "id": "zbpMGTfLHaLC"
      },
      "outputs": [],
      "source": [
        "import matplotlib.pyplot as plt\n",
        "import tensorflow as tf\n",
        "import os\n",
        "\n",
        "fig, axes = plt.subplots(2, 3, figsize=(10, 5))  # Create all subplots at once\n",
        "\n",
        "for i, file in enumerate(file_list):\n",
        "    img_raw = tf.io.read_file(file)\n",
        "    img = tf.image.decode_image(img_raw)\n",
        "    print('Image shape: ', img.shape)\n",
        "\n",
        "    ax = axes[i // 3, i % 3]  # Access the correct subplot from the array\n",
        "    ax.set_xticks([]); ax.set_yticks([])\n",
        "    ax.imshow(img)\n",
        "    ax.set_title(os.path.basename(file), size=15)\n",
        "\n",
        "plt.tight_layout()\n",
        "plt.show()\n"
      ]
    },
    {
      "cell_type": "code",
      "execution_count": null,
      "metadata": {
        "id": "fs1np0q1Jwlq"
      },
      "outputs": [],
      "source": [
        "labels = [1 if 'dog' in os.path.basename(file) else 0 for file in file_list]\n",
        "labels"
      ]
    },
    {
      "cell_type": "code",
      "execution_count": null,
      "metadata": {
        "id": "sWJRxLbQMNiy"
      },
      "outputs": [],
      "source": [
        "ds_files_labels = tf.data.Dataset.from_tensor_slices((file_list, labels))\n",
        "for item in ds_files_labels:\n",
        "    print(item[0].numpy(), item[1].numpy())"
      ]
    },
    {
      "cell_type": "code",
      "execution_count": null,
      "metadata": {
        "id": "3plgcNMGN4Yi"
      },
      "outputs": [],
      "source": [
        "def load_and_preprocess(path, label):\n",
        "  image = tf.io.read_file(path)\n",
        "  image = tf.image.decode_jpeg(image, channels=3)\n",
        "  image = tf.image.resize(image, [image_height, image_width])\n",
        "  image = image/255.0\n",
        "  return image, label\n",
        "\n",
        "image_width, image_height = 120, 80\n",
        "\n"
      ]
    },
    {
      "cell_type": "code",
      "execution_count": null,
      "metadata": {
        "id": "ZJmewfDWPRxD"
      },
      "outputs": [],
      "source": [
        "ds_images_labels = ds_files_labels.map(load_and_preprocess)"
      ]
    },
    {
      "cell_type": "code",
      "execution_count": null,
      "metadata": {
        "id": "oBaAZ0zRQZuL"
      },
      "outputs": [],
      "source": [
        "fig, axes = plt.subplots(2, 3, figsize=(10, 6))  # Create all subplots at once\n",
        "\n",
        "for i, example in enumerate(ds_images_labels):\n",
        "    print('Image shape: ', example[0].shape)\n",
        "    ax = axes[i // 3, i % 3]  # Access the correct subplot from the array\n",
        "    ax.set_xticks([]); ax.set_yticks([])\n",
        "    ax.imshow(example[0])\n",
        "    ax.set_title('{}'.format(example[1].numpy()), size=15)\n",
        "\n",
        "plt.tight_layout()\n",
        "plt.show()\n"
      ]
    },
    {
      "cell_type": "code",
      "execution_count": null,
      "metadata": {
        "id": "Hb3ev88FTHyT"
      },
      "outputs": [],
      "source": [
        "import tensorflow_datasets as tfds"
      ]
    },
    {
      "cell_type": "code",
      "execution_count": null,
      "metadata": {
        "id": "DeTMMdmBTSeT"
      },
      "outputs": [],
      "source": [
        "print(tfds.list_builders().index('celeb_a'))"
      ]
    },
    {
      "cell_type": "code",
      "execution_count": null,
      "metadata": {
        "id": "ieBDaVvAYyJM"
      },
      "outputs": [],
      "source": [
        " mnist_bldr = tfds.builder('mnist')\n",
        " print(mnist_bldr.info.features)"
      ]
    },
    {
      "cell_type": "code",
      "execution_count": null,
      "metadata": {
        "id": "Upd5IaT1ZqPs"
      },
      "outputs": [],
      "source": [
        " print(mnist_bldr.info.features['image'])"
      ]
    },
    {
      "cell_type": "code",
      "execution_count": null,
      "metadata": {
        "id": "hiiLef-PZ4oU"
      },
      "outputs": [],
      "source": [
        "mnist_bldr.download_and_prepare(download_dir='./mnist')"
      ]
    },
    {
      "cell_type": "code",
      "execution_count": null,
      "metadata": {
        "id": "do1ILSrfaQwN"
      },
      "outputs": [],
      "source": [
        "!cat  /root/tensorflow_datasets/mnist/3.0.1/features.json"
      ]
    },
    {
      "cell_type": "code",
      "execution_count": null,
      "metadata": {
        "id": "HF3eFXSccAHd"
      },
      "outputs": [],
      "source": [
        "mnist, mnist_info = tfds.load('mnist', with_info=True, shuffle_files=False)"
      ]
    },
    {
      "cell_type": "code",
      "execution_count": null,
      "metadata": {
        "id": "fSVas6TBcHdt"
      },
      "outputs": [],
      "source": [
        "ds_train = mnist['train']\n",
        "ds_train = ds_train.map(lambda item: (item['image'], item['label']))\n",
        "ds_train = ds_train.batch(10)\n",
        "batch = next(iter(ds_train))\n",
        "print(batch[0].shape)\n",
        "batch[1]"
      ]
    },
    {
      "cell_type": "code",
      "execution_count": null,
      "metadata": {
        "id": "DZKmq25if4Ht"
      },
      "outputs": [],
      "source": [
        "batch[0].shape"
      ]
    },
    {
      "cell_type": "code",
      "execution_count": null,
      "metadata": {
        "id": "L7J8-BrHhrLu"
      },
      "outputs": [],
      "source": [
        "plt.imshow(batch[0][0, :, :, 0], cmap='gray')"
      ]
    },
    {
      "cell_type": "code",
      "execution_count": null,
      "metadata": {
        "id": "yKNapDkQhzx9"
      },
      "outputs": [],
      "source": [
        "img = image = batch[0][0, :, :, 0]\n",
        "print(img.shape)\n",
        "img_np = img.numpy()\n",
        "img_np.shape"
      ]
    },
    {
      "cell_type": "code",
      "execution_count": null,
      "metadata": {
        "id": "KwswrehJiQL-"
      },
      "outputs": [],
      "source": [
        "plt.imshow(img_np, cmap='gray')"
      ]
    },
    {
      "cell_type": "code",
      "execution_count": null,
      "metadata": {
        "id": "raOTVle1iwfe"
      },
      "outputs": [],
      "source": [
        "fig, axes = plt.subplots(2, 5, figsize=(15, 6))  # Create all subplots at once\n",
        "\n",
        "for i, (image, label) in enumerate(zip(batch[0], batch[1])):\n",
        "    ax = axes[i // 5, i % 5]  # Access the correct subplot from the array\n",
        "    ax.set_xticks([]); ax.set_yticks([])\n",
        "    ax.imshow(image[:, :, 0], cmap='gray_r')\n",
        "    ax.set_title('{}'.format(label), size=15)\n",
        "\n",
        "plt.tight_layout()\n",
        "plt.show()\n"
      ]
    },
    {
      "cell_type": "code",
      "execution_count": null,
      "metadata": {
        "id": "J8bfCZscqfJ4"
      },
      "outputs": [],
      "source": [
        "import numpy as np"
      ]
    },
    {
      "cell_type": "code",
      "execution_count": null,
      "metadata": {
        "id": "-Sag2ZHNqO-P"
      },
      "outputs": [],
      "source": [
        "X_train = np.arange(10).reshape(10, 1)\n",
        "y_train = np.array([1.0, 1.3, 3.1, 2.0, 5.0, 6.3, 6.6, 7.4, 8.0, 9.0])\n",
        "plt.plot(X_train, y_train, color='green', marker='o', linestyle='dashed',\n",
        "     linewidth=2, markersize=12)\n",
        "plt.xlabel('x')\n",
        "plt.ylabel('y')\n",
        "\n",
        "plt.show()"
      ]
    },
    {
      "cell_type": "code",
      "execution_count": null,
      "metadata": {
        "id": "O239WYSvqicl"
      },
      "outputs": [],
      "source": [
        "X_train_norm = (X_train - np.mean(X_train))/np.std(X_train)\n",
        "\n",
        "ds_train_orig = tf.data.Dataset.from_tensor_slices((tf.cast(X_train_norm, tf.float32), tf.cast(y_train, tf.float32)))"
      ]
    },
    {
      "cell_type": "code",
      "execution_count": null,
      "metadata": {
        "id": "Q31FEuRHxUp4"
      },
      "outputs": [],
      "source": [
        "import tensorflow as tf\n",
        "\n",
        "class MyModel(tf.keras.Model):\n",
        "    def __init__(self):\n",
        "        super(MyModel, self).__init__()\n",
        "        self.w = self.add_weight(shape=(), initializer=\"zeros\", trainable=True, name=\"weight\")\n",
        "        self.b = self.add_weight(shape=(), initializer=\"zeros\", trainable=True, name=\"bias\")\n",
        "\n",
        "    def call(self, x):\n",
        "        return self.w * x + self.b\n",
        "\n",
        "model = MyModel()\n",
        "model.build(input_shape=(None, 1))  # Fix missing input shape\n",
        "model.summary()\n"
      ]
    },
    {
      "cell_type": "code",
      "execution_count": null,
      "metadata": {
        "id": "84tSlt-ZyfaA"
      },
      "outputs": [],
      "source": [
        "def loss_fn(y_true, y_pred):\n",
        "    return tf.reduce_mean(tf.square(y_true - y_pred))\n",
        "\n",
        "def train(model, inputs, outputs, learning_rate):\n",
        "    with tf.GradientTape() as tape:\n",
        "        current_loss = loss_fn(model(inputs), outputs)\n",
        "    dw, db = tape.gradient(current_loss, [model.w, model.b])\n",
        "    model.w.assign_sub(dw * learning_rate)\n",
        "    model.b.assign_sub(db * learning_rate)"
      ]
    },
    {
      "cell_type": "code",
      "execution_count": null,
      "metadata": {
        "id": "yhhSZF-51yAp"
      },
      "outputs": [],
      "source": [
        "tf.random.set_seed(42)\n",
        "num_epochs = 200\n",
        "log_steps = 100\n",
        "learning_rate =0.001\n",
        "batch_size = 1\n",
        "steps_per_epoch = int(np.ceil(len(y_train)/batch_size))\n",
        "ds_train = ds_train_orig.shuffle(buffer_size = len(y_train))\n",
        "ds_train = ds_train.repeat(count=None)\n",
        "ds_train = ds_train.batch(batch_size)\n",
        "ws, bs = [], []\n",
        "for i, batch in enumerate(ds_train):\n",
        "    if i >= steps_per_epoch * num_epochs:\n",
        "        break\n",
        "    ws.append(model.w.numpy())\n",
        "    bs.append(model.b.numpy())\n",
        "\n",
        "    bx, by = batch\n",
        "    loss_val = loss_fn(model(bx), by)\n",
        "    train(model, bx, by, learning_rate)\n",
        "    if i % log_steps == 0:\n",
        "        print('Epoch {:4d} Step {:2d} Loss {:6.4f}'.format(int(i/steps_per_epoch), i, loss_val))\n",
        "\n"
      ]
    },
    {
      "cell_type": "code",
      "execution_count": null,
      "metadata": {
        "id": "NO8I6Jua5LQh"
      },
      "outputs": [],
      "source": [
        "print('Final Parameters: ', model.w.numpy(), model.b.numpy())"
      ]
    },
    {
      "cell_type": "code",
      "execution_count": null,
      "metadata": {
        "id": "xMC_bAjh5YkJ"
      },
      "outputs": [],
      "source": [
        "X_test = np.linspace(0, 9, num=100).reshape(-1, 1)\n",
        "X_test_norm = (X_test - np.mean(X_train)) / np.std(X_train)\n",
        "y_pred = model(tf.cast(X_test_norm, dtype=tf.float32))\n",
        "fig = plt.figure(figsize=(13, 5))\n",
        "ax = fig.add_subplot(1, 2, 1)\n",
        "plt.plot(X_train_norm, y_train, 'o', markersize=10)\n",
        "plt.plot(X_test_norm, y_pred, '--', lw=3)\n",
        "plt.legend(['Training examples', 'Linear Reg.'], fontsize=15)\n",
        "ax.set_xlabel('x', size=15)\n",
        "ax.set_ylabel('y', size=15)\n",
        "ax.tick_params(axis='both', which='major', labelsize=15)\n",
        "ax = fig.add_subplot(1, 2, 2)\n",
        "plt.plot(ws, lw=3)\n",
        "plt.plot(bs, lw=3)\n",
        "plt.legend(['Weight w', 'Bias unit b'], fontsize=15)\n",
        "ax.set_xlabel('Iteration', size=15)\n",
        "ax.set_ylabel('Value', size=15)\n",
        "ax.tick_params(axis='both', which='major', labelsize=15)\n",
        "plt.show()"
      ]
    },
    {
      "cell_type": "code",
      "execution_count": null,
      "metadata": {
        "id": "CbppOgqZ6ml_"
      },
      "outputs": [],
      "source": [
        "tf.random.set_seed(1)\n",
        "model = MyModel()\n",
        "model.compile(optimizer='sgd',loss=loss_fn, metrics=['mae', 'mse'])"
      ]
    },
    {
      "cell_type": "code",
      "execution_count": null,
      "metadata": {
        "id": "-5EZ8U0T_Na7"
      },
      "outputs": [],
      "source": [
        "model.fit(X_train_norm, y_train,epochs=num_epochs, batch_size=batch_size,\n",
        "verbose=1)"
      ]
    },
    {
      "cell_type": "code",
      "execution_count": null,
      "metadata": {
        "id": "Qqo8bvueFsj8"
      },
      "outputs": [],
      "source": [
        "iris, iris_info = tfds.load('iris', with_info=True)"
      ]
    },
    {
      "cell_type": "code",
      "execution_count": null,
      "metadata": {
        "id": "dL9LqH6WF4nz"
      },
      "outputs": [],
      "source": [
        "print(iris_info)"
      ]
    },
    {
      "cell_type": "code",
      "execution_count": null,
      "metadata": {
        "id": "GbEI-TkVlVVU"
      },
      "outputs": [],
      "source": [
        "list(iris.keys())"
      ]
    },
    {
      "cell_type": "code",
      "execution_count": null,
      "metadata": {
        "id": "osQ9TeNsHIr7"
      },
      "outputs": [],
      "source": [
        "for item in ds_train_orig:\n",
        "    print(item[0].numpy(), item[1].numpy())"
      ]
    },
    {
      "cell_type": "code",
      "execution_count": null,
      "metadata": {
        "id": "7gKowKV_L4xl"
      },
      "outputs": [],
      "source": [
        "input_shape = tf.keras.Input(shape=(4,))"
      ]
    },
    {
      "cell_type": "code",
      "execution_count": null,
      "metadata": {
        "id": "gjDeyeaWK6u0"
      },
      "outputs": [],
      "source": [
        "iris_model = tf.keras.Sequential([\n",
        "    tf.keras.Input(shape=(4,)),  # Define input shape separately\n",
        "    tf.keras.layers.Dense(16, activation='sigmoid', name='fc1'),\n",
        "    tf.keras.layers.Dense(3, activation='softmax', name='fc2')\n",
        "])\n",
        "\n",
        "iris_model.summary()\n"
      ]
    },
    {
      "cell_type": "code",
      "execution_count": null,
      "metadata": {
        "id": "Pddiiiq5Lpi1"
      },
      "outputs": [],
      "source": [
        "tf.keras.Input(shape=(4,))"
      ]
    },
    {
      "cell_type": "code",
      "execution_count": null,
      "metadata": {
        "id": "B_SizUMIN2g9"
      },
      "outputs": [],
      "source": [
        "iris_model = tf.keras.Sequential([\n",
        "    tf.keras.layers.Dense(16, activation='sigmoid', name='fc1', input_shape=(4,)),  # Use input_shape here\n",
        "    tf.keras.layers.Dense(3, activation='softmax', name='fc2')\n",
        "])\n",
        "\n",
        "iris_model.summary()"
      ]
    },
    {
      "cell_type": "code",
      "execution_count": null,
      "metadata": {
        "id": "1zSIJHv2OELt"
      },
      "outputs": [],
      "source": [
        "iris_model = tf.keras.Sequential([\n",
        "tf.keras.layers.Dense(16, activation='sigmoid',name='fc1', input_shape=(4,)),\n",
        "tf.keras.layers.Dense(3, name='fc2', activation='softmax')])\n",
        "iris_model.summary()\n"
      ]
    },
    {
      "cell_type": "code",
      "execution_count": null,
      "metadata": {
        "id": "QxJ8xne2PMJl"
      },
      "outputs": [],
      "source": [
        "iris_model.compile(optimizer='adam', loss='sparse_categorical_crossentropy', metrics=['accuracy'])"
      ]
    },
    {
      "cell_type": "code",
      "execution_count": null,
      "metadata": {
        "id": "-fDpeZe7Pild"
      },
      "outputs": [],
      "source": [
        "print(iris_info)"
      ]
    },
    {
      "cell_type": "code",
      "execution_count": null,
      "metadata": {
        "id": "nVgtayleiCSj"
      },
      "outputs": [],
      "source": [
        "tf.random.set_seed(1)\n",
        "ds_orig = iris['train']\n",
        "ds_orig = ds_orig.shuffle(150, reshuffle_each_iteration=False)\n",
        "ds_train_orig = ds_orig.take(100)\n",
        "ds_test = ds_orig.skip(100)\n",
        "ds_train_orig = ds_train_orig.map(lambda x: (x['features'], x['label']))\n",
        "ds_test = ds_test.map(lambda x: (x['features'], x['label']))"
      ]
    },
    {
      "cell_type": "code",
      "execution_count": null,
      "metadata": {
        "id": "9-qImt7iZDa-"
      },
      "outputs": [],
      "source": [
        "import numpy as np\n",
        "\n",
        "# Define the converter function for the species column\n",
        "#species_mapping = {b'Iris-setosa': 0, b'Iris-versicolor': 1, b'Iris-virginica': 2}\n",
        "species_mapping = {b'setosa': 0, b'versicolor': 1, b'virginica': 2}\n",
        "\n",
        "convert_species = lambda s: species_mapping[s]  # Convert species name to integer\n",
        "\n",
        "# Load the dataset\n",
        "iris = np.loadtxt(\n",
        "    #'https://archive.ics.uci.edu/ml/machine-learning-databases/iris/iris.data',\n",
        "    'https://gist.githubusercontent.com/curran/a08a1080b88344b0c8a7/raw/0e7a9b0a5d22642a06d3d5b9bcbad9890c8ee534/iris.csv',\n",
        "    delimiter=',',\n",
        "    skiprows=1,\n",
        "    dtype=np.float32,   # Convert all numerical columns to float\n",
        "    converters={4: convert_species}  # Convert column index 4 (species) to integers\n",
        ")\n",
        "\n",
        "# Split features (X) and target labels (y)\n",
        "X, y = iris[:, :-1], iris[:, -1].astype(int)\n",
        "\n",
        "# Print the first 5 rows\n",
        "print(\"Features (X):\\n\", X[:5])\n",
        "print(\"Labels (y):\\n\", y[:5])\n"
      ]
    },
    {
      "cell_type": "code",
      "execution_count": null,
      "metadata": {
        "id": "AOWPT0QTePyf"
      },
      "outputs": [],
      "source": [
        "iris"
      ]
    },
    {
      "cell_type": "code",
      "execution_count": null,
      "metadata": {
        "id": "3ExBqCbenG3c"
      },
      "outputs": [],
      "source": [
        "num_epochs = 100\n",
        "training_size = 100\n",
        "batch_size = 2\n",
        "steps_per_epoch = int(np.ceil(training_size / batch_size))\n",
        "ds_train = ds_train_orig.shuffle(buffer_size=training_size)\n",
        "ds_train = ds_train.repeat()\n",
        "ds_train = ds_train.batch(batch_size=batch_size)\n",
        "ds_train = ds_train.prefetch(buffer_size=1000)\n",
        "history = iris_model.fit(ds_train, epochs=num_epochs,\n",
        "steps_per_epoch=steps_per_epoch, verbose=0)"
      ]
    },
    {
      "cell_type": "code",
      "execution_count": null,
      "metadata": {
        "id": "Dbgoc_mCn33u"
      },
      "outputs": [],
      "source": [
        "hist = history.history\n",
        "fig = plt.figure(figsize=(12, 5))\n",
        "ax = fig.add_subplot(1, 2, 1)\n",
        "ax.plot(hist['loss'], lw=3)\n",
        "ax.set_title('Training loss', size=15)\n",
        "ax.set_xlabel('Epoch', size=15)\n",
        "ax.tick_params(axis='both', which='major', labelsize=15)\n",
        "ax = fig.add_subplot(1, 2, 2)\n",
        "ax.plot(hist['accuracy'], lw=3)\n",
        "ax.set_title('Training accuracy', size=15)\n",
        "ax.set_xlabel('Epoch', size=15)\n",
        "ax.tick_params(axis='both', which='major', labelsize=15)\n",
        "plt.show()"
      ]
    },
    {
      "cell_type": "code",
      "execution_count": null,
      "metadata": {
        "id": "f7kRTeZso4DV"
      },
      "outputs": [],
      "source": [
        "fig, axes = plt.subplots(1, 2, figsize=(12, 5))  # Creates two subplots at once\n",
        "\n",
        "# Training Loss\n",
        "axes[0].plot(history.history['loss'], lw=3)\n",
        "axes[0].set_title('Training loss', size=15)\n",
        "axes[0].set_xlabel('Epoch', size=15)\n",
        "\n",
        "# Training Accuracy\n",
        "axes[1].plot(history.history['accuracy'], lw=3)\n",
        "axes[1].set_title('Training accuracy', size=15)\n",
        "axes[1].set_xlabel('Epoch', size=15)\n",
        "\n",
        "# Apply same tick formatting to both subplots\n",
        "for ax in axes:\n",
        "    ax.tick_params(axis='both', which='major', labelsize=15)\n",
        "\n",
        "plt.show()\n"
      ]
    },
    {
      "cell_type": "code",
      "execution_count": null,
      "metadata": {
        "id": "bJiUL1Dhqx4N"
      },
      "outputs": [],
      "source": [
        "import matplotlib.pyplot as plt\n",
        "import numpy as np\n",
        "\n",
        "x = np.linspace(0, 10, 100)\n",
        "y = np.sin(x)\n",
        "\n",
        "fig, ax = plt.subplots(figsize=(6, 4))\n",
        "\n",
        "ax.plot(x, y, 'green')\n",
        "\n",
        "# Set major and minor ticks\n",
        "ax.set_xticks(np.arange(0, 11, 2))  # Major ticks at 0, 2, 4, 6, 8, 10\n",
        "ax.set_xticks(np.arange(0, 11, 1), minor=True)  # Minor ticks at every 1 unit\n",
        "\n",
        "# Customize tick appearance\n",
        "ax.tick_params(axis='x', which='major', length=8, width=2, color='red')   # Larger red major ticks\n",
        "ax.tick_params(axis='x', which='minor', length=4, width=1, color='green')  # Smaller blue minor ticks\n",
        "\n",
        "plt.show()\n"
      ]
    },
    {
      "cell_type": "code",
      "execution_count": null,
      "metadata": {
        "id": "dqM0OuGDr1h1"
      },
      "outputs": [],
      "source": [
        "results = iris_model.evaluate(ds_test.batch(50), verbose=0)\n",
        "print('Test loss: {:.4f}   Test Acc.: {:.4f}'.format(*results))"
      ]
    },
    {
      "cell_type": "code",
      "execution_count": null,
      "metadata": {
        "id": "mMTPkTodsB29"
      },
      "outputs": [],
      "source": [
        "results"
      ]
    },
    {
      "cell_type": "code",
      "execution_count": null,
      "metadata": {
        "id": "dYc81HAYwSM3"
      },
      "outputs": [],
      "source": [
        "iris_model.save('iris-classifier.h5',overwrite=True,include_optimizer=True)"
      ]
    },
    {
      "cell_type": "code",
      "execution_count": null,
      "metadata": {
        "id": "axcnspcOxas9"
      },
      "outputs": [],
      "source": [
        "iris_model.save('my_model.keras')"
      ]
    },
    {
      "cell_type": "code",
      "execution_count": null,
      "metadata": {
        "id": "tUZPNRwVxy-e"
      },
      "outputs": [],
      "source": [
        "iris_model.save_weights('my_model.weights.h5')"
      ]
    },
    {
      "cell_type": "code",
      "execution_count": null,
      "metadata": {
        "id": "Q3cmEISGyOb2"
      },
      "outputs": [],
      "source": [
        "iris_model.to_json()"
      ]
    },
    {
      "cell_type": "code",
      "execution_count": null,
      "metadata": {
        "id": "_LvO9Egmztnn"
      },
      "outputs": [],
      "source": [
        "iris_model_new = tf.keras.models.load_model('my_model.keras')"
      ]
    },
    {
      "cell_type": "code",
      "execution_count": null,
      "metadata": {
        "id": "Bdzel2ql0Bbp"
      },
      "outputs": [],
      "source": [
        "iris_model_new.evaluate(ds_test.batch(33), verbose=0)"
      ]
    },
    {
      "cell_type": "code",
      "execution_count": null,
      "metadata": {
        "id": "WhiNzOtg3iEJ"
      },
      "outputs": [],
      "source": [
        "X = np.array([1, 1.4, 2.5]) ## first value must be 1\n",
        "w = np.array([0.4, 0.3, 0.5])\n",
        "def net_input(X, w):\n",
        "    return np.dot(X, w)\n",
        "def logistic(z):\n",
        "    return 1.0 / (1.0 + np.exp(-z))\n",
        "def logistic_activation(X, w):\n",
        "    z = net_input(X, w)\n",
        "    return logistic(z)\n",
        "print('P(y=1|x) = %.3f' % logistic_activation(X, w))\n"
      ]
    },
    {
      "cell_type": "code",
      "execution_count": null,
      "metadata": {
        "id": "6L6ppkQg8D_R"
      },
      "outputs": [],
      "source": [
        "np.arange(10, 30, 2)"
      ]
    },
    {
      "cell_type": "code",
      "execution_count": null,
      "metadata": {
        "id": "X5DyuK6pLmKh"
      },
      "outputs": [],
      "source": [
        "g = tf.Graph()\n",
        "with g.as_default():\n",
        "    a = tf.constant(1, name='a')\n",
        "    b = tf.constant(2, name='b')\n",
        "    c = tf.constant(3, name='c')\n",
        "    z = 2*(a-b) + c"
      ]
    },
    {
      "cell_type": "code",
      "execution_count": null,
      "metadata": {
        "id": "VB38ZHhtLzyK"
      },
      "outputs": [],
      "source": [
        "z, a"
      ]
    },
    {
      "cell_type": "code",
      "execution_count": null,
      "metadata": {
        "id": "frEa5MRbMfGM"
      },
      "outputs": [],
      "source": [
        "with tf.compat.v1.Session(graph=g) as sess:\n",
        "    print('Result: z =', sess.run(z))"
      ]
    },
    {
      "cell_type": "code",
      "execution_count": null,
      "metadata": {
        "id": "hrVs_OfJM5i6"
      },
      "outputs": [],
      "source": [
        "a = tf.constant(1, name='a')\n",
        "b = tf.constant(2, name='b')\n",
        "c = tf.constant(3, name='c')\n",
        "z = 2*(a - b) + c\n",
        "tf.print('Result: z= ', z)"
      ]
    },
    {
      "cell_type": "code",
      "execution_count": null,
      "metadata": {
        "id": "dR9CgdWBOVxr"
      },
      "outputs": [],
      "source": [
        "@tf.function\n",
        "def compute_z(a, b, c):\n",
        "    r1 = tf.subtract(a, b)\n",
        "    r2 = tf.multiply(2, r1)\n",
        "    z = tf.add(r2, c)\n",
        "    return z"
      ]
    },
    {
      "cell_type": "code",
      "execution_count": null,
      "metadata": {
        "id": "yS8Xq287Oh2a"
      },
      "outputs": [],
      "source": [
        "#tf.print('Scalar Inputs:', compute_z(1, 2, 3))\n",
        "tf.print('Rank 1 Inputs:', compute_z([1], [2], [3]))\n",
        "#tf.print('Rank 2 Inputs:', compute_z([[1]], [[2]], [[3]]))"
      ]
    },
    {
      "cell_type": "code",
      "execution_count": null,
      "metadata": {
        "id": "MtfO95ygPU3S"
      },
      "outputs": [],
      "source": [
        "@tf.function(input_signature=(tf.TensorSpec(shape=[None],\n",
        "    dtype=tf.int32),\n",
        "    tf.TensorSpec(shape=[None],\n",
        "    dtype=tf.int32),\n",
        "    tf.TensorSpec(shape=[None],\n",
        "    dtype=tf.int32),))\n",
        "def compute_z(a, b, c):\n",
        "    r1 = tf.subtract(a, b)\n",
        "    r2 = tf.multiply(2, r1)\n",
        "    z = tf.add(r2, c)\n",
        "    return z"
      ]
    },
    {
      "cell_type": "code",
      "execution_count": null,
      "metadata": {
        "id": "TDQ0w-plP8-L"
      },
      "outputs": [],
      "source": [
        "compute_z([1, 2], [2, 4], [3, 6])"
      ]
    },
    {
      "cell_type": "code",
      "execution_count": null,
      "metadata": {
        "id": "RUoqkMgBWRph"
      },
      "outputs": [],
      "source": [
        "import tensorflow as tf"
      ]
    },
    {
      "cell_type": "code",
      "execution_count": null,
      "metadata": {
        "id": "AVJvfUoLWd_g"
      },
      "outputs": [],
      "source": [
        "@tf.function\n",
        "def f(x):\n",
        "    w = tf.Variable([1, 2, 3])\n",
        "f([1])"
      ]
    },
    {
      "cell_type": "code",
      "execution_count": null,
      "metadata": {
        "id": "MvLuAqdXW7KR"
      },
      "outputs": [],
      "source": [
        "w = tf.Variable(tf.random.uniform((3, 3)))\n",
        "@tf.function\n",
        "def compute_z(x):\n",
        "    return tf.matmul(w, x)\n",
        "x = tf.constant([[1], [2], [3]], dtype=tf.float32)\n",
        "tf.print(compute_z(x))"
      ]
    },
    {
      "cell_type": "code",
      "execution_count": null,
      "metadata": {
        "id": "ggxYaOTGkqa7"
      },
      "outputs": [],
      "source": [
        "model = tf.keras.Sequential()\n",
        "model.add(tf.keras.layers.Dense(units=16, activation='relu'))\n",
        "model.add(tf.keras.layers.Dense(units=32, activation='relu'))\n",
        "## late variable creation\n",
        "model.build(input_shape=(None, 4))\n",
        "model.summary()"
      ]
    },
    {
      "cell_type": "code",
      "execution_count": null,
      "metadata": {
        "id": "vtpfBul6uAk9"
      },
      "outputs": [],
      "source": [
        "import tensorflow as tf\n",
        "import numpy as np\n",
        "import matplotlib.pyplot as plt\n",
        "tf.random.set_seed(1)\n",
        "np.random.seed(1)\n",
        "x = np.random.uniform(low=-1, high=1, size=(200, 2))\n",
        "y = np.ones(len(x))\n",
        "y[x[:, 0] * x[:, 1]<0] = 0\n",
        "x_train = x[:100, :]\n",
        "y_train = y[:100]\n",
        "x_valid = x[100:, :]\n",
        "y_valid = y[100:]\n",
        "fig = plt.figure(figsize=(6, 6))\n",
        "plt.plot(x[y==0, 0],\n",
        "         x[y==0, 1], 'o', alpha=0.75, markersize=10)\n",
        "plt.plot(x[y==1, 0],\n",
        "         x[y==1, 1], '<', alpha=0.75, markersize=10)\n",
        "plt.xlabel(r'$x_1$', size=15)\n",
        "plt.ylabel(r'$x_2$', size=15)\n",
        "plt.show()"
      ]
    },
    {
      "cell_type": "code",
      "execution_count": null,
      "metadata": {
        "id": "Lil_v9b3F6f-"
      },
      "outputs": [],
      "source": [
        "import pandas as pd"
      ]
    },
    {
      "cell_type": "code",
      "execution_count": null,
      "metadata": {
        "id": "rzURb7ILGAjw"
      },
      "outputs": [],
      "source": [
        "dataset_path = tf.keras.utils.get_file(\"auto-mpg.data\",(\"http://archive.ics.uci.edu/ml/machine-learning-databases/auto-mpg/auto-mpg.data\"))"
      ]
    },
    {
      "cell_type": "code",
      "execution_count": null,
      "metadata": {
        "id": "dWQeeGnYGNxu"
      },
      "outputs": [],
      "source": [
        "type(dataset_path), dataset_path"
      ]
    },
    {
      "cell_type": "code",
      "execution_count": null,
      "metadata": {
        "id": "dN8UWns-G3jO"
      },
      "outputs": [],
      "source": [
        "column_names = [\n",
        "    'MPG', 'Cylinders', 'Displacement',\n",
        "    'Horsepower', 'Weight', 'Acceleration',\n",
        "    'ModelYear', 'Origin']\n",
        "df = pd.read_csv(dataset_path, names=column_names,\n",
        "                 na_values = '?', comment='\\t',\n",
        "                 sep=' ', skipinitialspace=True)\n",
        "\n",
        "# drop the NA rows\n",
        "df = df.dropna()\n",
        "\n",
        "df = df.reset_index(drop=True)\n",
        "## train/test splits:\n",
        "import sklearn\n",
        "import sklearn.model_selection\n",
        "df_train, df_test = sklearn.model_selection.train_test_split(\n",
        "   df, train_size=0.8)\n",
        "train_stats = df_train.describe().transpose()\n",
        "numeric_column_names = [\n",
        "    'Cylinders', 'Displacement',\n",
        "    'Horsepower', 'Weight',\n",
        "    'Acceleration']\n",
        "df_train_norm, df_test_norm = df_train.copy(), df_test.copy()\n",
        "for col_name in numeric_column_names:\n",
        "    mean = train_stats.loc[col_name, 'mean']\n",
        "    std  = train_stats.loc[col_name, 'std']\n",
        "    df_train_norm.loc[:, col_name] = (\n",
        "        df_train_norm.loc[:, col_name] - mean)/std\n",
        "    df_test_norm.loc[:, col_name] = (\n",
        "        df_test_norm.loc[:, col_name] - mean)/std\n",
        "df_train_norm.tail()"
      ]
    },
    {
      "cell_type": "code",
      "execution_count": null,
      "metadata": {
        "id": "OboFuM36QJSI"
      },
      "outputs": [],
      "source": [
        "df_train_norm.head()"
      ]
    },
    {
      "cell_type": "code",
      "execution_count": null,
      "metadata": {
        "id": "NkloH18aQMvA"
      },
      "outputs": [],
      "source": [
        "cp = df_train_norm.copy()"
      ]
    },
    {
      "cell_type": "code",
      "execution_count": null,
      "metadata": {
        "id": "NTYWrncXQQpg"
      },
      "outputs": [],
      "source": [
        "cp = cp[:10]"
      ]
    },
    {
      "cell_type": "code",
      "execution_count": null,
      "metadata": {
        "id": "gJe2w9ZgQYQ5"
      },
      "outputs": [],
      "source": [
        "cp.columns"
      ]
    },
    {
      "cell_type": "code",
      "execution_count": null,
      "metadata": {
        "id": "8opi2Lu_zzIm"
      },
      "outputs": [],
      "source": [
        "import numpy as np\n",
        "import matplotlib.pyplot as plt\n",
        "\n",
        "# Set random seed for reproducibility\n",
        "np.random.seed(42)\n",
        "\n",
        "# Function to generate synthetic digit-like images\n",
        "def generate_synthetic_digit():\n",
        "    \"\"\"Generate a 16x16 grayscale image with random strokes to resemble a digit.\"\"\"\n",
        "    image = np.zeros((16, 16))  # Start with a black image\n",
        "\n",
        "    # Add random strokes (simulate digit-like shapes)\n",
        "    for _ in range(np.random.randint(3, 6)):  # Random number of strokes\n",
        "        x, y = np.random.randint(0, 16, size=2)  # Random starting point\n",
        "        length = np.random.randint(3, 10)  # Random stroke length\n",
        "        orientation = np.random.choice([\"horizontal\", \"vertical\"])\n",
        "\n",
        "        if orientation == \"horizontal\":\n",
        "            x_end = min(x + length, 16)\n",
        "            image[y, x:x_end] = np.random.uniform(0.7, 1.0)  # White stroke\n",
        "        else:\n",
        "            y_end = min(y + length, 16)\n",
        "            image[y:y_end, x] = np.random.uniform(0.7, 1.0)  # White stroke\n",
        "\n",
        "    # Add Gaussian noise for variation\n",
        "    noise = np.random.normal(0, 0.1, (16, 16))\n",
        "    image = np.clip(image + noise, 0, 1)\n",
        "\n",
        "    return image\n",
        "\n",
        "# Function to generate dataset\n",
        "def generate_dataset(num_samples=1000):\n",
        "    \"\"\"Generate a dataset of synthetic digit-like images and random labels.\"\"\"\n",
        "    images = np.array([generate_synthetic_digit() for _ in range(num_samples)])\n",
        "    labels = np.random.randint(0, 10, size=num_samples)  # Random labels (0-9)\n",
        "    return images, labels\n",
        "\n",
        "# Generate the dataset\n",
        "X, y = generate_dataset(1000)  # 1000 samples\n",
        "\n",
        "# Visualize some examples\n",
        "fig, axes = plt.subplots(2, 5, figsize=(10, 5))\n",
        "for i, ax in enumerate(axes.flat):\n",
        "    ax.imshow(X[i], cmap='gray')\n",
        "    ax.set_title(f\"Label: {y[i]}\")\n",
        "    ax.axis(\"off\")\n",
        "\n",
        "plt.show()\n"
      ]
    },
    {
      "cell_type": "code",
      "execution_count": null,
      "metadata": {
        "id": "ZYKRaDg-0TeJ"
      },
      "outputs": [],
      "source": [
        "np.random.randint(3, 6)"
      ]
    },
    {
      "cell_type": "code",
      "execution_count": null,
      "metadata": {
        "id": "4Qz7_PdJ0g6Q"
      },
      "outputs": [],
      "source": [
        "np.random.randint(0, 16, size=2)"
      ]
    },
    {
      "cell_type": "code",
      "execution_count": null,
      "metadata": {
        "id": "i2kcm0aE0tIw"
      },
      "outputs": [],
      "source": [
        "np.random.choice([\"horizontal\", \"vertical\"])"
      ]
    },
    {
      "cell_type": "code",
      "execution_count": null,
      "metadata": {
        "id": "dA3zTLyX1SMI"
      },
      "outputs": [],
      "source": [
        "np.random.uniform(0.7, 1.0)"
      ]
    },
    {
      "cell_type": "code",
      "execution_count": null,
      "metadata": {
        "id": "XVE0hInd2HgI"
      },
      "outputs": [],
      "source": [
        "np.random.normal(0, 0.1, (16, 16))"
      ]
    },
    {
      "cell_type": "code",
      "execution_count": null,
      "metadata": {
        "id": "5jRX9mak2lQw"
      },
      "outputs": [],
      "source": [
        "list(axes.flat)"
      ]
    },
    {
      "cell_type": "code",
      "execution_count": null,
      "metadata": {
        "id": "_bU-Ctbr9LO5"
      },
      "outputs": [],
      "source": [
        "import numpy as np\n",
        "\n",
        "def convolve2d(image, kernel, stride=1, padding=0):\n",
        "    \"\"\"\n",
        "    Perform a 2D convolution operation on a grayscale image.\n",
        "\n",
        "    Parameters:\n",
        "        image (numpy array): 2D array representing the input image.\n",
        "        kernel (numpy array): 2D array representing the filter.\n",
        "        stride (int): The step size for moving the kernel.\n",
        "        padding (int): Number of zero-padding layers added around the image.\n",
        "\n",
        "    Returns:\n",
        "        numpy array: The result of convolution.\n",
        "    \"\"\"\n",
        "    # Get dimensions\n",
        "    image_height, image_width = image.shape\n",
        "    kernel_height, kernel_width = kernel.shape\n",
        "\n",
        "    # Apply zero-padding\n",
        "    if padding > 0:\n",
        "        image = np.pad(image, pad_width=padding, mode='constant', constant_values=0)\n",
        "\n",
        "    # Compute output dimensions\n",
        "    output_height = (image.shape[0] - kernel_height) // stride + 1\n",
        "    output_width = (image.shape[1] - kernel_width) // stride + 1\n",
        "\n",
        "    # Initialize output feature map\n",
        "    output = np.zeros((output_height, output_width))\n",
        "\n",
        "    # Perform convolution\n",
        "    for i in range(0, output_height):\n",
        "        for j in range(0, output_width):\n",
        "            region = image[i * stride:i * stride + kernel_height, j * stride:j * stride + kernel_width]\n",
        "            output[i, j] = np.sum(region * kernel)  # Dot product\n",
        "\n",
        "    return output\n",
        "\n",
        "# Example usage\n",
        "image = np.random.rand(16, 16)  # Random synthetic image (grayscale)\n",
        "kernel = np.array([[1, 0, -1], [1, 0, -1], [1, 0, -1]])  # Edge detection kernel\n",
        "\n",
        "conv2d_c1_output = convolve2d(image, kernel, stride=1, padding=0)\n",
        "print(\"Output shape:\", conv2d_c1_output.shape)\n"
      ]
    },
    {
      "cell_type": "code",
      "execution_count": null,
      "metadata": {
        "id": "UqGvPEIT-AGJ"
      },
      "outputs": [],
      "source": [
        "def relu(feature_map):\n",
        "    \"\"\"\n",
        "    Applies the ReLU activation function element-wise.\n",
        "\n",
        "    Parameters:\n",
        "        feature_map (numpy array): The output from the convolution layer.\n",
        "\n",
        "    Returns:\n",
        "        numpy array: The feature map after applying ReLU.\n",
        "    \"\"\"\n",
        "    return np.maximum(0, feature_map)\n",
        "\n",
        "# Example usage\n",
        "relu_output_1 = relu(conv2d_c1_output)  # Applying ReLU to the convolution output\n",
        "print(\"ReLU applied. Output shape:\", relu_output_1.shape)\n"
      ]
    },
    {
      "cell_type": "code",
      "execution_count": null,
      "metadata": {
        "id": "6f6Go-zR_ed7"
      },
      "outputs": [],
      "source": [
        "def max_pooling(feature_map, pool_size=2, stride=2):\n",
        "    \"\"\"\n",
        "    Applies Max Pooling to a feature map.\n",
        "\n",
        "    Parameters:\n",
        "        feature_map (numpy array): The ReLU-activated output from the convolution layer.\n",
        "        pool_size (int): Size of the pooling window (default is 2x2).\n",
        "        stride (int): Step size for the pooling window.\n",
        "\n",
        "    Returns:\n",
        "        numpy array: The feature map after max pooling.\n",
        "    \"\"\"\n",
        "    height, width = feature_map.shape\n",
        "    output_height = (height - pool_size) // stride + 1\n",
        "    output_width = (width - pool_size) // stride + 1\n",
        "\n",
        "    pooled_output = np.zeros((output_height, output_width))\n",
        "\n",
        "    for i in range(0, output_height):\n",
        "        for j in range(0, output_width):\n",
        "            region = feature_map[i * stride:i * stride + pool_size, j * stride:j * stride + pool_size]\n",
        "            pooled_output[i, j] = np.max(region)  # Take the max value in the region\n",
        "\n",
        "    return pooled_output\n",
        "\n",
        "# Example usage\n",
        "max_pool_output_1 = max_pooling(relu_output_1, pool_size=2, stride=2)\n",
        "print(\"Max Pooling applied. Output shape:\", max_pool_output_1.shape)\n"
      ]
    },
    {
      "cell_type": "code",
      "execution_count": null,
      "metadata": {
        "id": "JFICMsv8Be_C"
      },
      "outputs": [],
      "source": [
        "def convolve2d_second_layer(feature_map, kernel, stride=1, padding=0):\n",
        "    \"\"\"\n",
        "    Performs a second convolution operation on the pooled feature map.\n",
        "\n",
        "    Parameters:\n",
        "        feature_map (numpy array): The max-pooled feature map from S2.\n",
        "        kernel (numpy array): The filter applied in this convolutional layer.\n",
        "        stride (int): Step size for moving the kernel.\n",
        "        padding (int): Number of zero-padding layers added.\n",
        "\n",
        "    Returns:\n",
        "        numpy array: The new feature map after convolution.\n",
        "    \"\"\"\n",
        "    # Get dimensions\n",
        "    height, width = feature_map.shape\n",
        "    kernel_height, kernel_width = kernel.shape\n",
        "\n",
        "    # Apply zero-padding\n",
        "    if padding > 0:\n",
        "        feature_map = np.pad(feature_map, pad_width=padding, mode='constant', constant_values=0)\n",
        "\n",
        "    # Compute output dimensions\n",
        "    output_height = (feature_map.shape[0] - kernel_height) // stride + 1\n",
        "    output_width = (feature_map.shape[1] - kernel_width) // stride + 1\n",
        "\n",
        "    # Initialize output feature map\n",
        "    output = np.zeros((output_height, output_width))\n",
        "\n",
        "    # Perform convolution\n",
        "    for i in range(0, output_height):\n",
        "        for j in range(0, output_width):\n",
        "            region = feature_map[i * stride:i * stride + kernel_height, j * stride:j * stride + kernel_width]\n",
        "            output[i, j] = np.sum(region * kernel)  # Dot product\n",
        "\n",
        "    return output\n",
        "\n",
        "# Example usage\n",
        "second_kernel = np.random.randn(3, 3)  # Random filter\n",
        "conv2d_output_2 = convolve2d_second_layer(max_pool_output_1, second_kernel, stride=1, padding=0)\n",
        "\n",
        "print(\"Second convolution applied. Output shape:\", conv2d_output_2.shape)\n"
      ]
    },
    {
      "cell_type": "code",
      "execution_count": null,
      "metadata": {
        "id": "iYbidtdgCo4b"
      },
      "outputs": [],
      "source": [
        "def average_pooling(feature_map, pool_size=2, stride=2):\n",
        "    \"\"\"\n",
        "    Applies Average Pooling to a feature map.\n",
        "\n",
        "    Parameters:\n",
        "        feature_map (numpy array): The output from the second convolutional layer (C3).\n",
        "        pool_size (int): Size of the pooling window (default is 2x2).\n",
        "        stride (int): Step size for the pooling window.\n",
        "\n",
        "    Returns:\n",
        "        numpy array: The feature map after average pooling.\n",
        "    \"\"\"\n",
        "    height, width = feature_map.shape\n",
        "    output_height = (height - pool_size) // stride + 1\n",
        "    output_width = (width - pool_size) // stride + 1\n",
        "\n",
        "    pooled_output = np.zeros((output_height, output_width))\n",
        "\n",
        "    for i in range(0, output_height):\n",
        "        for j in range(0, output_width):\n",
        "            region = feature_map[i * stride:i * stride + pool_size, j * stride:j * stride + pool_size]\n",
        "            pooled_output[i, j] = np.mean(region)  # Compute the average value\n",
        "\n",
        "    return pooled_output\n",
        "\n",
        "# Example usage\n",
        "pooled_s4_output = average_pooling(conv2d_output_2, pool_size=2, stride=2)\n",
        "print(\"Average Pooling (S4) applied. Output shape:\", pooled_s4_output.shape)\n",
        "print(type(pooled_s4_output.flatten()))\n"
      ]
    },
    {
      "cell_type": "code",
      "execution_count": null,
      "metadata": {
        "id": "-8W4w5oVGyVY"
      },
      "outputs": [],
      "source": [
        "# Fully Connected Layer (F5) - Forward Pass\n",
        "def fully_connected_layer(input_data, W_F5, b_F5):\n",
        "    \"\"\"\n",
        "    Computes the forward pass for the fully connected layer (F5).\n",
        "\n",
        "    Parameters:\n",
        "        input_data (numpy array): Input to F5 (from S4).\n",
        "        W_F5 (numpy array): Weights of F5.\n",
        "        b_F5 (numpy array): Bias of F5.\n",
        "\n",
        "    Returns:\n",
        "        f5_z (numpy array): Pre-activation output (before ReLU).\n",
        "        f5_output (numpy array): Output after ReLU activation.\n",
        "    \"\"\"\n",
        "    f5_z = np.dot(W_F5, input_data) + b_F5  # Pre-activation values\n",
        "    f5_output = np.maximum(0, f5_z)  # Applying ReLU\n",
        "    return f5_z, f5_output  # Returning both for later use in backprop\n",
        "\n",
        "# Example usage\n",
        "num_neurons = 10  # Number of neurons in F5\n",
        "flattened_size = pooled_s4_output.size  # Flattened input size\n",
        "\n",
        "# Initialize random weights and bias\n",
        "fc_weights = np.random.randn(num_neurons, flattened_size)\n",
        "fc_bias = np.random.randn(num_neurons)\n",
        "\n",
        "# Apply fully connected layer\n",
        "print(pooled_s4_output)\n",
        "f5_z_in, fc_output = fully_connected_layer(pooled_s4_output.flatten(), fc_weights, fc_bias)\n",
        "\n",
        "print(\"Fully Connected Layer (F5) applied. Output shape:\", fc_output.shape)\n"
      ]
    },
    {
      "cell_type": "code",
      "execution_count": null,
      "metadata": {
        "id": "xyuoJLPrD1Za"
      },
      "outputs": [],
      "source": [
        "# def fully_connected_layer(feature_map, weights, bias):\n",
        "#     \"\"\"\n",
        "#     Applies a fully connected layer.\n",
        "\n",
        "#     Parameters:\n",
        "#         feature_map (numpy array): The output of the S4 pooling layer, which is flattened.\n",
        "#         weights (numpy array): Weight matrix for the fully connected layer.\n",
        "#         bias (numpy array): Bias vector.\n",
        "\n",
        "#     Returns:\n",
        "#         numpy array: The output of the fully connected layer.\n",
        "#     \"\"\"\n",
        "#     # Flatten the feature map (convert 2D to 1D)\n",
        "#     flattened_input = feature_map.flatten()\n",
        "\n",
        "#     # Compute fully connected layer output (Wx + b)\n",
        "#     output = np.dot(weights, flattened_input) + bias\n",
        "\n",
        "#     return output\n",
        "\n",
        "# # Example usage\n",
        "# num_neurons = 10  # Number of neurons in F5\n",
        "# flattened_size = pooled_s4_output.size  # Flattened input size\n",
        "\n",
        "# # Initialize random weights and bias\n",
        "# fc_weights = np.random.randn(num_neurons, flattened_size)\n",
        "# fc_bias = np.random.randn(num_neurons)\n",
        "\n",
        "# # Apply fully connected layer\n",
        "# fc_output = fully_connected_layer(pooled_s4_output, fc_weights, fc_bias)\n",
        "\n",
        "# print(\"Fully Connected Layer (F5) applied. Output shape:\", fc_output.shape)\n"
      ]
    },
    {
      "cell_type": "code",
      "execution_count": null,
      "metadata": {
        "id": "snQeAIpfEvkK"
      },
      "outputs": [],
      "source": [
        "def output_layer(fc_output, weights, bias, activation=\"softmax\"):\n",
        "    \"\"\"\n",
        "    Computes the output layer.\n",
        "\n",
        "    Parameters:\n",
        "        fc_output (numpy array): Output from the fully connected layer (F5).\n",
        "        weights (numpy array): Weight matrix for the output layer.\n",
        "        bias (numpy array): Bias vector.\n",
        "        activation (str): Activation function (\"softmax\" or \"sigmoid\").\n",
        "\n",
        "    Returns:\n",
        "        numpy array: The final output (class probabilities).\n",
        "    \"\"\"\n",
        "    # Compute output layer activation (Wx + b)\n",
        "    logits = np.dot(weights, fc_output) + bias\n",
        "\n",
        "    # Apply activation function\n",
        "    if activation == \"softmax\":\n",
        "        exp_logits = np.exp(logits - np.max(logits))  # Numerical stability\n",
        "        return exp_logits / np.sum(exp_logits)\n",
        "    elif activation == \"sigmoid\":\n",
        "        return 1 / (1 + np.exp(-logits))\n",
        "    else:\n",
        "        raise ValueError(\"Unsupported activation function. Choose 'softmax' or 'sigmoid'.\")\n",
        "\n",
        "# Example usage\n",
        "num_classes = 10  # Number of output classes\n",
        "output_weights = np.random.randn(num_classes, f5_output.shape[0])\n",
        "output_bias = np.random.randn(num_classes)\n",
        "\n",
        "# Compute final output\n",
        "final_output = output_layer(fc_output, output_weights, output_bias, activation=\"softmax\")\n",
        "\n",
        "print(\"Final Output Layer applied. Output shape:\", final_output.shape)\n",
        "print(\"Predicted class probabilities:\", final_output)\n"
      ]
    },
    {
      "cell_type": "code",
      "execution_count": null,
      "metadata": {
        "id": "rDMHvv1VGkgj"
      },
      "outputs": [],
      "source": [
        "def backprop_output_layer(y_true, y_pred, fc_output):\n",
        "    \"\"\"\n",
        "    Computes the gradients for the output layer.\n",
        "\n",
        "    Parameters:\n",
        "        y_true (numpy array): True one-hot encoded labels.\n",
        "        y_pred (numpy array): Predicted probabilities from the softmax output.\n",
        "        fc_output (numpy array): Input to the output layer (from F5).\n",
        "\n",
        "    Returns:\n",
        "        dW (numpy array): Gradient of loss w.r.t output weights.\n",
        "        db (numpy array): Gradient of loss w.r.t output biases.\n",
        "        delta_out (numpy array): Error term for backpropagation to F5.\n",
        "    \"\"\"\n",
        "    # Compute error term for the output layer\n",
        "    delta_out = y_pred - y_true  # Softmax derivative with cross-entropy loss\n",
        "    print(f'delta_out: {delta_out}\\n')\n",
        "    print(f'delta_out.shape: {delta_out.shape}\\n')\n",
        "    print(f'fc_output.shape: {fc_output.shape}\\n')\n",
        "\n",
        "    # Compute gradients\n",
        "    dW_out = np.outer(delta_out, fc_output)  # dL/dW = delta * input\n",
        "    db_out = delta_out  # dL/db = delta\n",
        "\n",
        "    return dW_out, db_out, delta_out\n",
        "\n",
        "# Example usage\n",
        "y_true = np.zeros(num_classes)\n",
        "y_true[3] = 1  # Assume the true label is class 3 (one-hot encoded)\n",
        "\n",
        "# Compute gradients\n",
        "dW_out, db_out, delta_out = backprop_output_layer(y_true, final_output, fc_output)\n",
        "\n",
        "print(\"Gradients for output weights:\", dW_out.shape)\n",
        "print(\"Gradients for output biases:\", db_out.shape)\n"
      ]
    },
    {
      "cell_type": "code",
      "execution_count": null,
      "metadata": {
        "id": "Sj5dDt3OMJpr"
      },
      "outputs": [],
      "source": [
        "def backprop_fully_connected(delta_out, W_out, fc_input, fc_z):\n",
        "    \"\"\"\n",
        "    Computes gradients for the fully connected layer (F5).\n",
        "\n",
        "    Parameters:\n",
        "        delta_out (numpy array): Error term from the output layer.\n",
        "        W_out (numpy array): Weights of the output layer.\n",
        "        fc_input (numpy array): Input to F5 (from S4).\n",
        "        fc_z (numpy array): Pre-activation values of F5.\n",
        "\n",
        "    Returns:\n",
        "        dW_F5 (numpy array): Gradient of loss w.r.t F5 weights.\n",
        "        db_F5 (numpy array): Gradient of loss w.r.t F5 biases.\n",
        "        delta_F5 (numpy array): Error term for backpropagation to S4.\n",
        "    \"\"\"\n",
        "    # Compute error term for F5\n",
        "    relu_derivative = (fc_z > 0).astype(float)  # ReLU derivative\n",
        "    delta_F5 = np.dot(W_out.T, delta_out) * relu_derivative\n",
        "\n",
        "    # Compute gradients\n",
        "    dW_F5 = np.outer(delta_F5, fc_input)\n",
        "    db_F5 = delta_F5\n",
        "\n",
        "    return dW_F5, db_F5, delta_F5\n",
        "\n",
        "# Example usage\n",
        "dW_F5, db_F5, delta_F5 = backprop_fully_connected(delta_out, output_weights, pooled_s4_output, f5_z)\n",
        "\n",
        "print(\"Gradients for F5 weights:\", dW_F5.shape)\n",
        "print(\"Gradients for F5 biases:\", db_F5.shape)\n"
      ]
    },
    {
      "cell_type": "code",
      "execution_count": null,
      "metadata": {
        "id": "BlqlblOZVSmf"
      },
      "outputs": [],
      "source": [
        "def backprop_fully_connected(delta_out, W_out, fc_input, fc_z):\n",
        "    \"\"\"\n",
        "    Computes gradients for the fully connected layer (F5).\n",
        "\n",
        "    Parameters:\n",
        "        delta_out (numpy array): Error term from the output layer.\n",
        "        W_out (numpy array): Weights of the output layer.\n",
        "        fc_input (numpy array): Input to F5 (from S4).\n",
        "        fc_z (numpy array): Pre-activation values of F5 (before ReLU).\n",
        "\n",
        "    Returns:\n",
        "        dW_F5 (numpy array): Gradient of loss w.r.t F5 weights.\n",
        "        db_F5 (numpy array): Gradient of loss w.r.t F5 biases.\n",
        "        delta_F5 (numpy array): Error term for backpropagation to S4.\n",
        "    \"\"\"\n",
        "\n",
        "    # Step 1: Compute ReLU derivative\n",
        "    relu_derivative = (fc_z > 0).astype(float)  # 1 if fc_z > 0, else 0\n",
        "\n",
        "    # Step 2: Compute delta_F5 (error term for the previous layer)\n",
        "    delta_F5 = (np.dot(W_out.T, delta_out)) * relu_derivative\n",
        "\n",
        "    # Step 3: Compute gradients for weights and biases\n",
        "    dW_F5 = np.outer(delta_out, fc_input)  # Gradient for weights\n",
        "    db_F5 = delta_out  # Gradient for biases (same as delta_out)\n",
        "\n",
        "    return dW_F5, db_F5, delta_F5\n",
        "\n",
        "# Example usage\n",
        "dW_F5, db_F5, delta_F5 = backprop_fully_connected(delta_out, output_weights, s4_output, f5_z)\n",
        "\n",
        "print(\"Gradients for F5 weights:\", dW_F5.shape)\n",
        "print(\"Gradients for F5 biases:\", db_F5.shape)\n"
      ]
    },
    {
      "cell_type": "code",
      "execution_count": null,
      "metadata": {
        "id": "RItWpLYmb6qJ"
      },
      "outputs": [],
      "source": [
        "import numpy as np\n",
        "from scipy.signal import correlate2d, convolve2d\n",
        "\n",
        "# === Activation Functions & Derivatives ===\n",
        "def relu(x):\n",
        "    return np.maximum(0, x)\n",
        "\n",
        "def relu_derivative(x):\n",
        "    return (x > 0).astype(float)\n",
        "\n",
        "def softmax(x):\n",
        "    exp_x = np.exp(x - np.max(x))  # Stability trick\n",
        "    return exp_x / np.sum(exp_x, axis=0, keepdims=True)\n",
        "\n",
        "# === Forward Pass ===\n",
        "# def conv2d_forward(input_image, filters):\n",
        "    \"\"\"\n",
        "    Convolution layer forward pass.\n",
        "\n",
        "    Parameters:\n",
        "        input_image (numpy array): Input image or feature map (C x H x W).\n",
        "        filters (numpy array): Set of filters (N x C x kH x kW).\n",
        "\n",
        "    Returns:\n",
        "        conv_output (numpy array): Output feature maps (N x H' x W').\n",
        "    \"\"\"\n",
        "    num_filters, num_channels, kernel_size, _ = filters.shape\n",
        "    input_channels, input_height, input_width = input_image.shape\n",
        "\n",
        "    output_size = input_height - kernel_size + 1  # Assuming square filters\n",
        "    conv_output = np.zeros((num_filters, output_size, output_size))\n",
        "\n",
        "    for f in range(num_filters):  # Loop over filters\n",
        "        for c in range(num_channels):  # Loop over input channels\n",
        "            conv_output[f] += correlate2d(input_image[c], filters[f, c], mode='valid')\n",
        "\n",
        "    return conv_output\n",
        "\n",
        "def max_pool_forward(conv_output, pool_size=2):\n",
        "    \"\"\"Max pooling forward pass\"\"\"\n",
        "    output_size = conv_output.shape[1] // pool_size\n",
        "    pooled_output = np.zeros((conv_output.shape[0], output_size, output_size))\n",
        "    mask = np.zeros_like(conv_output)\n",
        "\n",
        "    for c in range(conv_output.shape[0]):\n",
        "        for i in range(output_size):\n",
        "            for j in range(output_size):\n",
        "                region = conv_output[c, i*pool_size:(i+1)*pool_size, j*pool_size:(j+1)*pool_size]\n",
        "                max_val = np.max(region)\n",
        "                pooled_output[c, i, j] = max_val\n",
        "                mask[c, i*pool_size:(i+1)*pool_size, j*pool_size:(j+1)*pool_size] = (region == max_val)\n",
        "\n",
        "    return pooled_output, mask\n",
        "\n",
        "def avg_pool_forward(conv_output, pool_size=2):\n",
        "    \"\"\"Average pooling forward pass\"\"\"\n",
        "    output_size = conv_output.shape[1] // pool_size\n",
        "    pooled_output = np.zeros((conv_output.shape[0], output_size, output_size))\n",
        "\n",
        "    for c in range(conv_output.shape[0]):\n",
        "        for i in range(output_size):\n",
        "            for j in range(output_size):\n",
        "                region = conv_output[c, i*pool_size:(i+1)*pool_size, j*pool_size:(j+1)*pool_size]\n",
        "                pooled_output[c, i, j] = np.mean(region)\n",
        "\n",
        "    return pooled_output\n",
        "\n",
        "def fully_connected_forward(flattened_input, weights, biases):\n",
        "    \"\"\"Fully connected forward pass\"\"\"\n",
        "    return np.dot(weights, flattened_input) + biases\n",
        "\n",
        "# === Backpropagation ===\n",
        "def backprop_output_layer(y_true, y_pred, fc_output):\n",
        "    \"\"\"Output layer backpropagation\"\"\"\n",
        "    delta_out = y_pred - y_true\n",
        "    dW_out = np.outer(delta_out, fc_output)\n",
        "    db_out = delta_out\n",
        "    return dW_out, db_out, delta_out\n",
        "\n",
        "def backprop_fully_connected(delta_out, W_out, fc_input):\n",
        "    \"\"\"Fully connected layer backpropagation\"\"\"\n",
        "    delta_F5 = np.dot(W_out.T, delta_out)\n",
        "    dW_F5 = np.outer(delta_F5, fc_input)\n",
        "    db_F5 = delta_F5\n",
        "    return dW_F5, db_F5, delta_F5\n",
        "\n",
        "def backprop_avg_pooling(delta_S4, S4_input_shape, pool_size=2):\n",
        "    \"\"\"Backpropagation through average pooling\"\"\"\n",
        "    delta_C3 = np.repeat(np.repeat(delta_S4, pool_size, axis=1), pool_size, axis=2) / (pool_size ** 2)\n",
        "    return delta_C3\n",
        "\n",
        "def backprop_conv2d(delta_C3, filters):\n",
        "    \"\"\"Backpropagation through convolution layer\"\"\"\n",
        "    dW_C3 = np.zeros_like(filters)\n",
        "    delta_S2 = np.zeros((filters.shape[1], delta_C3.shape[1] + filters.shape[2] - 1, delta_C3.shape[2] + filters.shape[3] - 1))\n",
        "\n",
        "    for i in range(filters.shape[0]):\n",
        "        dW_C3[i] = correlate2d(delta_C3[i], filters[i, 0], mode='valid')\n",
        "        delta_S2 += convolve2d(delta_C3[i], np.rot90(filters[i, 0], 2), mode='full')\n",
        "\n",
        "    return dW_C3, delta_S2\n",
        "\n",
        "# === Training Loop ===\n",
        "epochs = 10\n",
        "learning_rate = 0.01\n",
        "\n",
        "# Initialize synthetic data\n",
        "input_image = np.random.rand(28, 28)\n",
        "filters_C1 = np.random.randn(6, 1, 5, 5) * 0.1\n",
        "filters_C3 = np.random.randn(16, 6, 5, 5) * 0.1\n",
        "W_F5 = np.random.randn(120, 256) * 0.1\n",
        "b_F5 = np.zeros(120)\n",
        "W_out = np.random.randn(10, 120) * 0.1\n",
        "b_out = np.zeros(10)\n",
        "\n",
        "for epoch in range(epochs):\n",
        "    # Forward Pass\n",
        "    conv1_output = conv2d_forward(input_image, filters_C1)\n",
        "    relu1_output = relu(conv1_output)\n",
        "    s2_output, mask_S2 = max_pool_forward(relu1_output)\n",
        "    if s2_output.ndim == 2:\n",
        "        s2_output = np.expand_dims(s2_output, axis=0)  # Make it (1, H, W)\n",
        "    conv3_output = conv2d_forward(s2_output, filters_C3)\n",
        "    relu3_output = relu(conv3_output)\n",
        "    s4_output = avg_pool_forward(relu3_output)\n",
        "\n",
        "    fc_input = s4_output.flatten()\n",
        "    f5_output = fully_connected_forward(fc_input, W_F5, b_F5)\n",
        "    output = fully_connected_forward(f5_output, W_out, b_out)\n",
        "    y_pred = softmax(output)\n",
        "\n",
        "    # Loss Calculation\n",
        "    y_true = np.zeros(10)\n",
        "    y_true[np.random.randint(0, 10)] = 1  # Random one-hot label\n",
        "\n",
        "    loss = -np.sum(y_true * np.log(y_pred))  # Cross-entropy loss\n",
        "    print(f\"Epoch {epoch + 1}, Loss: {loss:.4f}\")\n",
        "\n",
        "    # Backpropagation\n",
        "    dW_out, db_out, delta_out = backprop_output_layer(y_true, y_pred, f5_output)\n",
        "    dW_F5, db_F5, delta_F5 = backprop_fully_connected(delta_out, W_out, fc_input)\n",
        "    delta_S4 = delta_F5.reshape(s4_output.shape)\n",
        "    delta_C3 = backprop_avg_pooling(delta_S4, relu3_output.shape)\n",
        "    dW_C3, delta_S2 = backprop_conv2d(delta_C3, filters_C3)\n",
        "\n",
        "    # Update Weights\n",
        "    W_out -= learning_rate * dW_out\n",
        "    b_out -= learning_rate * db_out\n",
        "    W_F5 -= learning_rate * dW_F5\n",
        "    b_F5 -= learning_rate * db_F5\n",
        "    filters_C3 -= learning_rate * dW_C3\n",
        "\n",
        "print(\"Training complete!\")\n"
      ]
    },
    {
      "cell_type": "code",
      "execution_count": null,
      "metadata": {
        "id": "vWB82VWXgOCb"
      },
      "outputs": [],
      "source": [
        "import numpy as np\n",
        "from scipy.signal import correlate2d\n",
        "\n",
        "# ==============================\n",
        "# 1. Synthetic Data Generation\n",
        "# ==============================\n",
        "\n",
        "def generate_synthetic_data(image_size=(8, 8)):\n",
        "    \"\"\"Generates a random grayscale image as a synthetic dataset.\"\"\"\n",
        "    return np.random.rand(*image_size)\n",
        "\n",
        "# Convert (H, W) → (1, H, W) for compatibility with CNN layers\n",
        "input_image = generate_synthetic_data()\n",
        "input_image = np.expand_dims(input_image, axis=0)  # Ensure (1, H, W)\n",
        "\n",
        "# ==============================\n",
        "# 2. Forward Pass Implementations\n",
        "# ==============================\n",
        "\n",
        "def relu(x):\n",
        "    \"\"\"ReLU activation function.\"\"\"\n",
        "    return np.maximum(0, x)\n",
        "\n",
        "def relu_derivative(x):\n",
        "    \"\"\"Derivative of ReLU.\"\"\"\n",
        "    return (x > 0).astype(float)\n",
        "\n",
        "def max_pool_forward(input_feature_map, pool_size=(2,2)):\n",
        "    \"\"\"Performs max pooling.\"\"\"\n",
        "    C, H, W = input_feature_map.shape\n",
        "    pool_H, pool_W = pool_size\n",
        "    H_new, W_new = H // pool_H, W // pool_W\n",
        "    pooled_output = np.zeros((C, H_new, W_new))\n",
        "\n",
        "    for c in range(C):\n",
        "        for i in range(H_new):\n",
        "            for j in range(W_new):\n",
        "                pooled_output[c, i, j] = np.max(input_feature_map[c, i*pool_H:(i+1)*pool_H, j*pool_W:(j+1)*pool_W])\n",
        "\n",
        "    return pooled_output\n",
        "\n",
        "def avg_pool_forward(input_feature_map, pool_size=(2,2)):\n",
        "    \"\"\"Performs average pooling.\"\"\"\n",
        "    C, H, W = input_feature_map.shape\n",
        "    pool_H, pool_W = pool_size\n",
        "    H_new, W_new = H // pool_H, W // pool_W\n",
        "    pooled_output = np.zeros((C, H_new, W_new))\n",
        "\n",
        "    for c in range(C):\n",
        "        for i in range(H_new):\n",
        "            for j in range(W_new):\n",
        "                pooled_output[c, i, j] = np.mean(input_feature_map[c, i*pool_H:(i+1)*pool_H, j*pool_W:(j+1)*pool_W])\n",
        "\n",
        "    return pooled_output\n",
        "\n",
        "def conv2d_forward(input_image, filters):\n",
        "    \"\"\"Performs 2D convolution.\"\"\"\n",
        "    C_in, H, W = input_image.shape  # (C_in, H, W)\n",
        "    num_filters, _, kH, kW = filters.shape  # (N, C_in, kH, kW)\n",
        "\n",
        "    H_out, W_out = H - kH + 1, W - kW + 1\n",
        "    conv_output = np.zeros((num_filters, H_out, W_out))\n",
        "\n",
        "    for f in range(num_filters):\n",
        "        for c in range(C_in):  # Sum over all channels\n",
        "            conv_output[f] += correlate2d(input_image[c], filters[f, c], mode='valid')\n",
        "\n",
        "    return conv_output\n",
        "\n",
        "# ==============================\n",
        "# 3. Initialize Random Weights\n",
        "# ==============================\n",
        "\n",
        "filters_C1 = np.random.randn(2, 1, 3, 3)  # (N=2 filters, C=1, kH=3, kW=3)\n",
        "filters_C3 = np.random.randn(3, 2, 3, 3)  # (N=3 filters, C=2, kH=3, kW=3)\n",
        "fc_weights = np.random.randn(10, 12)  # Fully Connected: (10 outputs, flattened size)\n",
        "output_weights = np.random.randn(10, 10)  # (Output Layer: 10 classes)\n",
        "\n",
        "# ==============================\n",
        "# 4. Forward Pass\n",
        "# ==============================\n",
        "\n",
        "# Conv Layer 1\n",
        "conv1_output = conv2d_forward(input_image, filters_C1)\n",
        "relu1_output = relu(conv1_output)\n",
        "\n",
        "# Max Pooling (S2)\n",
        "s2_output = max_pool_forward(relu1_output)\n",
        "\n",
        "# Conv Layer 2 (C3)\n",
        "conv3_output = conv2d_forward(s2_output, filters_C3)\n",
        "relu3_output = relu(conv3_output)\n",
        "\n",
        "# Avg Pooling (S4)\n",
        "s4_output = avg_pool_forward(relu3_output)\n",
        "\n",
        "# Flatten\n",
        "fc_input = s4_output.flatten()\n",
        "\n",
        "# Fully Connected Layer (F5)\n",
        "f5_output = fc_weights @ fc_input  # Matrix multiplication\n",
        "relu_f5_output = relu(f5_output)\n",
        "\n",
        "# Output Layer\n",
        "output_logits = output_weights @ relu_f5_output  # Matrix multiplication\n",
        "output_probs = np.exp(output_logits) / np.sum(np.exp(output_logits))  # Softmax\n",
        "\n",
        "# ==============================\n",
        "# 5. Backpropagation\n",
        "# ==============================\n",
        "\n",
        "def backprop_output_layer(y_true, y_pred, fc_output):\n",
        "    \"\"\"Backpropagates through the output layer.\"\"\"\n",
        "    delta_out = y_pred - y_true  # Cross-entropy gradient\n",
        "    dW_out = np.outer(delta_out, fc_output)\n",
        "    db_out = delta_out\n",
        "    return dW_out, db_out, delta_out\n",
        "\n",
        "def backprop_fully_connected(delta_out, W_out, fc_input, fc_z):\n",
        "    \"\"\"Backpropagates through the fully connected layer.\"\"\"\n",
        "    delta_F5 = (W_out.T @ delta_out) * relu_derivative(fc_z)\n",
        "    dW_F5 = np.outer(delta_F5, fc_input)\n",
        "    db_F5 = delta_F5\n",
        "    return dW_F5, db_F5, delta_F5\n",
        "\n",
        "# Backprop Output Layer\n",
        "y_true = np.zeros(10)  # One-hot encoding\n",
        "y_true[np.random.randint(0, 10)] = 1  # Assign a random class\n",
        "dW_out, db_out, delta_out = backprop_output_layer(y_true, output_probs, relu_f5_output)\n",
        "\n",
        "# Backprop Fully Connected Layer\n",
        "dW_F5, db_F5, delta_F5 = backprop_fully_connected(delta_out, output_weights, fc_input, f5_output)\n",
        "\n",
        "# (Continue backpropagation through pooling → conv2d → pooling → conv2d)\n",
        "\n",
        "# ==============================\n",
        "# 6. Training Loop (Simplified)\n",
        "# ==============================\n",
        "\n",
        "num_epochs = 10\n",
        "for epoch in range(num_epochs):\n",
        "    input_image = generate_synthetic_data()\n",
        "    input_image = np.expand_dims(input_image, axis=0)\n",
        "\n",
        "    # Forward pass (same as above)\n",
        "\n",
        "    # Compute loss (categorical cross-entropy)\n",
        "\n",
        "    # Backpropagation (same as above)\n",
        "\n",
        "    # Update weights with gradients (e.g., SGD)\n",
        "\n",
        "    print(f\"Epoch {epoch + 1} completed!\")\n",
        "\n"
      ]
    },
    {
      "cell_type": "code",
      "execution_count": null,
      "metadata": {
        "id": "_GmaZz41h9Ly"
      },
      "outputs": [],
      "source": [
        "import numpy as np\n",
        "from scipy.signal import correlate2d\n",
        "\n",
        "# ========== HELPER FUNCTIONS ========== #\n",
        "def relu(x):\n",
        "    return np.maximum(0, x)\n",
        "\n",
        "def relu_derivative(x):\n",
        "    return (x > 0).astype(float)\n",
        "\n",
        "def max_pool_forward(feature_map, pool_size=2, stride=2):\n",
        "    c, h, w = feature_map.shape\n",
        "    new_h, new_w = h // stride, w // stride\n",
        "    pooled = np.zeros((c, new_h, new_w))\n",
        "\n",
        "    for i in range(new_h):\n",
        "        for j in range(new_w):\n",
        "            pooled[:, i, j] = np.max(feature_map[:, i*stride:i*stride+pool_size, j*stride:j*stride+pool_size], axis=(1, 2))\n",
        "\n",
        "    return pooled\n",
        "\n",
        "def avg_pool_forward(feature_map, pool_size=2, stride=2):\n",
        "    c, h, w = feature_map.shape\n",
        "    new_h, new_w = h // stride, w // stride\n",
        "    pooled = np.zeros((c, new_h, new_w))\n",
        "\n",
        "    for i in range(new_h):\n",
        "        for j in range(new_w):\n",
        "            pooled[:, i, j] = np.mean(feature_map[:, i*stride:i*stride+pool_size, j*stride:j*stride+pool_size], axis=(1, 2))\n",
        "\n",
        "    return pooled\n",
        "\n",
        "def conv2d_forward(input_image, filters):\n",
        "    num_filters, _, filter_size, _ = filters.shape\n",
        "    h, w = input_image.shape\n",
        "    output_size = h - filter_size + 1\n",
        "    conv_output = np.zeros((num_filters, output_size, output_size))\n",
        "\n",
        "    for i in range(num_filters):\n",
        "        conv_output[i] = correlate2d(input_image, filters[i, 0], mode='valid')\n",
        "\n",
        "    return conv_output\n",
        "\n",
        "def fully_connected_forward(flat_input, weights, biases):\n",
        "    return np.dot(weights, flat_input) + biases\n",
        "\n",
        "def softmax(x):\n",
        "    exp_x = np.exp(x - np.max(x))\n",
        "    return exp_x / np.sum(exp_x)\n",
        "\n",
        "# ========== BACKPROPAGATION ========== #\n",
        "def backprop_output_layer(y_true, y_pred, fc_output):\n",
        "    delta_out = y_pred - y_true\n",
        "    dW_out = np.outer(delta_out, fc_output)\n",
        "    db_out = delta_out\n",
        "    return dW_out, db_out, delta_out\n",
        "\n",
        "def backprop_fully_connected(delta_out, W_out, fc_input, fc_z):\n",
        "    relu_derivative_val = relu_derivative(fc_z)\n",
        "    delta_F5 = np.dot(W_out.T, delta_out) * relu_derivative_val\n",
        "    dW_F5 = np.outer(delta_F5, fc_input)\n",
        "    db_F5 = delta_F5\n",
        "    return dW_F5, db_F5, delta_F5\n",
        "\n",
        "def backprop_avg_pool(delta_S4, S4_input_shape):\n",
        "    c, h, w = S4_input_shape\n",
        "    delta_C3 = np.zeros((c, h, w))\n",
        "    for i in range(delta_S4.shape[1]):\n",
        "        for j in range(delta_S4.shape[2]):\n",
        "            delta_C3[:, i*2:i*2+2, j*2:j*2+2] = delta_S4[:, i, j] / 4\n",
        "    return delta_C3\n",
        "\n",
        "# ========== TRAINING LOOP ========== #\n",
        "\n",
        "# Example Setup\n",
        "input_image = np.random.randn(28, 28)  # Synthetic 28x28 image\n",
        "filters_C1 = np.random.randn(6, 1, 5, 5)  # 6 filters of size 5x5 for C1\n",
        "filters_C3 = np.random.randn(16, 6, 5, 5)  # 16 filters for C3\n",
        "fc_weights = np.random.randn(10, 12)  # Adjusted weights\n",
        "fc_biases = np.zeros(10)\n",
        "output_weights = np.random.randn(10, 10)\n",
        "output_biases = np.zeros(10)\n",
        "y_true = np.zeros(10)\n",
        "y_true[np.random.randint(0, 10)] = 1  # One-hot label\n",
        "\n",
        "# Forward Pass\n",
        "conv1_output = conv2d_forward(input_image, filters_C1)\n",
        "relu1_output = relu(conv1_output)\n",
        "s2_output = max_pool_forward(relu1_output)\n",
        "conv3_output = conv2d_forward(s2_output[0], filters_C3)\n",
        "relu3_output = relu(conv3_output)\n",
        "s4_output = avg_pool_forward(relu3_output)\n",
        "fc_input = s4_output.flatten()\n",
        "f5_output = fully_connected_forward(fc_input, fc_weights, fc_biases)\n",
        "output_layer = softmax(f5_output)\n",
        "\n",
        "# Backpropagation\n",
        "\n",
        "dW_out, db_out, delta_out = backprop_output_layer(y_true, output_layer, f5_output)\n",
        "dW_F5, db_F5, delta_F5 = backprop_fully_connected(delta_out, output_weights, fc_input, f5_output)\n",
        "delta_S4 = delta_F5.reshape(s4_output.shape)\n",
        "delta_C3 = backprop_avg_pool(delta_S4, relu3_output.shape)\n",
        "\n",
        "# Debugging Outputs\n",
        "print(\"Shapes check:\")\n",
        "print(\"Conv1 Output:\", conv1_output.shape)\n",
        "print(\"S2 Output:\", s2_output.shape)\n",
        "print(\"Conv3 Output:\", conv3_output.shape)\n",
        "print(\"S4 Output:\", s4_output.shape)\n",
        "print(\"FC Input:\", fc_input.shape)\n",
        "print(\"Output Layer:\", output_layer.shape)\n"
      ]
    },
    {
      "cell_type": "code",
      "execution_count": null,
      "metadata": {
        "id": "qUrjE8NjizXy"
      },
      "outputs": [],
      "source": [
        "import numpy as np\n",
        "from scipy.signal import correlate2d\n",
        "\n",
        "# ========== HELPER FUNCTIONS ========== #\n",
        "def relu(x):\n",
        "    return np.maximum(0, x)\n",
        "\n",
        "def relu_derivative(x):\n",
        "    return (x > 0).astype(float)\n",
        "\n",
        "def max_pool_forward(feature_map, pool_size=2, stride=2):\n",
        "    c, h, w = feature_map.shape\n",
        "    new_h, new_w = h // stride, w // stride\n",
        "    pooled = np.zeros((c, new_h, new_w))\n",
        "\n",
        "    for i in range(new_h):\n",
        "        for j in range(new_w):\n",
        "            pooled[:, i, j] = np.max(feature_map[:, i*stride:i*stride+pool_size, j*stride:j*stride+pool_size], axis=(1, 2))\n",
        "\n",
        "    return pooled\n",
        "\n",
        "def avg_pool_forward(feature_map, pool_size=2, stride=2):\n",
        "    c, h, w = feature_map.shape\n",
        "    new_h, new_w = h // stride, w // stride\n",
        "    pooled = np.zeros((c, new_h, new_w))\n",
        "\n",
        "    for i in range(new_h):\n",
        "        for j in range(new_w):\n",
        "            pooled[:, i, j] = np.mean(feature_map[:, i*stride:i*stride+pool_size, j*stride:j*stride+pool_size], axis=(1, 2))\n",
        "\n",
        "    return pooled\n",
        "\n",
        "def conv2d_forward(input_image, filters):\n",
        "    num_filters, _, filter_size, _ = filters.shape\n",
        "    h, w = input_image.shape\n",
        "    output_size = h - filter_size + 1\n",
        "    conv_output = np.zeros((num_filters, output_size, output_size))\n",
        "\n",
        "    for i in range(num_filters):\n",
        "        conv_output[i] = correlate2d(input_image, filters[i, 0], mode='valid')\n",
        "\n",
        "    return conv_output\n",
        "\n",
        "def fully_connected_forward(flat_input, weights, biases):\n",
        "    return np.dot(weights, flat_input) + biases\n",
        "\n",
        "def softmax(x):\n",
        "    exp_x = np.exp(x - np.max(x))\n",
        "    return exp_x / np.sum(exp_x)\n",
        "\n",
        "# ========== BACKPROPAGATION ========== #\n",
        "def backprop_output_layer(y_true, y_pred, fc_output):\n",
        "    delta_out = y_pred - y_true\n",
        "    dW_out = np.outer(delta_out, fc_output)\n",
        "    db_out = delta_out\n",
        "    return dW_out, db_out, delta_out\n",
        "\n",
        "def backprop_fully_connected(delta_out, W_out, fc_input, fc_z):\n",
        "    relu_derivative_val = relu_derivative(fc_z)\n",
        "    delta_F5 = np.dot(W_out.T, delta_out) * relu_derivative_val\n",
        "    dW_F5 = np.outer(delta_F5, fc_input)\n",
        "    db_F5 = delta_F5\n",
        "    return dW_F5, db_F5, delta_F5\n",
        "\n",
        "def backprop_avg_pool(delta_S4, S4_input_shape):\n",
        "    c, h, w = S4_input_shape\n",
        "    delta_C3 = np.zeros((c, h, w))\n",
        "    for i in range(delta_S4.shape[1]):\n",
        "        for j in range(delta_S4.shape[2]):\n",
        "            delta_C3[:, i*2:i*2+2, j*2:j*2+2] = delta_S4[:, i, j] / 4\n",
        "    return delta_C3\n",
        "\n",
        "# ========== TRAINING LOOP ========== #\n",
        "\n",
        "# Example Setup\n",
        "input_image = np.random.randn(28, 28)  # Synthetic 28x28 image\n",
        "filters_C1 = np.random.randn(6, 1, 5, 5)  # 6 filters of size 5x5 for C1\n",
        "filters_C3 = np.random.randn(16, 6, 5, 5)  # 16 filters for C3\n",
        "fc_weights = np.random.randn(10, 256)  # Adjusted weights to match flattened input size\n",
        "fc_biases = np.zeros(10)\n",
        "output_weights = np.random.randn(10, 10)\n",
        "output_biases = np.zeros(10)\n",
        "y_true = np.zeros(10)\n",
        "y_true[np.random.randint(0, 10)] = 1  # One-hot label\n",
        "\n",
        "# Forward Pass\n",
        "conv1_output = conv2d_forward(input_image, filters_C1)\n",
        "relu1_output = relu(conv1_output)\n",
        "s2_output = max_pool_forward(relu1_output)\n",
        "conv3_output = np.array([conv2d_forward(s2_output[i], filters_C3[:, i]) for i in range(s2_output.shape[0])])\n",
        "conv3_output = np.sum(conv3_output, axis=0)  # Sum over input channels\n",
        "relu3_output = relu(conv3_output)\n",
        "s4_output = avg_pool_forward(relu3_output)\n",
        "fc_input = s4_output.flatten()\n",
        "f5_output = fully_connected_forward(fc_input, fc_weights, fc_biases)\n",
        "output_layer = softmax(f5_output)\n",
        "\n",
        "# Backpropagation\n",
        "dW_out, db_out, delta_out = backprop_output_layer(y_true, output_layer, f5_output)\n",
        "dW_F5, db_F5, delta_F5 = backprop_fully_connected(delta_out, output_weights, fc_input, f5_output)\n",
        "delta_S4 = delta_F5.reshape(s4_output.shape)\n",
        "delta_C3 = backprop_avg_pool(delta_S4, relu3_output.shape)\n",
        "\n",
        "# Debugging Outputs\n",
        "print(\"Shapes check:\")\n",
        "print(\"Conv1 Output:\", conv1_output.shape)\n",
        "print(\"S2 Output:\", s2_output.shape)\n",
        "print(\"Conv3 Output:\", conv3_output.shape)\n",
        "print(\"S4 Output:\", s4_output.shape)\n",
        "print(\"FC Input:\", fc_input.shape)\n",
        "print(\"Output Layer:\", output_layer.shape)\n"
      ]
    },
    {
      "cell_type": "code",
      "execution_count": null,
      "metadata": {
        "id": "TPUtdeWYk_xD"
      },
      "outputs": [],
      "source": [
        "import numpy as np\n",
        "from scipy.signal import correlate2d\n",
        "\n",
        "# ========== HELPER FUNCTIONS ========== #\n",
        "def relu(x):\n",
        "    return np.maximum(0, x)\n",
        "\n",
        "def relu_derivative(x):\n",
        "    return (x > 0).astype(float)\n",
        "\n",
        "def max_pool_forward(feature_map, pool_size=2, stride=2):\n",
        "    c, h, w = feature_map.shape\n",
        "    new_h, new_w = h // stride, w // stride\n",
        "    pooled = np.zeros((c, new_h, new_w))\n",
        "\n",
        "    for i in range(new_h):\n",
        "        for j in range(new_w):\n",
        "            pooled[:, i, j] = np.max(feature_map[:, i*stride:i*stride+pool_size, j*stride:j*stride+pool_size], axis=(1, 2))\n",
        "\n",
        "    return pooled\n",
        "\n",
        "def avg_pool_forward(feature_map, pool_size=2, stride=2):\n",
        "    c, h, w = feature_map.shape\n",
        "    new_h, new_w = h // stride, w // stride\n",
        "    pooled = np.zeros((c, new_h, new_w))\n",
        "\n",
        "    for i in range(new_h):\n",
        "        for j in range(new_w):\n",
        "            pooled[:, i, j] = np.mean(feature_map[:, i*stride:i*stride+pool_size, j*stride:j*stride+pool_size], axis=(1, 2))\n",
        "\n",
        "    return pooled\n",
        "\n",
        "def conv2d_forward(input_image, filters):\n",
        "    num_filters, input_channels, filter_size, _ = filters.shape\n",
        "    h, w = input_image.shape[1:]  # Input assumed to be (channels, height, width)\n",
        "    output_size = h - filter_size + 1\n",
        "    conv_output = np.zeros((num_filters, output_size, output_size))\n",
        "\n",
        "    for i in range(num_filters):\n",
        "        for j in range(input_channels):\n",
        "            conv_output[i] += correlate2d(input_image[j], filters[i, j], mode='valid')\n",
        "\n",
        "    return conv_output\n",
        "\n",
        "def fully_connected_forward(flat_input, weights, biases):\n",
        "    return np.dot(weights, flat_input) + biases\n",
        "\n",
        "def softmax(x):\n",
        "    exp_x = np.exp(x - np.max(x))\n",
        "    return exp_x / np.sum(exp_x)\n",
        "\n",
        "# ========== BACKPROPAGATION ========== #\n",
        "def backprop_output_layer(y_true, y_pred, fc_output):\n",
        "    delta_out = y_pred - y_true\n",
        "    dW_out = np.outer(delta_out, fc_output)\n",
        "    db_out = delta_out\n",
        "    return dW_out, db_out, delta_out\n",
        "\n",
        "def backprop_fully_connected(delta_out, W_out, fc_input, fc_z):\n",
        "    relu_derivative_val = relu_derivative(fc_z)\n",
        "    delta_F5 = np.dot(W_out.T, delta_out) * relu_derivative_val\n",
        "    dW_F5 = np.outer(delta_F5, fc_input)\n",
        "    db_F5 = delta_F5\n",
        "    return dW_F5, db_F5, delta_F5\n",
        "\n",
        "def backprop_avg_pool(delta_S4, S4_input_shape):\n",
        "    c, h, w = S4_input_shape\n",
        "    delta_C3 = np.zeros((c, h, w))\n",
        "    for i in range(delta_S4.shape[1]):\n",
        "        for j in range(delta_S4.shape[2]):\n",
        "            delta_C3[:, i*2:i*2+2, j*2:j*2+2] = delta_S4[:, i, j] / 4\n",
        "    return delta_C3\n",
        "\n",
        "# ========== TRAINING LOOP ========== #\n",
        "\n",
        "# Example Setup\n",
        "input_image = np.random.randn(1, 28, 28)  # Synthetic 1-channel 28x28 image\n",
        "filters_C1 = np.random.randn(6, 1, 5, 5)  # 6 filters of size 5x5 for C1\n",
        "filters_C3 = np.random.randn(16, 6, 5, 5)  # 16 filters for C3\n",
        "fc_weights = np.random.randn(10, 256)  # Adjusted weights to match flattened input size\n",
        "fc_biases = np.zeros(10)\n",
        "output_weights = np.random.randn(10, 10)\n",
        "output_biases = np.zeros(10)\n",
        "y_true = np.zeros(10)\n",
        "y_true[np.random.randint(0, 10)] = 1  # One-hot label\n",
        "\n",
        "# Forward Pass\n",
        "conv1_output = conv2d_forward(input_image, filters_C1)\n",
        "relu1_output = relu(conv1_output)\n",
        "s2_output = max_pool_forward(relu1_output)\n",
        "conv3_output = conv2d_forward(s2_output, filters_C3)\n",
        "relu3_output = relu(conv3_output)\n",
        "s4_output = avg_pool_forward(relu3_output)\n",
        "fc_input = s4_output.flatten()\n",
        "f5_output = fully_connected_forward(fc_input, fc_weights, fc_biases)\n",
        "output_layer = softmax(f5_output)\n",
        "\n",
        "# Backpropagation\n",
        "dW_out, db_out, delta_out = backprop_output_layer(y_true, output_layer, f5_output)\n",
        "dW_F5, db_F5, delta_F5 = backprop_fully_connected(delta_out, output_weights, fc_input, f5_output)\n",
        "delta_S4 = delta_F5.reshape(s4_output.shape)\n",
        "delta_C3 = backprop_avg_pool(delta_S4, relu3_output.shape)\n",
        "\n",
        "# Debugging Outputs\n",
        "print(\"Shapes check:\")\n",
        "print(\"Conv1 Output:\", conv1_output.shape)\n",
        "print(\"S2 Output:\", s2_output.shape)\n",
        "print(\"Conv3 Output:\", conv3_output.shape)\n",
        "print(\"S4 Output:\", s4_output.shape)\n",
        "print(\"FC Input:\", fc_input.shape)\n",
        "print(\"Output Layer:\", output_layer.shape)\n"
      ]
    },
    {
      "cell_type": "code",
      "execution_count": null,
      "metadata": {
        "id": "7R4NzJI4loKT"
      },
      "outputs": [],
      "source": [
        "import numpy as np\n",
        "from scipy.signal import correlate2d\n",
        "\n",
        "# ========== HELPER FUNCTIONS ========== #\n",
        "def relu(x):\n",
        "    return np.maximum(0, x)\n",
        "\n",
        "def relu_derivative(x):\n",
        "    return (x > 0).astype(float)\n",
        "\n",
        "def max_pool_forward(feature_map, pool_size=2, stride=2):\n",
        "    c, h, w = feature_map.shape\n",
        "    new_h, new_w = h // stride, w // stride\n",
        "    pooled = np.zeros((c, new_h, new_w))\n",
        "\n",
        "    for i in range(new_h):\n",
        "        for j in range(new_w):\n",
        "            pooled[:, i, j] = np.max(feature_map[:, i*stride:i*stride+pool_size, j*stride:j*stride+pool_size], axis=(1, 2))\n",
        "\n",
        "    return pooled\n",
        "\n",
        "def avg_pool_forward(feature_map, pool_size=2, stride=2):\n",
        "    c, h, w = feature_map.shape\n",
        "    new_h, new_w = h // stride, w // stride\n",
        "    pooled = np.zeros((c, new_h, new_w))\n",
        "\n",
        "    for i in range(new_h):\n",
        "        for j in range(new_w):\n",
        "            pooled[:, i, j] = np.mean(feature_map[:, i*stride:i*stride+pool_size, j*stride:j*stride+pool_size], axis=(1, 2))\n",
        "\n",
        "    return pooled\n",
        "\n",
        "def conv2d_forward(input_image, filters):\n",
        "    num_filters, input_channels, filter_size, _ = filters.shape\n",
        "    _, h, w = input_image.shape  # Input assumed to be (channels, height, width)\n",
        "    output_size = h - filter_size + 1\n",
        "    conv_output = np.zeros((num_filters, output_size, output_size))\n",
        "\n",
        "    for i in range(num_filters):\n",
        "        for j in range(input_channels):\n",
        "            conv_output[i] += correlate2d(input_image[j], filters[i, j], mode='valid')\n",
        "\n",
        "    return conv_output\n",
        "\n",
        "def fully_connected_forward(flat_input, weights, biases):\n",
        "    return np.dot(weights, flat_input) + biases\n",
        "\n",
        "def softmax(x):\n",
        "    exp_x = np.exp(x - np.max(x))\n",
        "    return exp_x / np.sum(exp_x)\n",
        "\n",
        "# ========== BACKPROPAGATION ========== #\n",
        "def backprop_output_layer(y_true, y_pred, fc_output):\n",
        "    delta_out = y_pred - y_true\n",
        "    dW_out = np.outer(delta_out, fc_output)\n",
        "    db_out = delta_out\n",
        "    return dW_out, db_out, delta_out\n",
        "\n",
        "def backprop_fully_connected(delta_out, W_out, fc_input, fc_z):\n",
        "    relu_derivative_val = relu_derivative(fc_z)\n",
        "    delta_F5 = np.dot(W_out.T, delta_out) * relu_derivative_val\n",
        "    dW_F5 = np.outer(delta_F5, fc_input)\n",
        "    db_F5 = delta_F5\n",
        "    return dW_F5, db_F5, delta_F5\n",
        "\n",
        "def backprop_avg_pool(delta_S4, S4_input_shape):\n",
        "    c, h, w = S4_input_shape\n",
        "    delta_C3 = np.zeros((c, h, w))\n",
        "    for i in range(delta_S4.shape[1]):\n",
        "        for j in range(delta_S4.shape[2]):\n",
        "            delta_C3[:, i*2:i*2+2, j*2:j*2+2] = delta_S4[:, i, j] / 4\n",
        "    return delta_C3\n",
        "\n",
        "# ========== TRAINING LOOP ========== #\n",
        "\n",
        "# Example Setup\n",
        "input_image = np.random.randn(1, 28, 28)  # Synthetic 1-channel 28x28 image\n",
        "filters_C1 = np.random.randn(6, 1, 5, 5)  # 6 filters of size 5x5 for C1\n",
        "filters_C3 = np.random.randn(16, 6, 5, 5)  # 16 filters for C3\n",
        "fc_weights = np.random.randn(10, 256)  # Adjusted weights to match flattened input size\n",
        "fc_biases = np.zeros(10)\n",
        "output_weights = np.random.randn(10, 10)\n",
        "output_biases = np.zeros(10)\n",
        "y_true = np.zeros(10)\n",
        "y_true[np.random.randint(0, 10)] = 1  # One-hot label\n",
        "\n",
        "# Forward Pass\n",
        "conv1_output = conv2d_forward(input_image, filters_C1)\n",
        "relu1_output = relu(conv1_output)\n",
        "s2_output = max_pool_forward(relu1_output)\n",
        "conv3_output = np.array([conv2d_forward(s2_output, filters_C3[:, i]) for i in range(s2_output.shape[0])])\n",
        "conv3_output = np.sum(conv3_output, axis=0)  # Sum over input channels\n",
        "relu3_output = relu(conv3_output)\n",
        "s4_output = avg_pool_forward(relu3_output)\n",
        "fc_input = s4_output.flatten()\n",
        "f5_output = fully_connected_forward(fc_input, fc_weights, fc_biases)\n",
        "output_layer = softmax(f5_output)\n",
        "\n",
        "# Backpropagation\n",
        "dW_out, db_out, delta_out = backprop_output_layer(y_true, output_layer, f5_output)\n",
        "dW_F5, db_F5, delta_F5 = backprop_fully_connected(delta_out, output_weights, fc_input, f5_output)\n",
        "delta_S4 = delta_F5.reshape(s4_output.shape)\n",
        "delta_C3 = backprop_avg_pool(delta_S4, relu3_output.shape)\n",
        "\n",
        "# Debugging Outputs\n",
        "print(\"Shapes check:\")\n",
        "print(\"Conv1 Output:\", conv1_output.shape)\n",
        "print(\"S2 Output:\", s2_output.shape)\n",
        "print(\"Conv3 Output:\", conv3_output.shape)\n",
        "print(\"S4 Output:\", s4_output.shape)\n",
        "print(\"FC Input:\", fc_input.shape)\n",
        "print(\"Output Layer:\", output_layer.shape)\n"
      ]
    },
    {
      "cell_type": "code",
      "execution_count": null,
      "metadata": {
        "id": "XB-IGCgmrj29"
      },
      "outputs": [],
      "source": [
        "import numpy as np\n",
        "from scipy.signal import correlate2d\n",
        "\n",
        "# ========== HELPER FUNCTIONS ========== #\n",
        "def relu(x):\n",
        "    return np.maximum(0, x)\n",
        "\n",
        "def relu_derivative(x):\n",
        "    return (x > 0).astype(float)\n",
        "\n",
        "def max_pool_forward(feature_map, pool_size=2, stride=2):\n",
        "    c, h, w = feature_map.shape\n",
        "    new_h, new_w = h // stride, w // stride\n",
        "    pooled = np.zeros((c, new_h, new_w))\n",
        "\n",
        "    for i in range(new_h):\n",
        "        for j in range(new_w):\n",
        "            pooled[:, i, j] = np.max(feature_map[:, i*stride:i*stride+pool_size, j*stride:j*stride+pool_size], axis=(1, 2))\n",
        "\n",
        "    return pooled\n",
        "\n",
        "def avg_pool_forward(feature_map, pool_size=2, stride=2):\n",
        "    c, h, w = feature_map.shape\n",
        "    new_h, new_w = h // stride, w // stride\n",
        "    pooled = np.zeros((c, new_h, new_w))\n",
        "\n",
        "    for i in range(new_h):\n",
        "        for j in range(new_w):\n",
        "            pooled[:, i, j] = np.mean(feature_map[:, i*stride:i*stride+pool_size, j*stride:j*stride+pool_size], axis=(1, 2))\n",
        "\n",
        "    return pooled\n",
        "\n",
        "def conv2d_forward(input_image, filters):\n",
        "    num_filters, input_channels, filter_size, _ = filters.shape\n",
        "    h, w = input_image.shape[1:]  # Input assumed to be (channels, height, width)\n",
        "    output_size = h - filter_size + 1\n",
        "    conv_output = np.zeros((num_filters, output_size, output_size))\n",
        "\n",
        "    for i in range(num_filters):\n",
        "        for j in range(input_channels):\n",
        "            conv_output[i] += correlate2d(input_image[j], filters[i, j], mode='valid')\n",
        "\n",
        "    return conv_output\n",
        "\n",
        "def fully_connected_forward(flat_input, weights, biases):\n",
        "    return np.dot(weights, flat_input) + biases\n",
        "\n",
        "def softmax(x):\n",
        "    exp_x = np.exp(x - np.max(x))\n",
        "    return exp_x / np.sum(exp_x)\n",
        "\n",
        "# ========== BACKPROPAGATION ========== #\n",
        "def backprop_output_layer(y_true, y_pred, fc_output):\n",
        "    delta_out = y_pred - y_true\n",
        "    dW_out = np.outer(delta_out, fc_output)\n",
        "    db_out = delta_out\n",
        "    return dW_out, db_out, delta_out\n",
        "\n",
        "def backprop_fully_connected(delta_out, W_out, fc_input, fc_z):\n",
        "    relu_derivative_val = relu_derivative(fc_z)\n",
        "    delta_F5 = np.dot(W_out.T, delta_out) * relu_derivative_val\n",
        "    dW_F5 = np.outer(delta_F5, fc_input)\n",
        "    db_F5 = delta_F5\n",
        "    return dW_F5, db_F5, delta_F5\n",
        "\n",
        "def backprop_avg_pool(delta_S4, S4_input_shape):\n",
        "    c, h, w = S4_input_shape\n",
        "    delta_C3 = np.zeros((c, h, w))\n",
        "    for i in range(delta_S4.shape[1]):\n",
        "        for j in range(delta_S4.shape[2]):\n",
        "            delta_C3[:, i*2:i*2+2, j*2:j*2+2] = delta_S4[:, i, j] / 4\n",
        "    return delta_C3\n",
        "\n",
        "# ========== TRAINING LOOP ========== #\n",
        "\n",
        "# Example Setup\n",
        "input_image = np.random.randn(1, 28, 28)  # Synthetic 1-channel 28x28 image\n",
        "filters_C1 = np.random.randn(6, 1, 5, 5)  # 6 filters of size 5x5 for C1\n",
        "filters_C3 = np.random.randn(16, 6, 5, 5)  # 16 filters for C3\n",
        "fc_weights = np.random.randn(10, 256)  # Adjusted weights to match flattened input size\n",
        "fc_biases = np.zeros(10)\n",
        "output_weights = np.random.randn(10, 10)\n",
        "output_biases = np.zeros(10)\n",
        "y_true = np.zeros(10)\n",
        "y_true[np.random.randint(0, 10)] = 1  # One-hot label\n",
        "\n",
        "# Forward Pass\n",
        "conv1_output = conv2d_forward(input_image, filters_C1)\n",
        "relu1_output = relu(conv1_output)\n",
        "s2_output = max_pool_forward(relu1_output)\n",
        "conv3_output = np.array([conv2d_forward(s2_output, filters_C3[:, i]) for i in range(filters_C3.shape[1])])\n",
        "conv3_output = np.sum(conv3_output, axis=0)  # Sum over input channels\n",
        "relu3_output = relu(conv3_output)\n",
        "s4_output = avg_pool_forward(relu3_output)\n",
        "fc_input = s4_output.flatten()\n",
        "f5_output = fully_connected_forward(fc_input, fc_weights, fc_biases)\n",
        "output_layer = softmax(f5_output)\n",
        "\n",
        "# Backpropagation\n",
        "dW_out, db_out, delta_out = backprop_output_layer(y_true, output_layer, f5_output)\n",
        "dW_F5, db_F5, delta_F5 = backprop_fully_connected(delta_out, output_weights, fc_input, f5_output)\n",
        "delta_S4 = delta_F5.reshape(s4_output.shape)\n",
        "delta_C3 = backprop_avg_pool(delta_S4, relu3_output.shape)\n",
        "\n",
        "# Debugging Outputs\n",
        "print(\"Shapes check:\")\n",
        "print(\"Conv1 Output:\", conv1_output.shape)\n",
        "print(\"S2 Output:\", s2_output.shape)\n",
        "print(\"Conv3 Output:\", conv3_output.shape)\n",
        "print(\"S4 Output:\", s4_output.shape)\n",
        "print(\"FC Input:\", fc_input.shape)\n",
        "print(\"Output Layer:\", output_layer.shape)\n"
      ]
    },
    {
      "cell_type": "code",
      "execution_count": null,
      "metadata": {
        "id": "-VUjuyTjuc7b"
      },
      "outputs": [],
      "source": [
        "import numpy as np\n",
        "from scipy.signal import correlate2d\n",
        "\n",
        "# ========== HELPER FUNCTIONS ========== #\n",
        "def relu(x):\n",
        "    return np.maximum(0, x)\n",
        "\n",
        "def relu_derivative(x):\n",
        "    return (x > 0).astype(float)\n",
        "\n",
        "def max_pool_forward(feature_map, pool_size=2, stride=2):\n",
        "    c, h, w = feature_map.shape\n",
        "    new_h, new_w = h // stride, w // stride\n",
        "    pooled = np.zeros((c, new_h, new_w))\n",
        "\n",
        "    for i in range(new_h):\n",
        "        for j in range(new_w):\n",
        "            pooled[:, i, j] = np.max(feature_map[:, i*stride:i*stride+pool_size, j*stride:j*stride+pool_size], axis=(1, 2))\n",
        "\n",
        "    return pooled\n",
        "\n",
        "def avg_pool_forward(feature_map, pool_size=2, stride=2):\n",
        "    c, h, w = feature_map.shape\n",
        "    new_h, new_w = h // stride, w // stride\n",
        "    pooled = np.zeros((c, new_h, new_w))\n",
        "\n",
        "    for i in range(new_h):\n",
        "        for j in range(new_w):\n",
        "            pooled[:, i, j] = np.mean(feature_map[:, i*stride:i*stride+pool_size, j*stride:j*stride+pool_size], axis=(1, 2))\n",
        "\n",
        "    return pooled\n",
        "\n",
        "def conv2d_forward(input_image, filters):\n",
        "    num_filters, input_channels, filter_size, _ = filters.shape\n",
        "    _, h, w = input_image.shape  # Input assumed to be (channels, height, width)\n",
        "    output_size = h - filter_size + 1\n",
        "    conv_output = np.zeros((num_filters, output_size, output_size))\n",
        "\n",
        "    for i in range(num_filters):\n",
        "        for j in range(input_channels):\n",
        "            conv_output[i] += correlate2d(input_image[j], filters[i, j], mode='valid')\n",
        "\n",
        "    return conv_output\n",
        "\n",
        "def fully_connected_forward(flat_input, weights, biases):\n",
        "    return np.dot(weights, flat_input) + biases\n",
        "\n",
        "def softmax(x):\n",
        "    exp_x = np.exp(x - np.max(x))\n",
        "    return exp_x / np.sum(exp_x)\n",
        "\n",
        "# ========== BACKPROPAGATION ========== #\n",
        "def backprop_output_layer(y_true, y_pred, fc_output):\n",
        "    delta_out = y_pred - y_true\n",
        "    dW_out = np.outer(delta_out, fc_output)\n",
        "    db_out = delta_out\n",
        "    return dW_out, db_out, delta_out\n",
        "\n",
        "def backprop_fully_connected(delta_out, W_out, fc_input, fc_z):\n",
        "    relu_derivative_val = relu_derivative(fc_z)\n",
        "    delta_F5 = np.dot(W_out.T, delta_out) * relu_derivative_val\n",
        "    dW_F5 = np.outer(delta_F5, fc_input)\n",
        "    db_F5 = delta_F5\n",
        "    return dW_F5, db_F5, delta_F5\n",
        "\n",
        "def backprop_avg_pool(delta_S4, S4_input_shape):\n",
        "    c, h, w = S4_input_shape\n",
        "    delta_C3 = np.zeros((c, h, w))\n",
        "    for i in range(delta_S4.shape[1]):\n",
        "        for j in range(delta_S4.shape[2]):\n",
        "            delta_C3[:, i*2:i*2+2, j*2:j*2+2] = delta_S4[:, i, j] / 4\n",
        "    return delta_C3\n",
        "\n",
        "# ========== TRAINING LOOP ========== #\n",
        "\n",
        "# Example Setup\n",
        "input_image = np.random.randn(1, 28, 28)  # Synthetic 1-channel 28x28 image\n",
        "filters_C1 = np.random.randn(6, 1, 5, 5)  # 6 filters of size 5x5 for C1\n",
        "filters_C3 = np.random.randn(16, 6, 5, 5)  # 16 filters for C3\n",
        "fc_weights = np.random.randn(10, 256)  # Adjusted weights to match flattened input size\n",
        "fc_biases = np.zeros(10)\n",
        "output_weights = np.random.randn(10, 10)\n",
        "output_biases = np.zeros(10)\n",
        "y_true = np.zeros(10)\n",
        "y_true[np.random.randint(0, 10)] = 1  # One-hot label\n",
        "\n",
        "# Forward Pass\n",
        "conv1_output = conv2d_forward(input_image, filters_C1)\n",
        "relu1_output = relu(conv1_output)\n",
        "s2_output = max_pool_forward(relu1_output)\n",
        "conv3_output = np.array([conv2d_forward(s2_output, filters_C3[i]) for i in range(filters_C3.shape[0])])\n",
        "conv3_output = np.sum(conv3_output, axis=0)  # Sum over input channels\n",
        "relu3_output = relu(conv3_output)\n",
        "s4_output = avg_pool_forward(relu3_output)\n",
        "fc_input = s4_output.flatten()\n",
        "f5_output = fully_connected_forward(fc_input, fc_weights, fc_biases)\n",
        "output_layer = softmax(f5_output)\n",
        "\n",
        "# Backpropagation\n",
        "dW_out, db_out, delta_out = backprop_output_layer(y_true, output_layer, f5_output)\n",
        "dW_F5, db_F5, delta_F5 = backprop_fully_connected(delta_out, output_weights, fc_input, f5_output)\n",
        "delta_S4 = delta_F5.reshape(s4_output.shape)\n",
        "delta_C3 = backprop_avg_pool(delta_S4, relu3_output.shape)\n",
        "\n",
        "# Debugging Outputs\n",
        "print(\"Shapes check:\")\n",
        "print(\"Conv1 Output:\", conv1_output.shape)\n",
        "print(\"S2 Output:\", s2_output.shape)\n",
        "print(\"Conv3 Output:\", conv3_output.shape)\n",
        "print(\"S4 Output:\", s4_output.shape)\n",
        "print(\"FC Input:\", fc_input.shape)\n",
        "print(\"Output Layer:\", output_layer.shape)\n"
      ]
    },
    {
      "cell_type": "code",
      "execution_count": null,
      "metadata": {
        "id": "WJYqmou6vHSy"
      },
      "outputs": [],
      "source": [
        "import numpy as np\n",
        "from scipy.signal import correlate2d\n",
        "\n",
        "# ========== HELPER FUNCTIONS ========== #\n",
        "def relu(x):\n",
        "    return np.maximum(0, x)\n",
        "\n",
        "def relu_derivative(x):\n",
        "    return (x > 0).astype(float)\n",
        "\n",
        "def max_pool_forward(feature_map, pool_size=2, stride=2):\n",
        "    c, h, w = feature_map.shape\n",
        "    new_h, new_w = h // stride, w // stride\n",
        "    pooled = np.zeros((c, new_h, new_w))\n",
        "\n",
        "    for i in range(new_h):\n",
        "        for j in range(new_w):\n",
        "            pooled[:, i, j] = np.max(feature_map[:, i*stride:i*stride+pool_size, j*stride:j*stride+pool_size], axis=(1, 2))\n",
        "\n",
        "    return pooled\n",
        "\n",
        "def avg_pool_forward(feature_map, pool_size=2, stride=2):\n",
        "    c, h, w = feature_map.shape\n",
        "    new_h, new_w = h // stride, w // stride\n",
        "    pooled = np.zeros((c, new_h, new_w))\n",
        "\n",
        "    for i in range(new_h):\n",
        "        for j in range(new_w):\n",
        "            pooled[:, i, j] = np.mean(feature_map[:, i*stride:i*stride+pool_size, j*stride:j*stride+pool_size], axis=(1, 2))\n",
        "\n",
        "    return pooled\n",
        "\n",
        "def conv2d_forward(input_image, filters):\n",
        "    num_filters, input_channels, filter_size, _ = filters.shape\n",
        "    _, h, w = input_image.shape  # Input assumed to be (channels, height, width)\n",
        "    output_size = h - filter_size + 1\n",
        "    conv_output = np.zeros((num_filters, output_size, output_size))\n",
        "\n",
        "    for i in range(num_filters):\n",
        "        for j in range(input_channels):\n",
        "            conv_output[i] += correlate2d(input_image[j], filters[i, j], mode='valid')\n",
        "\n",
        "    return conv_output\n",
        "\n",
        "def fully_connected_forward(flat_input, weights, biases):\n",
        "    return np.dot(weights, flat_input) + biases\n",
        "\n",
        "def softmax(x):\n",
        "    exp_x = np.exp(x - np.max(x))\n",
        "    return exp_x / np.sum(exp_x)\n",
        "\n",
        "# ========== BACKPROPAGATION ========== #\n",
        "def backprop_output_layer(y_true, y_pred, fc_output):\n",
        "    delta_out = y_pred - y_true\n",
        "    dW_out = np.outer(delta_out, fc_output)\n",
        "    db_out = delta_out\n",
        "    return dW_out, db_out, delta_out\n",
        "\n",
        "def backprop_fully_connected(delta_out, W_out, fc_input, fc_z):\n",
        "    relu_derivative_val = relu_derivative(fc_z)\n",
        "    delta_F5 = np.dot(W_out.T, delta_out) * relu_derivative_val\n",
        "    dW_F5 = np.outer(delta_F5, fc_input)\n",
        "    db_F5 = delta_F5\n",
        "    return dW_F5, db_F5, delta_F5\n",
        "\n",
        "def backprop_avg_pool(delta_S4, S4_input_shape):\n",
        "    c, h, w = S4_input_shape\n",
        "    delta_C3 = np.zeros((c, h, w))\n",
        "    for i in range(delta_S4.shape[1]):\n",
        "        for j in range(delta_S4.shape[2]):\n",
        "            delta_C3[:, i*2:i*2+2, j*2:j*2+2] = delta_S4[:, i, j] / 4\n",
        "    return delta_C3\n",
        "\n",
        "# ========== TRAINING LOOP ========== #\n",
        "\n",
        "# Example Setup\n",
        "input_image = np.random.randn(1, 28, 28)  # Synthetic 1-channel 28x28 image\n",
        "filters_C1 = np.random.randn(6, 1, 5, 5)  # 6 filters of size 5x5 for C1\n",
        "filters_C3 = np.random.randn(16, 6, 5, 5)  # 16 filters for C3\n",
        "fc_weights = np.random.randn(10, 256)  # Adjusted weights to match flattened input size\n",
        "fc_biases = np.zeros(10)\n",
        "output_weights = np.random.randn(10, 10)\n",
        "output_biases = np.zeros(10)\n",
        "y_true = np.zeros(10)\n",
        "y_true[np.random.randint(0, 10)] = 1  # One-hot label\n",
        "\n",
        "# Forward Pass\n",
        "conv1_output = conv2d_forward(input_image, filters_C1)\n",
        "relu1_output = relu(conv1_output)\n",
        "s2_output = max_pool_forward(relu1_output)\n",
        "\n",
        "# Fix: Add an extra dimension to filters_C3[i]\n",
        "conv3_output = np.array([conv2d_forward(s2_output, np.expand_dims(filters_C3[i], axis=0)) for i in range(filters_C3.shape[0])])\n",
        "conv3_output = np.sum(conv3_output, axis=0)  # Sum over input channels\n",
        "relu3_output = relu(conv3_output)\n",
        "s4_output = avg_pool_forward(relu3_output)\n",
        "\n",
        "# Ensure fc_input has the correct shape\n",
        "fc_input = s4_output.flatten()\n",
        "\n",
        "# Debugging: Print shapes\n",
        "print(\"Shapes check:\")\n",
        "print(\"Input Image:\", input_image.shape)\n",
        "print(\"Conv1 Output:\", conv1_output.shape)\n",
        "print(\"ReLU1 Output:\", relu1_output.shape)\n",
        "print(\"S2 Output (Max Pool):\", s2_output.shape)\n",
        "print(\"Conv3 Output:\", conv3_output.shape)\n",
        "print(\"ReLU3 Output:\", relu3_output.shape)\n",
        "print(\"S4 Output (Avg Pool):\", s4_output.shape)\n",
        "print(\"Flattened FC Input:\", fc_input.shape)\n",
        "\n",
        "# Adjust fc_weights if necessary\n",
        "if fc_input.shape[0] != fc_weights.shape[1]:\n",
        "    print(f\"Adjusting fc_weights to match fc_input shape: {fc_input.shape}\")\n",
        "    fc_weights = np.random.randn(10, fc_input.shape[0])\n",
        "\n",
        "# Fully Connected Layer\n",
        "f5_output = fully_connected_forward(fc_input, fc_weights, fc_biases)\n",
        "output_layer = softmax(f5_output)\n",
        "\n",
        "# Backpropagation\n",
        "dW_out, db_out, delta_out = backprop_output_layer(y_true, output_layer, f5_output)\n",
        "dW_F5, db_F5, delta_F5 = backprop_fully_connected(delta_out, output_weights, fc_input, f5_output)\n",
        "delta_S4 = delta_F5.reshape(s4_output.shape)\n",
        "delta_C3 = backprop_avg_pool(delta_S4, relu3_output.shape)\n",
        "# Debugging Outputs\n",
        "print(\"Shapes check:\")\n",
        "print(\"Conv1 Output:\", conv1_output.shape)\n",
        "print(\"S2 Output:\", s2_output.shape)\n",
        "print(\"Conv3 Output:\", conv3_output.shape)\n",
        "print(\"S4 Output:\", s4_output.shape)\n",
        "print(\"FC Input:\", fc_input.shape)\n",
        "print(\"Output Layer:\", output_layer.shape)"
      ]
    },
    {
      "cell_type": "code",
      "execution_count": null,
      "metadata": {
        "id": "qtoVZd9QcLU_"
      },
      "outputs": [],
      "source": [
        "a = np.arange(3)\n",
        "a.sum(0)"
      ]
    },
    {
      "cell_type": "markdown",
      "metadata": {
        "id": "va_D13GIY0Sa"
      },
      "source": [
        "➡️"
      ]
    },
    {
      "cell_type": "code",
      "execution_count": null,
      "metadata": {
        "id": "xi2feMDUJ_1R"
      },
      "outputs": [],
      "source": [
        "import numpy as np\n",
        "x = np.random.rand(3,4)\n",
        "w = np.random.rand(5,4)\n",
        "b = np.random.rand(5)\n",
        "z = x @ w.T + b\n",
        "z, z.shape\n"
      ]
    },
    {
      "cell_type": "code",
      "execution_count": null,
      "metadata": {
        "id": "nsXV2HcTLCkp"
      },
      "outputs": [],
      "source": [
        "d = z @ w\n",
        "d, d.shape"
      ]
    },
    {
      "cell_type": "code",
      "execution_count": null,
      "metadata": {
        "id": "m7fXq5Je1D6i"
      },
      "outputs": [],
      "source": [
        "import numpy as np"
      ]
    },
    {
      "cell_type": "code",
      "execution_count": null,
      "metadata": {
        "id": "P8VYYPBm0dNW"
      },
      "outputs": [],
      "source": [
        "def conv1d(x, k, s=1, p=0):\n",
        "    pass"
      ]
    },
    {
      "cell_type": "code",
      "execution_count": null,
      "metadata": {
        "id": "7ASEMshSG8YK"
      },
      "outputs": [],
      "source": [
        "x = np.arange(1, 13).reshape(3, 4)"
      ]
    },
    {
      "cell_type": "code",
      "execution_count": null,
      "metadata": {
        "id": "9WrdJRuXHJSC"
      },
      "outputs": [],
      "source": [
        "print(x)\n",
        "print()\n",
        "print(x[::-1, ::])"
      ]
    },
    {
      "cell_type": "code",
      "execution_count": null,
      "metadata": {
        "id": "6jHUJ-ASHMjh"
      },
      "outputs": [],
      "source": [
        "import numpy as np\n",
        "import scipy.signal\n",
        "\n",
        "def conv2d(X, W, p=(0, 0), s=(1, 1)):\n",
        "     W_rot = np.array(W)[::-1,::-1]\n",
        "     X_orig = np.array(X)\n",
        "     n1 = X_orig.shape[0] + 2*p[0]\n",
        "     n2 = X_orig.shape[1] + 2*p[1]\n",
        "     X_padded = np.zeros(shape=(n1, n2))\n",
        "     X_padded[p[0]:p[0]+X_orig.shape[0],\n",
        "              p[1]:p[1]+X_orig.shape[1]] = X_orig\n",
        "\n",
        "     res = []\n",
        "     for i in range(0, int((X_padded.shape[0] - \\\n",
        "                            W_rot.shape[0])/s[0])+1, s[0]):\n",
        "         res.append([])\n",
        "         for j in range(0, int((X_padded.shape[1] - \\\n",
        "                                W_rot.shape[1])/s[1])+1, s[1]):\n",
        "             X_sub = X_padded[i:i+W_rot.shape[0],\n",
        "                              j:j+W_rot.shape[1]]\n",
        "             res[-1].append(np.sum(X_sub * W_rot))\n",
        "     return(np.array(res))\n"
      ]
    },
    {
      "cell_type": "code",
      "execution_count": null,
      "metadata": {
        "id": "AofYqiTEOGgk"
      },
      "outputs": [],
      "source": [
        "X = [[1.0, 3, 2, 4], [5, 6, 1, 3], [1, 2, 0, 2], [3, 4, 3, 2]]\n",
        "W = [[1.0, 0, 3], [1, 2, 1], [0, 1, 1]]"
      ]
    },
    {
      "cell_type": "code",
      "execution_count": null,
      "metadata": {
        "id": "XcZQvUCXORpD"
      },
      "outputs": [],
      "source": [
        "conv2d(X, W, p=(1, 1), s=(2, 2))"
      ]
    },
    {
      "cell_type": "code",
      "execution_count": null,
      "metadata": {
        "id": "SiPxz3HvSeLU"
      },
      "outputs": [],
      "source": [
        "import numpy as np\n",
        "def conv1d(input, kernel, padding=0, stride=1):\n",
        "    assert padding >= 0, 'padding should be non-negative'\n",
        "    assert stride > 0, 'stride should be positive'\n",
        "    k_len = len(kernel)\n",
        "    assert len(input) >= k_len, 'input size should be >= kernel size'\n",
        "\n",
        "    input_padded = np.pad(input, (padding, padding), 'constant')\n",
        "    k_rotated = kernel[::-1]\n",
        "    output_size = ((len(input_padded) - k_len) // stride) + 1\n",
        "    output = np.zeros(output_size)\n",
        "    for i in range(output_size):\n",
        "        start = i * stride\n",
        "        end = start + k_len\n",
        "        output[i] = np.sum(input_padded[start:end] * k_rotated)\n",
        "    return output\n"
      ]
    },
    {
      "cell_type": "code",
      "execution_count": null,
      "metadata": {
        "id": "A8clGgfXSoWU"
      },
      "outputs": [],
      "source": [
        "input = [1.0, 2, 3]\n",
        "kernel = [3.0, 2, 1]\n",
        "conv1d(input, kernel, padding=2, stride=2)"
      ]
    },
    {
      "cell_type": "code",
      "execution_count": null,
      "metadata": {
        "id": "GTWH6D1iIkK6"
      },
      "outputs": [],
      "source": [
        "import torch\n",
        "import torch.nn as nn"
      ]
    },
    {
      "cell_type": "code",
      "execution_count": null,
      "metadata": {
        "id": "6uPfN0ymIqqE"
      },
      "outputs": [],
      "source": [
        "torch_conv1d = nn.Conv1d(in_channels=1, out_channels=1, kernel_size=3, padding=2, stride=2)"
      ]
    },
    {
      "cell_type": "code",
      "execution_count": null,
      "metadata": {
        "id": "Mmuq-MwmI4HJ"
      },
      "outputs": [],
      "source": [
        "torch_conv1d.weight.data = torch.tensor([[[1.0, 2, 3]]])\n",
        "torch_conv1d.bias.data = torch.tensor([0.0])\n",
        "for p in torch_conv1d.parameters():\n",
        "    p.requires_grad = False\n",
        "    print(p)"
      ]
    },
    {
      "cell_type": "code",
      "execution_count": null,
      "metadata": {
        "id": "MhL6N3x9J3WR"
      },
      "outputs": [],
      "source": [
        "torch_conv1d(torch.tensor([input]))"
      ]
    },
    {
      "cell_type": "code",
      "execution_count": null,
      "metadata": {
        "id": "e_4JC56zKoqa"
      },
      "outputs": [],
      "source": [
        "torch_conv2d = torch.nn.Conv2d(in_channels=1, out_channels=1, kernel_size=3, padding=1, stride=(2,2))"
      ]
    },
    {
      "cell_type": "code",
      "execution_count": null,
      "metadata": {
        "id": "T5yz3YZ0K-0b"
      },
      "outputs": [],
      "source": [
        "torch_conv2d.weight, torch_conv2d"
      ]
    },
    {
      "cell_type": "code",
      "execution_count": null,
      "metadata": {
        "id": "zCWnWiIwOkia"
      },
      "outputs": [],
      "source": [
        "W = np.array([[1.0, 0, 3], [1, 2, 1], [0, 1, 1]])\n",
        "print(W)\n",
        "list_W = (W[::-1,::-1]).tolist()"
      ]
    },
    {
      "cell_type": "code",
      "execution_count": null,
      "metadata": {
        "id": "MEpreqzqLW2C"
      },
      "outputs": [],
      "source": [
        "#W = np.array([[1.0, 0, 3], [1, 2, 1], [0, 1, 1]])\n",
        "#W_rot = W[::-1,::-1]\n",
        "torch_conv2d.weight.data = torch.tensor([[list_W]])\n",
        "torch_conv2d.bias.data = torch.tensor([0.0])\n",
        "for p in torch_conv2d.parameters():\n",
        "    p.requires_grad = False"
      ]
    },
    {
      "cell_type": "code",
      "execution_count": null,
      "metadata": {
        "id": "DgrVoyhRL7EC"
      },
      "outputs": [],
      "source": [
        "torch_conv2d(torch.tensor([X]))"
      ]
    },
    {
      "cell_type": "code",
      "execution_count": null,
      "metadata": {
        "id": "gzJLV6wnSs7T"
      },
      "outputs": [],
      "source": [
        "def conv2d2(input, weights, padding=(0, 0), stride=(1, 1)):\n",
        "    if isinstance(padding, tuple) and all(isinstance(p, tuple) and len(p) == 2 for p in padding):\n",
        "        print(\"Padding is for 2D input: ((top, bottom), (left, right)) format\")\n",
        "\n",
        "    assert padding[0] >= 0 and padding[1] >= 0, 'padding should be non-negative'\n",
        "\n",
        "    assert padding[0] >= 0 and padding[1] >= 0, 'padding should be non-negative'\n",
        "    assert stride[0] > 0 and stride[1] > 0, 'stride should be positive'\n",
        "    input_padded = np.pad(input, ((padding[0], padding[0]), (padding[1], padding[1])), 'constant')\n",
        "     W_rot = np.array(W)[::-1,::-1]\n",
        "     X_orig = np.array(X)\n",
        "     n1 = X_orig.shape[0] + 2*p[0]\n",
        "     n2 = X_orig.shape[1] + 2*p[1]\n",
        "     X_padded = np.zeros(shape=(n1, n2))\n",
        "     X_padded[p[0]:p[0]+X_orig.shape[0],\n",
        "              p[1]:p[1]+X_orig.shape[1]] = X_orig\n",
        "\n",
        "     res = []\n",
        "     for i in range(0, int((X_padded.shape[0] - W_rot.shape[0])/s[0])+1, s[0]):\n",
        "         res.append([])\n",
        "         for j in range(0, int((X_padded.shape[1] - W_rot.shape[1])/s[1])+1, s[1]):\n",
        "             X_sub = X_padded[i:i+W_rot.shape[0],\n",
        "                              j:j+W_rot.shape[1]]\n",
        "             res[-1].append(np.sum(X_sub * W_rot))\n",
        "     return(np.array(res))\n"
      ]
    },
    {
      "cell_type": "code",
      "execution_count": null,
      "metadata": {
        "id": "6hqaqpFxU9hB"
      },
      "outputs": [],
      "source": [
        "np.pad([[1.0,2,3]], (2, 2), 'constant')"
      ]
    },
    {
      "cell_type": "code",
      "execution_count": null,
      "metadata": {
        "id": "drHcyD8HWAoh"
      },
      "outputs": [],
      "source": [
        "p = (2, 1)\n",
        "X_orig = np.array([[1,2,3]])\n",
        "n1 = X_orig.shape[0] + 2*p[0]\n",
        "n2 = X_orig.shape[1] + 2*p[1]\n",
        "X_padded = np.zeros(shape=(n1, n2))\n",
        "X_padded[p[0]:p[0]+X_orig.shape[0], p[1]:p[1]+X_orig.shape[1]] = X_orig\n",
        "X_padded\n"
      ]
    },
    {
      "cell_type": "code",
      "execution_count": null,
      "metadata": {
        "id": "9FcUvWvQYnoy"
      },
      "outputs": [],
      "source": [
        " np.pad([[1.0,2,3]], ((2, 1), (4, 2)), 'constant')\n"
      ]
    },
    {
      "cell_type": "code",
      "execution_count": null,
      "metadata": {
        "id": "YfmvKQCXoKXH"
      },
      "outputs": [],
      "source": [
        "((top, bottom), (left, right)) = ((10, 2), (100, 99))"
      ]
    },
    {
      "cell_type": "code",
      "execution_count": null,
      "metadata": {
        "id": "fs4NPpHeoUDu"
      },
      "outputs": [],
      "source": [
        "(top, bottom), (left, right) = ((10, 2), (100, 99))"
      ]
    },
    {
      "cell_type": "code",
      "execution_count": null,
      "metadata": {
        "id": "1WrNS09Mog5e"
      },
      "outputs": [],
      "source": [
        "right"
      ]
    },
    {
      "cell_type": "code",
      "execution_count": null,
      "metadata": {
        "id": "Q6vanuUqpFX2"
      },
      "outputs": [],
      "source": [
        "x = '100'\n",
        "if isinstance(x, int):\n",
        "    print('yes')"
      ]
    },
    {
      "cell_type": "code",
      "execution_count": null,
      "metadata": {
        "id": "Lmvfr1cU7Lfq"
      },
      "outputs": [],
      "source": [
        "import numpy as np\n",
        "\n",
        "def conv1d_backward(input, kernel, grad_output, stride=1, learning_rate=0.1):\n",
        "    k_len = len(kernel)\n",
        "    input_len = len(input)\n",
        "\n",
        "    # Compute weight gradients (dW)\n",
        "    dW = np.zeros_like(kernel)\n",
        "    print(\"dW looks like:\", dW)\n",
        "\n",
        "    output_size = (input_len - k_len) // stride + 1\n",
        "\n",
        "    for i in range(output_size):\n",
        "        start = i * stride\n",
        "        end = start + k_len\n",
        "        dW += grad_output[i] * input[start:end]  # Accumulate gradient\n",
        "        print(\"i is: \", i)\n",
        "        print(\"grad_output: \", grad_output[i])\n",
        "        print(\"input[start:end]: \", input[start:end])\n",
        "        print(\"dW looks like:\", dW)\n",
        "    # Update weights\n",
        "    kernel -= learning_rate * dW\n",
        "\n",
        "    return kernel\n",
        "\n",
        "# Example\n",
        "input = np.array([1, 2, 3, 4, 5, 6])\n",
        "kernel = np.array([0.5, -0.5, 1.0])  # Initial weights\n",
        "grad_output = np.array([42, 99])  # Gradient from next layer\n",
        "stride = 2\n",
        "learning_rate = 0.1\n",
        "\n",
        "updated_kernel = conv1d_backward(input, kernel, grad_output, stride, learning_rate)\n",
        "print(\"Updated Weights:\", updated_kernel)\n"
      ]
    },
    {
      "cell_type": "markdown",
      "metadata": {
        "id": "-FSBcF65QmXa"
      },
      "source": [
        "**Full Code Implementation (With Padding in Backpropagation)**"
      ]
    },
    {
      "cell_type": "code",
      "execution_count": null,
      "metadata": {
        "id": "G-Yf4oIg_evi"
      },
      "outputs": [],
      "source": [
        "import numpy as np\n",
        "\n",
        "def conv1d_forward(input, kernel, padding=0, stride=1):\n",
        "    \"\"\"Perform 1D convolution with padding.\"\"\"\n",
        "    k_len = len(kernel)\n",
        "    input_padded = np.pad(input, (padding, padding), 'constant')\n",
        "\n",
        "    output_size = (len(input_padded) - k_len) // stride + 1\n",
        "    output = []\n",
        "    for i in range(output_size):\n",
        "        start = i * stride\n",
        "        end = start + k_len\n",
        "        output.append(np.sum(input_padded[start:end] * kernel))\n",
        "\n",
        "    return np.array(output), input_padded\n",
        "\n",
        "def compute_grad_w(input_padded, grad_output, kernel_size, stride):\n",
        "    \"\"\"Compute weight gradients.\"\"\"\n",
        "    grad_w = np.zeros(kernel_size)\n",
        "    output_size = len(grad_output)\n",
        "\n",
        "    for i in range(output_size):\n",
        "        start = i * stride\n",
        "        end = start + kernel_size\n",
        "        grad_w += grad_output[i] * input_padded[start:end]\n",
        "\n",
        "    return grad_w\n",
        "\n",
        "def compute_grad_input(grad_output, kernel, input_size, padding, stride):\n",
        "    \"\"\"Compute input gradients by convolving flipped kernel with grad_output.\"\"\"\n",
        "    kernel_flipped = kernel[::-1]\n",
        "    grad_padded = np.zeros(input_size + 2 * padding)\n",
        "\n",
        "    output_size = len(grad_output)\n",
        "\n",
        "    for i in range(output_size):\n",
        "        start = i * stride\n",
        "        end = start + len(kernel)\n",
        "        grad_padded[start:end] += grad_output[i] * kernel_flipped\n",
        "\n",
        "    grad_input = grad_padded[padding:-padding] if padding > 0 else grad_padded\n",
        "    return grad_input\n",
        "\n",
        "# Example\n",
        "input = np.array([1, 2, 3, 4, 5])\n",
        "kernel = np.array([1, 0, -1])\n",
        "padding = 1\n",
        "stride = 1\n",
        "\n",
        "# Forward pass\n",
        "output, input_padded = conv1d_forward(input, kernel, padding, stride)\n",
        "grad_output = np.array([1, 1, 1, 1, 1])  # Assume loss gradient of all ones\n",
        "\n",
        "# Compute gradients\n",
        "grad_w = compute_grad_w(input_padded, grad_output, len(kernel), stride)\n",
        "grad_input = compute_grad_input(grad_output, kernel, len(input), padding, stride)\n",
        "grad_b = np.sum(grad_output)\n",
        "\n",
        "print(\"Forward Output:\", output)\n",
        "print(\"Gradient w.r.t Kernel:\", grad_w)\n",
        "print(\"Gradient w.r.t Input:\", grad_input)\n",
        "print(\"Gradient w.r.t Bias:\", grad_b)\n"
      ]
    },
    {
      "cell_type": "code",
      "execution_count": null,
      "metadata": {
        "id": "HtKPKI11nstT"
      },
      "outputs": [],
      "source": [
        "-(0.5* np.log2(0.5)+0.5 * np.log2(0.5)), np.log2(0.5)"
      ]
    },
    {
      "cell_type": "code",
      "execution_count": null,
      "metadata": {
        "id": "pHf2m8pWiu5T"
      },
      "outputs": [],
      "source": [
        "import numpy as np\n",
        "input = np.array([1, 2, 3, 4, 5])\n",
        "input[:-1]"
      ]
    },
    {
      "cell_type": "code",
      "execution_count": null,
      "metadata": {
        "id": "YvlAw70GNYmb"
      },
      "outputs": [],
      "source": [
        "import numpy as np\n",
        "a = np.array([[[1,2,3], [4,5,5]], [[1,2,3], [4,5,5]]])\n",
        "a @ a.transpose(0, 2,1)"
      ]
    },
    {
      "cell_type": "code",
      "execution_count": null,
      "metadata": {
        "id": "nYI4uFscSoAE"
      },
      "outputs": [],
      "source": [
        "import torch\n",
        "x = torch.tensor([[[1.0,2,3], [4,5,5]], [[1,2,3], [4,5,5]]])\n",
        "r = torch.bmm(x, x.transpose(1,2))\n",
        "r = torch.softmax(r, dim=2)\n",
        "torch.bmm(r, x)\n"
      ]
    },
    {
      "cell_type": "code",
      "execution_count": null,
      "metadata": {
        "id": "DzVcxQYHULys"
      },
      "outputs": [],
      "source": [
        "np_r = r.numpy()"
      ]
    },
    {
      "cell_type": "code",
      "execution_count": null,
      "metadata": {
        "id": "XxbP8cfdUVft"
      },
      "outputs": [],
      "source": [
        "a.shape, np_r.shape, r.shape"
      ]
    },
    {
      "cell_type": "code",
      "execution_count": null,
      "metadata": {
        "id": "9as4Hf6CWLqk"
      },
      "outputs": [],
      "source": [
        "(a.transpose(0, 2,1) @ np_r).T"
      ]
    },
    {
      "cell_type": "markdown",
      "metadata": {
        "id": "bG5m0MVP6hpK"
      },
      "source": [
        "**Final Rule of Thumb**\n",
        "\n",
        "*  If applying a kernel in convolution (forward pass), rotate it ✅\n",
        "\n",
        "*   If computing weight gradients (dW), rotate it ✅\n",
        "* If spreading gradients back to the input (grad_input), do NOT rotate it ❌\n",
        "\n",
        "\n",
        "\n",
        "\n",
        "\n",
        "\n"
      ]
    },
    {
      "cell_type": "code",
      "execution_count": null,
      "metadata": {
        "id": "4SeqJojC53nC"
      },
      "outputs": [],
      "source": [
        "import numpy as np\n",
        "\n",
        "def conv1d_forward(input, kernel, bias=0, padding=(0, 0), stride=1):\n",
        "    pad_left, pad_right = padding\n",
        "    input_padded = np.pad(input, (pad_left, pad_right), mode='constant')\n",
        "\n",
        "    k_len = len(kernel)\n",
        "    output_size = (len(input_padded) - k_len) // stride + 1\n",
        "    output = np.zeros(output_size)\n",
        "\n",
        "    for i in range(output_size):\n",
        "        start = i * stride\n",
        "        end = start + k_len\n",
        "        output[i] = np.sum(input_padded[start:end] * kernel) + bias\n",
        "\n",
        "    return output, input_padded  # Return padded input for backprop\n",
        "\n",
        "def conv1d_backward(grad_output, input_padded, kernel, padding=(0, 0), stride=1):\n",
        "    pad_left, pad_right = padding\n",
        "    k_len = len(kernel)\n",
        "\n",
        "    # Initialize gradients\n",
        "    grad_input_padded = np.zeros_like(input_padded)  # Gradient for padded input\n",
        "    grad_w = np.zeros_like(kernel)  # Gradient for weights\n",
        "    grad_b = np.sum(grad_output)  # Bias gradient is sum of all grad_outputs\n",
        "\n",
        "    # Compute gradients w.r.t. input and weights\n",
        "    for i in range(len(grad_output)):\n",
        "        start = i * stride\n",
        "        end = start + k_len\n",
        "\n",
        "        grad_input_padded[start:end] += grad_output[i] * kernel  # Backprop to input\n",
        "        grad_w += grad_output[i] * input_padded[start:end]  # Backprop to weights\n",
        "\n",
        "    # Remove padding from grad_input\n",
        "    grad_input = grad_input_padded[pad_left: -pad_right if pad_right > 0 else None]\n",
        "\n",
        "    return grad_input, grad_w, grad_b\n",
        "\n",
        "# Example Usage\n",
        "input = np.array([1, 2, 3, 4, 5])\n",
        "kernel = np.array([1, 0, -1])\n",
        "bias = 1\n",
        "padding = (2, 1)  # Non-uniform padding (left=2, right=1)\n",
        "stride = 1\n",
        "\n",
        "# Forward Pass\n",
        "output, input_padded = conv1d_forward(input, kernel, bias, padding, stride)\n",
        "\n",
        "# Assume some arbitrary gradient from next layer\n",
        "grad_output = np.array([1, -1, 2])\n",
        "\n",
        "# Backward Pass\n",
        "grad_input, grad_w, grad_b = conv1d_backward(grad_output, input_padded, kernel, padding, stride)\n",
        "\n",
        "# Results\n",
        "print(\"Forward Output:\", output)\n",
        "print(\"Gradient w.r.t. Input:\", grad_input)\n",
        "print(\"Gradient w.r.t. Weights:\", grad_w)\n",
        "print(\"Gradient w.r.t. Bias:\", grad_b)\n"
      ]
    },
    {
      "cell_type": "code",
      "execution_count": null,
      "metadata": {
        "id": "u2ZWyGo38Glx"
      },
      "outputs": [],
      "source": [
        "xx = np.array([1, 2, 3, 4, 5])\n",
        "xx[None: None]"
      ]
    },
    {
      "cell_type": "markdown",
      "metadata": {
        "id": "51IF3BV2CWWJ"
      },
      "source": [
        "# 🔄 When to Use Kernel Flipping?\n",
        "## 🔹 If We Use K (Unflipped) in the Forward Pass\n",
        "\n",
        "### Most deep learning frameworks (like PyTorch and TensorFlow) use cross-correlation instead of convolution. That means:\n",
        "\n",
        "*   **The kernel is not flipped in the forward pass.**\n",
        "*  **The kernel must be flipped when computing grad_input in backpropagation.**\n",
        "\n",
        "✅ Forward Pass: Use K (Unflipped).\n",
        "\n",
        "✅ Backward Pass (Computing grad_input): Use K-flipped.\n",
        "\n",
        "✅ Backward Pass (Computing dW): Use K (Unflipped).\n",
        "\n",
        "\n",
        "🔹 **If We Use K-flipped in the Forward Pass**\n",
        "\n",
        "### If we strictly follow the mathematical definition of convolution, we flip the kernel in the forward pass. That means:\n",
        "\n",
        "\n",
        "\n",
        "*   ### The kernel is already flipped during the forward pass.\n",
        "*   ### The kernel should not be flipped again when computing grad_input in backpropagation.\n",
        "\n",
        "✅ Forward Pass: Use K-flipped.\n",
        "\n",
        "✅ Backward Pass (Computing grad_input): Use K (Unflipped).\n",
        "\n",
        "✅ Backward Pass (Computing dW): Use K-flipped.\n",
        "\n",
        "\n",
        "🚀 **Step-by-Step Summary**\n",
        "\n",
        "Now, let’s break this into clear steps:\n",
        "\n",
        "🔹 **Case 1: Using Unflipped Kernel (K) in Forward Pass (Deep Learning Style)**\n",
        "\n",
        "\n",
        "\n",
        "1.   Forward Pass\n",
        "\n",
        "    *   Apply K directly to the input to compute the output.\n",
        "\n",
        "\n",
        "2.   Backward Pass\n",
        "\n",
        "    *  Computing grad_input (spreading gradients back to the input) → Use K-flipped.\n",
        "    *   Computing dW (computing weight gradients)\n",
        "→ Use K (Unflipped).\n",
        "\n",
        "🔹 **Case 2: Using Flipped Kernel (K-flipped) in\n",
        "Forward Pass (Mathematical Convolution)**\n",
        "1.   Forward Pass\n",
        "\n",
        "    *   Apply K-flipped to the input.\n",
        "\n",
        "2.   Backward Pass\n",
        "\n",
        "    *   Computing grad_input (spreading gradients back to the input) → Use K (Unflipped).\n",
        "    \n",
        "    *   Computing dW (computing weight gradients)\n",
        "→ Use K-flipped.\n",
        "\n",
        "\n",
        "\n",
        "\n",
        "\n",
        "\n",
        "\n",
        "\n",
        "\n",
        "| Forward Pass Kernel | grad_input Uses |dW Uses |\n",
        "|----------|----------|----------|\n",
        "| K (Unflipped)   | K-flipped   | K (Unflipped)   |\n",
        "| K-flipped   | K (Unflipped)   | K-flipped   |\n",
        "\n",
        "🔹 **Bias Gradient Calculation (db) in Backpropagation**\n",
        "\n",
        "✅ General Rule:\n",
        "\n",
        "The bias gradient db is simply the sum of the error terms (grad_output) across all positions where the bias is applied.\n",
        "\n",
        "🔹 Mathematically:\n",
        "\n",
        "$$\n",
        "\\frac{\\partial L}{\\partial b} = \\sum_{\\text{all positions}} \\text{grad_output}\n",
        "$$\n",
        "\n",
        "🔹 Why?\n",
        "\n",
        "\n",
        "\n",
        "*   Each bias term in the convolution operation affects every output element.\n",
        "*   Since the bias is added element-wise (broadcasted across the output feature map), its gradient is the sum of all corresponding error terms.\n",
        "\n",
        "📌 **Bias Gradient (db) in Different Cases**\n",
        "\n",
        "1️⃣ Cross-Correlation (No Kernel Flipping)\n",
        "\n",
        "$$\n",
        "\\frac{\\partial L}{\\partial b} = \\sum_{\\text{all positions}} \\text{grad_output}\n",
        "$$\n",
        "\n",
        "\n",
        "2️⃣ Convolution (With Kernel Flipping)\n",
        "\n",
        "$$\n",
        "\\frac{\\partial L}{\\partial b} = \\sum_{\\text{all positions}} \\text{grad_output}\n",
        "$$\n",
        "\n"
      ]
    },
    {
      "cell_type": "markdown",
      "metadata": {
        "id": "4YRPIux4UKeL"
      },
      "source": [
        "## 1) Backpropagation of the Input Gradient (grad_input)\n",
        "\n",
        "\n",
        "*   We need to spread the gradients from the output back to the input.\n",
        "*   Key question: Should we rotate the kernel when computing grad_input?\n",
        "*   Yes! We use the flipped kernel (K-flipped) during backpropagation for grad_input.\n",
        "\n",
        "## Mathematical formulation\n",
        "\n",
        " ## $$\n",
        "\\frac{\\partial L}{\\partial f} = g_{\\text{flipped}} \\star \\text{grad_output}\n",
        "$$\n",
        "\n",
        "*  Here, grad_output (gradient from the next layer) is convolved with the flipped kernel.\n",
        "*  This spreads the error back to the input.\n",
        "\n",
        "## 2) Backpropagation of the Kernel Gradient (grad_weights)\n",
        "\n",
        "*  We compute how much each weight (kernel value) contributed to the final loss.\n",
        "*  Key question: Should we rotate the kernel when computing grad_weights?\n",
        "    * No! We do not rotate the kernel.\n",
        "    * Instead, we perform cross-correlation between the input and grad_output.\n",
        "\n",
        "## Mathematical Formulation\n",
        "##$$\n",
        "\\frac{\\partial L}{\\partial g} = f * \\text{grad_output}\n",
        "$$\n",
        "* The input f is cross-correlated with grad_output.\n",
        "\n",
        "* This tells us how to adjust each weight in the kernel.\n",
        "## Summary of Rotations\n",
        "<table>\n",
        "  <tr>\n",
        "    <th>Gradient Type</th>\n",
        "    <th>Formula</th>\n",
        "    <th>Use Flipped Kernel?</th>\n",
        "  </tr>\n",
        "  <tr>\n",
        "    <td>Input Gradient (grad_input)</td>\n",
        "    <td>$$g_{\\text{flipped}} \\star \\text{grad_output}$$\t</td>\n",
        "    <td>✅ Yes</td>\n",
        "  </tr>\n",
        "  <tr>\n",
        "    <td>Kernel Gradient (grad_weights)</td>\n",
        "    <td>$$ f * \\text{grad_output}\t$$</td>\n",
        "    <td>❌ No</td>\n",
        "  </tr>\n",
        "</table>\n"
      ]
    },
    {
      "cell_type": "markdown",
      "metadata": {
        "id": "RkmIoVTQmrYP"
      },
      "source": [
        "$$\n",
        "\\text{grad_input} = \\text{grad_output} \\star \\text{kernel}_{\\text{flipped}}\n",
        "$$\n",
        "\n",
        "$$\n",
        "\\text{grad_input} = \\text{grad_output} \\star \\text{kernel}_{\\text{flipped}}\n",
        "$$"
      ]
    },
    {
      "cell_type": "code",
      "execution_count": null,
      "metadata": {
        "id": "gMpskpoopafh"
      },
      "outputs": [],
      "source": [
        "import numpy as np\n",
        "from scipy.signal import correlate2d\n",
        "\n",
        "# ========== HELPER FUNCTIONS ========== #\n",
        "def relu(x):\n",
        "    return np.maximum(0, x)\n",
        "\n",
        "def relu_derivative(x):\n",
        "    return (x > 0).astype(float)\n",
        "\n",
        "def max_pool_forward(feature_map, pool_size=2, stride=2):\n",
        "    c, h, w = feature_map.shape\n",
        "    new_h, new_w = h // stride, w // stride\n",
        "    pooled = np.zeros((c, new_h, new_w))\n",
        "\n",
        "    for i in range(new_h):\n",
        "        for j in range(new_w):\n",
        "            pooled[:, i, j] = np.max(feature_map[:, i*stride:i*stride+pool_size, j*stride:j*stride+pool_size], axis=(1, 2))\n",
        "\n",
        "    return pooled\n",
        "\n",
        "def avg_pool_forward(feature_map, pool_size=2, stride=2):\n",
        "    c, h, w = feature_map.shape\n",
        "    new_h, new_w = h // stride, w // stride\n",
        "    pooled = np.zeros((c, new_h, new_w))\n",
        "\n",
        "    for i in range(new_h):\n",
        "        for j in range(new_w):\n",
        "            pooled[:, i, j] = np.mean(feature_map[:, i*stride:i*stride+pool_size, j*stride:j*stride+pool_size], axis=(1, 2))\n",
        "\n",
        "    return pooled\n",
        "\n",
        "def conv2d_forward(input_image, filters):\n",
        "    num_filters, input_channels, filter_size, _ = filters.shape\n",
        "    _, h, w = input_image.shape  # Input assumed to be (channels, height, width)\n",
        "    output_size = h - filter_size + 1\n",
        "    conv_output = np.zeros((num_filters, output_size, output_size))\n",
        "\n",
        "    for i in range(num_filters):\n",
        "        for j in range(input_channels):\n",
        "            conv_output[i] += correlate2d(input_image[j], filters[i, j], mode='valid')\n",
        "\n",
        "    return conv_output\n",
        "\n",
        "def fully_connected_forward(flat_input, weights, biases):\n",
        "    return np.dot(weights, flat_input) + biases\n",
        "\n",
        "def softmax(x):\n",
        "    exp_x = np.exp(x - np.max(x))\n",
        "    return exp_x / np.sum(exp_x)\n",
        "\n",
        "# ========== BACKPROPAGATION ========== #\n",
        "def backprop_output_layer(y_true, y_pred, fc_output):\n",
        "    delta_out = y_pred - y_true\n",
        "    dW_out = np.outer(delta_out, fc_output)\n",
        "    db_out = delta_out\n",
        "    return dW_out, db_out, delta_out\n",
        "\n",
        "def backprop_fully_connected(delta_out, W_out, fc_input, fc_z):\n",
        "    relu_derivative_val = relu_derivative(fc_z)\n",
        "    delta_F5 = np.dot(W_out.T, delta_out) * relu_derivative_val\n",
        "    dW_F5 = np.outer(delta_F5, fc_input)\n",
        "    db_F5 = delta_F5\n",
        "    return dW_F5, db_F5, delta_F5\n",
        "\n",
        "def backprop_avg_pool(delta_S4, S4_input_shape):\n",
        "    c, h, w = S4_input_shape\n",
        "    delta_C3 = np.zeros((c, h, w))\n",
        "    for i in range(delta_S4.shape[1]):\n",
        "        for j in range(delta_S4.shape[2]):\n",
        "            delta_C3[:, i*2:i*2+2, j*2:j*2+2] = delta_S4[:, i, j] / 4\n",
        "    return delta_C3\n",
        "\n",
        "# ========== TRAINING LOOP ========== #\n",
        "\n",
        "# Example Setup\n",
        "input_image = np.random.randn(1, 28, 28)  # Synthetic 1-channel 28x28 image\n",
        "filters_C1 = np.random.randn(6, 1, 5, 5)  # 6 filters of size 5x5 for C1\n",
        "filters_C3 = np.random.randn(16, 6, 5, 5)  # 16 filters for C3\n",
        "fc_weights = np.random.randn(10, 256)  # Adjusted weights to match flattened input size\n",
        "fc_biases = np.zeros(10)\n",
        "output_weights = np.random.randn(10, 10)\n",
        "output_biases = np.zeros(10)\n",
        "y_true = np.zeros(10)\n",
        "y_true[np.random.randint(0, 10)] = 1  # One-hot label\n",
        "\n",
        "\n",
        "\n",
        "# Forward Pass\n",
        "conv1_output = conv2d_forward(input_image, filters_C1)\n",
        "relu1_output = relu(conv1_output)\n",
        "s2_output = max_pool_forward(relu1_output)\n",
        "print(filters_C1.shape, s2_output.shape)\n",
        "conv3_output = np.array([conv2d_forward(s2_output, filters_C3[i]) for i in range(filters_C3.shape[0])])\n",
        "conv3_output = np.sum(conv3_output, axis=0)  # Sum over input channels\n",
        "relu3_output = relu(conv3_output)\n",
        "s4_output = avg_pool_forward(relu3_output)\n",
        "fc_input = s4_output.flatten()\n",
        "f5_output = fully_connected_forward(fc_input, fc_weights, fc_biases)\n",
        "output_layer = softmax(f5_output)\n",
        "\n",
        "# Backpropagation\n",
        "dW_out, db_out, delta_out = backprop_output_layer(y_true, output_layer, f5_output)\n",
        "dW_F5, db_F5, delta_F5 = backprop_fully_connected(delta_out, output_weights, fc_input, f5_output)\n",
        "delta_S4 = delta_F5.reshape(s4_output.shape)\n",
        "delta_C3 = backprop_avg_pool(delta_S4, relu3_output.shape)\n",
        "\n",
        "# Debugging Outputs\n",
        "print(\"Shapes check:\")\n",
        "print(\"Conv1 Output:\", conv1_output.shape)\n",
        "print(\"S2 Output:\", s2_output.shape)\n",
        "print(\"Conv3 Output:\", conv3_output.shape)\n",
        "print(\"S4 Output:\", s4_output.shape)\n",
        "print(\"FC Input:\", fc_input.shape)\n",
        "print(\"Output Layer:\", output_layer.shape)\n"
      ]
    },
    {
      "cell_type": "code",
      "execution_count": null,
      "metadata": {
        "id": "Jp4LEzhbsqa1"
      },
      "outputs": [],
      "source": [
        "print(filters_C1.shape, s2_output.shape)"
      ]
    },
    {
      "cell_type": "code",
      "execution_count": null,
      "metadata": {
        "id": "EFk4cLmntsXH"
      },
      "outputs": [],
      "source": [
        "for i in range(filters_C3.shape[0]):\n",
        "    print(filters_C3[i].shape)"
      ]
    },
    {
      "cell_type": "code",
      "execution_count": null,
      "metadata": {
        "id": "lPIg9aG_vlLY"
      },
      "outputs": [],
      "source": [
        "import numpy as np\n",
        "from scipy.signal import correlate2d\n",
        "\n",
        "# ========== HELPER FUNCTIONS ========== #\n",
        "def relu(x):\n",
        "    return np.maximum(0, x)\n",
        "\n",
        "def relu_derivative(x):\n",
        "    return (x > 0).astype(float)\n",
        "\n",
        "def max_pool_forward(feature_map, pool_size=2, stride=2):\n",
        "    c, h, w = feature_map.shape\n",
        "    new_h, new_w = h // stride, w // stride\n",
        "    pooled = np.zeros((c, new_h, new_w))\n",
        "\n",
        "    for i in range(new_h):\n",
        "        for j in range(new_w):\n",
        "            pooled[:, i, j] = np.max(feature_map[:, i*stride:i*stride+pool_size, j*stride:j*stride+pool_size], axis=(1, 2))\n",
        "\n",
        "    return pooled\n",
        "\n",
        "def avg_pool_forward(feature_map, pool_size=2, stride=2):\n",
        "    c, h, w = feature_map.shape\n",
        "    new_h, new_w = h // stride, w // stride\n",
        "    pooled = np.zeros((c, new_h, new_w))\n",
        "\n",
        "    for i in range(new_h):\n",
        "        for j in range(new_w):\n",
        "            pooled[:, i, j] = np.mean(feature_map[:, i*stride:i*stride+pool_size, j*stride:j*stride+pool_size], axis=(1, 2))\n",
        "\n",
        "    return pooled\n",
        "\n",
        "def conv2d_forward(input_image, filters):\n",
        "    num_filters, input_channels, filter_size, _ = filters.shape\n",
        "    _, h, w = input_image.shape  # Input assumed to be (channels, height, width)\n",
        "    output_size = h - filter_size + 1\n",
        "    conv_output = np.zeros((num_filters, output_size, output_size))\n",
        "\n",
        "    for i in range(num_filters):\n",
        "        for j in range(input_channels):\n",
        "            conv_output[i] += correlate2d(input_image[j], filters[i, j], mode='valid')\n",
        "\n",
        "    return conv_output\n",
        "\n",
        "def fully_connected_forward(flat_input, weights, biases):\n",
        "    return np.dot(weights, flat_input) + biases\n",
        "\n",
        "def softmax(x):\n",
        "    exp_x = np.exp(x - np.max(x))\n",
        "    return exp_x / np.sum(exp_x)\n",
        "\n",
        "# ========== BACKPROPAGATION ========== #\n",
        "def backprop_output_layer(y_true, y_pred, fc_output):\n",
        "    delta_out = y_pred - y_true\n",
        "    dW_out = np.outer(delta_out, fc_output)\n",
        "    db_out = delta_out\n",
        "    return dW_out, db_out, delta_out\n",
        "\n",
        "def backprop_fully_connected(delta_out, W_out, fc_input, fc_z):\n",
        "    relu_derivative_val = relu_derivative(fc_z)\n",
        "    delta_F5 = np.dot(W_out.T, delta_out) * relu_derivative_val\n",
        "    dW_F5 = np.outer(delta_F5, fc_input)\n",
        "    db_F5 = delta_F5\n",
        "    return dW_F5, db_F5, delta_F5\n",
        "\n",
        "def backprop_avg_pool(delta_S4, S4_input_shape):\n",
        "    c, h, w = S4_input_shape\n",
        "    delta_C3 = np.zeros((c, h, w))\n",
        "    for i in range(delta_S4.shape[1]):\n",
        "        for j in range(delta_S4.shape[2]):\n",
        "            delta_C3[:, i*2:i*2+2, j*2:j*2+2] = delta_S4[:, i, j] / 4\n",
        "    return delta_C3\n",
        "\n",
        "# ========== TRAINING LOOP ========== #\n",
        "\n",
        "# Example Setup\n",
        "input_image = np.random.randn(1, 28, 28)  # Synthetic 1-channel 28x28 image\n",
        "filters_C1 = np.random.randn(6, 1, 5, 5)  # 6 filters of size 5x5 for C1\n",
        "filters_C3 = np.random.randn(16, 6, 5, 5)  # 16 filters for C3\n",
        "fc_weights = np.random.randn(10, 256)  # Adjusted weights to match flattened input size\n",
        "fc_biases = np.zeros(10)\n",
        "output_weights = np.random.randn(10, 10)\n",
        "output_biases = np.zeros(10)\n",
        "y_true = np.zeros(10)\n",
        "y_true[np.random.randint(0, 10)] = 1  # One-hot label\n",
        "\n",
        "# Forward Pass\n",
        "conv1_output = conv2d_forward(input_image, filters_C1)\n",
        "relu1_output = relu(conv1_output)\n",
        "s2_output = max_pool_forward(relu1_output)\n",
        "conv3_output = conv2d_forward(s2_output, filters_C3)\n",
        "relu3_output = relu(conv3_output)\n",
        "s4_output = avg_pool_forward(relu3_output)\n",
        "fc_input = s4_output.flatten()\n",
        "f5_output = fully_connected_forward(fc_input, fc_weights, fc_biases)\n",
        "output_layer = softmax(f5_output)\n",
        "\n",
        "# Backpropagation\n",
        "dW_out, db_out, delta_out = backprop_output_layer(y_true, output_layer, f5_output)\n",
        "dW_F5, db_F5, delta_F5 = backprop_fully_connected(delta_out, output_weights, fc_input, f5_output)\n",
        "print(f'delta_F5.shape: {delta_F5.shape}')\n",
        "print(f's4_output.shape: {s4_output.shape}')\n",
        "\n",
        "delta_S4 = delta_F5.reshape(s4_output.shape)\n",
        "delta_C3 = backprop_avg_pool(delta_S4, relu3_output.shape)\n",
        "\n",
        "# Debugging Outputs\n",
        "print(\"Shapes check:\")\n",
        "print(\"Conv1 Output:\", conv1_output.shape)\n",
        "print(\"S2 Output:\", s2_output.shape)\n",
        "print(\"Conv3 Output:\", conv3_output.shape)\n",
        "print(\"S4 Output:\", s4_output.shape)\n",
        "print(\"FC Input:\", fc_input.shape)\n",
        "print(\"Output Layer:\", output_layer.shape)\n"
      ]
    },
    {
      "cell_type": "code",
      "execution_count": null,
      "metadata": {
        "id": "hxUOBd5p_Ing"
      },
      "outputs": [],
      "source": [
        "image = np.random.rand(5, 5)\n",
        "filter = np.random.rand(3, 3)\n",
        "correlate2d(image, filter,mode='same').shape\n"
      ]
    },
    {
      "cell_type": "code",
      "execution_count": null,
      "metadata": {
        "id": "s9MP17FKRKW4"
      },
      "outputs": [],
      "source": [
        "import numpy as np\n",
        "def correlate(input, kernel, pad_top: int=0, pad_bottom: int=0, pad_left: int=0, pad_right: int=0, stride: int=1, dilation=1):\n",
        "    class InvalidDimension(Exception):\n",
        "        pass\n",
        "\n",
        "    # image_height, image_width = image.shape\n",
        "    # kernel_height, kernel_width = kernel.shape\n",
        "    def correlate1d():\n",
        "        assert kernel.ndim == 1, 'Kernel dimension should be 1 for 1D correlation'\n",
        "        kernel_len = len(kernel)\n",
        "        assert len(input) >= len(kernel), 'Input size should be >= kernel size'\n",
        "        padding = (pad_left, pad_right)\n",
        "        input_padded = np.pad(input, padding, 'constant', constant_values=0)\n",
        "        dilated_kernel_size = (kernel_len -1) * dilation + 1\n",
        "        output_size = ((len(input_padded) - dilated_kernel_size) // stride) + 1\n",
        "        output = np.zeros(output_size)\n",
        "        for i in range(output_size):\n",
        "            start = i * stride\n",
        "            end = start + dilated_kernel_size\n",
        "            #output[i] = np.sum(input_padded[start:end] * kernel)\n",
        "            output[i] = np.dot(input_padded[start:end], kernel)\n",
        "        return output\n",
        "\n",
        "    def correlate2d():\n",
        "        assert kernel.ndim == 2, 'Kernel dimension should 2 for 2D correlation'\n",
        "\n",
        "        kernel_len = len(kernel)\n",
        "        rows_kernel, cols_kernel = kernel.shape\n",
        "        rows_input, cols_input = input.shape\n",
        "        assert rows_input >= rows_kernel, 'Input rows should be >= kernel rows'\n",
        "        assert cols_input >= cols_kernel, 'Input cols should be >= kernel cols'\n",
        "\n",
        "        padding = ((pad_top, pad_bottom), (pad_left, pad_right))\n",
        "        input_padded = np.pad(input, padding, 'constant')\n",
        "        rows, cols = input_padded.shape\n",
        "        output_rows = ((rows - rows_kernel) // stride) + 1\n",
        "        output_cols = ((cols - cols_kernel) // stride) + 1\n",
        "        output = np.zeros((output_rows, output_cols))\n",
        "        for i in range(output_rows):\n",
        "            start_row = i * stride\n",
        "            end_row = start_row + rows_kernel\n",
        "            for j in range(output_cols):\n",
        "                start_col = j * stride\n",
        "                end_col = start_col + cols_kernel\n",
        "                input_patch = input_padded[start_row:end_row, start_col:end_col]\n",
        "                #output[i, j] = np.sum(input_patch * kernel)\n",
        "                #output[i, j] = np.tensordot(input_patch, kernel)\n",
        "                output[i, j] = np.dot(input_patch.flatten(), kernel.flatten())\n",
        "\n",
        "\n",
        "        return output\n",
        "\n",
        "    assert stride > 0, 'Stride should be positive'\n",
        "    assert all(p >= 0 for p in (pad_top, pad_right, pad_bottom, pad_left)), \"Padding must be >= 0\"\n",
        "    assert dilation >= 1, 'Dilation should be >= 1'\n",
        "    if not isinstance(input, np.ndarray):\n",
        "        input = np.array(input)\n",
        "    if not isinstance(kernel, np.ndarray):\n",
        "        kernel = np.array(kernel)\n",
        "    ndim = input.ndim\n",
        "    match ndim:\n",
        "        case 1:\n",
        "            return correlate1d()\n",
        "        case 2:\n",
        "            return correlate2d()\n",
        "        case _:\n",
        "            raise InvalidDimension(\"Invalid input dimension - supports only 1D and 2D\")\n",
        "\n",
        "\n",
        "\n"
      ]
    },
    {
      "cell_type": "code",
      "execution_count": null,
      "metadata": {
        "id": "0dlRQgEXYibB"
      },
      "outputs": [],
      "source": [
        "np.random.seed(42)\n",
        "X = np.array([5,4,3,2,1])\n",
        "K =  np.array([1,1,1])\n",
        "correlate(X, K, padding_left=0, padding_right=0, stride=1).sum()"
      ]
    },
    {
      "cell_type": "code",
      "execution_count": null,
      "metadata": {
        "id": "cxgUzWkq1_cZ"
      },
      "outputs": [],
      "source": [
        "np.random.seed(42)\n",
        "X = np.random.rand(5, 5)\n",
        "K =  np.random.rand(3, 3)\n",
        "correlate(X, K, padding_bottom=3, padding_left=2, padding_right=0, padding_top=1, stride=3).sum()"
      ]
    },
    {
      "cell_type": "code",
      "execution_count": null,
      "metadata": {
        "id": "vNlXELqYHS4y"
      },
      "outputs": [],
      "source": [
        "import numpy as np\n",
        "dz = np.random.rand(3,2)\n",
        "dx = np.random.rand(10,)\n",
        "np.outer(dz, dx).shape\n"
      ]
    },
    {
      "cell_type": "code",
      "execution_count": null,
      "metadata": {
        "id": "K8rDK6HIiQzm"
      },
      "outputs": [],
      "source": [
        "o = np.zeros(2)\n",
        "x = np.random.rand(4)\n",
        "k = np.random.rand(4)\n",
        "o[0] = np.sum(x * k)\n",
        "o[1] = np.dot(x,k)\n",
        "o"
      ]
    },
    {
      "cell_type": "code",
      "execution_count": null,
      "metadata": {
        "id": "zffE0J5fnU_e"
      },
      "outputs": [],
      "source": [
        "import numpy as np\n",
        "import timeit\n",
        "\n",
        "input_patch = np.random.randn(5, 5)\n",
        "kernel = np.random.randn(5, 5)\n",
        "\n",
        "# Measure execution time\n",
        "sum_time = timeit.timeit(lambda: np.sum(input_patch * kernel), number=100000)\n",
        "tensordot_time = timeit.timeit(lambda: np.tensordot(input_patch, kernel), number=100000)\n",
        "\n",
        "flatten_time = timeit.timeit(lambda: np.dot(input_patch.flatten(), kernel.flatten()), number=100000)\n",
        "\n",
        "\n",
        "print(f\"np.sum(input_patch * kernel): {sum_time:.6f} sec\")\n",
        "print(f\"np.tensordot(input_patch, kernel): {tensordot_time:.6f} sec\")\n",
        "print(f\"flatten_time: {flatten_time:.6f} sec\")\n"
      ]
    },
    {
      "cell_type": "markdown",
      "metadata": {
        "id": "l15Y1hne0UIi"
      },
      "source": [
        "$$\n",
        "\\text{output}[i] = \\sum (\\text{input_patch} \\times \\text{kernel})\n",
        "$$\n",
        "\n",
        "$$\n",
        "\\text{input_grad} = \\text{grad_output} * \\text{flipped kernel}\n",
        "$$"
      ]
    },
    {
      "cell_type": "code",
      "execution_count": null,
      "metadata": {
        "id": "IeDMe0I66GHE"
      },
      "outputs": [],
      "source": [
        "param = np.array(['w1', 'w2', 'w3'])\n",
        "param_len = len(param)\n",
        "output_pad = np.array(['o1', 'o2', 'o3','o4', 'o5', 'o6', 'o7'])\n",
        "inp = np.array(['i1', 'i2', 'i3', 'i4', 'i5'])\n",
        "input_grad = [[], [], [], [], []]\n",
        "for o in range(inp.shape[0]):\n",
        "    for p in range(param.shape[0]):\n",
        "        first = output_pad[o+param_len-p-1]\n",
        "        sec = param[p]\n",
        "        combined = f'{first} * {sec}'\n",
        "        input_grad[o].append(combined)\n",
        "result = [' + '.join(each) for each in input_grad]\n",
        "result"
      ]
    },
    {
      "cell_type": "markdown",
      "metadata": {
        "id": "P7AEW1h-M0ee"
      },
      "source": [
        "$$\n",
        "\\frac{\\partial L}{\\partial w_j} = \\sum_i \\text{grad_output}[i] \\cdot \\text{input}[i + j] \\begin{aligned} \\text{grad_w}[0] &= (g_0 \\times 1) + (g_1 \\times 2) + (g_2 \\times 3) = g_0 + 2g_1 + 3g_2 \\\\ \\text{grad_w}[1] &= (g_0 \\times 2) + (g_1 \\times 3) + (g_2 \\times 4) = 2g_0 + 3g_1 + 4g_2 \\end{aligned}\n",
        "$$"
      ]
    },
    {
      "cell_type": "code",
      "execution_count": null,
      "metadata": {
        "id": "6y1f_Njwa6H_"
      },
      "outputs": [],
      "source": [
        "import numpy as np\n",
        "X = np.arange(1,31).reshape(5,6)\n",
        "K = np.arange(1,17).reshape(4,4)\n",
        "convolve2d(X, K, mode='valid')"
      ]
    },
    {
      "cell_type": "code",
      "execution_count": null,
      "metadata": {
        "id": "zvO3Wc_nRb09"
      },
      "outputs": [],
      "source": [
        "import numpy as np\n",
        "\n",
        "def conv1d_forward(input, kernel, pad_left=0, pad_right=0, stride=1):\n",
        "    \"\"\"Computes the 1D convolution forward pass with asymmetric padding.\"\"\"\n",
        "    input_padded = np.pad(input, (pad_left, pad_right), mode='constant', constant_values=0)\n",
        "    in_size = len(input_padded)\n",
        "    k_size = len(kernel)\n",
        "\n",
        "    # Compute output size\n",
        "    out_size = (in_size - k_size) // stride + 1\n",
        "    output = np.zeros(out_size)\n",
        "\n",
        "    # Perform cross-correlation (forward pass)\n",
        "    for i in range(out_size):\n",
        "        output[i] = np.dot(input_padded[i:i+k_size], kernel)\n",
        "\n",
        "    return output  # No need to return input_padded\n",
        "\n",
        "def conv1d_backward(grad_output, input_size, kernel, pad_left, pad_right):\n",
        "    \"\"\"Computes the 1D convolution backward pass with asymmetric padding.\"\"\"\n",
        "    k_size = len(kernel)\n",
        "\n",
        "    # Compute padded input size\n",
        "    input_padded_size = input_size + pad_left + pad_right\n",
        "    grad_input_padded = np.zeros(input_padded_size)\n",
        "    grad_kernel = np.zeros_like(kernel)\n",
        "\n",
        "    # Compute input gradient\n",
        "    for i in range(len(grad_output)):\n",
        "        grad_input_padded[i:i+k_size] += grad_output[i] * kernel[::-1]  # Reverse kernel for backprop\n",
        "\n",
        "    # Compute kernel gradient\n",
        "    for i in range(k_size):\n",
        "        grad_kernel[i] = np.dot(grad_output, grad_input_padded[i:i+len(grad_output)])\n",
        "\n",
        "    # **Prune padded gradients** to match original input size\n",
        "    grad_input = grad_input_padded[pad_left: input_padded_size - pad_right]\n",
        "\n",
        "    return grad_input, grad_kernel\n"
      ]
    },
    {
      "cell_type": "code",
      "execution_count": null,
      "metadata": {
        "id": "lZvYl1sqWzds"
      },
      "outputs": [],
      "source": [
        "import numpy as np\n",
        "\n",
        "def conv1d_forward(input_array, kernel, stride=1, padding_left=0, padding_right=0):\n",
        "    \"\"\"\n",
        "    1D Convolution forward pass with customizable stride and asymmetric padding.\n",
        "    \"\"\"\n",
        "    # Pad the input\n",
        "    input_padded = np.pad(input_array, (padding_left, padding_right), mode='constant', constant_values=0)\n",
        "\n",
        "    input_length = len(input_padded)\n",
        "    kernel_size = len(kernel)\n",
        "\n",
        "    # Compute output length considering stride\n",
        "    output_length = (input_length - kernel_size) // stride + 1\n",
        "\n",
        "    output = np.zeros(output_length)\n",
        "\n",
        "    for i in range(output_length):\n",
        "        start = i * stride\n",
        "        end = start + kernel_size\n",
        "        output[i] = np.sum(input_padded[start:end] * kernel)  # Dot product\n",
        "\n",
        "    return output, input_padded  # Returning padded input to use in backprop\n",
        "\n",
        "def conv1d_backward(grad_output, input_padded, kernel, stride=1, padding_left=0, padding_right=0):\n",
        "    \"\"\"\n",
        "    1D Convolution backward pass (gradient calculation), handling stride > 1.\n",
        "    \"\"\"\n",
        "    kernel_flipped = np.flip(kernel)\n",
        "\n",
        "    # Upsample grad_output by inserting (stride - 1) zeros between elements\n",
        "    grad_upsampled = np.zeros((len(grad_output) - 1) * stride + 1)\n",
        "    grad_upsampled[::stride] = grad_output  # Place gradients at the correct indices\n",
        "\n",
        "    # Compute input gradient\n",
        "    input_grad = np.convolve(grad_upsampled, kernel_flipped, mode='full')\n",
        "\n",
        "    # Remove padding from input gradient to match original input size\n",
        "    if padding_left > 0:\n",
        "        input_grad = input_grad[padding_left:]\n",
        "    if padding_right > 0:\n",
        "        input_grad = input_grad[:-padding_right]\n",
        "\n",
        "    # Compute weight (kernel) gradient\n",
        "    weight_grad = np.convolve(input_padded, grad_upsampled, mode='valid')\n",
        "\n",
        "    return input_grad, weight_grad\n"
      ]
    },
    {
      "cell_type": "code",
      "execution_count": null,
      "metadata": {
        "id": "0DN_s7XNZZ0z"
      },
      "outputs": [],
      "source": [
        "grad_output = np.random.rand(4)\n",
        "grad_output"
      ]
    },
    {
      "cell_type": "code",
      "execution_count": null,
      "metadata": {
        "id": "TVYnbLviZwsr"
      },
      "outputs": [],
      "source": [
        "stride = 2\n",
        "grad_upsampled = np.zeros((len(grad_output) - 1) * stride + 1)\n",
        "grad_upsampled[::stride] = grad_output\n",
        "grad_upsampled"
      ]
    },
    {
      "cell_type": "markdown",
      "metadata": {
        "id": "5eAL45f4bVwL"
      },
      "source": [
        "$$\n",
        "\\text{output_length} = \\frac{(\\text{input_length} - \\text{kernel_size})}{\\text{stride}} + 1\n",
        "$$\n",
        "\n",
        "$$\n",
        "\\text{upsampled_length} = (\\text{N} - 1) \\times \\text{stride} + 1\n",
        "$$\n",
        "\n",
        "$$\n",
        "(\\text{len}(\\text{grad_output}) - 1) \\times \\text{stride} + 1\n",
        "$$"
      ]
    },
    {
      "cell_type": "code",
      "execution_count": null,
      "metadata": {
        "id": "L8zd7RYld5TU"
      },
      "outputs": [],
      "source": [
        "input_array = [1, 2, 3, 4, 9]\n",
        "kernel = [1, -1]\n",
        "stride = 4\n",
        "output = correlate(np.array(input_array), kernel, stride=stride)\n",
        "output\n",
        "\n"
      ]
    },
    {
      "cell_type": "code",
      "execution_count": null,
      "metadata": {
        "id": "DT3XT1lXgjbV"
      },
      "outputs": [],
      "source": [
        "grad_upsampled = np.zeros((len(output) - 1) * stride + 1)\n",
        "grad_upsampled"
      ]
    },
    {
      "cell_type": "code",
      "execution_count": null,
      "metadata": {
        "id": "paZwOk4jkEBs"
      },
      "outputs": [],
      "source": [
        "grad_upsampled[::stride] = output\n",
        "grad_upsampled"
      ]
    },
    {
      "cell_type": "code",
      "execution_count": null,
      "metadata": {
        "id": "JSGWf2OP1FIP"
      },
      "outputs": [],
      "source": [
        "import numpy as np\n",
        "\n",
        "def conv1d_forward(input_array, kernel, bias=0, stride=1, padding_left=0, padding_right=0):\n",
        "    # Pad input with different left and right padding\n",
        "    input_padded = np.pad(input_array, (padding_left, padding_right), mode='constant', constant_values=0)\n",
        "\n",
        "    kernel_size = len(kernel)\n",
        "    output_size = ((len(input_padded) - kernel_size) // stride) + 1\n",
        "    output = np.zeros(output_size)\n",
        "\n",
        "    # Perform convolution with stride\n",
        "    for i in range(output_size):\n",
        "        start = i * stride\n",
        "        end = start + kernel_size\n",
        "        output[i] = np.sum(input_padded[start:end] * kernel) + bias  # Include bias\n",
        "\n",
        "    return output, input_padded  # Return padded input for use in backprop\n",
        "\n",
        "def conv1d_backward(grad_output, input_padded, kernel, stride=1, padding_left=0, padding_right=0):\n",
        "    kernel_size = len(kernel)\n",
        "\n",
        "    # Initialize gradient arrays\n",
        "    grad_input = np.zeros_like(input_padded)\n",
        "    grad_kernel = np.zeros_like(kernel)\n",
        "    grad_bias = np.sum(grad_output)  # Bias gradient is just the sum of output gradients\n",
        "\n",
        "    # Flip the kernel for computing grad_input\n",
        "    flipped_kernel = np.flip(kernel)\n",
        "\n",
        "    # Distribute gradient to input\n",
        "    for i in range(len(grad_output)):\n",
        "        start = i * stride\n",
        "        end = start + kernel_size\n",
        "\n",
        "        grad_input[start:end] += grad_output[i] * flipped_kernel  # Flipped kernel applied\n",
        "\n",
        "        grad_kernel += grad_output[i] * input_padded[start:end]  # Kernel gradient\n",
        "\n",
        "    # Remove padding to match original input size\n",
        "    grad_input = grad_input[padding_left:len(grad_input) - padding_right]\n",
        "\n",
        "    return grad_input, grad_kernel, grad_bias\n"
      ]
    },
    {
      "cell_type": "code",
      "execution_count": null,
      "metadata": {
        "id": "jbMJksXj6d9p"
      },
      "outputs": [],
      "source": [
        "import numpy as np\n",
        "\n",
        "def conv1d_forward(input_array, kernel, bias=0, stride=1, padding_left=0, padding_right=0, dilation=1):\n",
        "    # Pad input with different left and right padding\n",
        "    input_padded = np.pad(input_array, (padding_left, padding_right), mode='constant', constant_values=0)\n",
        "\n",
        "    kernel_size = len(kernel)\n",
        "    # Apply dilation to kernel size\n",
        "    dilated_kernel_size = (kernel_size - 1) * dilation + 1\n",
        "    output_size = ((len(input_padded) - dilated_kernel_size) // stride) + 1\n",
        "    output = np.zeros(output_size)\n",
        "\n",
        "    # Perform convolution with stride and dilation\n",
        "    for i in range(output_size):\n",
        "        start = i * stride\n",
        "        end = start + dilated_kernel_size\n",
        "        print('start: ', start, 'end: ', end)\n",
        "\n",
        "        # Extract the input segment with dilation\n",
        "        input_segment = input_padded[start:end:dilation]  # Skip elements based on dilation\n",
        "        print(len(input_segment), len(kernel), dilated_kernel_size)\n",
        "\n",
        "        output[i] = np.sum(input_segment * kernel) + bias  # Include bias\n",
        "\n",
        "    return output, input_padded  # Return padded input for use in backprop\n"
      ]
    },
    {
      "cell_type": "code",
      "execution_count": null,
      "metadata": {
        "id": "2R6L2BOf8oeG"
      },
      "outputs": [],
      "source": [
        "input = np.array([1,2,3,4,5])\n",
        "kernel = np.array([1,2,3])\n",
        "op, ip_padded = conv1d_forward(input, kernel, dilation=2, padding_left=0, padding_right=0, stride=1)\n",
        "op, ip_padded"
      ]
    },
    {
      "cell_type": "code",
      "execution_count": null,
      "metadata": {
        "id": "X07udmeVChNg"
      },
      "outputs": [],
      "source": [
        "input[0:5:2]"
      ]
    },
    {
      "cell_type": "code",
      "execution_count": null,
      "metadata": {
        "id": "eWi3Sq7MNUPt"
      },
      "outputs": [],
      "source": [
        "arr = [i for i in range(1,30)]\n",
        "arr[1:10:3]"
      ]
    },
    {
      "cell_type": "code",
      "execution_count": null,
      "metadata": {
        "id": "To7jgPCqbB2p"
      },
      "outputs": [],
      "source": [
        "def conv1d_forward(input_array, kernel, bias=0, stride=1, padding_left=0, padding_right=0, dilation=1):\n",
        "    input_size = len(input_array)\n",
        "    kernel_size = len(kernel)\n",
        "    dilated_kernel_size = (kernel_size - 1) * dilation + 1\n",
        "    padded_input_size = input_size + padding_left + padding_right\n",
        "\n",
        "    # Ensure output_size is valid\n",
        "    if padded_input_size < dilated_kernel_size:\n",
        "        raise ValueError(f\"Invalid configuration: padded input ({padded_input_size}) is smaller than dilated kernel ({dilated_kernel_size}). \"\n",
        "                         f\"Increase input size or padding.\")\n",
        "\n",
        "    output_size = ((padded_input_size - dilated_kernel_size) // stride) + 1\n",
        "    output = np.zeros(output_size)\n",
        "\n",
        "    # Pad input\n",
        "    input_padded = np.pad(input_array, (padding_left, padding_right), mode='constant', constant_values=0)\n",
        "\n",
        "    # Perform convolution with stride and dilation\n",
        "    for i in range(output_size):\n",
        "        start = i * stride\n",
        "        end = start + dilated_kernel_size\n",
        "        input_segment = input_padded[start:end:dilation]  # Pick elements with dilation\n",
        "\n",
        "        output[i] = np.sum(input_segment * kernel) + bias  # Element-wise multiplication\n",
        "\n",
        "    return output, input_padded\n"
      ]
    },
    {
      "cell_type": "code",
      "execution_count": null,
      "metadata": {
        "id": "VKM0pJNTQLaW"
      },
      "outputs": [],
      "source": [
        "input = [each for each in range(1, 10)]\n",
        "print(input)\n",
        "conv1d_forward(input,[15, 17, 19], dilation=3 )"
      ]
    },
    {
      "cell_type": "code",
      "execution_count": null,
      "metadata": {
        "id": "5ZD-iKMCQ_Bx"
      },
      "outputs": [],
      "source": [
        "input[0:100:2]"
      ]
    },
    {
      "cell_type": "code",
      "execution_count": null,
      "metadata": {
        "id": "J8oibj1Bho8U"
      },
      "outputs": [],
      "source": [
        "[1,2,3][1:70:3]"
      ]
    },
    {
      "cell_type": "markdown",
      "metadata": {
        "id": "ZEmpso_OqME9"
      },
      "source": [
        "$$\n",
        "\\frac{(start + (\\text{kernel_size} - 1) \\times \\text{dilation}) - start}{\\text{dilation}} + 1\n",
        "$$\n",
        "Simplifies to:\n",
        "$$\n",
        "\\text{kernel_size}\n",
        "$$\n",
        "\n",
        "$$\n",
        "\\text{input_size} + \\text{padding} = 3 + 0 = 3\n",
        "$$\n",
        "$$\n",
        "\\text{dilated_kernel_size} = 5\n",
        "$$\n"
      ]
    },
    {
      "cell_type": "markdown",
      "metadata": {
        "id": "hPOfg6U9uJIq"
      },
      "source": [
        "## 💡 Now in backpropagation, we must ensure the gradient flows back only to those same positions!\n",
        "\n",
        "##Key Modifications for Dilation\n",
        "* Instead of distributing gradients to all input positions, we only update the positions that were selected in forward pass (i.e., the ones indexed using dilation).\n",
        "* Similarly, while computing grad_kernel, we must only sum over the corresponding input positions."
      ]
    },
    {
      "cell_type": "code",
      "execution_count": null,
      "metadata": {
        "id": "9IqjVEpcuCJR"
      },
      "outputs": [],
      "source": [
        "def conv1d_backward(grad_output, input_padded, kernel, stride=1, padding_left=0, padding_right=0, dilation=1):\n",
        "    kernel_size = len(kernel)\n",
        "    dilated_kernel_size = (kernel_size - 1) * dilation + 1\n",
        "\n",
        "    # Initialize gradients\n",
        "    grad_input = np.zeros_like(input_padded)\n",
        "    grad_kernel = np.zeros_like(kernel)\n",
        "    grad_bias = np.sum(grad_output)  # Bias gradient is sum of output gradients\n",
        "\n",
        "    # Flip the kernel for computing grad_input\n",
        "    flipped_kernel = np.flip(kernel)\n",
        "\n",
        "    # Distribute gradient to input and compute kernel gradient\n",
        "    for i in range(len(grad_output)):\n",
        "        start = i * stride\n",
        "        end = start + dilated_kernel_size\n",
        "\n",
        "        # Compute grad_input - only update the positions selected in forward pass\n",
        "        for k in range(kernel_size):\n",
        "            input_idx = start + k * dilation  # Only access the same positions used in forward\n",
        "            if input_idx < len(grad_input):  # Ensure we don't go out of bounds\n",
        "                grad_input[input_idx] += grad_output[i] * flipped_kernel[k]\n",
        "\n",
        "        # Compute grad_kernel - only sum over corresponding input positions\n",
        "        grad_kernel += grad_output[i] * input_padded[start:end:dilation]\n",
        "\n",
        "    # Remove padding to match original input size\n",
        "    grad_input = grad_input[padding_left:len(grad_input) - padding_right]\n",
        "\n",
        "    return grad_input, grad_kernel, grad_bias\n"
      ]
    },
    {
      "cell_type": "markdown",
      "metadata": {
        "id": "QK7YMpvHuy1C"
      },
      "source": [
        "## Explanation\n",
        "✅ We ensure gradient updates only affect the positions selected in forward pass\n",
        "* We only update every dilation-th element in grad_input.\n",
        "\n",
        "✅ Padding is properly handled\n",
        "\n",
        "* After computing grad_input, we remove the padding to match the original input size."
      ]
    },
    {
      "cell_type": "markdown",
      "metadata": {
        "id": "IC2XinEivPrK"
      },
      "source": [
        "## Testing It"
      ]
    },
    {
      "cell_type": "code",
      "execution_count": null,
      "metadata": {
        "id": "X4HI5sEHvS6S"
      },
      "outputs": [],
      "source": [
        "input_array = np.array([1.0, 2, 3, 4, 5])\n",
        "kernel = np.array([1.0, -1])\n",
        "bias = 0\n",
        "stride = 1\n",
        "padding_left = 1\n",
        "padding_right = 1\n",
        "dilation = 2\n",
        "\n",
        "# Forward pass\n",
        "output, input_padded = conv1d_forward(input_array, kernel, bias, stride, padding_left, padding_right, dilation)\n",
        "print(\"Forward Output:\", output)\n",
        "\n",
        "# Fake gradient from next layer\n",
        "grad_output = np.ones_like(output)\n",
        "\n",
        "# Backward pass\n",
        "grad_input, grad_kernel, grad_bias = conv1d_backward(grad_output, input_padded, kernel, stride, padding_left, padding_right, dilation)\n",
        "\n",
        "print(\"Grad Input:\", grad_input)\n",
        "print(\"Grad Kernel:\", grad_kernel)\n",
        "print(\"Grad Bias:\", grad_bias)\n"
      ]
    },
    {
      "cell_type": "markdown",
      "metadata": {
        "id": "sxk09_RHw8X7"
      },
      "source": [
        "## What Changes When We Add Multiple Filters?\n",
        "* Previously, we had a single kernel (i.e., one filter), meaning our output was a single feature map.\n",
        "\n",
        "## 💡 Now, for multiple filters:\n",
        "\n",
        "* Each filter has its own kernel and bias.\n",
        "* Each filter produces its own output feature map.\n",
        "* The final output is a 2D array, where each row corresponds to the feature map of one filter.\n",
        "\n",
        "## Updating Forward Pass for Multiple Filters\n",
        "* Instead of a single kernel, we now accept a list of kernels (or a numpy array of shape (num_filters, kernel_size)).\n",
        "* Instead of a single bias, we now accept a list of biases (one per filter).\n",
        "* Instead of a 1D output array, we now compute multiple outputs (one per filter), forming a 2D output array of shape (num_filters, output_size).\n"
      ]
    },
    {
      "cell_type": "code",
      "execution_count": null,
      "metadata": {
        "id": "2QUxiuk7xmqy"
      },
      "outputs": [],
      "source": [
        "def conv1d_forward(input_array, kernels, biases, stride=1, padding_left=0, padding_right=0, dilation=1):\n",
        "    input_size = len(input_array)\n",
        "    num_filters, kernel_size = kernels.shape  # Multiple filters\n",
        "    dilated_kernel_size = (kernel_size - 1) * dilation + 1\n",
        "    padded_input_size = input_size + padding_left + padding_right\n",
        "\n",
        "    # Ensure output_size is valid\n",
        "    if padded_input_size < dilated_kernel_size:\n",
        "        raise ValueError(f\"Invalid configuration: padded input ({padded_input_size}) is smaller than dilated kernel ({dilated_kernel_size}). \"\n",
        "                         f\"Increase input size or padding.\")\n",
        "\n",
        "    output_size = ((padded_input_size - dilated_kernel_size) // stride) + 1\n",
        "    output = np.zeros((num_filters, output_size))  # Output for each filter\n",
        "\n",
        "    # Pad input\n",
        "    input_padded = np.pad(input_array, (padding_left, padding_right), mode='constant', constant_values=0)\n",
        "\n",
        "    # Perform convolution for each filter\n",
        "    for f in range(num_filters):  # Iterate over filters\n",
        "        kernel = kernels[f]\n",
        "        bias = biases[f]\n",
        "\n",
        "        for i in range(output_size):\n",
        "            start = i * stride\n",
        "            end = start + dilated_kernel_size\n",
        "            input_segment = input_padded[start:end:dilation]  # Select elements based on dilation\n",
        "\n",
        "            output[f, i] = np.sum(input_segment * kernel) + bias  # Compute feature map for filter f\n",
        "\n",
        "    return output, input_padded  # Return all feature maps and padded input\n"
      ]
    },
    {
      "cell_type": "markdown",
      "metadata": {
        "id": "Z3BK8FqjzI57"
      },
      "source": [
        "## Updating Backward Pass for Multiple Filters\n",
        "Since we now have multiple filters, our backward pass must:\n",
        "\n",
        "* Compute gradient w.r.t input (grad_input) by summing the contributions from all filters.\n",
        "* Compute gradient w.r.t each filter’s kernel (grad_kernels) separately.\n",
        "* Compute gradient w.r.t each bias (grad_biases) separately."
      ]
    },
    {
      "cell_type": "code",
      "execution_count": null,
      "metadata": {
        "id": "OWOgPIEwzTPD"
      },
      "outputs": [],
      "source": [
        "def conv1d_backward(grad_output, input_padded, kernels, stride=1, padding_left=0, padding_right=0, dilation=1):\n",
        "    num_filters, kernel_size = kernels.shape\n",
        "    dilated_kernel_size = (kernel_size - 1) * dilation + 1\n",
        "\n",
        "    # Initialize gradients\n",
        "    grad_input = np.zeros_like(input_padded)\n",
        "    grad_kernels = np.zeros_like(kernels)\n",
        "    grad_biases = np.sum(grad_output, axis=1)  # Sum over all positions for each filter\n",
        "\n",
        "    # Compute gradients for each filter\n",
        "    for f in range(num_filters):\n",
        "        flipped_kernel = np.flip(kernels[f])  # Flip kernel for gradient computation\n",
        "\n",
        "        for i in range(grad_output.shape[1]):  # Loop over output positions\n",
        "            start = i * stride\n",
        "            end = start + dilated_kernel_size\n",
        "\n",
        "            # Compute grad_input - sum contributions from all filters\n",
        "            for k in range(kernel_size):\n",
        "                input_idx = start + k * dilation  # Same positions as forward pass\n",
        "                if input_idx < len(grad_input):\n",
        "                    grad_input[input_idx] += grad_output[f, i] * flipped_kernel[k]\n",
        "\n",
        "            # Compute grad_kernels - only sum over corresponding input positions\n",
        "            grad_kernels[f] += grad_output[f, i] * input_padded[start:end:dilation]\n",
        "\n",
        "    # Remove padding to match original input size\n",
        "    grad_input = grad_input[padding_left:len(grad_input) - padding_right]\n",
        "\n",
        "    return grad_input, grad_kernels, grad_biases\n"
      ]
    },
    {
      "cell_type": "markdown",
      "metadata": {
        "id": "EFTQ07AZzYv7"
      },
      "source": [
        "## Testing with Multiple Filters"
      ]
    },
    {
      "cell_type": "code",
      "execution_count": null,
      "metadata": {
        "id": "aQL6Vl5Lzabc"
      },
      "outputs": [],
      "source": [
        "input_array = np.array([1, 2, 3, 4, 5])\n",
        "kernels = np.array([[1, -1], [0.5, 0.5]])  # Two filters\n",
        "biases = np.array([0, 1])  # Two biases\n",
        "stride = 1\n",
        "padding_left = 1\n",
        "padding_right = 1\n",
        "dilation = 2\n",
        "\n",
        "# Forward pass\n",
        "output, input_padded = conv1d_forward(input_array, kernels, biases, stride, padding_left, padding_right, dilation)\n",
        "print(\"Forward Output:\\n\", output)\n",
        "\n",
        "# Fake gradient from next layer\n",
        "grad_output = np.ones_like(output)\n",
        "\n",
        "# Backward pass\n",
        "grad_input, grad_kernels, grad_biases = conv1d_backward(grad_output, input_padded, kernels, stride, padding_left, padding_right, dilation)\n",
        "\n",
        "print(\"Grad Input:\\n\", grad_input)\n",
        "print(\"Grad Kernels:\\n\", grad_kernels)\n",
        "print(\"Grad Biases:\\n\", grad_biases)\n"
      ]
    },
    {
      "cell_type": "markdown",
      "metadata": {
        "id": "PtobGJG02LmL"
      },
      "source": [
        "##  What Changes When We Add Batching?\n",
        "Right now, our implementation processes one input sequence at a time.\n",
        "To support batching, we need to process multiple input sequences simultaneously.\n",
        "\n",
        "## 💡 Key Adjustments Needed:\n",
        "\n",
        "* The input will now have shape (batch_size, input_length), instead of just (input_length).\n",
        "* The output will now have shape (batch_size, num_filters, output_length).\n",
        "* The gradients in backpropagation should accumulate over all batch elements.\n",
        "\n",
        "## Updating Forward Pass for Batching\n",
        "\n",
        "### Changes:\n",
        "\n",
        "* Accept input_array of shape (batch_size, input_length).\n",
        "* Loop over each batch element independently.\n",
        "* Ensure the output shape is (batch_size, num_filters, output_size).\n",
        "* Store padded input for each batch element.\n",
        "\n",
        "### Here’s the updated forward pass:\n"
      ]
    },
    {
      "cell_type": "code",
      "execution_count": null,
      "metadata": {
        "id": "PyrH6O_n25wD"
      },
      "outputs": [],
      "source": [
        "def conv1d_forward(input_array, kernels, biases, stride=1, padding_left=0, padding_right=0, dilation=1):\n",
        "    batch_size, input_size = input_array.shape\n",
        "    num_filters, kernel_size = kernels.shape\n",
        "    dilated_kernel_size = (kernel_size - 1) * dilation + 1\n",
        "    padded_input_size = input_size + padding_left + padding_right\n",
        "\n",
        "    # Ensure output_size is valid\n",
        "    if padded_input_size < dilated_kernel_size:\n",
        "        raise ValueError(f\"Invalid configuration: padded input ({padded_input_size}) is smaller than dilated kernel ({dilated_kernel_size}). \"\n",
        "                         f\"Increase input size or padding.\")\n",
        "\n",
        "    output_size = ((padded_input_size - dilated_kernel_size) // stride) + 1\n",
        "    output = np.zeros((batch_size, num_filters, output_size))  # Output for each batch & filter\n",
        "    padded_inputs = np.zeros((batch_size, padded_input_size))  # Store padded inputs for backprop\n",
        "\n",
        "    # Perform convolution for each batch element\n",
        "    for b in range(batch_size):  # Iterate over batch\n",
        "        input_padded = np.pad(input_array[b], (padding_left, padding_right), mode='constant', constant_values=0)\n",
        "        padded_inputs[b] = input_padded  # Store for backprop\n",
        "\n",
        "        for f in range(num_filters):  # Iterate over filters\n",
        "            kernel = kernels[f]\n",
        "            bias = biases[f]\n",
        "\n",
        "            for i in range(output_size):\n",
        "                start = i * stride\n",
        "                end = start + dilated_kernel_size\n",
        "                input_segment = input_padded[start:end:dilation]  # Select elements based on dilation\n",
        "\n",
        "                output[b, f, i] = np.sum(input_segment * kernel) + bias  # Compute feature map for (batch, filter)\n",
        "\n",
        "    return output, padded_inputs  # Return all feature maps and padded inputs\n"
      ]
    },
    {
      "cell_type": "markdown",
      "metadata": {
        "id": "16ooI9UP3Bui"
      },
      "source": [
        "## Updating Backward Pass for Batching\n",
        "\n",
        "### Changes:\n",
        "\n",
        "* Accept grad_output of shape (batch_size, num_filters, output_length).\n",
        "* Compute grad_input of shape (batch_size, input_length).\n",
        "* Accumulate grad_kernels over all batch elements.\n",
        "* Accumulate grad_biases over all batch elements and output positions.\n",
        "\n",
        "### Here’s the updated backward pass:"
      ]
    },
    {
      "cell_type": "code",
      "execution_count": null,
      "metadata": {
        "id": "mnE_w8yy3ODb"
      },
      "outputs": [],
      "source": [
        "def conv1d_backward(grad_output, padded_inputs, kernels, stride=1, padding_left=0, padding_right=0, dilation=1):\n",
        "    batch_size, num_filters, output_size = grad_output.shape\n",
        "    _, kernel_size = kernels.shape\n",
        "    dilated_kernel_size = (kernel_size - 1) * dilation + 1\n",
        "    input_size = padded_inputs.shape[1] - padding_left - padding_right  # Original input size\n",
        "\n",
        "    # Initialize gradients\n",
        "    grad_inputs = np.zeros_like(padded_inputs)  # Store gradients w.r.t padded inputs\n",
        "    grad_kernels = np.zeros_like(kernels)\n",
        "    grad_biases = np.sum(grad_output, axis=(0, 2))  # Sum over batch and output positions\n",
        "\n",
        "    # Compute gradients for each batch element\n",
        "    for b in range(batch_size):\n",
        "        input_padded = padded_inputs[b]\n",
        "\n",
        "        for f in range(num_filters):\n",
        "            flipped_kernel = np.flip(kernels[f])  # Flip kernel for gradient computation\n",
        "\n",
        "            for i in range(output_size):  # Loop over output positions\n",
        "                start = i * stride\n",
        "                end = start + dilated_kernel_size\n",
        "\n",
        "                # Compute grad_input - sum contributions from all filters\n",
        "                for k in range(kernel_size):\n",
        "                    input_idx = start + k * dilation  # Same positions as forward pass\n",
        "                    if input_idx < len(grad_inputs[b]):\n",
        "                        grad_inputs[b, input_idx] += grad_output[b, f, i] * flipped_kernel[k]\n",
        "\n",
        "                # Compute grad_kernels - accumulate over batch\n",
        "                grad_kernels[f] += grad_output[b, f, i] * input_padded[start:end:dilation]\n",
        "\n",
        "    # Remove padding from grad_inputs to match original input shape\n",
        "    grad_inputs = grad_inputs[:, padding_left:-padding_right] if padding_right > 0 else grad_inputs[:, padding_left:]\n",
        "\n",
        "    return grad_inputs, grad_kernels, grad_biases\n"
      ]
    },
    {
      "cell_type": "markdown",
      "metadata": {
        "id": "XtsH46XZ3TsM"
      },
      "source": [
        "## Testing with Mini-Batches"
      ]
    },
    {
      "cell_type": "code",
      "execution_count": null,
      "metadata": {
        "id": "7ddc1GEY3XMD"
      },
      "outputs": [],
      "source": [
        "# Two input sequences (batch_size = 2)\n",
        "input_array = np.array([\n",
        "    [1, 2, 3, 4, 5],\n",
        "    [5, 4, 3, 2, 1]\n",
        "])\n",
        "\n",
        "kernels = np.array([\n",
        "    [1, -1],   # Filter 1\n",
        "    [0.5, 0.5] # Filter 2\n",
        "])\n",
        "\n",
        "biases = np.array([0, 1])  # Two biases\n",
        "stride = 1\n",
        "padding_left = 1\n",
        "padding_right = 1\n",
        "dilation = 2\n",
        "\n",
        "# Forward pass\n",
        "output, padded_inputs = conv1d_forward(input_array, kernels, biases, stride, padding_left, padding_right, dilation)\n",
        "print(\"Forward Output:\\n\", output)\n",
        "\n",
        "# Fake gradient from next layer\n",
        "grad_output = np.ones_like(output)\n",
        "\n",
        "# Backward pass\n",
        "grad_inputs, grad_kernels, grad_biases = conv1d_backward(grad_output, padded_inputs, kernels, stride, padding_left, padding_right, dilation)\n",
        "\n",
        "print(\"Grad Inputs:\\n\", grad_inputs)\n",
        "print(\"Grad Kernels:\\n\", grad_kernels)\n",
        "print(\"Grad Biases:\\n\", grad_biases)\n"
      ]
    },
    {
      "cell_type": "code",
      "execution_count": null,
      "metadata": {
        "id": "uTQT315V5sFY"
      },
      "outputs": [],
      "source": [
        "import numpy as np"
      ]
    },
    {
      "cell_type": "code",
      "execution_count": null,
      "metadata": {
        "id": "eTyZunKM5ufq"
      },
      "outputs": [],
      "source": [
        "# Input shape: (batch_size, num_channels, input_length)\n",
        "input_array = np.random.randn(2, 3, 10)\n",
        "#input_array.strides[0], input_array.strides[1], input_array.strides[2],\n",
        "input_array.strides\n",
        "\n"
      ]
    },
    {
      "cell_type": "code",
      "execution_count": null,
      "metadata": {
        "id": "jJiaJ7ov_zNB"
      },
      "outputs": [],
      "source": [
        "import numpy as np\n",
        "\n",
        "arr = np.array([1, 2, 3, 4, 5], dtype=np.int16)\n",
        "print(\"Original array:\", arr)\n",
        "\n",
        "# Manually change view using as_strided()\n",
        "strided_arr = np.lib.stride_tricks.as_strided(arr, shape=(3,), strides=(2,))\n",
        "print(\"Strided array:\", strided_arr)\n",
        "print(\"Strided array type:\", strided_arr.shape)\n"
      ]
    },
    {
      "cell_type": "code",
      "execution_count": null,
      "metadata": {
        "id": "sjTb5WxGCFEx"
      },
      "outputs": [],
      "source": [
        "arr = np.array([1, 2, 3, 4, 5], dtype=np.int32)\n",
        "window_size = 3\n",
        "stride = 4  # 1 step forward (since int32 takes 4 bytes)\n",
        "\n",
        "strided_arr = np.lib.stride_tricks.as_strided(\n",
        "    arr, shape=(3, 3), strides=(4, 4)\n",
        ")\n",
        "print(strided_arr)\n"
      ]
    },
    {
      "cell_type": "code",
      "execution_count": null,
      "metadata": {
        "id": "TvDj0YBkRM4h"
      },
      "outputs": [],
      "source": [
        "import numpy as np\n",
        "\n",
        "def extract_patches(input_array, kernel_size, stride, dilation):\n",
        "    \"\"\"\n",
        "    Efficiently extracts patches from input using NumPy striding.\n",
        "    \"\"\"\n",
        "    batch_size, num_channels, input_size = input_array.shape\n",
        "    dilated_kernel_size = (kernel_size - 1) * dilation + 1  # Effective receptive field\n",
        "\n",
        "    # Compute output size\n",
        "    output_size = ((input_size - dilated_kernel_size) // stride) + 1\n",
        "\n",
        "    # Use as_strided to extract patches efficiently\n",
        "    strided_shape = (batch_size, num_channels, output_size, kernel_size)\n",
        "    strided_strides = (\n",
        "        input_array.strides[0],  # Batch stride\n",
        "        input_array.strides[1],  # Channel stride\n",
        "        stride * input_array.strides[2],  # Stride jump in input\n",
        "        dilation * input_array.strides[2],  # Dilation jump\n",
        "    )\n",
        "\n",
        "    patches = np.lib.stride_tricks.as_strided(\n",
        "        input_array, shape=strided_shape, strides=strided_strides\n",
        "    )\n",
        "\n",
        "    return patches  # Shape: (batch_size, num_channels, output_size, kernel_size)\n",
        "\n",
        "def conv1d_forward_optimized(input_array, kernels, biases, stride=1, dilation=1):\n",
        "    batch_size, num_channels, input_size = input_array.shape\n",
        "    num_filters, _, kernel_size = kernels.shape\n",
        "    dilated_kernel_size = (kernel_size - 1) * dilation + 1\n",
        "\n",
        "    # Ensure output_size is valid\n",
        "    output_size = ((input_size - dilated_kernel_size) // stride) + 1\n",
        "    if output_size <= 0:\n",
        "        raise ValueError(\"Invalid configuration: output size is non-positive.\")\n",
        "\n",
        "    # Extract patches (batch_size, num_channels, output_size, kernel_size)\n",
        "    patches = extract_patches(input_array, kernel_size, stride, dilation)\n",
        "\n",
        "    # Compute convolution via matrix multiplication:\n",
        "    #   (batch_size, output_size, num_channels, kernel_size)\n",
        "    # x (num_filters, num_channels, kernel_size)\n",
        "    # = (batch_size, num_filters, output_size)\n",
        "    output = np.tensordot(patches, kernels, axes=([1, 3], [1, 2]))  # Efficient summation\n",
        "\n",
        "    # Add bias (broadcasting across batch and output size)\n",
        "    #output += biases[:, None]\n",
        "    output += biases[None, :, None]\n",
        "    #output += biases[:, None, None]\n",
        "\n",
        "\n",
        "\n",
        "    return output\n"
      ]
    },
    {
      "cell_type": "code",
      "execution_count": null,
      "metadata": {
        "id": "ox9UDq5tRgPB"
      },
      "outputs": [],
      "source": [
        "np.random.seed(42)\n",
        "# Input shape: (batch_size, num_channels, input_length)\n",
        "input_array = np.random.randn(2, 3, 10)  # Batch size = 2, 3 channels, length = 10\n",
        "kernels = np.random.randn(4, 3, 3)  # 4 filters, 3 channels, kernel size = 3\n",
        "biases = np.random.randn(3)  # One bias per filter\n",
        "stride = 2\n",
        "dilation = 2\n",
        "\n",
        "output = conv1d_forward_optimized(input_array, kernels, biases, stride, dilation)\n",
        "print(\"Optimized Forward Output:\\n\", output)\n",
        "\n",
        "output1 = conv1d_forward(input_array, kernels, biases, stride, dilation)\n",
        "print(\"Conv1d Forward Output:\\n\", output1)\n",
        "def conv1d_forward(input_array, kernels, biases, stride=1, padding_left=0, padding_right=0, dilation=1):\n",
        "batch_size, input_size = input_array.shape\n",
        "num_filters, kernel_size = kernels.shape"
      ]
    },
    {
      "cell_type": "code",
      "execution_count": null,
      "metadata": {
        "id": "KVyT-lPsinOg"
      },
      "outputs": [],
      "source": [
        "import numpy as np\n",
        "\n",
        "shape1 = np.random.rand(2, 1, 3)\n",
        "shape2 = np.random.rand(3,)\n",
        "\n",
        "#print(np.broadcast_shapes(shape1, shape2))\n",
        "# Output: (2, 3, 3)  ✅ Shows the final shape after broadcasting\n",
        "shape1 + shape2\n"
      ]
    },
    {
      "cell_type": "code",
      "execution_count": null,
      "metadata": {
        "id": "4WcqA2KfjDt7"
      },
      "outputs": [],
      "source": [
        "arr1 = np.empty((2, 1, 3))\n",
        "arr2 = np.empty((3,))\n",
        "\n",
        "broadcasted = np.broadcast(arr1, arr2)\n",
        "print(\"Broadcasted shape:\", broadcasted.shape)\n"
      ]
    },
    {
      "cell_type": "code",
      "execution_count": null,
      "metadata": {
        "id": "sdWQVE7hkHm0"
      },
      "outputs": [],
      "source": [
        "arr1 = np.array([[[1, 1, 1]], [[2, 2, 2]]])\n",
        "arr2 = np.array([100, 200, 300])\n",
        "print(arr1.shape, arr2.shape)\n",
        "\n",
        "arr1 + arr2"
      ]
    },
    {
      "cell_type": "code",
      "execution_count": null,
      "metadata": {
        "id": "UoVOSgmuuMI8"
      },
      "outputs": [],
      "source": [
        "arr1 = np.random.rand(2, 1, 4)\n",
        "arr2 = np.random.rand(3,4)\n",
        "\n",
        "(arr1 + arr2).shape"
      ]
    },
    {
      "cell_type": "code",
      "execution_count": null,
      "metadata": {
        "id": "Yku6th52wO8d"
      },
      "outputs": [],
      "source": [
        "arr1 = np.array([[[ 1,  2, 3,  4]],\n",
        " [[ 5,  6 , 7  ,8]],\n",
        " [[ 9 ,10 ,11,12]],\n",
        " [[13, 14, 15 ,16]],\n",
        " [[17 ,18 ,19, 20]]])\n",
        "\n",
        "\n",
        "print(arr1.shape)\n",
        "arr2 = np.array([[[100], [200], [300]]])\n",
        "print(arr2.shape)\n",
        "(arr1 + arr2).shape\n"
      ]
    },
    {
      "cell_type": "code",
      "execution_count": null,
      "metadata": {
        "id": "-ncY5xy4FUZ7"
      },
      "outputs": [],
      "source": [
        "class Conv1D:\n",
        "    def __init__(self) -> None:\n",
        "        pass"
      ]
    },
    {
      "cell_type": "code",
      "execution_count": null,
      "metadata": {
        "id": "Mu48c478TJcU"
      },
      "outputs": [],
      "source": [
        "len(images_train), len(images_test), len(labels_train), len(labels_test)"
      ]
    },
    {
      "cell_type": "code",
      "execution_count": null,
      "metadata": {
        "id": "TmP5ALgbZpUp"
      },
      "outputs": [],
      "source": [
        "import torch\n",
        "import torch.nn as nn\n",
        "\n",
        "# Example logits (before softmax) for 3 samples and 10 classes\n",
        "logits = torch.tensor([[2.0, 1.0, 0.1, -0.5, 3.0, -1.2, 0.8, 2.5, -0.7, 0.5],\n",
        "                       [1.5, 2.1, 0.3, 0.8, -1.0, -2.5, 3.2, -0.1, 1.0, 2.8],\n",
        "                       [0.2, -1.3, 2.8, 0.7, 1.5, 0.9, -0.6, 3.1, -2.0, 1.7]])\n",
        "\n",
        "# True labels (not one-hot encoded)\n",
        "labels = torch.tensor([4, 6, 7])  # Correct classes for each sample\n",
        "\n",
        "# Define CrossEntropyLoss\n",
        "loss_fn = nn.CrossEntropyLoss()\n",
        "\n",
        "# Compute loss\n",
        "loss = loss_fn(logits, labels)\n",
        "print(\"CrossEntropyLoss:\", loss.item())\n"
      ]
    },
    {
      "cell_type": "markdown",
      "metadata": {
        "id": "CbgoZDUvfipi"
      },
      "source": [
        "For a single training sample, the loss simplifies to:\n",
        "\n",
        "$$\\mathcal{L} = -\\log(\\hat{y}_{\\text{true_class}})$$\n",
        "where $$\\hat{y}_{\\text{true_class}}$$ is the softmax probability of the correct class."
      ]
    },
    {
      "cell_type": "code",
      "execution_count": null,
      "metadata": {
        "id": "Jhti5ZEAkQ6J"
      },
      "outputs": [],
      "source": [
        "import torch\n",
        "import torch.nn.functional as F\n",
        "\n",
        "logits = torch.tensor([\n",
        "    [2.0, 1.0, -1.0, 0.5],\n",
        "    [0.2, -0.5, 2.5, 1.2],\n",
        "    [1.5, 2.0, 1.8, 3.0]\n",
        "], requires_grad=True)\n",
        "\n",
        "labels = torch.tensor([0, 2, 3])\n",
        "\n",
        "# Compute loss\n",
        "loss = F.cross_entropy(logits, labels)\n",
        "loss.backward()\n",
        "\n",
        "print(\"PyTorch Cross-Entropy Loss:\", loss.item())\n",
        "print(\"Gradients w.r.t. Logits:\\n\", logits.grad)\n"
      ]
    },
    {
      "cell_type": "code",
      "execution_count": null,
      "metadata": {
        "id": "fgfHTbXxkXzc"
      },
      "outputs": [],
      "source": [
        "import numpy as np\n",
        "\n",
        "def softmax(logits):\n",
        "    exp_logits = np.exp(logits - np.max(logits, axis=1, keepdims=True))  # Prevent overflow\n",
        "    return exp_logits / np.sum(exp_logits, axis=1, keepdims=True)\n",
        "\n",
        "\n",
        "def cross_entropy_loss(logits, labels):\n",
        "    probs = softmax(logits)\n",
        "    num_samples = logits.shape[0]\n",
        "\n",
        "    # Select only the true class probabilities\n",
        "    correct_log_probs = -np.log(probs[np.arange(num_samples), labels])\n",
        "\n",
        "    # Compute average loss\n",
        "    loss = np.mean(correct_log_probs)\n",
        "\n",
        "    return loss, probs\n",
        "\n",
        "\n",
        "def cross_entropy_backward(logits, labels):\n",
        "    probs = softmax(logits)\n",
        "    num_samples = logits.shape[0]\n",
        "\n",
        "    # Compute gradient (probs - y)\n",
        "    grad_logits = probs\n",
        "    grad_logits[np.arange(num_samples), labels] -= 1  # Subtract 1 from true class positions\n",
        "    grad_logits /= num_samples  # Normalize over batch\n",
        "\n",
        "    return grad_logits\n",
        "\n",
        "# Example\n",
        "logits = np.array([\n",
        "    [2.0, 1.0, -1.0, 0.5],  # Sample 1\n",
        "    [0.2, -0.5, 2.5, 1.2],  # Sample 2\n",
        "    [1.5, 2.0, 1.8, 3.0]   # Sample 3\n",
        "])\n",
        "\n",
        "labels = np.array([0, 2, 3])  # True class indices\n",
        "\n",
        "# Compute loss and gradients\n",
        "loss, probs = cross_entropy_loss(logits, labels)\n",
        "grad_logits = cross_entropy_backward(logits, labels)\n",
        "\n",
        "print(\"Softmax Probabilities:\\n\", probs)\n",
        "print(\"Cross-Entropy Loss:\", loss)\n",
        "print(\"Gradient w.r.t. Logits:\\n\", grad_logits)\n"
      ]
    },
    {
      "cell_type": "code",
      "execution_count": null,
      "metadata": {
        "id": "kWbyWYIAS7GJ"
      },
      "outputs": [],
      "source": [
        "mnist = MNISTLoader()"
      ]
    },
    {
      "cell_type": "code",
      "execution_count": null,
      "metadata": {
        "id": "h3oTlCcWTDbZ"
      },
      "outputs": [],
      "source": [
        "images_train, labels_train = mnist.load()\n",
        "images_test, labels_test = mnist.load(train=False)"
      ]
    },
    {
      "cell_type": "code",
      "execution_count": null,
      "metadata": {
        "id": "u8k9ble5pnSK"
      },
      "outputs": [],
      "source": [
        "images_train = images_train.reshape(-1, 28 * 28).astype(np.float32)/255\n",
        "images_test = images_test.reshape(-1, 28 * 28).astype(np.float32)/255\n"
      ]
    },
    {
      "cell_type": "code",
      "execution_count": null,
      "metadata": {
        "id": "KROQLDuMqY-s"
      },
      "outputs": [],
      "source": [
        "import numpy as np\n",
        "\n",
        "def sigmoid(z):\n",
        "    return 1 / (1 + np.exp(-np.clip(z, -250, 250)))\n",
        "\n",
        "def sigmoid_derivative(z):\n",
        "    delta = sigmoid(z)\n",
        "    return delta * (1 - delta)\n",
        "\n",
        "# Activation Functions\n",
        "def relu(x):\n",
        "    return np.maximum(0, x)\n",
        "\n",
        "def relu_derivative(x):\n",
        "    return (x > 0).astype(float)\n",
        "\n",
        "# Softmax Function\n",
        "def softmax(logits):\n",
        "    exp_logits = np.exp(logits - np.max(logits, axis=1, keepdims=True))  # Prevent overflow\n",
        "    return exp_logits / np.sum(exp_logits, axis=1, keepdims=True)\n",
        "\n",
        "# Cross Entropy Loss\n",
        "#def cross_entropy_loss(logits, labels):\n",
        "def cross_entropy_loss(probs, labels):\n",
        "    #probs = softmax(logits)\n",
        "    #num_samples = logits.shape[0]\n",
        "    num_samples = labels.shape[0]\n",
        "\n",
        "    # Select only the true class probabilities\n",
        "    correct_log_probs = -np.log(probs[np.arange(num_samples), labels])\n",
        "\n",
        "    # Compute average loss\n",
        "    loss = np.mean(correct_log_probs)\n",
        "\n",
        "    return loss, probs\n",
        "\n",
        "# Backpropagation for Cross Entropy\n",
        "def cross_entropy_backward(logits, labels):\n",
        "    probs = softmax(logits)\n",
        "    num_samples = logits.shape[0]\n",
        "\n",
        "    # Compute gradient (probs - y)\n",
        "    grad_logits = probs\n",
        "    grad_logits[np.arange(num_samples), labels] -= 1  # Subtract 1 from true class positions\n",
        "    grad_logits /= num_samples  # Normalize over batch\n",
        "\n",
        "    return grad_logits\n",
        "\n",
        "# Initialize Weights and Biases\n",
        "np.random.seed(42)\n",
        "weights_layer_1 = np.random.randn(512, 784) * np.sqrt(2.0 / 784)\n",
        "weights_layer_2 = np.random.randn(10, 512) * np.sqrt(2.0 / 512)\n",
        "#bias_layer_1 = np.zeros((512,))\n",
        "#bias_layer_2 = np.zeros((10,))\n",
        "\n",
        "# Training Hyperparameters\n",
        "learning_rate = 0.01\n",
        "num_epochs = 25\n",
        "batch_size = 128\n",
        "\n",
        "losses = []\n",
        "for epoch in range(num_epochs):\n",
        "    for i in range(0, len(images_train), batch_size):\n",
        "        start = i\n",
        "        end = i + batch_size\n",
        "        input_batch, target_batch = images_train[start:end], labels_train[start:end]\n",
        "\n",
        "        # Forward Pass\n",
        "        #z1 = input_batch.dot(weights_layer_1.T) + bias_layer_1\n",
        "        z1 = input_batch.dot(weights_layer_1.T)\n",
        "        a1 = sigmoid(z1)\n",
        "        #z2 = a1.dot(weights_layer_2.T) + bias_layer_2\n",
        "        z2 = a1.dot(weights_layer_2.T)\n",
        "        a2 = softmax(z2)\n",
        "\n",
        "        # Compute Loss\n",
        "        #loss, probs = cross_entropy_loss(z2, target_batch)\n",
        "        loss, probs = cross_entropy_loss(a2, target_batch)\n",
        "\n",
        "        # Backward Pass\n",
        "        grad_logits_2 = cross_entropy_backward(z2, target_batch)\n",
        "        weights_layer_2_gradient = a1.T.dot(grad_logits_2)\n",
        "        #bias_layer_2_gradient = np.sum(grad_logits_2, axis=0)\n",
        "\n",
        "        delta_layer_1 = grad_logits_2.dot(weights_layer_2)\n",
        "        grad_logits_1 = delta_layer_1 * (a1 * (1 -a1 ))\n",
        "        weights_layer_1_gradient = input_batch.T.dot(grad_logits_1)\n",
        "        #bias_layer_1_gradient = np.sum(grad_logits_1, axis=0)\n",
        "\n",
        "        # Update Weights and Biases\n",
        "        weights_layer_2 -= learning_rate * weights_layer_2_gradient.T\n",
        "        #bias_layer_2 -= learning_rate * bias_layer_2_gradient\n",
        "        weights_layer_1 -= learning_rate * weights_layer_1_gradient.T\n",
        "        #bias_layer_1 -= learning_rate * bias_layer_1_gradient\n",
        "\n",
        "    print(f\"Epoch {epoch+1}/{num_epochs} Loss: {loss}\")\n",
        "    losses.append(loss)\n"
      ]
    },
    {
      "cell_type": "code",
      "execution_count": null,
      "metadata": {
        "id": "ln7RbijvW2Fy"
      },
      "outputs": [],
      "source": [
        "import matplotlib.pyplot as plt\n",
        "\n",
        "# Plot loss over epochs\n",
        "plt.plot(range(1, len(losses) + 1), losses, marker='o', linestyle='-')\n",
        "\n",
        "# Labels and title\n",
        "plt.xlabel('Epoch')\n",
        "plt.ylabel('Loss')\n",
        "plt.title('Training Loss Curve')\n",
        "\n",
        "# Show the plot\n",
        "plt.grid()\n",
        "plt.show()\n"
      ]
    },
    {
      "cell_type": "code",
      "execution_count": null,
      "metadata": {
        "id": "L49dKmf02_Sc"
      },
      "outputs": [],
      "source": [
        "a1.shape, weights_layer_2.shape, weights_layer_2_gradient.shape, z2.shape, grad_logits_2.shape, a1.shape"
      ]
    },
    {
      "cell_type": "code",
      "execution_count": null,
      "metadata": {
        "id": "SoKfsHAPFUVx"
      },
      "outputs": [],
      "source": [
        "# example of the xavier weight initialization\n",
        "from math import sqrt\n",
        "from numpy import mean\n",
        "from numpy.random import rand\n",
        "# number of nodes in the previous layer\n",
        "n = 10\n",
        "# calculate the range for the weights\n",
        "lower, upper = -(1.0 / sqrt(n)), (1.0 / sqrt(n))\n",
        "# generate random numbers\n",
        "numbers = rand(1000)\n",
        "# scale to the desired range\n",
        "scaled = lower + numbers * (upper - lower)\n",
        "# summarize\n",
        "print(lower, upper)\n",
        "print(scaled.min(), scaled.max())\n",
        "print(scaled.mean(), scaled.std())"
      ]
    },
    {
      "cell_type": "code",
      "execution_count": null,
      "metadata": {
        "id": "wuMy2jd7S2TJ"
      },
      "outputs": [],
      "source": [
        "n=100\n",
        "lower, upper = -(1.0 / sqrt(n)), (1.0 / sqrt(n))\n",
        "print(lower, upper)\n",
        "print(upper - lower)"
      ]
    },
    {
      "cell_type": "code",
      "execution_count": null,
      "metadata": {
        "id": "7fLkbxg3UgTp"
      },
      "outputs": [],
      "source": [
        "np.random.seed(42)\n",
        "n_inputs = 5\n",
        "lower, upper = -np.sqrt(6/ n_inputs), np.sqrt(6/ n_inputs)\n",
        "\n",
        "this = np.random.normal(lower, upper, (2, n_inputs))\n",
        "\n",
        "\n",
        "# generate random numbers\n",
        "numbers = np.random.rand(2, n_inputs)\n",
        "# scale to the desired range\n",
        "that = lower + numbers * (upper - lower)\n",
        "print(this)\n",
        "print()\n",
        "print(that)"
      ]
    },
    {
      "cell_type": "markdown",
      "metadata": {
        "id": "jTL7fIUogSth"
      },
      "source": [
        "$$\n",
        "W \\sim \\mathcal{N}(0, \\frac{2}{\\text{fan_in}})\n",
        "$$\n",
        "or\n",
        "$$\n",
        "W \\sim U\\left(-\\sqrt{\\frac{6}{\\text{fan_in}}}, \\sqrt{\\frac{6}{\\text{fan_in}}}\\right)\n",
        "$$\n",
        "\n",
        "\n",
        "Formula:\n",
        "\n",
        "$$W \\sim \\mathcal{N}(0, \\frac{1}{\\text{fan_avg}})$$\n",
        "or\n",
        "$$\n",
        "W \\sim U\\left(-\\sqrt{\\frac{6}{\\text{fan_avg}}}, \\sqrt{\\frac{6}{\\text{fan_avg}}}\\right)\n",
        "$$\n",
        "where fan_avg is the average of input and output neurons:\n",
        "$$\n",
        "\\text{fan_avg} = \\frac{\\text{fan_in} + \\text{fan_out}}{2}\n",
        "$$\n",
        "\n",
        "\n",
        "\n",
        "ReLU / Leaky ReLU\tHe Initialization               $$\\frac{2}{\\text{fan_in}}$$\n",
        "Sigmoid / Tanh\t        Xavier Initialization\t         $$\\frac{1}{\\text{fan_avg}}$$\n",
        "Linear\t                Standard Normal (small scale)\t $$\\frac{1}{\\text{fan_in}}$$"
      ]
    },
    {
      "cell_type": "code",
      "execution_count": null,
      "metadata": {
        "id": "YerE7rIgCFct"
      },
      "outputs": [],
      "source": [
        "np.random.randn(2,3), np.random.rand(2,3)"
      ]
    },
    {
      "cell_type": "code",
      "execution_count": null,
      "metadata": {
        "id": "q5Typp5GRHwH"
      },
      "outputs": [],
      "source": [
        "import numpy as np\n",
        "\n",
        "def cross_entropy_loss(probs, labels, epsilon=1e-10):\n",
        "    num_samples = probs.shape[0]\n",
        "    correct_log_probs = -np.log(np.clip(probs[np.arange(num_samples), labels], epsilon, 1.0))\n",
        "    return np.mean(correct_log_probs)\n",
        "\n",
        "\n",
        "# Backpropagation for Cross Entropy\n",
        "def cross_entropy_backward(probs, labels):\n",
        "    num_samples = probs.shape[0]\n",
        "    grad_logits = probs.copy()  # Create a copy to avoid modifying probs directly\n",
        "    grad_logits[np.arange(num_samples), labels] -= 1\n",
        "    grad_logits /= num_samples\n",
        "    return grad_logits\n",
        "\n",
        "# Softmax Function\n",
        "def softmax(logits):\n",
        "    exp_logits = np.exp(logits - np.max(logits, axis=1, keepdims=True))  # Prevent overflow\n",
        "    return exp_logits / np.sum(exp_logits, axis=1, keepdims=True)\n",
        "\n",
        "def relu(x):\n",
        "    return np.maximum(0, x)\n",
        "\n",
        "def relu_derivative(x):\n",
        "    return (x > 0).astype(float)\n",
        "\n",
        "np.random.seed(42)\n",
        "learning_rate = 0.0145\n",
        "num_epochs = 50\n",
        "batch_size = 512\n",
        "\n",
        "num_inputs = 784\n",
        "num_outputs = 512\n",
        "#Layer 1\n",
        "weights_layer_1 = np.random.randn(num_outputs, num_inputs) * np.sqrt(2.0 / num_inputs)\n",
        "bias_layer_1 = np.zeros((num_outputs,))\n",
        "\n",
        "#Layer 2\n",
        "num_inputs  = num_outputs\n",
        "num_outputs = 256\n",
        "weights_layer_2 = np.random.randn(num_outputs, num_inputs) * np.sqrt(2.0 / num_inputs)\n",
        "bias_layer_2 = np.zeros((num_outputs,))\n",
        "\n",
        "#Layer 3\n",
        "num_inputs  = num_outputs\n",
        "num_outputs = 64\n",
        "\n",
        "weights_layer_3 = np.random.randn(num_outputs, num_inputs) * np.sqrt(2.0 / num_inputs)\n",
        "bias_layer_3 = np.zeros((num_outputs,))\n",
        "\n",
        "#Layer 4\n",
        "num_inputs  = num_outputs\n",
        "num_outputs = 32\n",
        "\n",
        "weights_layer_4 = np.random.randn(num_outputs, num_inputs) * np.sqrt(2.0 / num_inputs)\n",
        "bias_layer_4 = np.zeros((num_outputs,))\n",
        "\n",
        "#Output layer\n",
        "num_inputs  = num_outputs\n",
        "num_outputs = 10\n",
        "limit = np.sqrt(6 / ((num_inputs + num_outputs) / 2))\n",
        "weights_layer_5 = np.random.uniform(-limit, limit, (num_outputs, num_inputs))\n",
        "bias_layer_5 = np.zeros((num_outputs,))\n",
        "momentum = 0.9\n",
        "velocities = {}\n",
        "\n",
        "velocities.update({'weights_layer_1': np.zeros_like(weights_layer_1)})\n",
        "velocities.update({'bias_layer_1': np.zeros_like(bias_layer_1)})\n",
        "\n",
        "velocities.update({'weights_layer_2': np.zeros_like(weights_layer_2)})\n",
        "velocities.update({'bias_layer_2': np.zeros_like(bias_layer_2)})\n",
        "\n",
        "velocities.update({'weights_layer_3': np.zeros_like(weights_layer_3)})\n",
        "velocities.update({'bias_layer_3': np.zeros_like(bias_layer_3)})\n",
        "\n",
        "velocities.update({'weights_layer_4': np.zeros_like(weights_layer_4)})\n",
        "velocities.update({'bias_layer_4': np.zeros_like(bias_layer_4)})\n",
        "\n",
        "velocities.update({'weights_layer_5': np.zeros_like(weights_layer_5)})\n",
        "velocities.update({'bias_layer_5': np.zeros_like(bias_layer_5)})\n",
        "\n"
      ]
    },
    {
      "cell_type": "code",
      "execution_count": null,
      "metadata": {
        "id": "fvvIC3w0zjF0"
      },
      "outputs": [],
      "source": [
        "losses = []\n",
        "num_examples = len(images_train)\n",
        "for epoch in range(num_epochs):\n",
        "    for i in range((num_examples - 1) // batch_size + 1):\n",
        "    #for i in range(0, len(images_train), batch_size):\n",
        "\n",
        "        start = i * batch_size\n",
        "        end = start + batch_size\n",
        "        input, target = images_train[start:end], labels_train[start:end]\n",
        "\n",
        "        pre_activation_1 = input @ weights_layer_1.T + bias_layer_1\n",
        "        #activation_1 = sigmoid(pre_activation_1)\n",
        "        activation_1 = relu(pre_activation_1)\n",
        "\n",
        "        pre_activation_2 = activation_1 @ weights_layer_2.T + bias_layer_2\n",
        "        #activation_2 = sigmoid(pre_activation_2)\n",
        "        activation_2 = relu(pre_activation_2)\n",
        "\n",
        "        pre_activation_3 = activation_2 @ weights_layer_3.T + bias_layer_3\n",
        "        #activation_3 = sigmoid(pre_activation_3)\n",
        "        activation_3 = relu(pre_activation_3)\n",
        "\n",
        "        pre_activation_4 = activation_3 @ weights_layer_4.T + bias_layer_4\n",
        "        #activation_4 = sigmoid(pre_activation_4)\n",
        "        activation_4 = relu(pre_activation_4)\n",
        "\n",
        "\n",
        "        logits = activation_4 @ weights_layer_5.T + bias_layer_5\n",
        "        output_probas = softmax(logits)\n",
        "\n",
        "\n",
        "        #Calculate loss\n",
        "        loss = cross_entropy_loss(output_probas, target)\n",
        "        #Backpropagation\n",
        "        grad_logits = cross_entropy_backward(output_probas, target)\n",
        "\n",
        "        delta_layer_4 = grad_logits @ weights_layer_5\n",
        "        #delta_layer_4 *= activation_4 * (1 - activation_4)\n",
        "        delta_layer_4 *= relu_derivative(pre_activation_4)\n",
        "\n",
        "        delta_layer_3 = delta_layer_4 @ weights_layer_4\n",
        "\n",
        "        #delta_layer_3 *= activation_3 * (1 - activation_3)\n",
        "        delta_layer_3 *= relu_derivative(pre_activation_3)\n",
        "        delta_layer_2 = delta_layer_3 @ weights_layer_3\n",
        "        #delta_layer_2 *= activation_2 * (1 - activation_2)\n",
        "        delta_layer_2 *= relu_derivative(pre_activation_2)\n",
        "        delta_layer_1 = delta_layer_2 @ weights_layer_2\n",
        "        #delta_layer_1 *= activation_1 * (1 - activation_1)\n",
        "        delta_layer_1 *= relu_derivative(pre_activation_1)\n",
        "\n",
        "\n",
        "        weights_layer_5_gradient = grad_logits.T @ activation_4\n",
        "        bias_layer_5_gradient = np.mean(grad_logits, axis=0)\n",
        "        weights_layer_4_gradient = delta_layer_4.T @ activation_3\n",
        "        bias_layer_4_gradient = np.mean(delta_layer_4, axis=0)\n",
        "        weights_layer_3_gradient = delta_layer_3.T @ activation_2\n",
        "        bias_layer_3_gradient = np.mean(delta_layer_3, axis=0)\n",
        "        weights_layer_2_gradient = delta_layer_2.T @ activation_1\n",
        "        bias_layer_2_gradient = np.mean(delta_layer_2, axis=0)\n",
        "        weights_layer_1_gradient = delta_layer_1.T @ input\n",
        "        bias_layer_1_gradient = np.mean(delta_layer_1, axis=0)\n",
        "\n",
        "        velocities['weights_layer_5'] = momentum * velocities['weights_layer_5'] + learning_rate * weights_layer_5_gradient\n",
        "        weights_layer_5 -= velocities['weights_layer_5']\n",
        "\n",
        "        velocities['bias_layer_5'] = momentum * velocities['bias_layer_5'] + learning_rate * bias_layer_5_gradient\n",
        "        bias_layer_5 -= velocities['bias_layer_5']\n",
        "\n",
        "        velocities['weights_layer_4'] = momentum * velocities['weights_layer_4'] + learning_rate * weights_layer_4_gradient\n",
        "\n",
        "        velocities['bias_layer_4'] = momentum * velocities['bias_layer_4'] + learning_rate * bias_layer_4_gradient\n",
        "\n",
        "        #TODO\n",
        "\n",
        "        weights_layer_4 -= velocities['weights_layer_4']\n",
        "        bias_layer_4 -= velocities['bias_layer_4']\n",
        "\n",
        "        velocities['weights_layer_3'] = momentum * velocities['weights_layer_3'] + learning_rate * weights_layer_3_gradient\n",
        "\n",
        "        velocities['bias_layer_3'] = momentum * velocities['bias_layer_3'] + learning_rate * bias_layer_3_gradient\n",
        "\n",
        "\n",
        "\n",
        "        weights_layer_3 -= velocities['weights_layer_3']\n",
        "        bias_layer_3 -= velocities['bias_layer_3']\n",
        "\n",
        "\n",
        "        velocities['weights_layer_2'] = momentum * velocities['weights_layer_2'] + learning_rate * weights_layer_2_gradient\n",
        "\n",
        "        velocities['bias_layer_2'] = momentum * velocities['bias_layer_2'] + learning_rate * bias_layer_2_gradient\n",
        "\n",
        "\n",
        "\n",
        "        weights_layer_2 -= velocities['weights_layer_2']\n",
        "        bias_layer_2 -= velocities['bias_layer_2']\n",
        "\n",
        "        velocities['weights_layer_1'] = momentum * velocities['weights_layer_1'] + learning_rate * weights_layer_1_gradient\n",
        "\n",
        "        velocities['bias_layer_1'] = momentum * velocities['bias_layer_1'] + learning_rate * bias_layer_1_gradient\n",
        "\n",
        "\n",
        "        weights_layer_1 -= velocities['weights_layer_1']\n",
        "        bias_layer_1 -= velocities['bias_layer_1']\n",
        "\n",
        "    print(f\"Epoch {epoch+1}/{num_epochs} Loss: {loss}\")\n",
        "    losses.append(loss)\n"
      ]
    },
    {
      "cell_type": "code",
      "execution_count": null,
      "metadata": {
        "id": "1JhrfdE1x1Iw"
      },
      "outputs": [],
      "source": [
        "import matplotlib.pyplot as plt\n",
        "\n",
        "# Plot loss over epochs\n",
        "plt.plot(range(1, len(losses) + 1), losses, marker='o', linestyle='-')\n",
        "#plt.plot(range(1, len(losses) + 1), losses)\n",
        "\n",
        "# Labels and title\n",
        "plt.xlabel('Epoch')\n",
        "plt.ylabel('Loss')\n",
        "plt.title('Training Loss Curve')\n",
        "\n",
        "# Show the plot\n",
        "plt.grid()\n",
        "plt.show()\n"
      ]
    },
    {
      "cell_type": "code",
      "execution_count": null,
      "metadata": {
        "id": "Js9nT0pCqOHb"
      },
      "outputs": [],
      "source": [
        "import numpy as np\n",
        "\n",
        "\n",
        "# Save them all in one file\n",
        "np.savez(\"mnint_params.npz\", weights_layer_1=weights_layer_1, bias_layer_1=bias_layer_1, weights_layer_2=weights_layer_2, bias_layer_2=bias_layer_2, weights_layer_3=weights_layer_3, bias_layer_3=bias_layer_3, weights_layer_4=weights_layer_4, bias_layer_4=bias_layer_4, weights_layer_5=weights_layer_5, bias_layer_5=bias_layer_5)\n",
        "\n",
        "loaded = np.load(\"mnint_params.npz\")\n",
        "\n",
        "# Access individual arrays\n",
        "weights_layer_1_reloaded = loaded[\"weights_layer_1\"]\n",
        "bias_layer_1_reloaded = loaded[\"bias_layer_1\"]\n",
        "\n",
        "weights_layer_2_reloaded = loaded[\"weights_layer_2\"]\n",
        "bias_layer_2_reloaded = loaded[\"bias_layer_2\"]\n",
        "\n",
        "weights_layer_3_reloaded = loaded[\"weights_layer_3\"]\n",
        "bias_layer_3_reloaded = loaded[\"bias_layer_3\"]\n",
        "\n",
        "\n",
        "weights_layer_4_reloaded = loaded[\"weights_layer_4\"]\n",
        "bias_layer_4_reloaded = loaded[\"bias_layer_4\"]\n",
        "\n",
        "\n",
        "weights_layer_5_reloaded = loaded[\"weights_layer_5\"]\n",
        "bias_layer_5_reloaded = loaded[\"bias_layer_5\"]\n",
        "\n",
        "\n",
        "print(weights_layer_2_reloaded.shape)\n",
        "print(weights_layer_2.shape)\n"
      ]
    },
    {
      "cell_type": "code",
      "execution_count": null,
      "metadata": {
        "id": "54J0AzK1tJxy"
      },
      "outputs": [],
      "source": [
        "weights_layer_2_reloaded.dtype, weights_layer_2.dtype"
      ]
    },
    {
      "cell_type": "code",
      "execution_count": null,
      "metadata": {
        "id": "zAV8thfX3_Fc"
      },
      "outputs": [],
      "source": [
        "layers = [(weights_layer_1_reloaded, bias_layer_1_reloaded), (weights_layer_2_reloaded, bias_layer_2_reloaded), (weights_layer_3_reloaded, bias_layer_3_reloaded), (weights_layer_4_reloaded, bias_layer_4_reloaded), (weights_layer_5_reloaded, bias_layer_5_reloaded)]"
      ]
    },
    {
      "cell_type": "code",
      "execution_count": null,
      "metadata": {
        "id": "Bad3AA1K4VIb"
      },
      "outputs": [],
      "source": [
        "test_images, test_labels = images_test, labels_test\n"
      ]
    },
    {
      "cell_type": "code",
      "execution_count": null,
      "metadata": {
        "id": "z2sBf7yTyUZM"
      },
      "outputs": [],
      "source": [
        "def predict(input, layers):\n",
        "    in_out = input\n",
        "    for layer_index in range(len(layers)-1):\n",
        "        layer = layers[layer_index]\n",
        "        weights, bias = layer\n",
        "        in_out = relu(in_out @ weights.T + bias)\n",
        "    output_layer = layers[-1]\n",
        "    weights, bias = output_layer\n",
        "    output = softmax(in_out @ weights.T + bias)\n",
        "    return output\n"
      ]
    },
    {
      "cell_type": "code",
      "execution_count": null,
      "metadata": {
        "id": "lEHwYxgk585x"
      },
      "outputs": [],
      "source": [
        "output = predict(test_images, layers)"
      ]
    },
    {
      "cell_type": "code",
      "execution_count": null,
      "metadata": {
        "id": "LqB7GgTQA1sF"
      },
      "outputs": [],
      "source": [
        "acc = (np.sum(output.argmax(axis=1)== test_labels))/len(test_labels)\n",
        "acc * 100"
      ]
    },
    {
      "cell_type": "code",
      "execution_count": null,
      "metadata": {
        "id": "i9UU88hLFhCi"
      },
      "outputs": [],
      "source": [
        "import tensorflow as tf\n",
        "\n",
        "model = tf.keras.Sequential([\n",
        "    tf.keras.layers.Dense(512, activation=\"relu\", input_shape=(784,)),\n",
        "    tf.keras.layers.Dense(256, activation=\"relu\", input_shape=(512,)),\n",
        "    tf.keras.layers.Dense(64, activation=\"relu\", input_shape=(256,)),\n",
        "    tf.keras.layers.Dense(32, activation=\"relu\", input_shape=(64,)),\n",
        "    tf.keras.layers.Dense(10, activation=\"softmax\", input_shape=(32,))\n",
        "])\n",
        "\n",
        "# Load the weights\n",
        "data = np.load(\"mnint_params.npz\")\n",
        "\n",
        "# Set the loaded weights and biases to the first Dense layer\n",
        "model.layers[0].set_weights([data[\"weights_layer_1\"].T, data[\"bias_layer_1\"]])\n",
        "  # Transpose weights\n",
        "model.layers[1].set_weights([data[\"weights_layer_2\"].T, data[\"bias_layer_2\"]])\n",
        "model.layers[2].set_weights([data[\"weights_layer_3\"].T, data[\"bias_layer_3\"]])\n",
        "model.layers[3].set_weights([data[\"weights_layer_4\"].T, data[\"bias_layer_4\"]])\n",
        "model.layers[4].set_weights([data[\"weights_layer_5\"].T, data[\"bias_layer_5\"]])\n"
      ]
    },
    {
      "cell_type": "code",
      "execution_count": null,
      "metadata": {
        "id": "v107WbQiICXA"
      },
      "outputs": [],
      "source": [
        "from tensorflow.keras.datasets import mnist"
      ]
    },
    {
      "cell_type": "code",
      "execution_count": null,
      "metadata": {
        "id": "lLjB55TCIFxv"
      },
      "outputs": [],
      "source": [
        "(x_train, y_train), (x_test, y_test) = mnist.load_data()"
      ]
    },
    {
      "cell_type": "code",
      "execution_count": null,
      "metadata": {
        "id": "0Aue43f8IIGl"
      },
      "outputs": [],
      "source": [
        "type(x_train), x_train.dtype, x_train.shape"
      ]
    },
    {
      "cell_type": "code",
      "execution_count": null,
      "metadata": {
        "id": "yKimQ3_bITUI"
      },
      "outputs": [],
      "source": [
        "print(model.dtype)"
      ]
    },
    {
      "cell_type": "code",
      "execution_count": null,
      "metadata": {
        "id": "s2OBRld7I-mm"
      },
      "outputs": [],
      "source": [
        "predictions = model.predict(test_images)\n",
        "\n",
        "# Convert softmax probabilities to class labels\n",
        "predicted_labels = np.argmax(predictions, axis=1)"
      ]
    },
    {
      "cell_type": "code",
      "execution_count": null,
      "metadata": {
        "id": "G0qa6_FyJIS9"
      },
      "outputs": [],
      "source": [
        "predicted_labels.shape, test_labels.shape"
      ]
    },
    {
      "cell_type": "code",
      "execution_count": null,
      "metadata": {
        "id": "vX8Qf_MnJXi0"
      },
      "outputs": [],
      "source": [
        "acc_tf = (np.sum(predicted_labels == test_labels))/len(test_labels)\n",
        "acc_tf * 100"
      ]
    },
    {
      "cell_type": "code",
      "execution_count": null,
      "metadata": {
        "id": "e-9HZuZIKwJf"
      },
      "outputs": [],
      "source": [
        "import torch\n",
        "import torch.nn as nn"
      ]
    },
    {
      "cell_type": "code",
      "execution_count": null,
      "metadata": {
        "id": "05m_tFgdK3Ke"
      },
      "outputs": [],
      "source": [
        "model = nn.Sequential(nn.Linear(784, 512),\n",
        "                      nn.ReLU(),\n",
        "                      nn.Linear(512, 256),\n",
        "                      nn.ReLU(),\n",
        "                      nn.Linear(256, 64),\n",
        "                      nn.ReLU(),\n",
        "                      nn.Linear(64, 32),\n",
        "                      nn.ReLU(),\n",
        "                      nn.Linear(32, 10),\n",
        "                      nn.Softmax()\n",
        ")\n"
      ]
    },
    {
      "cell_type": "code",
      "execution_count": null,
      "metadata": {
        "id": "iUKa_RNXNL63"
      },
      "outputs": [],
      "source": [
        "# # Load saved weights\n",
        "# import numpy as np\n",
        "# import torch\n",
        "# import torch.nn as nn\n",
        "\n",
        "# # Define model\n",
        "# model = nn.Sequential(\n",
        "#     nn.Linear(784, 512),\n",
        "#     nn.ReLU(),\n",
        "#     nn.Linear(512, 256),\n",
        "#     nn.ReLU(),\n",
        "#     nn.Linear(256, 64),\n",
        "#     nn.ReLU(),\n",
        "#     nn.Linear(64, 32),\n",
        "#     nn.ReLU(),\n",
        "#     nn.Linear(32, 10),\n",
        "#     nn.Softmax(dim=1)\n",
        "# )\n",
        "\n",
        "# Disable gradient tracking for all model parameters\n",
        "for param in model.parameters():\n",
        "    param.requires_grad_(False)  # No gradients will be computed for these\n",
        "data = np.load(\"mnint_params.npz\")\n",
        "# Assign weights (Transpose needed for PyTorch)\n",
        "model[0].weight = torch.nn.Parameter(torch.tensor(data[\"weights_layer_1\"]), requires_grad=False)\n",
        "model[0].bias = torch.nn.Parameter(torch.tensor(data[\"bias_layer_1\"]), requires_grad=False)\n",
        "\n",
        "model[1].weight = torch.nn.Parameter(torch.tensor(data[\"weights_layer_2\"]), requires_grad=False)\n",
        "model[1].bias = torch.nn.Parameter(torch.tensor(data[\"bias_layer_2\"]), requires_grad=False)\n",
        "\n",
        "model[2].weight = torch.nn.Parameter(torch.tensor(data[\"weights_layer_3\"]), requires_grad=False)\n",
        "model[2].bias = torch.nn.Parameter(torch.tensor(data[\"bias_layer_3\"]), requires_grad=False)\n",
        "\n",
        "model[3].weight = torch.nn.Parameter(torch.tensor(data[\"weights_layer_4\"]), requires_grad=False)\n",
        "model[3].bias = torch.nn.Parameter(torch.tensor(data[\"bias_layer_4\"]), requires_grad=False)\n",
        "\n",
        "model[4].weight = torch.nn.Parameter(torch.tensor(data[\"weights_layer_5\"]), requires_grad=False)\n",
        "model[4].bias = torch.nn.Parameter(torch.tensor(data[\"bias_layer_5\"]), requires_grad=False)\n"
      ]
    },
    {
      "cell_type": "code",
      "execution_count": null,
      "metadata": {
        "id": "l_Oy5fTtNx7W"
      },
      "outputs": [],
      "source": [
        "tf_output = model(torch.from_numpy(test_images.astype(np.float64)))"
      ]
    },
    {
      "cell_type": "code",
      "execution_count": null,
      "metadata": {
        "id": "u1fOb-CrWS1f"
      },
      "outputs": [],
      "source": [
        "for param in model.parameters():\n",
        "    print(param.shape)"
      ]
    },
    {
      "cell_type": "code",
      "execution_count": null,
      "metadata": {
        "id": "kp6lt4CmWoPR"
      },
      "outputs": [],
      "source": [
        "model"
      ]
    },
    {
      "cell_type": "code",
      "execution_count": null,
      "metadata": {
        "id": "HuBbiPtvdEVw"
      },
      "outputs": [],
      "source": [
        "model[0].weight.shape"
      ]
    },
    {
      "cell_type": "code",
      "execution_count": null,
      "metadata": {
        "id": "HoNEsDQyefSH"
      },
      "outputs": [],
      "source": [
        "import torch.nn.functional as F\n",
        "\n",
        "relu = F.relu\n",
        "softmax = F.softmax\n",
        "\n",
        "linear1 = nn.Linear(784, 512)\n",
        "print(type(linear1.weight))\n",
        "print(linear1.weight.shape)\n",
        "print(linear1.bias.shape)\n",
        "print(data[\"weights_layer_1\"].shape)\n",
        "linear1.weight = torch.nn.Parameter(torch.tensor(data[\"weights_layer_1\"].astype(np.float32)), requires_grad=False)\n",
        "linear1.bias = torch.nn.Parameter(torch.tensor(data[\"bias_layer_1\"].astype(np.float32)), requires_grad=False)\n",
        "linear2 = nn.Linear(512, 256)\n",
        "\n",
        "linear2.weight = torch.nn.Parameter(torch.tensor(data[\"weights_layer_2\"].astype(np.float32)), requires_grad=False)\n",
        "linear2.bias = torch.nn.Parameter(torch.tensor(data[\"bias_layer_2\"].astype(np.float32)), requires_grad=False)\n",
        "\n",
        "\n",
        "linear3 = nn.Linear(256, 64)\n",
        "\n",
        "linear3.weight = torch.nn.Parameter(torch.tensor(data[\"weights_layer_3\"].astype(np.float32)), requires_grad=False)\n",
        "linear3.bias = torch.nn.Parameter(torch.tensor(data[\"bias_layer_3\"].astype(np.float32)), requires_grad=False)\n",
        "\n",
        "\n",
        "linear4 = nn.Linear(64, 32)\n",
        "\n",
        "linear4.weight = torch.nn.Parameter(torch.tensor(data[\"weights_layer_4\"].astype(np.float32)), requires_grad=False)\n",
        "linear4.bias = torch.nn.Parameter(torch.tensor(data[\"bias_layer_4\"].astype(np.float32)), requires_grad=False)\n",
        "\n",
        "\n",
        "linear5 = nn.Linear(32, 10)\n",
        "\n",
        "linear5.weight = torch.nn.Parameter(torch.tensor(data[\"weights_layer_5\"].astype(np.float32)), requires_grad=False)\n",
        "linear5.bias = torch.nn.Parameter(torch.tensor(data[\"bias_layer_5\"].astype(np.float32)), requires_grad=False)\n",
        "\n",
        "\n",
        "\n",
        "pt_output = softmax(relu(linear5(relu(linear4(relu(linear3(relu(linear2(relu(linear1(torch.from_numpy(test_images))))))))))), dim=1)"
      ]
    },
    {
      "cell_type": "code",
      "execution_count": null,
      "metadata": {
        "id": "xqS02iW6kPVa"
      },
      "outputs": [],
      "source": [
        "acc_pt = (sum(pt_output.argmax(axis=1)== test_labels))/len(test_labels)\n",
        "acc_pt.item() * 100"
      ]
    },
    {
      "cell_type": "code",
      "execution_count": null,
      "metadata": {
        "id": "2eEzm3q2khki"
      },
      "outputs": [],
      "source": [
        "pt_output.shape, test_labels.shape"
      ]
    },
    {
      "cell_type": "code",
      "execution_count": null,
      "metadata": {
        "id": "UXFIGWVPkwM1"
      },
      "outputs": [],
      "source": [
        "sum(pt_output.argmax(axis=1) == test_labels)"
      ]
    },
    {
      "cell_type": "code",
      "execution_count": null,
      "metadata": {
        "id": "77Ywm24IpY98"
      },
      "outputs": [],
      "source": [
        "from tensorflow import keras\n",
        "from tensorflow.keras import layers\n",
        "inputs = keras.Input(shape=(28, 28, 1))\n",
        "x = layers.Conv2D(filters=32, kernel_size=3, activation=\"relu\")(inputs)\n",
        "x = layers.MaxPooling2D(pool_size=2)(x)\n",
        "x = layers.Conv2D(filters=64, kernel_size=3, activation=\"relu\")(x)\n",
        "x = layers.MaxPooling2D(pool_size=2)(x)\n",
        "x = layers.Conv2D(filters=128, kernel_size=3, activation=\"relu\")(x)\n",
        "x = layers.Flatten()(x)\n",
        "outputs = layers.Dense(10, activation=\"softmax\")(x)\n",
        "model = keras.Model(inputs=inputs, outputs=outputs)"
      ]
    },
    {
      "cell_type": "code",
      "execution_count": null,
      "metadata": {
        "id": "KPQMKfHfqxz1"
      },
      "outputs": [],
      "source": [
        "model.summary()"
      ]
    },
    {
      "cell_type": "code",
      "execution_count": null,
      "metadata": {
        "id": "Sdpeyppur2nb"
      },
      "outputs": [],
      "source": [
        "x_train.shape, x_train.dtype"
      ]
    },
    {
      "cell_type": "code",
      "execution_count": null,
      "metadata": {
        "id": "s-oIDVK9tUao"
      },
      "outputs": [],
      "source": [
        "test_images.shape, test_images.dtype, images_train.shape, images_train.dtype"
      ]
    },
    {
      "cell_type": "code",
      "execution_count": null,
      "metadata": {
        "id": "bNzDuR6PtwO1"
      },
      "outputs": [],
      "source": [
        "x_train = images_train.reshape(-1, 28, 28, 1)\n",
        "x_test = images_test.reshape(-1, 28, 28, 1)"
      ]
    },
    {
      "cell_type": "code",
      "execution_count": null,
      "metadata": {
        "id": "fisDpNl6uUkN"
      },
      "outputs": [],
      "source": [
        "y_train.shape, y_train.dtype"
      ]
    },
    {
      "cell_type": "code",
      "execution_count": null,
      "metadata": {
        "id": "OnOQEQQvulKT"
      },
      "outputs": [],
      "source": [
        "model.compile(optimizer=\"rmsprop\",\n",
        " loss=\"sparse_categorical_crossentropy\",\n",
        " metrics=[\"accuracy\"])\n"
      ]
    },
    {
      "cell_type": "code",
      "execution_count": null,
      "metadata": {
        "id": "moNRwui-uzXF"
      },
      "outputs": [],
      "source": [
        "model.fit(x_train, y_train, epochs=5, batch_size=64)"
      ]
    },
    {
      "cell_type": "code",
      "execution_count": null,
      "metadata": {
        "id": "kI3PJmJHwNnN"
      },
      "outputs": [],
      "source": [
        "test_loss, test_acc = model.evaluate(x_test, y_test)"
      ]
    },
    {
      "cell_type": "code",
      "execution_count": null,
      "metadata": {
        "id": "t4hwJ8R4wem5"
      },
      "outputs": [],
      "source": [
        "print(f\"Test accuracy: {test_acc:.3f}\")"
      ]
    },
    {
      "cell_type": "code",
      "execution_count": null,
      "metadata": {
        "id": "ND9LC_yhoKlV"
      },
      "outputs": [],
      "source": [
        "num_examples = 10\n",
        "batch_size = 10\n",
        "\n",
        "for i in range((num_examples - 1) // batch_size + 1):\n",
        "#for i in range(0, num_examples// batch_size + 1):\n",
        "    start = i * batch_size\n",
        "    end = start + batch_size\n",
        "    print(start, end)\n"
      ]
    },
    {
      "cell_type": "code",
      "execution_count": null,
      "metadata": {
        "id": "JPtJwlQnaH5D"
      },
      "outputs": [],
      "source": [
        "!kaggle competitions download -c dogs-vs-cats"
      ]
    },
    {
      "cell_type": "code",
      "execution_count": null,
      "metadata": {
        "id": "D4DSCZhRci4k"
      },
      "outputs": [],
      "source": [
        "from google.colab import files\n",
        "files.upload()"
      ]
    },
    {
      "cell_type": "code",
      "execution_count": null,
      "metadata": {
        "id": "84nxavnmcwSK"
      },
      "outputs": [],
      "source": [
        "!mkdir ~/.kaggle\n",
        "!cp kaggle.json ~/.kaggle/\n",
        "!chmod 600 ~/.kaggle/kaggle.json"
      ]
    },
    {
      "cell_type": "code",
      "execution_count": null,
      "metadata": {
        "id": "Vw0XCEyQc52a"
      },
      "outputs": [],
      "source": [
        "!kaggle competitions download -c dogs-vs-cats"
      ]
    },
    {
      "cell_type": "code",
      "execution_count": null,
      "metadata": {
        "id": "wP5ekl5LfhUi"
      },
      "outputs": [],
      "source": [
        "!kaggle competitions download -c dogs-vs-cats"
      ]
    },
    {
      "cell_type": "code",
      "execution_count": null,
      "metadata": {
        "id": "mGXixGwPhLT1"
      },
      "outputs": [],
      "source": [
        "!wget https://www.kaggle.com/c/dogs-vs-cats/data?select=train.zip"
      ]
    },
    {
      "cell_type": "code",
      "execution_count": null,
      "metadata": {
        "id": "Lxx8Nn1ui0wi"
      },
      "outputs": [],
      "source": [
        "import kagglehub\n",
        "\n",
        "# Download latest version\n",
        "path = kagglehub.dataset_download(\"sarimr/dogs-vs-cats-dataset\")\n",
        "\n",
        "print(\"Path to dataset files:\", path)"
      ]
    },
    {
      "cell_type": "code",
      "execution_count": null,
      "metadata": {
        "id": "Fzcx7K9ZjFCi"
      },
      "outputs": [],
      "source": [
        "!mv /content/dogs-vs-cats/train/train/* /content/dogs-vs-cats/train"
      ]
    },
    {
      "cell_type": "code",
      "execution_count": null,
      "metadata": {
        "id": "0D09ci7QmJie"
      },
      "outputs": [],
      "source": [
        "!find /content/dogs-vs-cats/test -type f -name \"*.jpg\" | wc -l"
      ]
    },
    {
      "cell_type": "code",
      "execution_count": null,
      "metadata": {
        "id": "yGz8MhtAwOuj"
      },
      "outputs": [],
      "source": [
        "!!mkdir cats_vs_dogs_small"
      ]
    },
    {
      "cell_type": "code",
      "execution_count": null,
      "metadata": {
        "id": "oY3s4jCXw5ys"
      },
      "outputs": [],
      "source": [
        "!mkdir -p cats_vs_dogs_small/train/cat\n",
        "!mkdir -p cats_vs_dogs_small/train/dog\n",
        "!mkdir -p cats_vs_dogs_small/validation/cat\n",
        "!mkdir -p cats_vs_dogs_small/validation/dog\n",
        "!mkdir -p cats_vs_dogs_small/test/cat\n",
        "!mkdir -p cats_vs_dogs_small/test/dog"
      ]
    },
    {
      "cell_type": "code",
      "execution_count": null,
      "metadata": {
        "id": "smp33tStyVi8"
      },
      "outputs": [],
      "source": [
        "!find /content/dogs-vs-cats/train -maxdepth 1 -type f -name \"cat*\" | head -n 1000 | xargs -I {} cp {} cats_vs_dogs_small/train/cat"
      ]
    },
    {
      "cell_type": "code",
      "execution_count": null,
      "metadata": {
        "id": "GX11yQtNyonS"
      },
      "outputs": [],
      "source": [
        "!find /content/dogs-vs-cats/train --maxdepth 1 -type f -name \"dog*\" | head -n 1000 | xargs -I {} cp {} cats_vs_dogs_small/train/dog"
      ]
    },
    {
      "cell_type": "code",
      "execution_count": null,
      "metadata": {
        "id": "Hjw08-Zw4g9X"
      },
      "outputs": [],
      "source": [
        "!find /content/dogs-vs-cats -maxdepth 1 -type f -name \"dog*\""
      ]
    },
    {
      "cell_type": "code",
      "execution_count": null,
      "metadata": {
        "id": "iKSo3nUr6WvI"
      },
      "outputs": [],
      "source": [
        "import numpy as np"
      ]
    },
    {
      "cell_type": "code",
      "execution_count": null,
      "metadata": {
        "id": "zX4E4OTG6AZn"
      },
      "outputs": [],
      "source": [
        "X = np.arange(28 * 28 * 3).reshape(28, 28, 3)\n",
        "(X * [1,2,3]).shape, np.array([1,2,3]).shape"
      ]
    },
    {
      "cell_type": "code",
      "execution_count": null,
      "metadata": {
        "id": "3h8aBy1qEZ-f"
      },
      "outputs": [],
      "source": [
        "a = np.array([0.0,10.0,20.0,30.0])\n",
        "b = np.array([1.0,2.0,3.0])\n",
        "x = a[:, np.newaxis]\n",
        "print(x.shape, b.shape)\n",
        "x + b"
      ]
    },
    {
      "cell_type": "code",
      "execution_count": null,
      "metadata": {
        "id": "RovaIBQ_GVcy"
      },
      "outputs": [],
      "source": [
        "x\n"
      ]
    },
    {
      "cell_type": "code",
      "execution_count": null,
      "metadata": {
        "id": "lm7HUyuUISf3"
      },
      "outputs": [],
      "source": [
        " np.tile(x, (1, 3)) + b"
      ]
    },
    {
      "cell_type": "code",
      "execution_count": null,
      "metadata": {
        "id": "Tj-YeqCYIkO3"
      },
      "outputs": [],
      "source": [
        "x_repeated = np.hstack([x, x, x])\n",
        "\n",
        "print(x_repeated)\n",
        "print(x_repeated.shape)\n"
      ]
    },
    {
      "cell_type": "code",
      "execution_count": null,
      "metadata": {
        "id": "j4Ys07atGbSy"
      },
      "outputs": [],
      "source": [
        "from numpy import array"
      ]
    },
    {
      "cell_type": "code",
      "execution_count": null,
      "metadata": {
        "id": "b3YRt6X9Gh8y"
      },
      "outputs": [],
      "source": [
        "X = np.arange(3 * 5 * 2 * 1).reshape(3, 5, 2, 1)\n",
        "Y = np.arange(2 * 1 * 1 * 5).reshape(2, 1, 1, 5)\n",
        "(X * Y)\n",
        "\n",
        "X = np.arange(3 * 5 * 2 * 1).reshape(3, 5, 2, 1)\n",
        "Y = np.arange(1 * 1 * 5).reshape(1, 1, 5)\n",
        "(X * Y)"
      ]
    },
    {
      "cell_type": "markdown",
      "metadata": {
        "id": "5nlg-cC3g-e6"
      },
      "source": [
        "# Taking MNIST dataset on a tour\n",
        "\n",
        "## Previously we have developed a library to read MNIST datasets from source files [here](https://github.com/ratulb/mnist_datasets). We would now use that library and start building our neural networks from first principles."
      ]
    },
    {
      "cell_type": "markdown",
      "metadata": {
        "id": "LkVSqEGnz6lu"
      },
      "source": [
        "## Loading data"
      ]
    },
    {
      "cell_type": "code",
      "execution_count": null,
      "metadata": {
        "id": "Bh-1QBetjhn6"
      },
      "outputs": [],
      "source": [
        "!pip install mnist_datasets\n",
        "from mnist_datasets import MNISTLoader\n",
        "loader = MNISTLoader()"
      ]
    },
    {
      "cell_type": "code",
      "execution_count": null,
      "metadata": {
        "id": "5FE5MSZ8j_MK"
      },
      "outputs": [],
      "source": [
        "images, labels = loader.load()\n",
        "assert len(images) == len(labels) and len(images) == 60000\n",
        "print(f'Shape images {images.shape}, shape labels {labels.shape}')"
      ]
    },
    {
      "cell_type": "markdown",
      "metadata": {
        "id": "gtbeDwRFXEgr"
      },
      "source": [
        "# Printing random images from loaded data"
      ]
    },
    {
      "cell_type": "code",
      "execution_count": null,
      "metadata": {
        "id": "xFMSARUYPo7k"
      },
      "outputs": [],
      "source": [
        "import matplotlib.pyplot as plt\n",
        "from PIL import Image\n",
        "import numpy as np\n",
        "\n",
        "index = np.random.randint(60000)\n",
        "image_array = images[index]  # Shape (784,)\n",
        "image_array = image_array.reshape(28, 28)\n",
        "\n",
        "# Convert to PIL Image\n",
        "image = Image.fromarray(image_array, mode=\"L\")\n",
        "\n",
        "# Use matplotlib instead of image.show()\n",
        "plt.imshow(image, cmap=\"gray\")\n",
        "plt.axis(\"off\")  # Hide axes\n",
        "plt.show()\n",
        "print(f'Corresponding label {labels[index]}')\n"
      ]
    },
    {
      "cell_type": "markdown",
      "metadata": {
        "id": "CCUNYcR90HqD"
      },
      "source": [
        "## Neural Network Architecture"
      ]
    },
    {
      "cell_type": "markdown",
      "metadata": {
        "id": "QnpUQGcaluWq"
      },
      "source": [
        "### Each image of our digits is a small grid of $28 \\times 28$ gray scale pixel values. When we horizontally layout all $28$ rows of each digit one after another, we get totally $784$ pixel values. Hence our input layer would have $784$ real valued inputs. Since ***width*** and ***depth*** of a neural network are ***hyperparameters*** - let's have $784$ input feeding to $784 \\times 256$ first hidden layer, next another hidden layer of size $256 \\times 32$, finally last hidden layer of size $32 \\times 10$, tapering out to $10$ outputs(we have $10$ possible outcomes $0 \\text{–} 9$).\n",
        "\n",
        "### $$\n",
        "\\text{Input: } 784 \\rightarrow (784 \\times 256) \\rightarrow (256 \\times 32) \\rightarrow (32 \\times 10) \\rightarrow \\text{Output: } 10\n",
        "$$\n"
      ]
    },
    {
      "cell_type": "code",
      "execution_count": null,
      "metadata": {
        "id": "d3HKR5BvARhP"
      },
      "outputs": [],
      "source": [
        "import numpy as np"
      ]
    },
    {
      "cell_type": "code",
      "execution_count": null,
      "metadata": {
        "id": "L7CdBMg-AnQS"
      },
      "outputs": [],
      "source": [
        "num_inputs = 784\n",
        "num_outputs = 256\n",
        "layer1_weights = np.random.randn(num_inputs, num_outputs) * np.sqrt(2/num_inputs)\n",
        "layer1_bias = np.zeros((num_outputs,))\n",
        "\n",
        "num_inputs = 256\n",
        "num_outputs = 32\n",
        "layer2_weights = np.random.randn(num_inputs, num_outputs) * np.sqrt(2/num_inputs)\n",
        "layer2_bias = np.zeros((num_outputs,))\n",
        "\n",
        "num_inputs = 32\n",
        "num_outputs = 10\n",
        "layer3_weights = np.random.randn(num_inputs, num_outputs) * np.sqrt(2/num_inputs)\n",
        "layer3_bias = np.zeros((num_outputs,))\n"
      ]
    },
    {
      "cell_type": "markdown",
      "metadata": {
        "id": "QupP42VYaqhf"
      },
      "source": [
        "### Above, while initializing the weight values, we are scaling the weights with a factor of np.sqrt( $\\frac{2}{\\text{num_inputs}}$) - that is because:\n",
        "* ### If weights are initialized randomly without proper scaling, activations can either explode (very large values) or vanish (very small values) as they propagate through layers.\n",
        "* ### He Initialization (i.e. scaling with np.sqrt( $\\frac{2}{\\text{num_inputs}}$)) ensures that the variance of activations remains stable through ReLU network - which we would use in our case.\n",
        "\n",
        "\n",
        "---\n",
        "\n"
      ]
    },
    {
      "cell_type": "markdown",
      "metadata": {
        "id": "3yREfO6Yq9V2"
      },
      "source": [
        "## Recommendation on weight initialization\n",
        "\n",
        "### ✅ Use He Initialization (np.sqrt(2.0 / inputs)) for ReLU-based networks.\n",
        "\n",
        "### ✅ Use Xavier Initialization (np.sqrt(1.0 / (inputs + outputs))) for Sigmoid/Tanh to prevent saturation."
      ]
    },
    {
      "cell_type": "markdown",
      "metadata": {
        "id": "dOaQ5xaS0HoD"
      },
      "source": [
        "### In a neural network, activation functions introduce non-linearity, allowing the network to learn complex patterns. In our neural network architecture, the first hidden layer is followed by a ReLU activation function. Similarly, the second hidden layer is also activated using ReLU. Finally, the output layer applies a Softmax activation function to produce probability distributions over the possible output classes.\n",
        "\n",
        "\n",
        "---\n",
        "\n",
        "\n",
        "\n",
        "![image.png](data:image/png;base64,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)"
      ]
    },
    {
      "cell_type": "code",
      "execution_count": null,
      "metadata": {
        "id": "QwZ8P_kHJ6lJ"
      },
      "outputs": [],
      "source": [
        "import numpy as np\n",
        "arr = np.arange(3*3).reshape(3,3)\n",
        "arr, np.sum(arr, axis=0, keepdims=True), np.sum(arr, axis=0, keepdims=False)"
      ]
    },
    {
      "cell_type": "code",
      "execution_count": null,
      "metadata": {
        "id": "Iy_AiJHJfd0V"
      },
      "outputs": [],
      "source": [
        "softmax_outputs = [[0.7, 0.1, 0.2],\n",
        "[0.1, 0.5, 0.4],\n",
        "[0.02, 0.9, 0.08]]\n",
        "class_targets = [0, 1, 2]"
      ]
    },
    {
      "cell_type": "code",
      "execution_count": null,
      "metadata": {
        "id": "URqpIg2oflO9"
      },
      "outputs": [],
      "source": [
        "for targ_idx, distribution in zip(class_targets, softmax_outputs):\n",
        "    print(distribution[targ_idx])"
      ]
    },
    {
      "cell_type": "code",
      "execution_count": null,
      "metadata": {
        "id": "dVdQtCxrf4e-"
      },
      "outputs": [],
      "source": [
        "list(zip(class_targets, softmax_outputs))"
      ]
    },
    {
      "cell_type": "code",
      "execution_count": null,
      "metadata": {
        "id": "ralsknjVq2Kv"
      },
      "outputs": [],
      "source": [
        "\n",
        "softmax_outputs = np.array(softmax_outputs)\n"
      ]
    },
    {
      "cell_type": "code",
      "execution_count": null,
      "metadata": {
        "id": "vbROqhhBqYaI"
      },
      "outputs": [],
      "source": [
        "print(softmax_outputs[[i for i in range(len(softmax_outputs))], class_targets])"
      ]
    },
    {
      "cell_type": "code",
      "execution_count": null,
      "metadata": {
        "id": "YSkGdbUTv7Aq"
      },
      "outputs": [],
      "source": [
        "class_targets = np.array([[1, 0, 0],\n",
        "[0, 1, 0],\n",
        "[0, 1, 0]])\n",
        "len(class_targets.shape)"
      ]
    },
    {
      "cell_type": "code",
      "execution_count": null,
      "metadata": {
        "id": "tHNAKRn88ydJ"
      },
      "outputs": [],
      "source": [
        "import numpy as np\n",
        "import matplotlib.pyplot as plt\n",
        "import seaborn as sns\n",
        "\n",
        "# Set seed for reproducibility\n",
        "np.random.seed(42)\n",
        "\n",
        "# Generate a non-normal population (exponential distribution)\n",
        "population = np.random.exponential(scale=2, size=10000)\n",
        "\n",
        "# Take multiple samples and compute their means\n",
        "sample_means = [np.mean(np.random.choice(population, size=30)) for _ in range(1000)]\n",
        "\n",
        "# Plot original distribution\n",
        "plt.figure(figsize=(12,5))\n",
        "plt.subplot(1,2,1)\n",
        "sns.histplot(population, bins=50, kde=True, color=\"red\")\n",
        "plt.title(\"Original Distribution (Exponential)\")\n",
        "\n",
        "# Plot distribution of sample means\n",
        "plt.subplot(1,2,2)\n",
        "sns.histplot(sample_means, bins=50, kde=True, color=\"blue\")\n",
        "plt.title(\"Distribution of Sample Means (Approx. Normal)\")\n",
        "\n",
        "plt.show()\n"
      ]
    },
    {
      "cell_type": "code",
      "execution_count": null,
      "metadata": {
        "id": "eOt4EwjyLCVB"
      },
      "outputs": [],
      "source": [
        "pip install mnist_datasets"
      ]
    },
    {
      "cell_type": "code",
      "execution_count": null,
      "metadata": {
        "id": "wUJbdHRQLMAA"
      },
      "outputs": [],
      "source": [
        "from mnist_datasets import MNISTLoader\n",
        "loader = MNISTLoader()\n",
        "images, labels = loader.load()\n",
        "assert len(images) == 60000 and len(labels) == 60000\n",
        "\n",
        "# Load test dataset\n",
        "test_images, test_labels = loader.load(train=False)\n",
        "assert len(test_images) == 10000 and len(test_labels) == 10000"
      ]
    },
    {
      "cell_type": "code",
      "execution_count": null,
      "metadata": {
        "id": "fdYOi5UnL0JP"
      },
      "outputs": [],
      "source": [
        "!pip uninstall mnist_datasets -y"
      ]
    },
    {
      "cell_type": "code",
      "execution_count": null,
      "metadata": {
        "id": "jys7Q6ncL8Jf"
      },
      "outputs": [],
      "source": [
        "!pip cache purge"
      ]
    },
    {
      "cell_type": "code",
      "execution_count": null,
      "metadata": {
        "id": "pm-jitP8MC-v"
      },
      "outputs": [],
      "source": [
        "!pip install --no-cache-dir mnist_datasets"
      ]
    },
    {
      "cell_type": "code",
      "execution_count": null,
      "metadata": {
        "id": "EgYBQ54xMaIY"
      },
      "outputs": [],
      "source": [
        "from mnist_datasets import MNISTLoader\n",
        "loader1 = MNISTLoader('fashion')\n",
        "images1, labels1 = loader1.load()\n",
        "assert len(images1) == 60000 and len(labels1) == 60000\n",
        "\n",
        "# Load test dataset\n",
        "test_images1, test_labels1 = loader1.load(train=False)\n",
        "assert len(test_images1) == 10000 and len(test_labels1) == 10000"
      ]
    },
    {
      "cell_type": "code",
      "execution_count": null,
      "metadata": {
        "id": "8V0USqQGPeNT"
      },
      "outputs": [],
      "source": [
        "import matplotlib.pyplot as plt\n",
        "from PIL import Image\n",
        "import numpy as np\n",
        "\n",
        "index = np.random.randint(60000)\n",
        "image_array = images[index]  # Shape (784,)\n",
        "image_array = image_array.reshape(28, 28)\n",
        "\n",
        "# Convert to PIL Image\n",
        "image = Image.fromarray(image_array, mode=\"L\")\n",
        "\n",
        "# Use matplotlib instead of image.show()\n",
        "plt.imshow(image, cmap=\"gray\")\n",
        "plt.axis(\"off\")  # Hide axes\n",
        "plt.show()\n",
        "print(f'Corresponding label {labels[index]}')\n"
      ]
    },
    {
      "cell_type": "code",
      "execution_count": null,
      "metadata": {
        "id": "zWUaOgiKPpS4"
      },
      "outputs": [],
      "source": [
        "index1 = np.random.randint(60000)\n",
        "image_array1 = images1[index1]  # Shape (784,)\n",
        "image_array1 = image_array1.reshape(28, 28)\n",
        "\n",
        "# Convert to PIL Image\n",
        "image1 = Image.fromarray(image_array1, mode=\"L\")\n",
        "\n",
        "# Use matplotlib instead of image.show()\n",
        "plt.imshow(image1, cmap=\"gray\")\n",
        "plt.axis(\"off\")  # Hide axes\n",
        "plt.show()\n",
        "print(f'Corresponding label {labels1[index1]}')\n"
      ]
    },
    {
      "cell_type": "code",
      "execution_count": null,
      "metadata": {
        "id": "MjB9pwRY9ijp"
      },
      "outputs": [],
      "source": [
        "import numpy as np"
      ]
    },
    {
      "cell_type": "code",
      "execution_count": null,
      "metadata": {
        "id": "PRaRPMRj9syb"
      },
      "outputs": [],
      "source": [
        "np.random.seed(123)\n",
        "W = np.random.randn(3, 4)\n",
        "X = np.random.randn(10, 3)\n",
        "y = [2, 0, 1, 2, 0, 3, 2, 1, 1, 2]\n",
        "num_classes = W.shape[1]\n",
        "num_train = X.shape[0]\n",
        "#print(W.shape, X.shape, num_classes, num_train)\n",
        "scores = X.dot(W)\n",
        "#print(scores.shape)\n",
        "print(np.argmax(scores, axis=1))\n",
        "print(np.max(scores))\n",
        "print(scores[-2])\n",
        "correct_scores = scores[range(num_train), y]\n",
        "print(correct_scores)\n",
        "\n"
      ]
    },
    {
      "cell_type": "code",
      "execution_count": null,
      "metadata": {
        "id": "YsOXCGUURjhV"
      },
      "outputs": [],
      "source": [
        "def softmax_loss_vectorized(W, X, y, reg):\n",
        "\n",
        "    \"\"\"\n",
        "\n",
        "    Softmax loss function --> cross-entropy loss function --> total loss function\n",
        "\n",
        "    \"\"\"\n",
        "\n",
        "    # Initialize the loss and gradient to zero.\n",
        "    loss = 0.0\n",
        "    num_classes = W.shape[1]\n",
        "    num_train = X.shape[0]\n",
        "\n",
        "    # Step 1: compute score vector for each class\n",
        "    scores = X.dot(W)\n",
        "\n",
        "    # Step 2: normalize score vector, letting the maximum value to 0\n",
        "    scores = scores- scores.max()\n",
        "    scores = np.exp(scores)\n",
        "\n",
        "    #Step 3: obtain the correct class score\n",
        "    correct_score = scores[range(num_train), y]\n",
        "    #compute the sum of exp of all scores for all classes\n",
        "    scores_sums = np.sum(scores, axis=1)\n",
        "\n",
        "    #Step 4: compute softmax function\n",
        "    softmax_loss = correct_score / scores_sums\n",
        "    #compute cross-entropy function\n",
        "    cross_entropy_loss = - np.log(softmax_loss)\n",
        "    #compute loss function\n",
        "    loss = np.sum(cross_entropy_loss)/num_train\n",
        "\n",
        "    return loss"
      ]
    },
    {
      "cell_type": "code",
      "execution_count": null,
      "metadata": {
        "id": "7hcfgOzu8wdT"
      },
      "outputs": [],
      "source": [
        "import numpy as np"
      ]
    },
    {
      "cell_type": "code",
      "execution_count": null,
      "metadata": {
        "id": "odTULzUN9B3Q"
      },
      "outputs": [],
      "source": [
        "a = np.random.randn(3,4)\n",
        "a.mean((-1, -2)), a.mean()"
      ]
    },
    {
      "cell_type": "code",
      "execution_count": null,
      "metadata": {
        "id": "gUgG__FzsSPi"
      },
      "outputs": [],
      "source": [
        "t = np.arange(20).astype(np.float32)\n",
        "tt = (t - 9.8) ** 2\n",
        "tt.ndim"
      ]
    },
    {
      "cell_type": "code",
      "execution_count": null,
      "metadata": {
        "id": "SsiSSFhcwD7O"
      },
      "outputs": [],
      "source": [
        "import matplotlib.pyplot as plt\n"
      ]
    },
    {
      "cell_type": "code",
      "execution_count": null,
      "metadata": {
        "id": "G8_lLvXmwOit"
      },
      "outputs": [],
      "source": [
        "ax = plt.subplots()\n",
        "type(ax), len(ax), type(ax[0]), type(ax[1])"
      ]
    },
    {
      "cell_type": "code",
      "execution_count": null,
      "metadata": {
        "id": "HLUv8TYZxxIu"
      },
      "outputs": [],
      "source": [
        "import torch"
      ]
    },
    {
      "cell_type": "code",
      "execution_count": null,
      "metadata": {
        "id": "VmhIDxHwx3h1"
      },
      "outputs": [],
      "source": [
        "t1 = torch.tensor([100.9], requires_grad=True)\n",
        "\n",
        "y = t1  * 101\n",
        "y.backward()\n",
        "t1.grad"
      ]
    },
    {
      "cell_type": "code",
      "execution_count": null,
      "metadata": {
        "id": "YY_KSNrbd_TH"
      },
      "outputs": [],
      "source": [
        "import torch"
      ]
    },
    {
      "cell_type": "code",
      "execution_count": null,
      "metadata": {
        "id": "2k292iDUeKXP"
      },
      "outputs": [],
      "source": [
        "a1 = torch.ones(10000).reshape(-1, 10, 10)\n",
        "b1 = torch.zeros(10000).reshape(-1, 10, 10)\n",
        "\n",
        "a1b1 = torch.stack([a1, b1], axis=0)\n",
        "a1b1.shape"
      ]
    },
    {
      "cell_type": "code",
      "execution_count": null,
      "metadata": {
        "id": "DBiqeMSe9tBk"
      },
      "outputs": [],
      "source": [
        "import string\n",
        "from torch.utils.data import DataLoader, Dataset\n",
        "import torch\n",
        "import numpy as np\n",
        "dl = DataLoader(string.ascii_lowercase)\n",
        "for x in dl:\n",
        "    print(x)"
      ]
    },
    {
      "cell_type": "code",
      "execution_count": null,
      "metadata": {
        "id": "8fz5GW0-9rAJ"
      },
      "outputs": [],
      "source": [
        "import torch\n",
        "\n",
        "# Create a 3x3 tensor with numbers from 1 to 9\n",
        "tensor = torch.arange(1, 10).reshape(3, 3)\n",
        "tensor.nelement()\n",
        "\n",
        "# Double the values\n",
        "tensor = tensor * 2\n",
        "print(tensor)\n",
        "\n",
        "# Extract bottom right 2x2 sub-tensor\n",
        "bottom_right = tensor[1:, 1:]\n",
        "\n",
        "print(bottom_right)\n"
      ]
    },
    {
      "cell_type": "code",
      "execution_count": null,
      "metadata": {
        "id": "k0dmv7aQM3Fb"
      },
      "outputs": [],
      "source": [
        "tensor.nelement()"
      ]
    },
    {
      "cell_type": "code",
      "execution_count": null,
      "metadata": {
        "id": "hLBBKgjbNELs"
      },
      "outputs": [],
      "source": [
        "tensor.view(-1), tensor"
      ]
    },
    {
      "cell_type": "code",
      "execution_count": null,
      "metadata": {
        "id": "g3XmNyhw0ad2"
      },
      "outputs": [],
      "source": [
        "import numpy as np\n",
        "import matplotlib.pyplot as plt\n",
        "\n",
        "# Hyperparameters\n",
        "learning_rate = 0.1\n",
        "lambda_l1 = 0.05  # L1 regularization strength\n",
        "num_iterations = 50\n",
        "\n",
        "# Initialize weight\n",
        "w = 1.5  # Start with a positive weight\n",
        "w_history = [w]\n",
        "\n",
        "# Perform gradient descent with L1 regularization\n",
        "for _ in range(num_iterations):\n",
        "    gradient = 2 * w  # Example: Gradient from a simple squared loss (d/dw w^2)\n",
        "    gradient += lambda_l1 * np.sign(w)  # Adding L1 regularization term\n",
        "    w -= learning_rate * gradient  # Weight update\n",
        "    w_history.append(w)\n",
        "\n",
        "# Plot weight values over iterations\n",
        "plt.plot(w_history, label=\"Weight Value\")\n",
        "plt.axhline(0, color='red', linestyle='--', label=\"Zero Weight\")\n",
        "plt.xlabel(\"Iterations\")\n",
        "plt.ylabel(\"Weight\")\n",
        "plt.legend()\n",
        "plt.title(\"Effect of L1 Regularization on Weight Shrinkage\")\n",
        "plt.show()\n"
      ]
    },
    {
      "cell_type": "code",
      "execution_count": null,
      "metadata": {
        "id": "No0q0ZyZfWS5"
      },
      "outputs": [],
      "source": [
        "num = 100"
      ]
    },
    {
      "cell_type": "code",
      "execution_count": null,
      "metadata": {
        "id": "aepgl5b6e5sp"
      },
      "outputs": [],
      "source": [
        "%run /content/ipython_script_test.py -i\n",
        "result"
      ]
    },
    {
      "cell_type": "code",
      "execution_count": null,
      "metadata": {
        "id": "hp95IGUulDyv"
      },
      "outputs": [],
      "source": [
        "import string"
      ]
    },
    {
      "cell_type": "code",
      "execution_count": null,
      "metadata": {
        "id": "QVPn3WfFlG5C"
      },
      "outputs": [],
      "source": [
        "a = list(enumerate(string.ascii_lowercase))"
      ]
    },
    {
      "cell_type": "code",
      "execution_count": null,
      "metadata": {
        "id": "W4cNbDLdlNDy"
      },
      "outputs": [],
      "source": [
        "len(a), a[0]"
      ]
    },
    {
      "cell_type": "code",
      "execution_count": null,
      "metadata": {
        "id": "5HXjW6-jlpWa"
      },
      "outputs": [],
      "source": [
        "from torch.utils.data import DataLoader"
      ]
    },
    {
      "cell_type": "code",
      "execution_count": null,
      "metadata": {
        "id": "f4P2ipFgmCqi"
      },
      "outputs": [],
      "source": [
        "dl = DataLoader(a, batch_size=3, shuffle=True)\n",
        "for x, y in dl:\n",
        "    print(x, y)"
      ]
    },
    {
      "cell_type": "code",
      "execution_count": null,
      "metadata": {
        "id": "biE_ChztKWqv"
      },
      "outputs": [],
      "source": [
        "np.ones((3, 4, 5), dtype=np.float64).strides"
      ]
    },
    {
      "cell_type": "code",
      "execution_count": null,
      "metadata": {
        "id": "2I7LTTTWI7bS"
      },
      "outputs": [],
      "source": [
        "!pip install tensorflow\n",
        "\n",
        "\n"
      ]
    },
    {
      "cell_type": "code",
      "execution_count": null,
      "metadata": {
        "id": "45lavqxsIR7b"
      },
      "outputs": [],
      "source": [
        "import tensorflow as tf\n",
        "\n",
        "# Connect to TPU\n",
        "resolver = tf.distribute.cluster_resolver.TPUClusterResolver()\n",
        "tf.config.experimental_connect_to_cluster(resolver)\n",
        "tf.tpu.experimental.initialize_tpu_system(resolver)\n",
        "\n",
        "# Use TPU Strategy\n",
        "strategy = tf.distribute.TPUStrategy(resolver)\n",
        "\n",
        "# Create a simple model\n",
        "with strategy.scope():\n",
        "    model = tf.keras.models.Sequential([\n",
        "        tf.keras.layers.Dense(256, activation='relu'),\n",
        "        tf.keras.layers.Dense(10, activation='softmax')\n",
        "    ])\n",
        "\n",
        "model.compile(optimizer='adam', loss='sparse_categorical_crossentropy')\n"
      ]
    },
    {
      "cell_type": "code",
      "execution_count": null,
      "metadata": {
        "id": "pPZnSM4jJriz"
      },
      "outputs": [],
      "source": [
        "import tensorflow as tf\n",
        "\n",
        "resolver = tf.distribute.cluster_resolver.TPUClusterResolver()\n",
        "tf.config.experimental_connect_to_cluster(resolver)\n",
        "tf.tpu.experimental.initialize_tpu_system(resolver)\n",
        "strategy = tf.distribute.TPUStrategy(resolver)\n",
        "\n",
        "print(\"All TPU devices: \", tf.config.list_logical_devices('TPU'))\n"
      ]
    },
    {
      "cell_type": "code",
      "execution_count": null,
      "metadata": {
        "id": "KnlyNnR9LAMz"
      },
      "outputs": [],
      "source": [
        "import tensorflow as tf\n",
        "print(\"Is TPU available: \", tf.test.is_tpu_available())\n"
      ]
    },
    {
      "cell_type": "code",
      "execution_count": null,
      "metadata": {
        "id": "gUkw33VBLJTi"
      },
      "outputs": [],
      "source": [
        "import tensorflow as tf\n",
        "import os\n",
        "\n",
        "# Force Colab to use the TPU\n",
        "try:\n",
        "    tpu_address = 'grpc://' + os.environ['COLAB_TPU_ADDR']\n",
        "    resolver = tf.distribute.cluster_resolver.TPUClusterResolver(tpu=tpu_address)\n",
        "    print(\"Using TPU: \", resolver.master())\n",
        "except ValueError as e:\n",
        "    print(\"Error: \", e)\n"
      ]
    },
    {
      "cell_type": "code",
      "execution_count": null,
      "metadata": {
        "id": "PlNLj6wxLhEb"
      },
      "outputs": [],
      "source": [
        "import tensorflow as tf\n",
        "\n",
        "# Check if TPU is available\n",
        "tf.config.list_physical_devices('TPU')\n",
        "tpu_devices = tf.config.list_physical_devices('TPU')\n",
        "if len(tpu_devices) > 0:\n",
        "    print(\"TPU is available.\")\n",
        "else:\n",
        "    print(\"TPU is not available.\")\n"
      ]
    },
    {
      "cell_type": "code",
      "execution_count": null,
      "metadata": {
        "id": "9SyebZ-oLwIE"
      },
      "outputs": [],
      "source": [
        "tf.config.list_physical_devices('TPU')"
      ]
    },
    {
      "cell_type": "code",
      "execution_count": null,
      "metadata": {
        "id": "0NGHhlyUMz5k"
      },
      "outputs": [],
      "source": [
        "os.environ['COLAB_TPU_ADDR']"
      ]
    },
    {
      "cell_type": "code",
      "execution_count": null,
      "metadata": {
        "id": "iHemefJhNlX1"
      },
      "outputs": [],
      "source": [
        "!ip addr"
      ]
    },
    {
      "cell_type": "code",
      "execution_count": null,
      "metadata": {
        "id": "o7NMv1Q_Ntzz"
      },
      "outputs": [],
      "source": [
        "!ping 172.28.0.12"
      ]
    },
    {
      "cell_type": "code",
      "execution_count": null,
      "metadata": {
        "id": "WucOrDeOOGn0"
      },
      "outputs": [],
      "source": [
        "!sudo apt-get update\n",
        "!sudo apt-get install iputils-ping\n"
      ]
    },
    {
      "cell_type": "code",
      "execution_count": null,
      "metadata": {
        "id": "YNe-X1kRPQQt"
      },
      "outputs": [],
      "source": [
        "!curl -I 172.28.0.12"
      ]
    },
    {
      "cell_type": "code",
      "execution_count": null,
      "metadata": {
        "id": "VNCbXN0xQRKb"
      },
      "outputs": [],
      "source": [
        "print(tf.__version__)"
      ]
    },
    {
      "cell_type": "code",
      "execution_count": null,
      "metadata": {
        "id": "Vruchd-XRZHm"
      },
      "outputs": [],
      "source": [
        "%tensorflow_version 2.19.0"
      ]
    },
    {
      "cell_type": "code",
      "execution_count": null,
      "metadata": {
        "id": "iux6R2UTRnyl"
      },
      "outputs": [],
      "source": [
        "resolver = tf.distribute.cluster_resolver.TPUClusterResolver(tpu='v28')"
      ]
    },
    {
      "cell_type": "code",
      "execution_count": null,
      "metadata": {
        "id": "M75453PnSIJy"
      },
      "outputs": [],
      "source": [
        "resolver = tf.distribute.cluster_resolver.TPUClusterResolver(tpu='')\n",
        "tf.config.experimental_connect_to_cluster(resolver)\n",
        "# This is the TPU initialization code that has to be at the beginning.\n",
        "tf.tpu.experimental.initialize_tpu_system(resolver)\n",
        "print(\"All devices: \", tf.config.list_logical_devices('TPU'))"
      ]
    },
    {
      "cell_type": "code",
      "execution_count": null,
      "metadata": {
        "id": "HZq_YZVoEgg2"
      },
      "outputs": [],
      "source": [
        "import numpy as np\n",
        "import matplotlib.pyplot as plt\n",
        "import matplotlib.animation as animation\n",
        "\n",
        "# Grid size\n",
        "GRID_SIZE = 20\n",
        "\n",
        "# Initialize grid with random 0s and 1s\n",
        "def initialize_grid(size):\n",
        "    return np.random.choice([0, 1], size=(size, size), p=[0.7, 0.3])\n",
        "\n",
        "# Function to update grid based on Game of Life rules\n",
        "def update(frame, img, grid):\n",
        "    new_grid = grid.copy()\n",
        "    for i in range(GRID_SIZE):\n",
        "        for j in range(GRID_SIZE):\n",
        "            # Count live neighbors\n",
        "            neighbors = np.sum(grid[i-1:i+2, j-1:j+2]) - grid[i, j]\n",
        "\n",
        "            # Apply rules\n",
        "            if grid[i, j] == 1 and (neighbors < 2 or neighbors > 3):\n",
        "                new_grid[i, j] = 0  # Dies due to underpopulation/overpopulation\n",
        "            elif grid[i, j] == 0 and neighbors == 3:\n",
        "                new_grid[i, j] = 1  # Becomes alive\n",
        "\n",
        "    img.set_data(new_grid)\n",
        "    grid[:] = new_grid[:]\n",
        "    return img,\n",
        "\n",
        "# Create grid and animation\n",
        "grid = initialize_grid(GRID_SIZE)\n",
        "fig, ax = plt.subplots()\n",
        "img = ax.imshow(grid, cmap='gray')\n",
        "ani = animation.FuncAnimation(fig, update, fargs=(img, grid), frames=50, interval=200, save_count=50)\n",
        "\n",
        "plt.show()\n"
      ]
    },
    {
      "cell_type": "code",
      "execution_count": null,
      "metadata": {
        "id": "B_YOzt-8FIYu"
      },
      "outputs": [],
      "source": [
        "size = 3\n",
        "np.random.choice([0, 1], size=(size, size), p=[0.7, 0.3])"
      ]
    },
    {
      "cell_type": "code",
      "execution_count": null,
      "metadata": {
        "id": "RvMIuG8NdyqR"
      },
      "outputs": [],
      "source": [
        "a = np.array([1, 100, 50, 2, 99, 399, 1])\n",
        "a.argsort()[::-1]"
      ]
    },
    {
      "cell_type": "code",
      "execution_count": null,
      "metadata": {
        "id": "ePrVRhVVeOwa"
      },
      "outputs": [],
      "source": [
        "import torch"
      ]
    },
    {
      "cell_type": "code",
      "execution_count": null,
      "metadata": {
        "id": "GeFgnS3-eTOR"
      },
      "outputs": [],
      "source": [
        "b = torch.from_numpy(a)\n",
        "b.argsort(descending =True)"
      ]
    },
    {
      "cell_type": "code",
      "execution_count": null,
      "metadata": {
        "id": "Z9U4pgyvnHFg"
      },
      "outputs": [],
      "source": [
        "import numpy as np\n",
        "\n",
        "arr = np.array([10, 20, 30], dtype=np.uint8)\n",
        "ptr = arr.ctypes.data  # Get memory address (pointer)\n",
        "print(hex(ptr))  # Memory address in hexadecimal\n"
      ]
    },
    {
      "cell_type": "code",
      "execution_count": null,
      "metadata": {
        "id": "MQHuYhxhy-SJ"
      },
      "outputs": [],
      "source": [
        "arr, ~arr\n"
      ]
    },
    {
      "cell_type": "code",
      "execution_count": null,
      "metadata": {
        "id": "P01-1vjS8-CS"
      },
      "outputs": [],
      "source": [
        "1 << 21"
      ]
    },
    {
      "cell_type": "code",
      "execution_count": null,
      "metadata": {
        "id": "IX6ppi0nIJzq"
      },
      "outputs": [],
      "source": [
        "from sys import (\n",
        "  version,\n",
        "  platform,\n",
        "  argv,\n",
        "  path\n",
        ")\n"
      ]
    },
    {
      "cell_type": "code",
      "execution_count": null,
      "metadata": {
        "id": "25Z1W9F6IhML"
      },
      "outputs": [],
      "source": [
        "\n",
        "print(version)  # Python version\n",
        "print(platform)  # OS type\n",
        "print(argv)  # Command-line arguments\n",
        "print(path)  # Module search paths\n"
      ]
    },
    {
      "cell_type": "code",
      "execution_count": null,
      "metadata": {
        "id": "j02J8AjPJk1c"
      },
      "outputs": [],
      "source": [
        "import sys\n",
        "from sys.info import _current_arch, _current_target, _triple_attr"
      ]
    },
    {
      "cell_type": "code",
      "execution_count": null,
      "metadata": {
        "id": "lynCebB6tUjd"
      },
      "outputs": [],
      "source": [
        "!curl -ssL https://magic.modular.com/f38246c5-67c1-4e80-a433-b3b6ab24183b | bash"
      ]
    },
    {
      "cell_type": "code",
      "execution_count": null,
      "metadata": {
        "id": "uYi6pWMhthkF"
      },
      "outputs": [],
      "source": [
        "!source /root/.bashrc"
      ]
    },
    {
      "cell_type": "code",
      "execution_count": null,
      "metadata": {
        "id": "KIYvVELutqY0"
      },
      "outputs": [],
      "source": [
        "!cat ~/.bashrc"
      ]
    },
    {
      "cell_type": "code",
      "execution_count": null,
      "metadata": {
        "id": "pwJuVr6vuFXG"
      },
      "outputs": [],
      "source": [
        "!export PATH=\"$PATH:/root/.modular/bin\""
      ]
    },
    {
      "cell_type": "code",
      "execution_count": null,
      "metadata": {
        "id": "CdfWdkQJuIGF"
      },
      "outputs": [],
      "source": [
        "import numpy as np\n",
        "\n",
        "dt = np.dtype([('a', np.int8), ('b', np.int32)])\n",
        "print(dt.alignment)      # alignment of the structure\n",
        "print(dt.itemsize)       # total size including padding\n"
      ]
    },
    {
      "cell_type": "code",
      "execution_count": null,
      "metadata": {
        "id": "6y8UenXZ7Izm"
      },
      "outputs": [],
      "source": [
        "dt_aligned = np.dtype([('a', np.int8), ('b', np.int32)], align=True)\n",
        "print(dt_aligned.alignment)  # Output: 4\n",
        "print(dt_aligned.itemsize)   # Output: 8\n"
      ]
    },
    {
      "cell_type": "code",
      "execution_count": null,
      "metadata": {
        "id": "yMOK8aVqEVWO"
      },
      "outputs": [],
      "source": [
        "!apt update\n",
        "!apt install -y nvidia-cuda-toolkit\n",
        "!nvcc --version\n"
      ]
    },
    {
      "cell_type": "code",
      "execution_count": null,
      "metadata": {
        "id": "DJAGmhevFTLj"
      },
      "outputs": [],
      "source": [
        "!nvcc --version"
      ]
    },
    {
      "cell_type": "code",
      "execution_count": null,
      "metadata": {
        "id": "BcJu4H8FFZgN"
      },
      "outputs": [],
      "source": [
        "cuda_code = r\"\"\"\n",
        "#include <cuda_runtime.h>\n",
        "#include <stdio.h>\n",
        "\n",
        "__global__ void add(int *a, int *b, int *c) {\n",
        "    int idx = threadIdx.x;\n",
        "    c[idx] = a[idx] + b[idx];\n",
        "}\n",
        "\n",
        "int main() {\n",
        "    int a[5] = {1, 2, 3, 4, 5};\n",
        "    int b[5] = {10, 20, 30, 40, 50};\n",
        "    int c[5];\n",
        "\n",
        "    int *d_a, *d_b, *d_c;\n",
        "    cudaMalloc((void **)&d_a, 5 * sizeof(int));\n",
        "    cudaMalloc((void **)&d_b, 5 * sizeof(int));\n",
        "    cudaMalloc((void **)&d_c, 5 * sizeof(int));\n",
        "\n",
        "    cudaMemcpy(d_a, a, 5 * sizeof(int), cudaMemcpyHostToDevice);\n",
        "    cudaMemcpy(d_b, b, 5 * sizeof(int), cudaMemcpyHostToDevice);\n",
        "\n",
        "    add<<<1, 5>>>(d_a, d_b, d_c);\n",
        "\n",
        "    cudaMemcpy(c, d_c, 5 * sizeof(int), cudaMemcpyDeviceToHost);\n",
        "\n",
        "    for (int i = 0; i < 5; ++i)\n",
        "        printf(\"%d \", c[i]);\n",
        "    printf(\"\\n\");\n",
        "\n",
        "    cudaFree(d_a);\n",
        "    cudaFree(d_b);\n",
        "    cudaFree(d_c);\n",
        "\n",
        "    return 0;\n",
        "}\n",
        "\"\"\"\n",
        "\n",
        "with open(\"add.cu\", \"w\") as f:\n",
        "    f.write(cuda_code)\n"
      ]
    },
    {
      "cell_type": "code",
      "execution_count": null,
      "metadata": {
        "id": "NtqT6D4UFjJn"
      },
      "outputs": [],
      "source": [
        "!nvcc --ptx add.cu -o add.ptx\n"
      ]
    },
    {
      "cell_type": "code",
      "execution_count": null,
      "metadata": {
        "id": "lOe1PL2bFmge"
      },
      "outputs": [],
      "source": [
        "!cat add.ptx"
      ]
    },
    {
      "cell_type": "code",
      "execution_count": null,
      "metadata": {
        "id": "nWc_-JGsGLZt"
      },
      "outputs": [],
      "source": [
        "!nvcc add.cu -o add\n"
      ]
    },
    {
      "cell_type": "code",
      "execution_count": null,
      "metadata": {
        "id": "AXnRSp5yGOUH"
      },
      "outputs": [],
      "source": [
        "!./add"
      ]
    },
    {
      "cell_type": "code",
      "execution_count": null,
      "metadata": {
        "id": "WxnyOTJAHfjG"
      },
      "outputs": [],
      "source": [
        "!pip install cupy"
      ]
    },
    {
      "cell_type": "code",
      "execution_count": null,
      "metadata": {
        "id": "fBCUXRJLUOcH"
      },
      "outputs": [],
      "source": [
        "!nvcc -o add add.cu\n",
        "!./add\n"
      ]
    },
    {
      "cell_type": "code",
      "execution_count": null,
      "metadata": {
        "id": "2Q3876npVVdn"
      },
      "outputs": [],
      "source": [
        "!nvcc --version\n",
        "!nvidia-smi\n"
      ]
    },
    {
      "cell_type": "code",
      "execution_count": null,
      "metadata": {
        "id": "K4Jvdpo5Vof2"
      },
      "outputs": [],
      "source": [
        "!nvcc -arch=sm_37 -o add add.cu\n",
        "\n"
      ]
    },
    {
      "cell_type": "code",
      "execution_count": null,
      "metadata": {
        "id": "AEwAWG0GV8Fy"
      },
      "outputs": [],
      "source": [
        "!nvcc -arch=sm_52 -o add add.cu\n"
      ]
    },
    {
      "cell_type": "code",
      "execution_count": null,
      "metadata": {
        "id": "QY8GtdEMV-eV"
      },
      "outputs": [],
      "source": [
        "!./add"
      ]
    },
    {
      "cell_type": "code",
      "execution_count": null,
      "metadata": {
        "id": "IPLGrrjmWKEW"
      },
      "outputs": [],
      "source": [
        "!nvcc -Xptxas -v -arch=sm_75 -o add add.cu\n"
      ]
    },
    {
      "cell_type": "code",
      "execution_count": null,
      "metadata": {
        "id": "VIHGn4TeYk-P"
      },
      "outputs": [],
      "source": [
        "!nvcc -Xptxas -v -arch=sm_75 -o matmul matmul.cu"
      ]
    },
    {
      "cell_type": "code",
      "execution_count": null,
      "metadata": {
        "id": "kyRaijoEYnu1"
      },
      "outputs": [],
      "source": [
        "!./matmul"
      ]
    },
    {
      "cell_type": "code",
      "execution_count": null,
      "metadata": {
        "id": "rZvgZJL4ZTY2"
      },
      "outputs": [],
      "source": [
        "import numpy as np\n",
        "\n",
        "arr1 = np.array([1, 2, 3, 4])\n",
        "arr2 = np.array([5, 6, 7, 8])\n",
        "\n",
        "arr1"
      ]
    },
    {
      "cell_type": "code",
      "execution_count": null,
      "metadata": {
        "id": "SLqkY3L0Ztxo"
      },
      "outputs": [],
      "source": [
        "import numpy as np\n",
        "\n",
        "A = np.array([[1, 2],\n",
        "              [3, 4]])\n",
        "\n",
        "B = np.array([[5, 6],\n",
        "              [7, 8]])\n",
        "\n",
        "C = np.dot(A, B)\n",
        "print(\"Result:\\n\", C)\n"
      ]
    },
    {
      "cell_type": "code",
      "execution_count": null,
      "metadata": {
        "id": "Ii5gtuLH433U"
      },
      "outputs": [],
      "source": [
        "import torch\n",
        "x = torch.randn(32, 3, 224, 224).cuda()\n",
        "y = torch.nn.Conv2d(3, 64, 3).cuda()(x)\n"
      ]
    },
    {
      "cell_type": "code",
      "execution_count": null,
      "metadata": {
        "id": "Wz4zh3GlRPh3"
      },
      "outputs": [],
      "source": [
        "!echo '''\n",
        "#include <cuda_runtime.h>\n",
        "\n",
        "__global__ void vector_add(const float *a, const float *b, float *c, int n) {\n",
        "    int idx = blockIdx.x * blockDim.x + threadIdx.x;\n",
        "    if (idx < n) {\n",
        "        c[idx] = a[idx] + b[idx];\n",
        "    }\n",
        "}''' > vector_add.cu\n",
        "\n",
        "!nvcc -arch=sm_75 vector_add.cu -ptx -o vector_add.ptx\n"
      ]
    },
    {
      "cell_type": "code",
      "execution_count": null,
      "metadata": {
        "id": "ePiw4QxrSxUy"
      },
      "outputs": [],
      "source": [
        "!pip install pycuda"
      ]
    },
    {
      "cell_type": "code",
      "execution_count": null,
      "metadata": {
        "id": "1jxNHjijSqwk"
      },
      "outputs": [],
      "source": [
        "import numpy as np\n",
        "import pycuda.driver as cuda\n",
        "import pycuda.autoinit\n",
        "from pycuda.compiler import SourceModule\n",
        "\n",
        "\n",
        "# Compile the kernel\n",
        "mod = SourceModule(\"\"\"\n",
        "__global__ void vector_add(const float *a, const float *b, float *c, int n) {\n",
        "    int idx = blockIdx.x * blockDim.x + threadIdx.x;\n",
        "    if (idx < n) {\n",
        "        c[idx] = a[idx] + b[idx];\n",
        "    }\n",
        "}\n",
        "\"\"\")\n",
        "\n",
        "# Get the kernel function\n",
        "vector_add = mod.get_function(\"vector_add\")\n",
        "\n",
        "# Prepare data\n",
        "N = 51200000\n",
        "a = np.random.rand(N).astype(np.float32)\n",
        "b = np.random.rand(N).astype(np.float32)\n",
        "c = np.empty_like(a)\n",
        "\n",
        "# Allocate memory on device\n",
        "a_gpu = cuda.mem_alloc(a.nbytes)\n",
        "b_gpu = cuda.mem_alloc(b.nbytes)\n",
        "c_gpu = cuda.mem_alloc(c.nbytes)\n",
        "\n",
        "# Copy data to GPU\n",
        "cuda.memcpy_htod(a_gpu, a)\n",
        "cuda.memcpy_htod(b_gpu, b)\n",
        "\n",
        "# Launch kernel\n",
        "block_size = 256\n",
        "grid_size = (N + block_size - 1) // block_size\n",
        "vector_add(a_gpu, b_gpu, c_gpu, np.int32(N), block=(block_size,1,1), grid=(grid_size,1))\n",
        "\n",
        "# Copy result back\n",
        "cuda.memcpy_dtoh(c, c_gpu)\n",
        "\n",
        "# Verify\n",
        "print(\"Correct:\", np.allclose(c, a + b))\n"
      ]
    },
    {
      "cell_type": "code",
      "execution_count": null,
      "metadata": {
        "id": "s3XxEigufkM7"
      },
      "outputs": [],
      "source": [
        " N=4\n",
        " C = [[0] * N for _ in range(N)]\n",
        " C"
      ]
    },
    {
      "cell_type": "code",
      "execution_count": null,
      "metadata": {
        "id": "XEYJaJmNydPY"
      },
      "outputs": [],
      "source": [
        "import numpy as np\n",
        "\n",
        "BLOCK_M = 4\n",
        "BLOCK_N = 8\n",
        "# Simple indexing with broadcast semantics\n",
        "row_indices = np.arange(0, BLOCK_M)[:, None]\n",
        "col_indices = np.arange(0, BLOCK_N)[None, :]\n",
        "row_indices, col_indices\n"
      ]
    },
    {
      "cell_type": "code",
      "execution_count": null,
      "metadata": {
        "id": "7W8Q59wS4LG-"
      },
      "outputs": [],
      "source": [
        "import numpy as np\n",
        "\n",
        "A = np.array([[1, 2], [3, 4]], order='C')  # Row-major\n",
        "B = np.array([[1, 2], [3, 4]], order='F')  # Column-major\n",
        "\n",
        "print(A.flags)\n",
        "print(\"---------------\")\n",
        "print(B.flags)\n"
      ]
    },
    {
      "cell_type": "code",
      "execution_count": null,
      "metadata": {
        "id": "BVocInUEB9Dg"
      },
      "outputs": [],
      "source": [
        "!curl -ssL https://magic.modular.com/ | bash"
      ]
    },
    {
      "cell_type": "code",
      "execution_count": null,
      "metadata": {
        "id": "IMhK4SRfCSWK"
      },
      "outputs": [],
      "source": [
        "!source /root/.bashrc"
      ]
    },
    {
      "cell_type": "code",
      "execution_count": null,
      "metadata": {
        "id": "dw9nmHIcCUpb"
      },
      "outputs": [],
      "source": [
        "import os"
      ]
    },
    {
      "cell_type": "code",
      "execution_count": null,
      "metadata": {
        "id": "iSuRr_dLC4WN"
      },
      "outputs": [],
      "source": [
        "os.environ['PATH'] += ':/root/.modular/bin'"
      ]
    },
    {
      "cell_type": "code",
      "execution_count": null,
      "metadata": {
        "id": "KVUEPlbTDLRk"
      },
      "outputs": [],
      "source": [
        "!magic init todo --format mojoproject"
      ]
    },
    {
      "cell_type": "code",
      "execution_count": null,
      "metadata": {
        "id": "xVmLacNLGPU0"
      },
      "outputs": [],
      "source": [
        "%cd todo/"
      ]
    },
    {
      "cell_type": "code",
      "execution_count": null,
      "metadata": {
        "colab": {
          "background_save": true
        },
        "id": "UbM4udp3H2I8"
      },
      "outputs": [],
      "source": [
        "!magic run mojo --version"
      ]
    },
    {
      "cell_type": "code",
      "execution_count": null,
      "metadata": {
        "id": "OzVX9G_rISME"
      },
      "outputs": [],
      "source": [
        "%%bash\n",
        "cat > todo.mojo <<EOF\n",
        "fn main():\n",
        "  print(\"Holy cow! This is goooood!\")\n",
        "EOF"
      ]
    },
    {
      "cell_type": "code",
      "execution_count": null,
      "metadata": {
        "id": "kKMP3TSmIuKD"
      },
      "outputs": [],
      "source": [
        "!magic run mojo build todo.mojo"
      ]
    },
    {
      "cell_type": "code",
      "execution_count": null,
      "metadata": {
        "id": "J7t2Ir4nJMz8"
      },
      "outputs": [],
      "source": [
        "!./todo"
      ]
    },
    {
      "cell_type": "code",
      "execution_count": null,
      "metadata": {
        "id": "ECrDgfK3pYql"
      },
      "outputs": [],
      "source": [
        "def max_profit_two_transactions(prices):\n",
        "    n = len(prices)\n",
        "    if n < 2:\n",
        "        return 0\n",
        "\n",
        "    # First pass: max profit if sold on or before day i\n",
        "    left_profits = [0] * n\n",
        "    min_price = prices[0]\n",
        "    for i in range(1, n):\n",
        "        min_price = min(min_price, prices[i])\n",
        "        left_profits[i] = max(left_profits[i - 1], prices[i] - min_price)\n",
        "\n",
        "    # Second pass: max profit if bought on or after day i\n",
        "    right_profits = [0] * n\n",
        "    max_price = prices[-1]\n",
        "    for i in range(n - 2, -1, -1):\n",
        "        max_price = max(max_price, prices[i])\n",
        "        right_profits[i] = max(right_profits[i + 1], max_price - prices[i])\n",
        "\n",
        "    # Combine profits: best of left + right split\n",
        "    max_total = right_profits[0]\n",
        "    for i in range(1, n):\n",
        "        max_total = max(max_total, left_profits[i-1] + right_profits[i])\n",
        "    #print(left_profits)\n",
        "    print(right_profits)\n",
        "    return max_total\n"
      ]
    },
    {
      "cell_type": "code",
      "execution_count": null,
      "metadata": {
        "id": "QPwf0UxOqEBt"
      },
      "outputs": [],
      "source": [
        "max_profit_two_transactions([3,3,5,0,0,3,1,4])"
      ]
    },
    {
      "cell_type": "code",
      "execution_count": null,
      "metadata": {
        "id": "965UZpXIqLuE"
      },
      "outputs": [],
      "source": [
        "max_profit_two_transactions([1,2,3,4,5])"
      ]
    },
    {
      "cell_type": "code",
      "execution_count": null,
      "metadata": {
        "id": "Mcx8u_IUroXF"
      },
      "outputs": [],
      "source": [
        "max_profit_two_transactions([7,6,4,3,1])\n"
      ]
    },
    {
      "cell_type": "code",
      "execution_count": null,
      "metadata": {
        "id": "iDhWU1dzC0F7"
      },
      "outputs": [],
      "source": [
        "!curl -ssL https://magic.modular.com/f38246c5-67c1-4e80-a433-b3b6ab24183b | bash"
      ]
    },
    {
      "cell_type": "code",
      "execution_count": null,
      "metadata": {
        "id": "q6K5WK_nGCeC"
      },
      "outputs": [],
      "source": [
        "import os\n",
        "os.environ['PATH'] += ':/root/.modular/bin'"
      ]
    },
    {
      "cell_type": "code",
      "execution_count": null,
      "metadata": {
        "id": "ZJL9EGkXDOZT"
      },
      "outputs": [],
      "source": [
        "!magic init gpu-intro --format mojoproject"
      ]
    },
    {
      "cell_type": "code",
      "execution_count": null,
      "metadata": {
        "id": "3LC_eHiWDWer"
      },
      "outputs": [],
      "source": [
        "%cd gpu-intro"
      ]
    },
    {
      "cell_type": "code",
      "execution_count": null,
      "metadata": {
        "colab": {
          "background_save": true
        },
        "id": "4ifXhCYLDc0U"
      },
      "outputs": [],
      "source": [
        "!magic run mojo --version"
      ]
    },
    {
      "cell_type": "code",
      "execution_count": null,
      "metadata": {
        "id": "akB4eAVUFnCE"
      },
      "outputs": [],
      "source": [
        "%%writefile vector_addition.mojo\n",
        "from max.driver import accelerator, cpu\n",
        "from sys import exit, has_accelerator\n",
        "\n",
        "def main():\n",
        "    if not has_accelerator():\n",
        "        print(\"A GPU is required to run this program\")\n",
        "        exit()\n",
        "\n",
        "    host_device = cpu()\n",
        "    print(\"Found the CPU device\")\n",
        "    gpu_device = accelerator()\n",
        "    print(\"Found the GPU device\")\n"
      ]
    },
    {
      "cell_type": "code",
      "execution_count": null,
      "metadata": {
        "id": "3Q9LBzkXFseK"
      },
      "outputs": [],
      "source": [
        "!magic run mojo vector_addition.mojo"
      ]
    },
    {
      "cell_type": "code",
      "execution_count": null,
      "metadata": {
        "id": "M8mx1FigTDyu"
      },
      "outputs": [],
      "source": [
        "!nvidia-smi"
      ]
    },
    {
      "cell_type": "code",
      "execution_count": null,
      "metadata": {
        "id": "cJ95cfGPhGWY"
      },
      "outputs": [],
      "source": [
        "!curl -ssL https://magic.modular.com/ | bash"
      ]
    },
    {
      "cell_type": "code",
      "execution_count": null,
      "metadata": {
        "id": "S880AwlFiPk4"
      },
      "outputs": [],
      "source": [
        "import os\n",
        "os.environ['PATH'] += ':/root/.modular/bin'"
      ]
    },
    {
      "cell_type": "code",
      "execution_count": null,
      "metadata": {
        "id": "Jkcurm3wVBZm"
      },
      "outputs": [],
      "source": [
        "def vpermb_sim(src, index):\n",
        "    dst = []\n",
        "    for i, idx in enumerate(index):\n",
        "        if idx & 0x80:  # high bit set\n",
        "            dst.append(0)\n",
        "        else:\n",
        "            pos = idx & 0x3F  # only use lower 6 bits\n",
        "            if pos < len(src):\n",
        "                dst.append(src[pos])\n",
        "            else:\n",
        "                dst.append(0)  # out-of-bounds gets zero\n",
        "    return dst\n",
        "\n",
        "# Example usage:\n",
        "src = [10, 20, 30, 40]\n",
        "index = [0, 2, 128, 5]  # 0→10, 2→30, 128→0 (mask), 5→OOB→0\n",
        "\n",
        "result = vpermb_sim(src, index)\n",
        "print(result)  # Output: [10, 30, 0, 0]\n"
      ]
    },
    {
      "cell_type": "code",
      "execution_count": null,
      "metadata": {
        "id": "3IWglXvE6P_L"
      },
      "outputs": [],
      "source": [
        " !nvidia-smi"
      ]
    },
    {
      "cell_type": "code",
      "execution_count": null,
      "metadata": {
        "id": "BCHUyHYPFe19"
      },
      "outputs": [],
      "source": [
        "!pip install tensorflow\n",
        "!pip install tqdm"
      ]
    },
    {
      "cell_type": "code",
      "execution_count": null,
      "metadata": {
        "id": "ah2062I-LrUj"
      },
      "outputs": [],
      "source": [
        "import numpy as np"
      ]
    },
    {
      "cell_type": "code",
      "execution_count": null,
      "metadata": {
        "id": "rnTcc2iCLvfh"
      },
      "outputs": [],
      "source": [
        "a = np.array([[1,2], [3,4]])\n",
        "b = np.array([[5,6], [7,8]])\n",
        "res = a @ b\n",
        "res"
      ]
    },
    {
      "cell_type": "code",
      "execution_count": null,
      "metadata": {
        "id": "U_QsUv3ipy0D"
      },
      "outputs": [],
      "source": [
        "import numpy as np\n",
        "\n",
        "def blocked_matmul(A: np.ndarray, B: np.ndarray, block_size: int) -> np.ndarray:\n",
        "    \"\"\"Blocked matrix multiplication: C = A * B\"\"\"\n",
        "    assert A.shape[1] == B.shape[0], \"Incompatible matrix shapes!\"\n",
        "\n",
        "    n, m = A.shape\n",
        "    p = B.shape[1]\n",
        "\n",
        "    C = np.zeros((n, p), dtype=A.dtype)\n",
        "\n",
        "    for i0 in range(0, n, block_size):\n",
        "        for j0 in range(0, p, block_size):\n",
        "            for k0 in range(0, m, block_size):\n",
        "                # Now multiply block (i0,j0,k0)\n",
        "                i_max = min(i0 + block_size, n)\n",
        "                j_max = min(j0 + block_size, p)\n",
        "                k_max = min(k0 + block_size, m)\n",
        "\n",
        "                for i in range(i0, i_max):\n",
        "                    for k in range(k0, k_max):\n",
        "                        for j in range(j0, j_max):\n",
        "                            C[i, j] += A[i, k] * B[k, j]\n",
        "\n",
        "    return C\n",
        "\n"
      ]
    },
    {
      "cell_type": "code",
      "execution_count": null,
      "metadata": {
        "id": "SEP2xdUUqCxK"
      },
      "outputs": [],
      "source": [
        "import time"
      ]
    },
    {
      "cell_type": "code",
      "execution_count": null,
      "metadata": {
        "id": "DRiCSbKFpnKL"
      },
      "outputs": [],
      "source": [
        "# Create random matrices\n",
        "np.random.seed(0)\n",
        "A = np.random.rand(1024, 256)\n",
        "B = np.random.rand(256, 1024)\n",
        "t1 = time.time()\n",
        "# Multiply using block size 32\n",
        "C_blocked = blocked_matmul(A, B, block_size=512)\n",
        "t2 = time.time()\n",
        "print(f\"Time taken for blocked matrix multiplication: {t2 - t1} seconds\")\n",
        "# Compare to numpy's result\n",
        "t3 = time.time()\n",
        "C_numpy = np.dot(A, B)\n",
        "t4 = time.time()\n",
        "print(f\"Time taken for numpy matrix multiplication: {t4 - t3} seconds\")\n",
        "\n",
        "# Check correctness\n",
        "print(np.allclose(C_blocked, C_numpy))  # Should print: True\n"
      ]
    },
    {
      "cell_type": "code",
      "execution_count": null,
      "metadata": {
        "id": "YP4-XeZugrFH"
      },
      "outputs": [],
      "source": [
        "!git clone https://github.com/NVIDIA/cuda-samples.git"
      ]
    },
    {
      "cell_type": "code",
      "execution_count": null,
      "metadata": {
        "id": "1uc2qjRWhSDx"
      },
      "outputs": [],
      "source": [
        "!sudo apt update"
      ]
    },
    {
      "cell_type": "code",
      "execution_count": null,
      "metadata": {
        "id": "OoJeVz5yhhMo"
      },
      "outputs": [],
      "source": [
        "!lscpu | grep -i nvidia"
      ]
    },
    {
      "cell_type": "code",
      "execution_count": null,
      "metadata": {
        "id": "INUGbZA3h-Jb"
      },
      "outputs": [],
      "source": [
        "!sudo apt install -y update-pciids"
      ]
    },
    {
      "cell_type": "code",
      "execution_count": null,
      "metadata": {
        "id": "aWMYgCc_iqMA"
      },
      "outputs": [],
      "source": [
        "!uname -r\n"
      ]
    },
    {
      "cell_type": "code",
      "execution_count": null,
      "metadata": {
        "id": "cl2RL8aki2Ow"
      },
      "outputs": [],
      "source": [
        "!cat /etc/*release"
      ]
    },
    {
      "cell_type": "code",
      "execution_count": null,
      "metadata": {
        "id": "Nt8Y2osUjWZY"
      },
      "outputs": [],
      "source": [
        "!g++ --version"
      ]
    },
    {
      "cell_type": "code",
      "execution_count": null,
      "metadata": {
        "id": "zEvS7LKOkQZo"
      },
      "outputs": [],
      "source": [
        "!gcc --version"
      ]
    },
    {
      "cell_type": "code",
      "execution_count": null,
      "metadata": {
        "id": "NUDzT1uSkUf4"
      },
      "outputs": [],
      "source": [
        "!clang --version"
      ]
    },
    {
      "cell_type": "code",
      "execution_count": null,
      "metadata": {
        "id": "NqFPRKHMkYDI"
      },
      "outputs": [],
      "source": [
        "!nvidia-smi\n"
      ]
    },
    {
      "cell_type": "code",
      "execution_count": null,
      "metadata": {
        "id": "soq40mIrlz_n"
      },
      "outputs": [],
      "source": [
        "!nvcc --version\n"
      ]
    },
    {
      "cell_type": "code",
      "execution_count": null,
      "metadata": {
        "id": "hWr9CbexmMwA"
      },
      "outputs": [],
      "source": [
        "!cmake --version"
      ]
    },
    {
      "cell_type": "code",
      "execution_count": null,
      "metadata": {
        "id": "6bCA-xUQmX8I"
      },
      "outputs": [],
      "source": [
        "%cd cuda-samples/"
      ]
    },
    {
      "cell_type": "code",
      "execution_count": null,
      "metadata": {
        "id": "V-5AA_y_mfan"
      },
      "outputs": [],
      "source": [
        "!pwd"
      ]
    },
    {
      "cell_type": "code",
      "execution_count": null,
      "metadata": {
        "id": "LJ4m82IHmqCI"
      },
      "outputs": [],
      "source": [
        "!mkdir build"
      ]
    },
    {
      "cell_type": "code",
      "execution_count": null,
      "metadata": {
        "id": "XGs0M1B6mygc"
      },
      "outputs": [],
      "source": [
        "%cd build/"
      ]
    },
    {
      "cell_type": "code",
      "execution_count": null,
      "metadata": {
        "id": "lKpmeOo-m62Q"
      },
      "outputs": [],
      "source": [
        "!cmake .."
      ]
    },
    {
      "cell_type": "code",
      "execution_count": null,
      "metadata": {
        "id": "2r3KGsg_nVBn"
      },
      "outputs": [],
      "source": [
        "!wget https://developer.download.nvidia.com/compute/cuda/repos/ubuntu2204/x86_64/cuda-ubuntu2204.pin"
      ]
    },
    {
      "cell_type": "code",
      "execution_count": null,
      "metadata": {
        "id": "38HMHTVsnZlw"
      },
      "outputs": [],
      "source": [
        "!sudo mv cuda-ubuntu2204.pin /etc/apt/preferences.d/cuda-repository-pin-600"
      ]
    },
    {
      "cell_type": "code",
      "execution_count": null,
      "metadata": {
        "id": "ix_NWxtSneCX"
      },
      "outputs": [],
      "source": [
        "!wget https://developer.download.nvidia.com/compute/cuda/12.8.1/local_installers/cuda-repo-ubuntu2204-12-8-local_12.8.1-570.124.06-1_amd64.deb"
      ]
    },
    {
      "cell_type": "code",
      "execution_count": null,
      "metadata": {
        "id": "3f6Knucentgo"
      },
      "outputs": [],
      "source": [
        "!sudo dpkg -i cuda-repo-ubuntu2204-12-8-local_12.8.1-570.124.06-1_amd64.deb"
      ]
    },
    {
      "cell_type": "code",
      "execution_count": null,
      "metadata": {
        "id": "lyIjefMKoHiw"
      },
      "outputs": [],
      "source": [
        "!sudo cp /var/cuda-repo-ubuntu2204-12-8-local/cuda-*-keyring.gpg /usr/share/keyrings/"
      ]
    },
    {
      "cell_type": "code",
      "execution_count": null,
      "metadata": {
        "id": "-SIcXOqjoLZI"
      },
      "outputs": [],
      "source": [
        "!sudo apt-get update"
      ]
    },
    {
      "cell_type": "code",
      "execution_count": null,
      "metadata": {
        "id": "sjzmKjryoRZ4"
      },
      "outputs": [],
      "source": [
        "!sudo apt-get -y install cuda-toolkit-12-8"
      ]
    },
    {
      "cell_type": "code",
      "execution_count": null,
      "metadata": {
        "id": "oogUhRweqPCX"
      },
      "outputs": [],
      "source": [
        "!make -j$(nproc)"
      ]
    },
    {
      "cell_type": "code",
      "execution_count": null,
      "metadata": {
        "id": "aR3QyX0buOC_"
      },
      "outputs": [],
      "source": [
        "%cd /content/cuda-samples/build/Samples/1_Utilities/deviceQuery"
      ]
    },
    {
      "cell_type": "code",
      "execution_count": null,
      "metadata": {
        "id": "LpRK_azPuSNn"
      },
      "outputs": [],
      "source": [
        "!make"
      ]
    },
    {
      "cell_type": "code",
      "execution_count": null,
      "metadata": {
        "id": "VSLgf_5JvaFH"
      },
      "outputs": [],
      "source": [
        "!./deviceQuery"
      ]
    },
    {
      "cell_type": "code",
      "execution_count": null,
      "metadata": {
        "id": "eWNrEpEju43A"
      },
      "outputs": [],
      "source": [
        "!pwd"
      ]
    },
    {
      "cell_type": "code",
      "execution_count": null,
      "metadata": {
        "id": "OLE4xu_uv7JP"
      },
      "outputs": [],
      "source": [
        "%cd /content/cuda-samples/build/Samples/1_Utilities/topologyQuery"
      ]
    },
    {
      "cell_type": "code",
      "execution_count": null,
      "metadata": {
        "id": "Q2SVJZ37v924"
      },
      "outputs": [],
      "source": [
        "!make"
      ]
    },
    {
      "cell_type": "code",
      "execution_count": null,
      "metadata": {
        "id": "2BHBjQJswA5_"
      },
      "outputs": [],
      "source": [
        "!./topologyQuery"
      ]
    },
    {
      "cell_type": "code",
      "execution_count": null,
      "metadata": {
        "id": "z_Nu5VDlwKGQ"
      },
      "outputs": [],
      "source": [
        "%cd /content/cuda-samples/build/Samples/1_Utilities/bandwidthTest"
      ]
    },
    {
      "cell_type": "code",
      "execution_count": null,
      "metadata": {
        "id": "5Z4yT93awUFP"
      },
      "outputs": [],
      "source": [
        "!make"
      ]
    },
    {
      "cell_type": "code",
      "execution_count": null,
      "metadata": {
        "id": "-wOSLhaxwWen"
      },
      "outputs": [],
      "source": [
        "!./bandwidthTest"
      ]
    },
    {
      "cell_type": "code",
      "execution_count": null,
      "metadata": {
        "id": "pHkFm5rCwlgY"
      },
      "outputs": [],
      "source": [
        "%cd /content/cuda-samples/build/Samples/1_Utilities/deviceQueryDrv"
      ]
    },
    {
      "cell_type": "code",
      "execution_count": null,
      "metadata": {
        "id": "poPWiB3ewqXf"
      },
      "outputs": [],
      "source": [
        "!make & ./deviceQueryDrv"
      ]
    },
    {
      "cell_type": "code",
      "execution_count": null,
      "metadata": {
        "id": "-6o-gvLDwtwQ"
      },
      "outputs": [],
      "source": [
        "%cd /content/cuda-samples/build/Samples/2_Concepts_and_Techniques"
      ]
    },
    {
      "cell_type": "code",
      "execution_count": null,
      "metadata": {
        "id": "Li_HZXazw_Un"
      },
      "outputs": [],
      "source": [
        "!make"
      ]
    },
    {
      "cell_type": "code",
      "execution_count": null,
      "metadata": {
        "id": "zw5krr3ZyJtH"
      },
      "outputs": [],
      "source": [
        "%cd /content/cuda-samples/build/Samples/3_CUDA_Features"
      ]
    },
    {
      "cell_type": "code",
      "execution_count": null,
      "metadata": {
        "id": "Y688SoAJyMUw"
      },
      "outputs": [],
      "source": [
        "!make"
      ]
    },
    {
      "cell_type": "code",
      "execution_count": null,
      "metadata": {
        "id": "yWlc4FGQIqRO"
      },
      "outputs": [],
      "source": [
        "!nvcc add.cu -o add_cuda"
      ]
    },
    {
      "cell_type": "code",
      "execution_count": null,
      "metadata": {
        "id": "xqYRaKQKKfgW"
      },
      "outputs": [],
      "source": [
        "!nvprof ./add_cuda"
      ]
    },
    {
      "cell_type": "code",
      "execution_count": null,
      "metadata": {
        "id": "Isiazk0ZSLC8"
      },
      "outputs": [],
      "source": [
        "!./add_cuda"
      ]
    },
    {
      "cell_type": "code",
      "execution_count": null,
      "metadata": {
        "id": "-auh7AsFTb9v"
      },
      "outputs": [],
      "source": [
        "!nvprof ./add_cuda"
      ]
    },
    {
      "cell_type": "code",
      "execution_count": null,
      "metadata": {
        "id": "C3pZKQVQ9yo3"
      },
      "outputs": [],
      "source": [
        "%%writefile main.mojo\n",
        "fn main():\n",
        "    print(\"Hello world\")"
      ]
    },
    {
      "cell_type": "code",
      "execution_count": null,
      "metadata": {
        "id": "TJyZRYB-7r4E"
      },
      "outputs": [],
      "source": [
        "import numpy as np"
      ]
    },
    {
      "cell_type": "code",
      "execution_count": null,
      "metadata": {
        "id": "HhItzWwM7wNj"
      },
      "outputs": [],
      "source": [
        "A = np.array([[1,2,3], [4,5,6]])\n",
        "B = np.array([[7, 8], [9, 10], [11, 12]])\n",
        "C = A @ B\n",
        "print(C)"
      ]
    },
    {
      "cell_type": "code",
      "execution_count": null,
      "metadata": {
        "id": "c4XEJpen8ObE"
      },
      "outputs": [],
      "source": [
        "def matmul_naive(C, A, B):\n",
        "    for m in range(A.shape[0]):\n",
        "        for k in range(A.shape[1]):\n",
        "            for n in range(B.shape[1]):\n",
        "                C[m, n] += A[m, k] * B[k, n]"
      ]
    },
    {
      "cell_type": "code",
      "execution_count": null,
      "metadata": {
        "id": "7yFx08iq8mcL"
      },
      "outputs": [],
      "source": [
        "C = np.zeros((A.shape[0], B.shape[1]))\n",
        "matmul_naive(C, A, B)\n",
        "print(C)"
      ]
    },
    {
      "cell_type": "code",
      "execution_count": null,
      "metadata": {
        "id": "vcYL0c1YD8Kd"
      },
      "outputs": [],
      "source": [
        "C = np.zeros_like(C)"
      ]
    },
    {
      "cell_type": "code",
      "execution_count": null,
      "metadata": {
        "id": "0TJk_1RQEHn8"
      },
      "outputs": [],
      "source": [
        "C[0, 0] += A[0, 0] * B[0, 0]\n",
        "C[0, 1] += A[0, 0] * B[0, 1]\n",
        "\n",
        "C[0, 0] += A[0, 1] * B[1, 0]\n",
        "C[0, 1] += A[0, 1] * B[1, 1]\n",
        "\n",
        "C[0, 0] += A[0, 2] * B[2, 0]\n",
        "C[0, 1] += A[0, 2] * B[2, 1]\n",
        "\n",
        "C[1, 0] += A[1,0] * B[0, 0]\n",
        "C[1, 1] += A[1,0] * B[0, 1]\n",
        "\n",
        "C[1, 0] += A[1,1] * B[1,0]\n",
        "C[1, 1] += A[1,1] * B[1, 1]\n",
        "\n",
        "C[1, 0] += A[1, 2] * B[2, 0]\n",
        "C[1, 1] += A[1, 2] * B[2, 1]"
      ]
    },
    {
      "cell_type": "code",
      "execution_count": null,
      "metadata": {
        "id": "errEM0_kESxe"
      },
      "outputs": [],
      "source": [
        "C"
      ]
    },
    {
      "cell_type": "code",
      "execution_count": null,
      "metadata": {
        "id": "SZVWy22LuqZh"
      },
      "outputs": [],
      "source": [
        "A = np.arange(1,17).reshape(4,4)\n",
        "A"
      ]
    },
    {
      "cell_type": "code",
      "execution_count": null,
      "metadata": {
        "id": "FOgnQ_jjvAaZ"
      },
      "outputs": [],
      "source": [
        "B = np.arange(1,17).reshape(4,4)\n",
        "A @ B"
      ]
    },
    {
      "cell_type": "code",
      "source": [
        "import numpy as np\n",
        "\n",
        "# Use float32 for single precision\n",
        "a = np.float32(1e10)\n",
        "b = np.float32(1e-10)\n",
        "c = np.float32(1.0)\n",
        "\n",
        "# Simulate FMA: (a * b) + c, computed in one go\n",
        "fma_result = np.float32(a * b + c)\n",
        "\n",
        "# Simulate non-FMA: compute a*b first (rounding), then add c\n",
        "product = np.float32(a * b)         # This gets rounded first\n",
        "non_fma_result = np.float32(product + c)\n",
        "\n",
        "# Show results\n",
        "print(f\"FMA result:      {fma_result}\")\n",
        "print(f\"Non-FMA result:  {non_fma_result}\")\n"
      ],
      "metadata": {
        "id": "J7XN_OeEZG8-"
      },
      "execution_count": null,
      "outputs": []
    },
    {
      "cell_type": "code",
      "source": [
        "%%writefile histogram.cu\n",
        "__global__ void compute_histogram(const unsigned char* image, int* histogram, int size) {\n",
        "    int idx = threadIdx.x + blockIdx.x * blockDim.x;\n",
        "\n",
        "    if (idx < size) {\n",
        "        unsigned char pixel = image[idx];\n",
        "        // Atomically increment the bin for this pixel value\n",
        "        atomicAdd(&histogram[pixel], 1);\n",
        "    }\n",
        "}\n",
        "#include <cuda_runtime.h>\n",
        "#include <iostream>\n",
        "\n",
        "const int IMG_SIZE = 1024 * 1024;  // Example: 1MP grayscale image\n",
        "const int HIST_SIZE = 256;\n",
        "\n",
        "int main() {\n",
        "    // Allocate and initialize image on host\n",
        "    unsigned char* h_image = new unsigned char[IMG_SIZE];\n",
        "    for (int i = 0; i < IMG_SIZE; i++) {\n",
        "        h_image[i] = rand() % 256;  // Random grayscale pixels\n",
        "    }\n",
        "\n",
        "    // Allocate device memory\n",
        "    unsigned char* d_image;\n",
        "    int* d_histogram;\n",
        "    cudaMalloc(&d_image, IMG_SIZE);\n",
        "    cudaMalloc(&d_histogram, HIST_SIZE * sizeof(int));\n",
        "    cudaMemcpy(d_image, h_image, IMG_SIZE, cudaMemcpyHostToDevice);\n",
        "    cudaMemset(d_histogram, 0, HIST_SIZE * sizeof(int));  // Clear bins\n",
        "\n",
        "    // Launch kernel\n",
        "    int threadsPerBlock = 256;\n",
        "    int blocks = (IMG_SIZE + threadsPerBlock - 1) / threadsPerBlock;\n",
        "    compute_histogram<<<blocks, threadsPerBlock>>>(d_image, d_histogram, IMG_SIZE);\n",
        "    cudaDeviceSynchronize();\n",
        "\n",
        "    // Copy result back\n",
        "    int h_histogram[HIST_SIZE];\n",
        "    cudaMemcpy(h_histogram, d_histogram, HIST_SIZE * sizeof(int), cudaMemcpyDeviceToHost);\n",
        "\n",
        "    // Show some output\n",
        "    for (int i = 0; i < 10; ++i) {\n",
        "        std::cout << \"Bin \" << i << \": \" << h_histogram[i] << std::endl;\n",
        "    }\n",
        "\n",
        "    // Cleanup\n",
        "    delete[] h_image;\n",
        "    cudaFree(d_image);\n",
        "    cudaFree(d_histogram);\n",
        "    return 0;\n",
        "}\n"
      ],
      "metadata": {
        "id": "ufFfZEjhmLWT"
      },
      "execution_count": null,
      "outputs": []
    },
    {
      "cell_type": "code",
      "source": [
        "!nvcc histogram.cu -o histogram"
      ],
      "metadata": {
        "id": "ReetYYYqmkp3"
      },
      "execution_count": null,
      "outputs": []
    },
    {
      "cell_type": "code",
      "source": [
        "!./histogram"
      ],
      "metadata": {
        "id": "mK7MO8uOmukm"
      },
      "execution_count": null,
      "outputs": []
    },
    {
      "cell_type": "code",
      "source": [
        "%%writefile hist_kernel.cu\n",
        "#include \"kernel.cuh\"\n",
        "__global__ void compute_histogram(const unsigned char* image, int* histogram, int size) {\n",
        "    int idx = threadIdx.x + blockIdx.x * blockDim.x;\n",
        "\n",
        "    if (idx < size) {\n",
        "        unsigned char pixel = image[idx];\n",
        "        // Atomically increment the bin for this pixel value\n",
        "        atomicAdd(&histogram[pixel], 1);\n",
        "    }\n",
        "}\n"
      ],
      "metadata": {
        "id": "sbYBRoz3o8co"
      },
      "execution_count": null,
      "outputs": []
    },
    {
      "cell_type": "code",
      "source": [
        "%%writefile hist_driver.cu\n",
        "#include <cuda_runtime.h>\n",
        "#include <iostream>\n",
        "#include \"kernel.cuh\"\n",
        "const int IMG_SIZE = 1024 * 1024;  // Example: 1MP grayscale image\n",
        "const int HIST_SIZE = 256;\n",
        "\n",
        "int main() {\n",
        "    // Allocate and initialize image on host\n",
        "    unsigned char* h_image = new unsigned char[IMG_SIZE];\n",
        "    for (int i = 0; i < IMG_SIZE; i++) {\n",
        "        h_image[i] = rand() % 256;  // Random grayscale pixels\n",
        "    }\n",
        "\n",
        "    // Allocate device memory\n",
        "    unsigned char* d_image;\n",
        "    int* d_histogram;\n",
        "    cudaMalloc(&d_image, IMG_SIZE);\n",
        "    cudaMalloc(&d_histogram, HIST_SIZE * sizeof(int));\n",
        "    cudaMemcpy(d_image, h_image, IMG_SIZE, cudaMemcpyHostToDevice);\n",
        "    cudaMemset(d_histogram, 0, HIST_SIZE * sizeof(int));  // Clear bins\n",
        "\n",
        "    // Launch kernel\n",
        "    int threadsPerBlock = 256;\n",
        "    int blocks = (IMG_SIZE + threadsPerBlock - 1) / threadsPerBlock;\n",
        "    compute_histogram<<<blocks, threadsPerBlock>>>(d_image, d_histogram, IMG_SIZE);\n",
        "    cudaDeviceSynchronize();\n",
        "\n",
        "    // Copy result back\n",
        "    int h_histogram[HIST_SIZE];\n",
        "    cudaMemcpy(h_histogram, d_histogram, HIST_SIZE * sizeof(int), cudaMemcpyDeviceToHost);\n",
        "\n",
        "    // Show some output\n",
        "    for (int i = 200; i < 255; ++i) {\n",
        "        std::cout << \"Bin \" << i << \": \" << h_histogram[i] << std::endl;\n",
        "    }\n",
        "\n",
        "    // Cleanup\n",
        "    delete[] h_image;\n",
        "    cudaFree(d_image);\n",
        "    cudaFree(d_histogram);\n",
        "    return 0;\n",
        "}\n"
      ],
      "metadata": {
        "id": "QUV11ZoEpY-b"
      },
      "execution_count": null,
      "outputs": []
    },
    {
      "cell_type": "code",
      "source": [
        "!nvcc hist_driver.cu hist_kernel.cu -o hist_driver"
      ],
      "metadata": {
        "id": "CBpzo6kaphXN"
      },
      "execution_count": null,
      "outputs": []
    },
    {
      "cell_type": "code",
      "source": [
        "%%writefile kernel.cuh\n",
        "#pragma once\n",
        "__global__ void compute_histogram(const unsigned char* image, int* histogram, int size);\n"
      ],
      "metadata": {
        "id": "CKUeEF7iqcCw"
      },
      "execution_count": null,
      "outputs": []
    },
    {
      "cell_type": "code",
      "source": [
        "!./hist_driver"
      ],
      "metadata": {
        "id": "EZl0cNk5q7AJ"
      },
      "execution_count": null,
      "outputs": []
    },
    {
      "cell_type": "code",
      "source": [
        "%%writefile Makefile\n",
        "# File: Makefile\n",
        "\n",
        "# Compiler\n",
        "NVCC = nvcc\n",
        "\n",
        "# Source files\n",
        "SRCS = hist_driver.cu hist_kernel.cu\n",
        "\n",
        "# Output binary name\n",
        "TARGET = histogram\n",
        "\n",
        "# Compiler flags (optional)\n",
        "NVCC_FLAGS = -O2\n",
        "\n",
        "all: $(TARGET)\n",
        "\n",
        "$(TARGET): $(SRCS)\n",
        "\t$(NVCC) $(NVCC_FLAGS) $(SRCS) -o $(TARGET)\n",
        "\n",
        "clean:\n",
        "\trm -f $(TARGET)\n"
      ],
      "metadata": {
        "id": "hnLyqymgrzEP"
      },
      "execution_count": null,
      "outputs": []
    },
    {
      "cell_type": "code",
      "source": [
        "!make"
      ],
      "metadata": {
        "id": "6tZN6TQYsQu3"
      },
      "execution_count": null,
      "outputs": []
    },
    {
      "cell_type": "code",
      "source": [
        "!./histogram"
      ],
      "metadata": {
        "id": "jh4n53n0sYT-"
      },
      "execution_count": null,
      "outputs": []
    },
    {
      "cell_type": "code",
      "source": [
        "!make clean"
      ],
      "metadata": {
        "id": "xITugzDDskSN"
      },
      "execution_count": null,
      "outputs": []
    },
    {
      "cell_type": "code",
      "source": [
        "!mkdir cuda_histogram_project"
      ],
      "metadata": {
        "id": "jBheyVXC4J0n"
      },
      "execution_count": null,
      "outputs": []
    },
    {
      "cell_type": "code",
      "source": [
        "%cd cuda_histogram_project"
      ],
      "metadata": {
        "id": "OE3kJwRa4rl5"
      },
      "execution_count": null,
      "outputs": []
    },
    {
      "cell_type": "code",
      "source": [
        "!touch Makefile"
      ],
      "metadata": {
        "id": "r8QRdIJ04uXa"
      },
      "execution_count": null,
      "outputs": []
    },
    {
      "cell_type": "code",
      "source": [
        "!mkdir src\n",
        "!mkdir include"
      ],
      "metadata": {
        "id": "T_7BRHB540P_"
      },
      "execution_count": null,
      "outputs": []
    },
    {
      "cell_type": "code",
      "source": [
        "!touch include/kernel.cuh\n",
        "!touch src/kernel.cu\n",
        "!touch src/driver.cu"
      ],
      "metadata": {
        "id": "5og8AcUJ5FNX"
      },
      "execution_count": null,
      "outputs": []
    },
    {
      "cell_type": "code",
      "source": [
        "!make"
      ],
      "metadata": {
        "id": "sf1wrhio6AOf"
      },
      "execution_count": null,
      "outputs": []
    },
    {
      "cell_type": "code",
      "source": [
        "!./build/histogram"
      ],
      "metadata": {
        "id": "tnMu7NlI6KKI"
      },
      "execution_count": null,
      "outputs": []
    },
    {
      "cell_type": "code",
      "source": [
        "!make clean"
      ],
      "metadata": {
        "id": "33m3gjaO6OH-"
      },
      "execution_count": null,
      "outputs": []
    },
    {
      "cell_type": "code",
      "source": [
        "!./cuda-clone.sh"
      ],
      "metadata": {
        "id": "EcdKOMGPFD2p"
      },
      "execution_count": null,
      "outputs": []
    },
    {
      "cell_type": "code",
      "source": [
        "!chmod +x cuda-clone.sh"
      ],
      "metadata": {
        "id": "tIAQlD2uFwVP"
      },
      "execution_count": null,
      "outputs": []
    },
    {
      "cell_type": "code",
      "source": [
        "%cd /content/"
      ],
      "metadata": {
        "id": "reWXS2AXFSXo"
      },
      "execution_count": null,
      "outputs": []
    },
    {
      "cell_type": "code",
      "source": [
        "!rm -rf mojo_programming/"
      ],
      "metadata": {
        "id": "OHnbv2aOJ5J3"
      },
      "execution_count": null,
      "outputs": []
    },
    {
      "cell_type": "code",
      "source": [
        "%cd mojo_programming/"
      ],
      "metadata": {
        "id": "Q64f8LqyKHOP"
      },
      "execution_count": null,
      "outputs": []
    },
    {
      "cell_type": "code",
      "source": [
        "!ls -la"
      ],
      "metadata": {
        "id": "9MqYIKaDKORv"
      },
      "execution_count": null,
      "outputs": []
    },
    {
      "cell_type": "code",
      "source": [
        "%cd cuda/histogram/"
      ],
      "metadata": {
        "id": "D8hWfFx2KTDG"
      },
      "execution_count": null,
      "outputs": []
    },
    {
      "cell_type": "code",
      "source": [
        "!pwd"
      ],
      "metadata": {
        "id": "fkubbUSJKXov"
      },
      "execution_count": null,
      "outputs": []
    },
    {
      "cell_type": "code",
      "source": [
        "!make"
      ],
      "metadata": {
        "id": "i3R9qRWmNY-x"
      },
      "execution_count": null,
      "outputs": []
    },
    {
      "cell_type": "code",
      "source": [
        "!cp /content/mojo_programming/cuda/histogram/Makefile /content/cuda_histogram_project"
      ],
      "metadata": {
        "id": "9AvNDv9ASg2H"
      },
      "execution_count": null,
      "outputs": []
    },
    {
      "cell_type": "code",
      "source": [
        "%cd /content/mojo_programming/cuda/histogram/"
      ],
      "metadata": {
        "id": "n7pisCvTTD84"
      },
      "execution_count": null,
      "outputs": []
    },
    {
      "cell_type": "code",
      "source": [
        "!make"
      ],
      "metadata": {
        "id": "08NOHy1TTG8h"
      },
      "execution_count": null,
      "outputs": []
    },
    {
      "cell_type": "code",
      "source": [
        "!./build/histogram"
      ],
      "metadata": {
        "id": "xea0CYayVap4"
      },
      "execution_count": null,
      "outputs": []
    },
    {
      "cell_type": "code",
      "source": [
        "!make clean"
      ],
      "metadata": {
        "id": "23fPBjwPViOn"
      },
      "execution_count": null,
      "outputs": []
    },
    {
      "cell_type": "code",
      "source": [
        "%cd /content/"
      ],
      "metadata": {
        "id": "DIVwjX9SWHwf"
      },
      "execution_count": null,
      "outputs": []
    },
    {
      "cell_type": "code",
      "source": [
        "!pwd"
      ],
      "metadata": {
        "id": "z8ytb133VJNQ"
      },
      "execution_count": null,
      "outputs": []
    },
    {
      "cell_type": "code",
      "source": [
        "!rm -rf *"
      ],
      "metadata": {
        "id": "32yZb0e9WMjy"
      },
      "execution_count": null,
      "outputs": []
    },
    {
      "cell_type": "code",
      "source": [
        "!chmod +x cuda-clone.sh"
      ],
      "metadata": {
        "id": "MBn6mhnNWeO3"
      },
      "execution_count": null,
      "outputs": []
    },
    {
      "cell_type": "code",
      "source": [
        "!./cuda-clone.sh"
      ],
      "metadata": {
        "id": "RTCPa5wqWkOW"
      },
      "execution_count": null,
      "outputs": []
    },
    {
      "cell_type": "code",
      "source": [
        "%cd /content/mojo_programming/cuda/histogram"
      ],
      "metadata": {
        "id": "LTFUlHDRWs0n"
      },
      "execution_count": null,
      "outputs": []
    },
    {
      "cell_type": "code",
      "source": [
        "!make"
      ],
      "metadata": {
        "id": "rDCqqHnjWv7v"
      },
      "execution_count": null,
      "outputs": []
    },
    {
      "cell_type": "code",
      "source": [
        "!./build/histogram"
      ],
      "metadata": {
        "id": "wmxtJzFNW1yv"
      },
      "execution_count": null,
      "outputs": []
    },
    {
      "cell_type": "code",
      "source": [
        "!make clean"
      ],
      "metadata": {
        "id": "eDAW4XJeXBl_"
      },
      "execution_count": null,
      "outputs": []
    },
    {
      "cell_type": "code",
      "source": [
        "!chmod +x cuda-clone.sh"
      ],
      "metadata": {
        "id": "udF-gEW82AjO"
      },
      "execution_count": null,
      "outputs": []
    },
    {
      "cell_type": "code",
      "source": [
        "!./cuda-clone.sh"
      ],
      "metadata": {
        "id": "CsupHG4l2Y9h"
      },
      "execution_count": null,
      "outputs": []
    },
    {
      "cell_type": "code",
      "source": [
        "%cd /content/mojo_programming/cuda/histogram"
      ],
      "metadata": {
        "colab": {
          "base_uri": "https://localhost:8080/"
        },
        "id": "EVSM0uk-3hVh",
        "outputId": "86415522-00f2-424e-88e8-605c6ffbfad2"
      },
      "execution_count": 23,
      "outputs": [
        {
          "output_type": "stream",
          "name": "stdout",
          "text": [
            "/content/mojo_programming/cuda/histogram\n"
          ]
        }
      ]
    },
    {
      "cell_type": "code",
      "source": [
        "!make & ./build/histogram"
      ],
      "metadata": {
        "colab": {
          "base_uri": "https://localhost:8080/"
        },
        "id": "n2PmjCvJ3l-w",
        "outputId": "912c286d-06e6-4e9e-e95c-4853b42015e5"
      },
      "execution_count": 41,
      "outputs": [
        {
          "output_type": "stream",
          "name": "stdout",
          "text": [
            "make: Nothing to be done for 'all'.\n",
            "Bin 0: 3979\n",
            "Bin 1: 4118\n",
            "Bin 2: 4033\n",
            "Bin 3: 4084\n",
            "Bin 4: 4126\n",
            "Bin 5: 4047\n",
            "Bin 6: 4109\n",
            "Bin 7: 4131\n",
            "Bin 8: 4106\n",
            "Bin 9: 4097\n"
          ]
        }
      ]
    }
  ],
  "metadata": {
    "colab": {
      "provenance": [],
      "gpuType": "T4",
      "authorship_tag": "ABX9TyPYXWYuTadIACQA5sC2rkM4",
      "include_colab_link": true
    },
    "kernelspec": {
      "display_name": "Python 3",
      "name": "python3"
    },
    "language_info": {
      "name": "python"
    },
    "accelerator": "GPU"
  },
  "nbformat": 4,
  "nbformat_minor": 0
}